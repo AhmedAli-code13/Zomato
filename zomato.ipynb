{
 "cells": [
  {
   "cell_type": "markdown",
   "id": "257fa373",
   "metadata": {},
   "source": [
    "# Import Necessary Libraries"
   ]
  },
  {
   "cell_type": "code",
   "execution_count": 1,
   "id": "a1cd4d44",
   "metadata": {},
   "outputs": [],
   "source": [
    "import pandas as pd\n",
    "import numpy as np\n",
    "import plotly.express as px"
   ]
  },
  {
   "cell_type": "markdown",
   "id": "422438cc",
   "metadata": {},
   "source": [
    "# Load Data"
   ]
  },
  {
   "cell_type": "code",
   "execution_count": 2,
   "id": "d8733745",
   "metadata": {},
   "outputs": [
    {
     "data": {
      "text/html": [
       "<div>\n",
       "<style scoped>\n",
       "    .dataframe tbody tr th:only-of-type {\n",
       "        vertical-align: middle;\n",
       "    }\n",
       "\n",
       "    .dataframe tbody tr th {\n",
       "        vertical-align: top;\n",
       "    }\n",
       "\n",
       "    .dataframe thead th {\n",
       "        text-align: right;\n",
       "    }\n",
       "</style>\n",
       "<table border=\"1\" class=\"dataframe\">\n",
       "  <thead>\n",
       "    <tr style=\"text-align: right;\">\n",
       "      <th></th>\n",
       "      <th>url</th>\n",
       "      <th>address</th>\n",
       "      <th>name</th>\n",
       "      <th>online_order</th>\n",
       "      <th>book_table</th>\n",
       "      <th>rate</th>\n",
       "      <th>votes</th>\n",
       "      <th>phone</th>\n",
       "      <th>location</th>\n",
       "      <th>rest_type</th>\n",
       "      <th>dish_liked</th>\n",
       "      <th>cuisines</th>\n",
       "      <th>approx_cost(for two people)</th>\n",
       "      <th>reviews_list</th>\n",
       "      <th>menu_item</th>\n",
       "      <th>listed_in(type)</th>\n",
       "      <th>listed_in(city)</th>\n",
       "    </tr>\n",
       "  </thead>\n",
       "  <tbody>\n",
       "    <tr>\n",
       "      <th>0</th>\n",
       "      <td>https://www.zomato.com/bangalore/jalsa-banasha...</td>\n",
       "      <td>942, 21st Main Road, 2nd Stage, Banashankari, ...</td>\n",
       "      <td>Jalsa</td>\n",
       "      <td>Yes</td>\n",
       "      <td>Yes</td>\n",
       "      <td>4.1/5</td>\n",
       "      <td>775</td>\n",
       "      <td>080 42297555\\r\\n+91 9743772233</td>\n",
       "      <td>Banashankari</td>\n",
       "      <td>Casual Dining</td>\n",
       "      <td>Pasta, Lunch Buffet, Masala Papad, Paneer Laja...</td>\n",
       "      <td>North Indian, Mughlai, Chinese</td>\n",
       "      <td>800</td>\n",
       "      <td>[('Rated 4.0', 'RATED\\n  A beautiful place to ...</td>\n",
       "      <td>[]</td>\n",
       "      <td>Buffet</td>\n",
       "      <td>Banashankari</td>\n",
       "    </tr>\n",
       "    <tr>\n",
       "      <th>1</th>\n",
       "      <td>https://www.zomato.com/bangalore/spice-elephan...</td>\n",
       "      <td>2nd Floor, 80 Feet Road, Near Big Bazaar, 6th ...</td>\n",
       "      <td>Spice Elephant</td>\n",
       "      <td>Yes</td>\n",
       "      <td>No</td>\n",
       "      <td>4.1/5</td>\n",
       "      <td>787</td>\n",
       "      <td>080 41714161</td>\n",
       "      <td>Banashankari</td>\n",
       "      <td>Casual Dining</td>\n",
       "      <td>Momos, Lunch Buffet, Chocolate Nirvana, Thai G...</td>\n",
       "      <td>Chinese, North Indian, Thai</td>\n",
       "      <td>800</td>\n",
       "      <td>[('Rated 4.0', 'RATED\\n  Had been here for din...</td>\n",
       "      <td>[]</td>\n",
       "      <td>Buffet</td>\n",
       "      <td>Banashankari</td>\n",
       "    </tr>\n",
       "    <tr>\n",
       "      <th>2</th>\n",
       "      <td>https://www.zomato.com/SanchurroBangalore?cont...</td>\n",
       "      <td>1112, Next to KIMS Medical College, 17th Cross...</td>\n",
       "      <td>San Churro Cafe</td>\n",
       "      <td>Yes</td>\n",
       "      <td>No</td>\n",
       "      <td>3.8/5</td>\n",
       "      <td>918</td>\n",
       "      <td>+91 9663487993</td>\n",
       "      <td>Banashankari</td>\n",
       "      <td>Cafe, Casual Dining</td>\n",
       "      <td>Churros, Cannelloni, Minestrone Soup, Hot Choc...</td>\n",
       "      <td>Cafe, Mexican, Italian</td>\n",
       "      <td>800</td>\n",
       "      <td>[('Rated 3.0', \"RATED\\n  Ambience is not that ...</td>\n",
       "      <td>[]</td>\n",
       "      <td>Buffet</td>\n",
       "      <td>Banashankari</td>\n",
       "    </tr>\n",
       "    <tr>\n",
       "      <th>3</th>\n",
       "      <td>https://www.zomato.com/bangalore/addhuri-udupi...</td>\n",
       "      <td>1st Floor, Annakuteera, 3rd Stage, Banashankar...</td>\n",
       "      <td>Addhuri Udupi Bhojana</td>\n",
       "      <td>No</td>\n",
       "      <td>No</td>\n",
       "      <td>3.7/5</td>\n",
       "      <td>88</td>\n",
       "      <td>+91 9620009302</td>\n",
       "      <td>Banashankari</td>\n",
       "      <td>Quick Bites</td>\n",
       "      <td>Masala Dosa</td>\n",
       "      <td>South Indian, North Indian</td>\n",
       "      <td>300</td>\n",
       "      <td>[('Rated 4.0', \"RATED\\n  Great food and proper...</td>\n",
       "      <td>[]</td>\n",
       "      <td>Buffet</td>\n",
       "      <td>Banashankari</td>\n",
       "    </tr>\n",
       "    <tr>\n",
       "      <th>4</th>\n",
       "      <td>https://www.zomato.com/bangalore/grand-village...</td>\n",
       "      <td>10, 3rd Floor, Lakshmi Associates, Gandhi Baza...</td>\n",
       "      <td>Grand Village</td>\n",
       "      <td>No</td>\n",
       "      <td>No</td>\n",
       "      <td>3.8/5</td>\n",
       "      <td>166</td>\n",
       "      <td>+91 8026612447\\r\\n+91 9901210005</td>\n",
       "      <td>Basavanagudi</td>\n",
       "      <td>Casual Dining</td>\n",
       "      <td>Panipuri, Gol Gappe</td>\n",
       "      <td>North Indian, Rajasthani</td>\n",
       "      <td>600</td>\n",
       "      <td>[('Rated 4.0', 'RATED\\n  Very good restaurant ...</td>\n",
       "      <td>[]</td>\n",
       "      <td>Buffet</td>\n",
       "      <td>Banashankari</td>\n",
       "    </tr>\n",
       "    <tr>\n",
       "      <th>...</th>\n",
       "      <td>...</td>\n",
       "      <td>...</td>\n",
       "      <td>...</td>\n",
       "      <td>...</td>\n",
       "      <td>...</td>\n",
       "      <td>...</td>\n",
       "      <td>...</td>\n",
       "      <td>...</td>\n",
       "      <td>...</td>\n",
       "      <td>...</td>\n",
       "      <td>...</td>\n",
       "      <td>...</td>\n",
       "      <td>...</td>\n",
       "      <td>...</td>\n",
       "      <td>...</td>\n",
       "      <td>...</td>\n",
       "      <td>...</td>\n",
       "    </tr>\n",
       "    <tr>\n",
       "      <th>51712</th>\n",
       "      <td>https://www.zomato.com/bangalore/best-brews-fo...</td>\n",
       "      <td>Four Points by Sheraton Bengaluru, 43/3, White...</td>\n",
       "      <td>Best Brews - Four Points by Sheraton Bengaluru...</td>\n",
       "      <td>No</td>\n",
       "      <td>No</td>\n",
       "      <td>3.6 /5</td>\n",
       "      <td>27</td>\n",
       "      <td>080 40301477</td>\n",
       "      <td>Whitefield</td>\n",
       "      <td>Bar</td>\n",
       "      <td>NaN</td>\n",
       "      <td>Continental</td>\n",
       "      <td>1,500</td>\n",
       "      <td>[('Rated 5.0', \"RATED\\n  Food and service are ...</td>\n",
       "      <td>[]</td>\n",
       "      <td>Pubs and bars</td>\n",
       "      <td>Whitefield</td>\n",
       "    </tr>\n",
       "    <tr>\n",
       "      <th>51713</th>\n",
       "      <td>https://www.zomato.com/bangalore/vinod-bar-and...</td>\n",
       "      <td>Number 10, Garudachar Palya, Mahadevapura, Whi...</td>\n",
       "      <td>Vinod Bar And Restaurant</td>\n",
       "      <td>No</td>\n",
       "      <td>No</td>\n",
       "      <td>NaN</td>\n",
       "      <td>0</td>\n",
       "      <td>+91 8197675843</td>\n",
       "      <td>Whitefield</td>\n",
       "      <td>Bar</td>\n",
       "      <td>NaN</td>\n",
       "      <td>Finger Food</td>\n",
       "      <td>600</td>\n",
       "      <td>[]</td>\n",
       "      <td>[]</td>\n",
       "      <td>Pubs and bars</td>\n",
       "      <td>Whitefield</td>\n",
       "    </tr>\n",
       "    <tr>\n",
       "      <th>51714</th>\n",
       "      <td>https://www.zomato.com/bangalore/plunge-sherat...</td>\n",
       "      <td>Sheraton Grand Bengaluru Whitefield Hotel &amp; Co...</td>\n",
       "      <td>Plunge - Sheraton Grand Bengaluru Whitefield H...</td>\n",
       "      <td>No</td>\n",
       "      <td>No</td>\n",
       "      <td>NaN</td>\n",
       "      <td>0</td>\n",
       "      <td>NaN</td>\n",
       "      <td>Whitefield</td>\n",
       "      <td>Bar</td>\n",
       "      <td>NaN</td>\n",
       "      <td>Finger Food</td>\n",
       "      <td>2,000</td>\n",
       "      <td>[]</td>\n",
       "      <td>[]</td>\n",
       "      <td>Pubs and bars</td>\n",
       "      <td>Whitefield</td>\n",
       "    </tr>\n",
       "    <tr>\n",
       "      <th>51715</th>\n",
       "      <td>https://www.zomato.com/bangalore/chime-sherato...</td>\n",
       "      <td>Sheraton Grand Bengaluru Whitefield Hotel &amp; Co...</td>\n",
       "      <td>Chime - Sheraton Grand Bengaluru Whitefield Ho...</td>\n",
       "      <td>No</td>\n",
       "      <td>Yes</td>\n",
       "      <td>4.3 /5</td>\n",
       "      <td>236</td>\n",
       "      <td>080 49652769</td>\n",
       "      <td>ITPL Main Road, Whitefield</td>\n",
       "      <td>Bar</td>\n",
       "      <td>Cocktails, Pizza, Buttermilk</td>\n",
       "      <td>Finger Food</td>\n",
       "      <td>2,500</td>\n",
       "      <td>[('Rated 4.0', 'RATED\\n  Nice and friendly pla...</td>\n",
       "      <td>[]</td>\n",
       "      <td>Pubs and bars</td>\n",
       "      <td>Whitefield</td>\n",
       "    </tr>\n",
       "    <tr>\n",
       "      <th>51716</th>\n",
       "      <td>https://www.zomato.com/bangalore/the-nest-the-...</td>\n",
       "      <td>ITPL Main Road, KIADB Export Promotion Industr...</td>\n",
       "      <td>The Nest - The Den Bengaluru</td>\n",
       "      <td>No</td>\n",
       "      <td>No</td>\n",
       "      <td>3.4 /5</td>\n",
       "      <td>13</td>\n",
       "      <td>+91 8071117272</td>\n",
       "      <td>ITPL Main Road, Whitefield</td>\n",
       "      <td>Bar, Casual Dining</td>\n",
       "      <td>NaN</td>\n",
       "      <td>Finger Food, North Indian, Continental</td>\n",
       "      <td>1,500</td>\n",
       "      <td>[('Rated 5.0', 'RATED\\n  Great ambience , look...</td>\n",
       "      <td>[]</td>\n",
       "      <td>Pubs and bars</td>\n",
       "      <td>Whitefield</td>\n",
       "    </tr>\n",
       "  </tbody>\n",
       "</table>\n",
       "<p>51717 rows × 17 columns</p>\n",
       "</div>"
      ],
      "text/plain": [
       "                                                     url  \\\n",
       "0      https://www.zomato.com/bangalore/jalsa-banasha...   \n",
       "1      https://www.zomato.com/bangalore/spice-elephan...   \n",
       "2      https://www.zomato.com/SanchurroBangalore?cont...   \n",
       "3      https://www.zomato.com/bangalore/addhuri-udupi...   \n",
       "4      https://www.zomato.com/bangalore/grand-village...   \n",
       "...                                                  ...   \n",
       "51712  https://www.zomato.com/bangalore/best-brews-fo...   \n",
       "51713  https://www.zomato.com/bangalore/vinod-bar-and...   \n",
       "51714  https://www.zomato.com/bangalore/plunge-sherat...   \n",
       "51715  https://www.zomato.com/bangalore/chime-sherato...   \n",
       "51716  https://www.zomato.com/bangalore/the-nest-the-...   \n",
       "\n",
       "                                                 address  \\\n",
       "0      942, 21st Main Road, 2nd Stage, Banashankari, ...   \n",
       "1      2nd Floor, 80 Feet Road, Near Big Bazaar, 6th ...   \n",
       "2      1112, Next to KIMS Medical College, 17th Cross...   \n",
       "3      1st Floor, Annakuteera, 3rd Stage, Banashankar...   \n",
       "4      10, 3rd Floor, Lakshmi Associates, Gandhi Baza...   \n",
       "...                                                  ...   \n",
       "51712  Four Points by Sheraton Bengaluru, 43/3, White...   \n",
       "51713  Number 10, Garudachar Palya, Mahadevapura, Whi...   \n",
       "51714  Sheraton Grand Bengaluru Whitefield Hotel & Co...   \n",
       "51715  Sheraton Grand Bengaluru Whitefield Hotel & Co...   \n",
       "51716  ITPL Main Road, KIADB Export Promotion Industr...   \n",
       "\n",
       "                                                    name online_order  \\\n",
       "0                                                  Jalsa          Yes   \n",
       "1                                         Spice Elephant          Yes   \n",
       "2                                        San Churro Cafe          Yes   \n",
       "3                                  Addhuri Udupi Bhojana           No   \n",
       "4                                          Grand Village           No   \n",
       "...                                                  ...          ...   \n",
       "51712  Best Brews - Four Points by Sheraton Bengaluru...           No   \n",
       "51713                           Vinod Bar And Restaurant           No   \n",
       "51714  Plunge - Sheraton Grand Bengaluru Whitefield H...           No   \n",
       "51715  Chime - Sheraton Grand Bengaluru Whitefield Ho...           No   \n",
       "51716                       The Nest - The Den Bengaluru           No   \n",
       "\n",
       "      book_table    rate  votes                             phone  \\\n",
       "0            Yes   4.1/5    775    080 42297555\\r\\n+91 9743772233   \n",
       "1             No   4.1/5    787                      080 41714161   \n",
       "2             No   3.8/5    918                    +91 9663487993   \n",
       "3             No   3.7/5     88                    +91 9620009302   \n",
       "4             No   3.8/5    166  +91 8026612447\\r\\n+91 9901210005   \n",
       "...          ...     ...    ...                               ...   \n",
       "51712         No  3.6 /5     27                      080 40301477   \n",
       "51713         No     NaN      0                    +91 8197675843   \n",
       "51714         No     NaN      0                               NaN   \n",
       "51715        Yes  4.3 /5    236                      080 49652769   \n",
       "51716         No  3.4 /5     13                    +91 8071117272   \n",
       "\n",
       "                         location            rest_type  \\\n",
       "0                    Banashankari        Casual Dining   \n",
       "1                    Banashankari        Casual Dining   \n",
       "2                    Banashankari  Cafe, Casual Dining   \n",
       "3                    Banashankari          Quick Bites   \n",
       "4                    Basavanagudi        Casual Dining   \n",
       "...                           ...                  ...   \n",
       "51712                  Whitefield                  Bar   \n",
       "51713                  Whitefield                  Bar   \n",
       "51714                  Whitefield                  Bar   \n",
       "51715  ITPL Main Road, Whitefield                  Bar   \n",
       "51716  ITPL Main Road, Whitefield   Bar, Casual Dining   \n",
       "\n",
       "                                              dish_liked  \\\n",
       "0      Pasta, Lunch Buffet, Masala Papad, Paneer Laja...   \n",
       "1      Momos, Lunch Buffet, Chocolate Nirvana, Thai G...   \n",
       "2      Churros, Cannelloni, Minestrone Soup, Hot Choc...   \n",
       "3                                            Masala Dosa   \n",
       "4                                    Panipuri, Gol Gappe   \n",
       "...                                                  ...   \n",
       "51712                                                NaN   \n",
       "51713                                                NaN   \n",
       "51714                                                NaN   \n",
       "51715                       Cocktails, Pizza, Buttermilk   \n",
       "51716                                                NaN   \n",
       "\n",
       "                                     cuisines approx_cost(for two people)  \\\n",
       "0              North Indian, Mughlai, Chinese                         800   \n",
       "1                 Chinese, North Indian, Thai                         800   \n",
       "2                      Cafe, Mexican, Italian                         800   \n",
       "3                  South Indian, North Indian                         300   \n",
       "4                    North Indian, Rajasthani                         600   \n",
       "...                                       ...                         ...   \n",
       "51712                             Continental                       1,500   \n",
       "51713                             Finger Food                         600   \n",
       "51714                             Finger Food                       2,000   \n",
       "51715                             Finger Food                       2,500   \n",
       "51716  Finger Food, North Indian, Continental                       1,500   \n",
       "\n",
       "                                            reviews_list menu_item  \\\n",
       "0      [('Rated 4.0', 'RATED\\n  A beautiful place to ...        []   \n",
       "1      [('Rated 4.0', 'RATED\\n  Had been here for din...        []   \n",
       "2      [('Rated 3.0', \"RATED\\n  Ambience is not that ...        []   \n",
       "3      [('Rated 4.0', \"RATED\\n  Great food and proper...        []   \n",
       "4      [('Rated 4.0', 'RATED\\n  Very good restaurant ...        []   \n",
       "...                                                  ...       ...   \n",
       "51712  [('Rated 5.0', \"RATED\\n  Food and service are ...        []   \n",
       "51713                                                 []        []   \n",
       "51714                                                 []        []   \n",
       "51715  [('Rated 4.0', 'RATED\\n  Nice and friendly pla...        []   \n",
       "51716  [('Rated 5.0', 'RATED\\n  Great ambience , look...        []   \n",
       "\n",
       "      listed_in(type) listed_in(city)  \n",
       "0              Buffet    Banashankari  \n",
       "1              Buffet    Banashankari  \n",
       "2              Buffet    Banashankari  \n",
       "3              Buffet    Banashankari  \n",
       "4              Buffet    Banashankari  \n",
       "...               ...             ...  \n",
       "51712   Pubs and bars      Whitefield  \n",
       "51713   Pubs and bars      Whitefield  \n",
       "51714   Pubs and bars      Whitefield  \n",
       "51715   Pubs and bars      Whitefield  \n",
       "51716   Pubs and bars      Whitefield  \n",
       "\n",
       "[51717 rows x 17 columns]"
      ]
     },
     "execution_count": 2,
     "metadata": {},
     "output_type": "execute_result"
    }
   ],
   "source": [
    "df = pd.read_csv(\"zomato.csv\")\n",
    "df"
   ]
  },
  {
   "cell_type": "markdown",
   "id": "902a1d0a",
   "metadata": {},
   "source": [
    "## Data Exploration"
   ]
  },
  {
   "cell_type": "code",
   "execution_count": 3,
   "id": "04b24d5c",
   "metadata": {},
   "outputs": [
    {
     "name": "stdout",
     "output_type": "stream",
     "text": [
      "<class 'pandas.core.frame.DataFrame'>\n",
      "RangeIndex: 51717 entries, 0 to 51716\n",
      "Data columns (total 17 columns):\n",
      " #   Column                       Non-Null Count  Dtype \n",
      "---  ------                       --------------  ----- \n",
      " 0   url                          51717 non-null  object\n",
      " 1   address                      51717 non-null  object\n",
      " 2   name                         51717 non-null  object\n",
      " 3   online_order                 51717 non-null  object\n",
      " 4   book_table                   51717 non-null  object\n",
      " 5   rate                         43942 non-null  object\n",
      " 6   votes                        51717 non-null  int64 \n",
      " 7   phone                        50509 non-null  object\n",
      " 8   location                     51696 non-null  object\n",
      " 9   rest_type                    51490 non-null  object\n",
      " 10  dish_liked                   23639 non-null  object\n",
      " 11  cuisines                     51672 non-null  object\n",
      " 12  approx_cost(for two people)  51371 non-null  object\n",
      " 13  reviews_list                 51717 non-null  object\n",
      " 14  menu_item                    51717 non-null  object\n",
      " 15  listed_in(type)              51717 non-null  object\n",
      " 16  listed_in(city)              51717 non-null  object\n",
      "dtypes: int64(1), object(16)\n",
      "memory usage: 6.7+ MB\n"
     ]
    }
   ],
   "source": [
    "df.info()"
   ]
  },
  {
   "cell_type": "code",
   "execution_count": 4,
   "id": "2940e989",
   "metadata": {},
   "outputs": [
    {
     "data": {
      "text/html": [
       "<div>\n",
       "<style scoped>\n",
       "    .dataframe tbody tr th:only-of-type {\n",
       "        vertical-align: middle;\n",
       "    }\n",
       "\n",
       "    .dataframe tbody tr th {\n",
       "        vertical-align: top;\n",
       "    }\n",
       "\n",
       "    .dataframe thead th {\n",
       "        text-align: right;\n",
       "    }\n",
       "</style>\n",
       "<table border=\"1\" class=\"dataframe\">\n",
       "  <thead>\n",
       "    <tr style=\"text-align: right;\">\n",
       "      <th></th>\n",
       "      <th>votes</th>\n",
       "    </tr>\n",
       "  </thead>\n",
       "  <tbody>\n",
       "    <tr>\n",
       "      <th>count</th>\n",
       "      <td>51717.00</td>\n",
       "    </tr>\n",
       "    <tr>\n",
       "      <th>mean</th>\n",
       "      <td>283.70</td>\n",
       "    </tr>\n",
       "    <tr>\n",
       "      <th>std</th>\n",
       "      <td>803.84</td>\n",
       "    </tr>\n",
       "    <tr>\n",
       "      <th>min</th>\n",
       "      <td>0.00</td>\n",
       "    </tr>\n",
       "    <tr>\n",
       "      <th>25%</th>\n",
       "      <td>7.00</td>\n",
       "    </tr>\n",
       "    <tr>\n",
       "      <th>50%</th>\n",
       "      <td>41.00</td>\n",
       "    </tr>\n",
       "    <tr>\n",
       "      <th>75%</th>\n",
       "      <td>198.00</td>\n",
       "    </tr>\n",
       "    <tr>\n",
       "      <th>max</th>\n",
       "      <td>16832.00</td>\n",
       "    </tr>\n",
       "  </tbody>\n",
       "</table>\n",
       "</div>"
      ],
      "text/plain": [
       "          votes\n",
       "count  51717.00\n",
       "mean     283.70\n",
       "std      803.84\n",
       "min        0.00\n",
       "25%        7.00\n",
       "50%       41.00\n",
       "75%      198.00\n",
       "max    16832.00"
      ]
     },
     "execution_count": 4,
     "metadata": {},
     "output_type": "execute_result"
    }
   ],
   "source": [
    "df.describe().round(2)"
   ]
  },
  {
   "cell_type": "code",
   "execution_count": 5,
   "id": "baddaf89",
   "metadata": {},
   "outputs": [
    {
     "data": {
      "text/html": [
       "<div>\n",
       "<style scoped>\n",
       "    .dataframe tbody tr th:only-of-type {\n",
       "        vertical-align: middle;\n",
       "    }\n",
       "\n",
       "    .dataframe tbody tr th {\n",
       "        vertical-align: top;\n",
       "    }\n",
       "\n",
       "    .dataframe thead th {\n",
       "        text-align: right;\n",
       "    }\n",
       "</style>\n",
       "<table border=\"1\" class=\"dataframe\">\n",
       "  <thead>\n",
       "    <tr style=\"text-align: right;\">\n",
       "      <th></th>\n",
       "      <th>url</th>\n",
       "      <th>address</th>\n",
       "      <th>name</th>\n",
       "      <th>online_order</th>\n",
       "      <th>book_table</th>\n",
       "      <th>rate</th>\n",
       "      <th>phone</th>\n",
       "      <th>location</th>\n",
       "      <th>rest_type</th>\n",
       "      <th>dish_liked</th>\n",
       "      <th>cuisines</th>\n",
       "      <th>approx_cost(for two people)</th>\n",
       "      <th>reviews_list</th>\n",
       "      <th>menu_item</th>\n",
       "      <th>listed_in(type)</th>\n",
       "      <th>listed_in(city)</th>\n",
       "    </tr>\n",
       "  </thead>\n",
       "  <tbody>\n",
       "    <tr>\n",
       "      <th>count</th>\n",
       "      <td>51717</td>\n",
       "      <td>51717</td>\n",
       "      <td>51717</td>\n",
       "      <td>51717</td>\n",
       "      <td>51717</td>\n",
       "      <td>43942</td>\n",
       "      <td>50509</td>\n",
       "      <td>51696</td>\n",
       "      <td>51490</td>\n",
       "      <td>23639</td>\n",
       "      <td>51672</td>\n",
       "      <td>51371</td>\n",
       "      <td>51717</td>\n",
       "      <td>51717</td>\n",
       "      <td>51717</td>\n",
       "      <td>51717</td>\n",
       "    </tr>\n",
       "    <tr>\n",
       "      <th>unique</th>\n",
       "      <td>51717</td>\n",
       "      <td>11495</td>\n",
       "      <td>8792</td>\n",
       "      <td>2</td>\n",
       "      <td>2</td>\n",
       "      <td>64</td>\n",
       "      <td>14926</td>\n",
       "      <td>93</td>\n",
       "      <td>93</td>\n",
       "      <td>5271</td>\n",
       "      <td>2723</td>\n",
       "      <td>70</td>\n",
       "      <td>22513</td>\n",
       "      <td>9098</td>\n",
       "      <td>7</td>\n",
       "      <td>30</td>\n",
       "    </tr>\n",
       "    <tr>\n",
       "      <th>top</th>\n",
       "      <td>https://www.zomato.com/bangalore/the-nest-the-...</td>\n",
       "      <td>Delivery Only</td>\n",
       "      <td>Cafe Coffee Day</td>\n",
       "      <td>Yes</td>\n",
       "      <td>No</td>\n",
       "      <td>NEW</td>\n",
       "      <td>080 43334321</td>\n",
       "      <td>BTM</td>\n",
       "      <td>Quick Bites</td>\n",
       "      <td>Biryani</td>\n",
       "      <td>North Indian</td>\n",
       "      <td>300</td>\n",
       "      <td>[]</td>\n",
       "      <td>[]</td>\n",
       "      <td>Delivery</td>\n",
       "      <td>BTM</td>\n",
       "    </tr>\n",
       "    <tr>\n",
       "      <th>freq</th>\n",
       "      <td>1</td>\n",
       "      <td>128</td>\n",
       "      <td>96</td>\n",
       "      <td>30444</td>\n",
       "      <td>45268</td>\n",
       "      <td>2208</td>\n",
       "      <td>216</td>\n",
       "      <td>5124</td>\n",
       "      <td>19132</td>\n",
       "      <td>182</td>\n",
       "      <td>2913</td>\n",
       "      <td>7576</td>\n",
       "      <td>7595</td>\n",
       "      <td>39617</td>\n",
       "      <td>25942</td>\n",
       "      <td>3279</td>\n",
       "    </tr>\n",
       "  </tbody>\n",
       "</table>\n",
       "</div>"
      ],
      "text/plain": [
       "                                                      url        address  \\\n",
       "count                                               51717          51717   \n",
       "unique                                              51717          11495   \n",
       "top     https://www.zomato.com/bangalore/the-nest-the-...  Delivery Only   \n",
       "freq                                                    1            128   \n",
       "\n",
       "                   name online_order book_table   rate         phone location  \\\n",
       "count             51717        51717      51717  43942         50509    51696   \n",
       "unique             8792            2          2     64         14926       93   \n",
       "top     Cafe Coffee Day          Yes         No    NEW  080 43334321      BTM   \n",
       "freq                 96        30444      45268   2208           216     5124   \n",
       "\n",
       "          rest_type dish_liked      cuisines approx_cost(for two people)  \\\n",
       "count         51490      23639         51672                       51371   \n",
       "unique           93       5271          2723                          70   \n",
       "top     Quick Bites    Biryani  North Indian                         300   \n",
       "freq          19132        182          2913                        7576   \n",
       "\n",
       "       reviews_list menu_item listed_in(type) listed_in(city)  \n",
       "count         51717     51717           51717           51717  \n",
       "unique        22513      9098               7              30  \n",
       "top              []        []        Delivery             BTM  \n",
       "freq           7595     39617           25942            3279  "
      ]
     },
     "execution_count": 5,
     "metadata": {},
     "output_type": "execute_result"
    }
   ],
   "source": [
    "df.describe(include=\"O\")"
   ]
  },
  {
   "cell_type": "code",
   "execution_count": 6,
   "id": "516f4889",
   "metadata": {},
   "outputs": [
    {
     "data": {
      "text/plain": [
       "np.int64(0)"
      ]
     },
     "execution_count": 6,
     "metadata": {},
     "output_type": "execute_result"
    }
   ],
   "source": [
    "df.duplicated().sum()"
   ]
  },
  {
   "cell_type": "code",
   "execution_count": 7,
   "id": "ada7886f",
   "metadata": {},
   "outputs": [
    {
     "data": {
      "text/plain": [
       "url                             0.00\n",
       "address                         0.00\n",
       "name                            0.00\n",
       "online_order                    0.00\n",
       "book_table                      0.00\n",
       "rate                           15.03\n",
       "votes                           0.00\n",
       "phone                           2.34\n",
       "location                        0.04\n",
       "rest_type                       0.44\n",
       "dish_liked                     54.29\n",
       "cuisines                        0.09\n",
       "approx_cost(for two people)     0.67\n",
       "reviews_list                    0.00\n",
       "menu_item                       0.00\n",
       "listed_in(type)                 0.00\n",
       "listed_in(city)                 0.00\n",
       "dtype: float64"
      ]
     },
     "execution_count": 7,
     "metadata": {},
     "output_type": "execute_result"
    }
   ],
   "source": [
    "round(df.isna().mean()*100,2)"
   ]
  },
  {
   "cell_type": "markdown",
   "id": "4cdb8bd8",
   "metadata": {},
   "source": [
    "# Data Cleaning"
   ]
  },
  {
   "cell_type": "code",
   "execution_count": 8,
   "id": "d4a6f470",
   "metadata": {},
   "outputs": [
    {
     "data": {
      "text/plain": [
       "Index(['url', 'address', 'name', 'online_order', 'book_table', 'rate', 'votes',\n",
       "       'phone', 'location', 'rest_type', 'dish_liked', 'cuisines',\n",
       "       'approx_cost(for two people)', 'reviews_list', 'menu_item',\n",
       "       'listed_in(type)', 'listed_in(city)'],\n",
       "      dtype='object')"
      ]
     },
     "execution_count": 8,
     "metadata": {},
     "output_type": "execute_result"
    }
   ],
   "source": [
    "df.columns"
   ]
  },
  {
   "cell_type": "code",
   "execution_count": 9,
   "id": "86fe7f6b",
   "metadata": {},
   "outputs": [
    {
     "name": "stdout",
     "output_type": "stream",
     "text": [
      "url\n",
      "51717\n",
      "['https://www.zomato.com/bangalore/jalsa-banashankari?context=eyJzZSI6eyJlIjpbNTg2OTQsIjE4Mzc1NDc0IiwiNTkwOTAiLCIxODM4Mjk0NCIsIjE4MjI0Njc2IiwiNTkyODkiLCIxODM3MzM4NiJdLCJ0IjoiUmVzdGF1cmFudHMgaW4gQmFuYXNoYW5rYXJpIHNlcnZpbmcgQnVmZmV0In19'\n",
      " 'https://www.zomato.com/bangalore/spice-elephant-banashankari?context=eyJzZSI6eyJlIjpbIjU4Njk0IiwxODM3NTQ3NCwiNTkwOTAiLCIxODM4Mjk0NCIsIjE4MjI0Njc2IiwiNTkyODkiLCIxODM3MzM4NiJdLCJ0IjoiUmVzdGF1cmFudHMgaW4gQmFuYXNoYW5rYXJpIHNlcnZpbmcgQnVmZmV0In19'\n",
      " 'https://www.zomato.com/SanchurroBangalore?context=eyJzZSI6eyJlIjpbIjU4Njk0IiwiMTgzNzU0NzQiLDU5MDkwLCIxODM4Mjk0NCIsIjE4MjI0Njc2IiwiNTkyODkiLCIxODM3MzM4NiJdLCJ0IjoiUmVzdGF1cmFudHMgaW4gQmFuYXNoYW5rYXJpIHNlcnZpbmcgQnVmZmV0In19'\n",
      " ...\n",
      " 'https://www.zomato.com/bangalore/plunge-sheraton-grand-bengaluru-whitefield-hotel-convention-centre-whitefield-bangalore?context=eyJzZSI6eyJlIjpbIjE4NjAyNDc4IiwiMTgyOTAwNTIiLCI1ODM1NCIsIjE4NzQxMTI5IiwxODY2MTA0MCwiMTg2NjEwODQiLCIxODY5MDgzNyJdLCJ0IjoiUHVicyAmYW1wOyBCYXJzIGluIFdoaXRlZmllbGQifX0='\n",
      " 'https://www.zomato.com/bangalore/chime-sheraton-grand-bengaluru-whitefield-hotel-convention-centre-itpl-main-road-whitefield-bangalore?context=eyJzZSI6eyJlIjpbIjE4MjkwMDUyIiwiNTgzNTQiLCIxODc0MTEyOSIsIjE4NjYxMDQwIiwxODY2MTA4NCwiMTg2OTA4MzciXSwidCI6IlB1YnMgJmFtcDsgQmFycyBpbiBXaGl0ZWZpZWxkIn19'\n",
      " 'https://www.zomato.com/bangalore/the-nest-the-den-bengaluru-itpl-main-road-whitefield-bangalore?context=eyJzZSI6eyJlIjpbIjU4MzU0IiwiMTg3NDExMjkiLCIxODY2MTA0MCIsIjE4NjYxMDg0IiwxODY5MDgzN10sInQiOiJQdWJzICZhbXA7IEJhcnMgaW4gV2hpdGVmaWVsZCJ9fQ=='] \n",
      " ****************************************************************************************************\n",
      "address\n",
      "11495\n",
      "['942, 21st Main Road, 2nd Stage, Banashankari, Bangalore'\n",
      " '2nd Floor, 80 Feet Road, Near Big Bazaar, 6th Block, Kathriguppe, 3rd Stage, Banashankari, Bangalore'\n",
      " '1112, Next to KIMS Medical College, 17th Cross, 2nd Stage, Banashankari, Bangalore'\n",
      " ...\n",
      " 'Cessna Business Park, Sarjapur Ã\\x83Â\\x83Ã\\x82Â\\x83Ã\\x83Â\\x82Ã\\x82Â\\x83Ã\\x83Â\\x83Ã\\x82Â\\x82Ã\\x83Â\\x82Ã\\x82Â\\x82Ã\\x83Â\\x83Ã\\x82Â\\x83Ã\\x83Â\\x82Ã\\x82Â\\x82Ã\\x83Â\\x83Ã\\x82Â\\x82Ã\\x83Â\\x82Ã\\x82Â\\x96 Marathahalli Outer Ring Road, Kadubeesanahalli, Bellandur Post, Bengaluru, Karnataka'\n",
      " '44, Kodigehalli to Hoodi Main Road, Mahadevapura Post, KR Puram, Bangalore'\n",
      " '139/C1, Next To GR Tech Park, Pattandur Agrahara, ITPL, Main Road, Whitefield, Bangalore'] \n",
      " ****************************************************************************************************\n",
      "name\n",
      "8792\n",
      "['Jalsa' 'Spice Elephant' 'San Churro Cafe' ... 'Nawabs Empire'\n",
      " 'SeeYa Restaurant'\n",
      " 'Plunge - Sheraton Grand Bengaluru Whitefield Hotel &...'] \n",
      " ****************************************************************************************************\n",
      "online_order\n",
      "2\n",
      "['Yes' 'No'] \n",
      " ****************************************************************************************************\n",
      "book_table\n",
      "2\n",
      "['Yes' 'No'] \n",
      " ****************************************************************************************************\n",
      "rate\n",
      "64\n",
      "['4.1/5' '3.8/5' '3.7/5' '3.6/5' '4.6/5' '4.0/5' '4.2/5' '3.9/5' '3.1/5'\n",
      " '3.0/5' '3.2/5' '3.3/5' '2.8/5' '4.4/5' '4.3/5' 'NEW' '2.9/5' '3.5/5' nan\n",
      " '2.6/5' '3.8 /5' '3.4/5' '4.5/5' '2.5/5' '2.7/5' '4.7/5' '2.4/5' '2.2/5'\n",
      " '2.3/5' '3.4 /5' '-' '3.6 /5' '4.8/5' '3.9 /5' '4.2 /5' '4.0 /5' '4.1 /5'\n",
      " '3.7 /5' '3.1 /5' '2.9 /5' '3.3 /5' '2.8 /5' '3.5 /5' '2.7 /5' '2.5 /5'\n",
      " '3.2 /5' '2.6 /5' '4.5 /5' '4.3 /5' '4.4 /5' '4.9/5' '2.1/5' '2.0/5'\n",
      " '1.8/5' '4.6 /5' '4.9 /5' '3.0 /5' '4.8 /5' '2.3 /5' '4.7 /5' '2.4 /5'\n",
      " '2.1 /5' '2.2 /5' '2.0 /5' '1.8 /5'] \n",
      " ****************************************************************************************************\n",
      "votes\n",
      "2328\n",
      "[ 775  787  918 ... 4957 2382  843] \n",
      " ****************************************************************************************************\n",
      "phone\n",
      "14926\n",
      "['080 42297555\\r\\n+91 9743772233' '080 41714161' '+91 9663487993' ...\n",
      " '+91 9663517066\\n+91 9686861135' '+91 9164562939' '080 65951222'] \n",
      " ****************************************************************************************************\n",
      "location\n",
      "93\n",
      "['Banashankari' 'Basavanagudi' 'Mysore Road' 'Jayanagar'\n",
      " 'Kumaraswamy Layout' 'Rajarajeshwari Nagar' 'Vijay Nagar' 'Uttarahalli'\n",
      " 'JP Nagar' 'South Bangalore' 'City Market' 'Nagarbhavi'\n",
      " 'Bannerghatta Road' 'BTM' 'Kanakapura Road' 'Bommanahalli' nan\n",
      " 'CV Raman Nagar' 'Electronic City' 'HSR' 'Marathahalli' 'Sarjapur Road'\n",
      " 'Wilson Garden' 'Shanti Nagar' 'Koramangala 5th Block'\n",
      " 'Koramangala 8th Block' 'Richmond Road' 'Koramangala 7th Block'\n",
      " 'Jalahalli' 'Koramangala 4th Block' 'Bellandur' 'Whitefield'\n",
      " 'East Bangalore' 'Old Airport Road' 'Indiranagar' 'Koramangala 1st Block'\n",
      " 'Frazer Town' 'RT Nagar' 'MG Road' 'Brigade Road' 'Lavelle Road'\n",
      " 'Church Street' 'Ulsoor' 'Residency Road' 'Shivajinagar' 'Infantry Road'\n",
      " 'St. Marks Road' 'Cunningham Road' 'Race Course Road' 'Commercial Street'\n",
      " 'Vasanth Nagar' 'HBR Layout' 'Domlur' 'Ejipura' 'Jeevan Bhima Nagar'\n",
      " 'Old Madras Road' 'Malleshwaram' 'Seshadripuram' 'Kammanahalli'\n",
      " 'Koramangala 6th Block' 'Majestic' 'Langford Town' 'Central Bangalore'\n",
      " 'Sanjay Nagar' 'Brookefield' 'ITPL Main Road, Whitefield'\n",
      " 'Varthur Main Road, Whitefield' 'KR Puram' 'Koramangala 2nd Block'\n",
      " 'Koramangala 3rd Block' 'Koramangala' 'Hosur Road' 'Rajajinagar'\n",
      " 'Banaswadi' 'North Bangalore' 'Nagawara' 'Hennur' 'Kalyan Nagar'\n",
      " 'New BEL Road' 'Jakkur' 'Rammurthy Nagar' 'Thippasandra' 'Kaggadasapura'\n",
      " 'Hebbal' 'Kengeri' 'Sankey Road' 'Sadashiv Nagar' 'Basaveshwara Nagar'\n",
      " 'Yeshwantpur' 'West Bangalore' 'Magadi Road' 'Yelahanka' 'Sahakara Nagar'\n",
      " 'Peenya'] \n",
      " ****************************************************************************************************\n",
      "rest_type\n",
      "93\n",
      "['Casual Dining' 'Cafe, Casual Dining' 'Quick Bites' 'Casual Dining, Cafe'\n",
      " 'Cafe' 'Quick Bites, Cafe' 'Cafe, Quick Bites' 'Delivery' 'Mess'\n",
      " 'Dessert Parlor' 'Bakery, Dessert Parlor' 'Pub' 'Bakery'\n",
      " 'Takeaway, Delivery' 'Fine Dining' 'Beverage Shop' 'Sweet Shop' 'Bar'\n",
      " 'Beverage Shop, Quick Bites' 'Confectionery' 'Quick Bites, Beverage Shop'\n",
      " 'Dessert Parlor, Sweet Shop' 'Bakery, Quick Bites'\n",
      " 'Sweet Shop, Quick Bites' 'Kiosk' 'Food Truck'\n",
      " 'Quick Bites, Dessert Parlor' 'Beverage Shop, Dessert Parlor' 'Takeaway'\n",
      " 'Pub, Casual Dining' 'Casual Dining, Bar' 'Dessert Parlor, Beverage Shop'\n",
      " 'Quick Bites, Bakery' 'Dessert Parlor, Quick Bites'\n",
      " 'Microbrewery, Casual Dining' 'Lounge' 'Bar, Casual Dining' 'Food Court'\n",
      " 'Cafe, Bakery' nan 'Dhaba' 'Quick Bites, Sweet Shop' 'Microbrewery'\n",
      " 'Food Court, Quick Bites' 'Pub, Bar' 'Casual Dining, Pub' 'Lounge, Bar'\n",
      " 'Food Court, Dessert Parlor' 'Casual Dining, Sweet Shop'\n",
      " 'Food Court, Casual Dining' 'Casual Dining, Microbrewery'\n",
      " 'Sweet Shop, Dessert Parlor' 'Bakery, Beverage Shop'\n",
      " 'Lounge, Casual Dining' 'Cafe, Food Court' 'Beverage Shop, Cafe'\n",
      " 'Cafe, Dessert Parlor' 'Dessert Parlor, Cafe' 'Dessert Parlor, Bakery'\n",
      " 'Microbrewery, Pub' 'Bakery, Food Court' 'Club' 'Quick Bites, Food Court'\n",
      " 'Bakery, Cafe' 'Bar, Cafe' 'Pub, Cafe' 'Casual Dining, Irani Cafee'\n",
      " 'Fine Dining, Lounge' 'Bar, Quick Bites' 'Bakery, Kiosk'\n",
      " 'Pub, Microbrewery' 'Microbrewery, Lounge' 'Fine Dining, Microbrewery'\n",
      " 'Fine Dining, Bar' 'Mess, Quick Bites' 'Dessert Parlor, Kiosk'\n",
      " 'Bhojanalya' 'Casual Dining, Quick Bites' 'Pop Up' 'Cafe, Bar'\n",
      " 'Casual Dining, Lounge' 'Bakery, Sweet Shop' 'Microbrewery, Bar'\n",
      " 'Cafe, Lounge' 'Bar, Pub' 'Lounge, Cafe' 'Club, Casual Dining'\n",
      " 'Quick Bites, Mess' 'Quick Bites, Meat Shop' 'Quick Bites, Kiosk'\n",
      " 'Lounge, Microbrewery' 'Food Court, Beverage Shop'\n",
      " 'Dessert Parlor, Food Court' 'Bar, Lounge'] \n",
      " ****************************************************************************************************\n",
      "dish_liked\n",
      "5271\n",
      "['Pasta, Lunch Buffet, Masala Papad, Paneer Lajawab, Tomato Shorba, Dum Biryani, Sweet Corn Soup'\n",
      " 'Momos, Lunch Buffet, Chocolate Nirvana, Thai Green Curry, Paneer Tikka, Dum Biryani, Chicken Biryani'\n",
      " 'Churros, Cannelloni, Minestrone Soup, Hot Chocolate, Pink Sauce Pasta, Salsa, Veg Supreme Pizza'\n",
      " ...\n",
      " 'Noodles, Chicken Noodle, Momos, American Chopsuey, Salad, Manchow Soup, Manchurian'\n",
      " 'Chicken Quesadilla, Naan, Breakfast Buffet, Cheesecake, Cocktails, Lunch Buffet, Biryani'\n",
      " 'Biryani, Andhra Meal'] \n",
      " ****************************************************************************************************\n",
      "cuisines\n",
      "2723\n",
      "['North Indian, Mughlai, Chinese' 'Chinese, North Indian, Thai'\n",
      " 'Cafe, Mexican, Italian' ... 'North Indian, Street Food, Biryani'\n",
      " 'Chinese, Mughlai' 'North Indian, Chinese, Arabian, Momos'] \n",
      " ****************************************************************************************************\n",
      "approx_cost(for two people)\n",
      "70\n",
      "['800' '300' '600' '700' '550' '500' '450' '650' '400' '900' '200' '750'\n",
      " '150' '850' '100' '1,200' '350' '250' '950' '1,000' '1,500' '1,300' '199'\n",
      " '80' '1,100' '160' '1,600' '230' '130' '50' '190' '1,700' nan '1,400'\n",
      " '180' '1,350' '2,200' '2,000' '1,800' '1,900' '330' '2,500' '2,100'\n",
      " '3,000' '2,800' '3,400' '40' '1,250' '3,500' '4,000' '2,400' '2,600'\n",
      " '120' '1,450' '469' '70' '3,200' '60' '560' '240' '360' '6,000' '1,050'\n",
      " '2,300' '4,100' '5,000' '3,700' '1,650' '2,700' '4,500' '140'] \n",
      " ****************************************************************************************************\n",
      "reviews_list\n",
      "22513\n",
      "['[(\\'Rated 4.0\\', \\'RATED\\\\n  A beautiful place to dine in.The interiors take you back to the Mughal era. The lightings are just perfect.We went there on the occasion of Christmas and so they had only limited items available. But the taste and service was not compromised at all.The only complaint is that the breads could have been better.Would surely like to come here again.\\'), (\\'Rated 4.0\\', \\'RATED\\\\n  I was here for dinner with my family on a weekday. The restaurant was completely empty. Ambience is good with some good old hindi music. Seating arrangement are good too. We ordered masala papad, panner and baby corn starters, lemon and corrionder soup, butter roti, olive and chilli paratha. Food was fresh and good, service is good too. Good for family hangout.\\\\nCheers\\'), (\\'Rated 2.0\\', \\'RATED\\\\n  Its a restaurant near to Banashankari BDA. Me along with few of my office friends visited to have buffet but unfortunately they only provide veg buffet. On inquiring they said this place is mostly visited by vegetarians. Anyways we ordered ala carte items which took ages to come. Food was ok ok. Definitely not visiting anymore.\\'), (\\'Rated 4.0\\', \\'RATED\\\\n  We went here on a weekend and one of us had the buffet while two of us took Ala Carte. Firstly the ambience and service of this place is great! The buffet had a lot of items and the good was good. We had a Pumpkin Halwa intm the dessert which was amazing. Must try! The kulchas are great here. Cheers!\\'), (\\'Rated 5.0\\', \\'RATED\\\\n  The best thing about the place is itÃ\\x83\\\\x83Ã\\x82\\\\x83Ã\\x83\\\\x82Ã\\x82\\\\x82Ã\\x83\\\\x83Ã\\x82\\\\x82Ã\\x83\\\\x82Ã\\x82\\\\x92s ambiance. Second best thing was yummy ? food. We try buffet and buffet food was not disappointed us.\\\\nTest ?. ?? ?? ?? ?? ??\\\\nQuality ?. ??????????.\\\\nService: Staff was very professional and friendly.\\\\n\\\\nOverall experience was excellent.\\\\n\\\\nsubirmajumder85.wixsite.com\\'), (\\'Rated 5.0\\', \\'RATED\\\\n  Great food and pleasant ambience. Expensive but Coll place to chill and relax......\\\\n\\\\nService is really very very good and friendly staff...\\\\n\\\\nFood : 5/5\\\\nService : 5/5\\\\nAmbience :5/5\\\\nOverall :5/5\\'), (\\'Rated 4.0\\', \\'RATED\\\\n  Good ambience with tasty food.\\\\nCheese chilli paratha with Bhutta palak methi curry is a good combo.\\\\nLemon Chicken in the starters is a must try item.\\\\nEgg fried rice was also quite tasty.\\\\nIn the mocktails, recommend \"Alice in Junoon\". Do not miss it.\\'), (\\'Rated 4.0\\', \\'RATED\\\\n  You canÃ\\x83\\\\x83Ã\\x82\\\\x83Ã\\x83\\\\x82Ã\\x82\\\\x82Ã\\x83\\\\x83Ã\\x82\\\\x82Ã\\x83\\\\x82Ã\\x82\\\\x92t go wrong with Jalsa. Never been a fan of their buffet and thus always order alacarteÃ\\x83\\\\x83Ã\\x82\\\\x83Ã\\x83\\\\x82Ã\\x82\\\\x82Ã\\x83\\\\x83Ã\\x82\\\\x82Ã\\x83\\\\x82Ã\\x82\\\\x92. Service at times can be on the slower side but food is worth the wait.\\'), (\\'Rated 5.0\\', \\'RATED\\\\n  Overdelighted by the service and food provided at this place. A royal and ethnic atmosphere builds a strong essence of being in India and also the quality and taste of food is truly authentic. I would totally recommend to visit this place once.\\'), (\\'Rated 4.0\\', \\'RATED\\\\n  The place is nice and comfortable. Food wise all jalea outlets maintain a good standard. The soya chaap was a standout dish. Clearly one of trademark dish as per me and a must try.\\\\n\\\\nThe only concern is the parking. It very congested and limited to just 5cars. The basement parking is very steep and makes it cumbersome\\'), (\\'Rated 4.0\\', \\'RATED\\\\n  The place is nice and comfortable. Food wise all jalea outlets maintain a good standard. The soya chaap was a standout dish. Clearly one of trademark dish as per me and a must try.\\\\n\\\\nThe only concern is the parking. It very congested and limited to just 5cars. The basement parking is very steep and makes it cumbersome\\'), (\\'Rated 4.0\\', \\'RATED\\\\n  The place is nice and comfortable. Food wise all jalea outlets maintain a good standard. The soya chaap was a standout dish. Clearly one of trademark dish as per me and a must try.\\\\n\\\\nThe only concern is the parking. It very congested and limited to just 5cars. The basement parking is very steep and makes it cumbersome\\')]'\n",
      " '[(\\'Rated 4.0\\', \\'RATED\\\\n  Had been here for dinner with family. Turned out to be a good choose suitable for all ages of people. Can try this place. We liked the most was their starters. Service is good. Prices are affordable. Will recommend this restaurant for early dinner. The place is little noisy.\\'), (\\'Rated 3.0\\', \\'RATED\\\\n  The ambience is really nice, staff is courteous. The price is pretty high for the quantity, but overall the experience was fine. The quality of food is nice but nothing extraordinary. They also have buffet(only veg)\\'), (\\'Rated 3.0\\', \\'RATED\\\\n  I felt good is little expensive for the quantity they serve and In terms of taste is decent. There is nothing much to talk about the ambience, regular casual dining restaurant where you can take your family for dinner or lunch. If they improve on that quantity or may be reduce the price a bit or may be improve the presentation of the food it might Manage to get more repeat customers.\\'), (\\'Rated 4.0\\', \\'RATED\\\\n  I was looking for a quite place to spend some time with family and as well wanted to try some new place. Since I was at Banashankari I thought of trying this place. The place had good rating and was part of Zomato gold. So I decided to try this place. It was a delite to see a very friendly staff and food we ordered was very tasty as well.\\\\n\\\\nFood : 4/5\\\\nAmbience :3/5\\\\nFriendly staff : 4/5\\\\nPocket friendly : 4/5\\\\n\\\\nWill definitely visit again ??\\'), (\\'Rated 4.0\\', \"RATED\\\\n  Nice place to dine and has a good ambiance... Food is good and the serving time is also good..neat restrooms and we\\'ll arranged tables....only thing is we went at 12.30 for lunch...and we noticed that they kept on playing one music back to back which was a little annoying...\\\\n\\\\n1. Chicken biriyani was so good and the chicken was fresh and tender ,rice was well cooked and overall was great\\\\n\\\\n2. Mutton biriyani was very very good and tasty and It had plenty of mutton pieces...\"), (\\'Rated 5.0\\', \\'RATED\\\\n  This place just cool ? with good ambience and slow music and having delicious food is where you find peace. Staff very friendly and they have maintained the place so clean. The price is average for what the quantity of food they serve.\\\\nThom yum Thai soup was best and was treat to mouth, roti was soft with that vilaythi paneer was perfect to have for veggie foodies, in rice we tried burnt garlic fried rice with vegetables and it was the perfect thing to end.\\'), (\\'Rated 4.0\\', \"RATED\\\\n  Quiet a good family type of place.. too calm and usually we don\\'t find crowd here.. panner curry and the deserts is what we had tasted.. they wer really good but we found it a little expensive\"), (\\'Rated 2.0\\', \"RATED\\\\n  I had a very bad experience here.\\\\nI don\\'t know about a la carte, but the buffet was the worst. They gave us complementary drink and momos before the buffet. The momos were really good.\\\\nThe number of varieties first of all was very disappointing. The service was very slow. They refilled the food very slowly. The starters were okay. The main course also was so so. There was two gravies with roti and some rice with raitha. They had chats, sev puri and pan puri, which was average. But the desert was disappointing. They had gulab Jamun and chocolate cake. The jamun was not cooked inside. There was a cold blob of raw dough inside. The chocolate cake also was really hard and not that good.\\\\nOverall the buffet was a bad experience for me.\"), (\\'Rated 4.0\\', \"RATED\\\\n  Food: 8/10\\\\nAmbience:8/10\\\\nStaff:8/10\\\\nOne of the good places to try north Indian food...but depends on ur taste buds. Not everyone will like all the items here. Specially when u r particular abt sweet and spicy food.\\\\nThere\\'s buffet available too.\\\\nWe had ordered paneer uttar dakshin and paneer kurchan..was amazing. The Gobi hara pyaz and mix veg were average.\"), (\\'Rated 3.0\\', \\'RATED\\\\n  A decent place for a family lunch or dinner.. well arranged in a simple manner. Food was tasty and the crew was very helpful and understanding..\\'), (\\'Rated 4.0\\', \"RATED\\\\n  Great place to have a heavy lunch. Good service.\\\\nThe chicken biryani was undoubtedly one of the best I\\'ve had. Biriyani and Lassi would be the suggested combo. Buffet is the talk of the place, so try according to your appetite. A nice place.\"), (\\'Rated 4.0\\', \\'RATED\\\\n  Its the one restaurant near katriguppe that i found was really good. Good variety of Chinese and thai dishes. Service is good and good place to hangout with family as its a peaceful place where noise is really less and good view.\\'), (\\'Rated 2.0\\', \"RATED\\\\n  Spice elephant soup SPL: almost manchow flavour soup.. Just above medium spicy\\\\n\\\\nLasooni fish tikka was awesome\\\\n\\\\nI don\\'t remember the dessert name but I have attached the photo .. It had vanilla ice inside wafers... Wafer was hell hard, egg smell chewy ... Nightmare dessert !\\\\n\\\\nTable leg space was very bad... I was so uncomfortable, the whole time kept on adjusting my legs\\\\n\\\\nNo parking\\\\n\\\\nFor the taste felt this is too costly\"), (\\'Rated 4.0\\', \\'RATED\\\\n  Zomato gold partner at this price. It was insane. They have really nice food. small place with very courteous staff and very cheap food for this ambience. Cost of soups is 80-100. Starters from 150-250. Main course 200-300. Cost for two was 800 for us.\\')]'\n",
      " '[(\\'Rated 3.0\\', \"RATED\\\\n  Ambience is not that good enough and it\\'s not a pocket friendly cafe and the quantity is not that good and desserts are too good enough ??..\"), (\\'Rated 3.0\\', \"RATED\\\\n \\\\nWent there for a quick bite with friends.\\\\nThe ambience had more of corporate feel. I would say it was unique.\\\\nTried nachos, pasta churros and lasagne.\\\\n\\\\nNachos were pathetic.( Seriously don\\'t order)\\\\nPasta was okayish.\\\\nLasagne was good.\\\\nNutella churros were the best.\\\\nOverall an okayish experience!\\\\nPeace ??\"), (\\'Rated 4.0\\', \"RATED\\\\n  First of all, a big thanks to the staff of this Cafe. Very polite and courteous.\\\\n\\\\nI was there 15mins before their closing time. Without any discomfort or hesitation, the staff welcomed me with a warm smile and said they\\'re still open, though they were preparing to close the cafe for the day.\\\\n\\\\nQuickly ordered the Thai green curry, which is served with rice. They got it for me within 10mins, hot and freshly made.\\\\n\\\\nIt was tasty with the taste of coconut milk. Not very spicy, it was mild spicy.\\\\n\\\\nI saw they had yummy looking dessert menu, should go there to try them out!\\\\n\\\\nA good spacious place to hang out for coffee, pastas, pizza or Thai food.\"), (\\'Rated 3.0\\', \"RATED\\\\n  A place for people who love churos. Otherwise it\\'s a normal simple cafe like any other in town . Can go and spend the evening there . The positive being it is one of the better cafes in and around Banashankari and also the place is not very crowded .\"), (\\'Rated 3.0\\', \\'RATED\\\\n  Have been visiting this place since years. The quality has gone down drastically. Food quality has become very average from good. Service is also very bad of late.\\'), (\\'Rated 1.0\\', \\'RATED\\\\n  Really disappointed with the place.\\\\n\\\\nSeems like a old dusty store room stacked up with old sofas and chairs! The decor is soo disappointing that I cannot put it in words!\\\\nLastly the food was cherry on the cake to make it a complete worse meal.\\\\n\\\\nThis place is the last option you should ever consider.\\'), (\\'Rated 3.0\\', \\'RATED\\\\n  Congested atmosphere due to smoke from kitchen\\\\nAmbience was k\\\\nService was k .\\\\nChuros was a new experience recommended\\\\nNear to kims . Parking was not der\\'), (\\'Rated 1.0\\', \"RATED\\\\n  Cockroaches !! I Repeat cockroaches!!Bakasura was disappointed.\\\\nBeing in Banashankari, being a gold outlet and nesting them? who can even think of that. Thankfully it wasn\\'t over bakasura\\'s plate. The ambience was last cleaned a decade back i guess. A cockroach just walked over our table. As it was alive, and well moving , the bakasura couldnt take a pic of it. Then the staff had to actually take it out of our table. Such ambience ? like what are you upto?\\\\n\\\\nBakasura disapproves. I dont even want to talk about the food.\"), (\\'Rated 4.0\\', \\'RATED\\\\n  A nice place to hangout, this place looks professional and also cute. If anyone is trying churros for the first the time, this is the place to go. Cheesecake is pretty amazing too.\\\\nRecommended.\\'), (\\'Rated 4.0\\', \\'RATED\\\\n  1) pizza mocktails shakes and churros really very good\\\\n2) staff good\\\\n3) ambience simple and nice good\\\\n4) location of San churro cafe very nice\\\\n5) over San churro cafe good....\\'), (\\'Rated 3.0\\', \"RATED\\\\n  One of my favourite places that I often visit in South bangalore , but quality has been reduced than before. Little unhappy with the food this time.\\\\nBut their churros never dissapointed me. Staff are too slow and do not respond easily.\\\\n\\\\nSoups:\\\\nMinestrone soup was like vegetable stock water with vegetables in it, not happy with it.\\\\n\\\\nChurros :\\\\nIt was great as usual. A must visit place if u love churros.\\\\n\\\\nStarters:\\\\n1. Africano panner -\\\\nIt was bit sweet and not happy with the dish!!\\\\n2. Loaded nachos -\\\\nThis happened to be their one of the best dishes, but now I take back my words. Very dissapointed with the dish.\\\\n\\\\nMain course:\\\\nsicilia pizza\\\\nPizza was too good, it\\'s a must try dish.\\\\n\\\\nFinally I would recommend this place for churros and pizza .\\\\n\\\\nTaste : 6/10\\\\nAmbience :7/10\\\\nValue for money : 8/10\\\\n\\\\nOverall experience : 7.5/10\"), (\\'Rated 4.0\\', \\'RATED\\\\n  Visited this place long before, place come to.notice with the decoration lights outside the cafe. We ordered churos, pizza and hot chocolate, all were good just I little priced more.\\'), (\\'Rated 4.0\\', \\'RATED\\\\n  Spain pictures of Churros triggered Nostalgia about it , which led to Google search for Churro places in city , lucky we to get the result as San Churro cafe , we had an delectable churros here along with hot chocolate and Nachos ! Thanks for fulfilling our thirst of Spanish Churros !\\\\nFood : ???\\\\nChurros ???\\\\nHot Chocolate ?\\\\nNachos ??\\\\n\\\\nService : ??\\\\n\\\\nAmbiance : ?\\\\n\\\\nCleanliness : ??\\\\n\\\\nOne drawback : Store had some flies, I hope they take care of them for our next tour ?\\'), (\\'Rated 3.0\\', \\'RATED\\\\n  Ã\\x83\\\\x83Ã\\x82\\\\x83Ã\\x83\\\\x82Ã\\x82\\\\x82Ã\\x83\\\\x83Ã\\x82\\\\x82Ã\\x83\\\\x82Ã\\x82\\\\x93Chocolaty and churroic experienceÃ\\x83\\\\x83Ã\\x82\\\\x83Ã\\x83\\\\x82Ã\\x82\\\\x82Ã\\x83\\\\x83Ã\\x82\\\\x82Ã\\x83\\\\x82Ã\\x82\\\\x94\\\\n\\\\nHit chocolate and churro with chocolate dip in the picture.\\\\n\\\\nMy first time at this restaurant and it has delivered in service, options as well as taste.\\'), (\\'Rated 4.0\\', \\'RATED\\\\n  Though very sadly the place looks in need of retouching, but the food was great! Especially when it was super cold outside and we were super hungry, the staff was nice. We ordered the pink pasta and a pizza. Both of them were pretty good. Was really tempted to try their Churros but we were stuffed. Worth a visit and try for sure!\\'), (\\'Rated 3.0\\', \"RATED\\\\n  Churros, the restaurant\\'s eponymous offering, has to be tried. They\\'re a Mexican snack and served with chocolate sauce. Milkshakes are good too. The interior walls have murals and writings all over. Haven\\'t tried the pizzas here but the cakes and pastries were pretty good.\"), (\\'Rated 3.0\\', \"RATED\\\\n  Honestly, have only tried parcels and that too only starters and mains - never tried desserts. So this review is based on starters and mains only. The quality wasn\\'t all that great, was pretty average.\"), (\\'Rated 4.0\\', \"RATED\\\\n  Visited this place for the first time, recently. The ambience was pretty good. We ordered two \\'churros for two\\'. Having churros for the first time ever, I was way too excited and judgmental. But swear to Lord, the churros were heavenly! The chocolate sauce was the actual chocolate sauce and not nutella xD We had taken the Cross Country Ranch pizza. It was a thin crust pizza loaded with veggies.\\\\nThe place is famous for churros (the name suggests so). I would love to visit again to try all the other items out :\\')\"), (\\'Rated 4.0\\', \\'RATED\\\\n  I love the desserts more than anything here !Good place and well served !:)\\\\nWe dint like the nachos here , it was not that good as we expected !\\\\nExcept nachos almost all dish were quite good!\\'), (\\'Rated 2.0\\', \"RATED\\\\n  2nd time I have visited this place and I am surprised to see how it has declined. Churros was hard, pizza was pathetic, loaded nachos and masala Garlic bread were topped with cheese with MAYO! Yes mayonnese.. Soup has the bread crumbs in almost melted state, mocktails were average and our only Savior was pasta and caramel pudding... This place has high potential but let down by dull ambience, pretty slow and inattentive staff. Buffet price was listed as 399 but was charged 499, We still went ahead and took the deal to be very disappointed!! Most dishes were freshly cooked hence going with some starts else would rate them lower. I did not find a single person who seemed happy with their meal as moat complained about one thing or the other. That\\'ll be my last visit San Churros.\")]'\n",
      " ...\n",
      " '[(\\'Rated 2.0\\', \"RATED\\\\n  We went out to this place little late on Friday evening... We got the table outside which literally gave us the feeling as if we are no where in the restaurant.\\\\nWe asked them to shift us inside as soon as any table is available, but despite table being available they couldn\\'t manage that.\\\\n\\\\nService was very very slow... For every order we have to remind them multiple times... Even for beer I don\\'t k ow why do take lot of time.\\\\n\\\\nWe ordered few starters like veg nachos, peanut masala, pizza and chicken wings... Which was ok.. Nit bad and not very good also.\\\\n\\\\nOverall rating.. 2/5\"), (\\'Rated 5.0\\', \\'RATED\\\\n  An clam and chilling out place with floks.... service was very politely presented by chef keshar and sam,,,where they suggested an amazing pizza which was absolutely marvellous,,,which went a good combination with chilled beer and cocktail....Thanks chef for making our food super delicious,,,Ã\\x83\\\\x83Ã\\x82\\\\x83Ã\\x83\\\\x82Ã\\x82\\\\x83Ã\\x83\\\\x83Ã\\x82\\\\x82Ã\\x83\\\\x82Ã\\x82Â°Ã\\x83\\\\x83Ã\\x82\\\\x83Ã\\x83\\\\x82Ã\\x82\\\\x82Ã\\x83\\\\x83Ã\\x82\\\\x82Ã\\x83\\\\x82Ã\\x82\\\\x9fÃ\\x83\\\\x83Ã\\x82\\\\x83Ã\\x83\\\\x82Ã\\x82\\\\x82Ã\\x83\\\\x83Ã\\x82\\\\x82Ã\\x83\\\\x82Ã\\x82\\\\x98Ã\\x83\\\\x83Ã\\x82\\\\x83Ã\\x83\\\\x82Ã\\x82\\\\x82Ã\\x83\\\\x83Ã\\x82\\\\x82Ã\\x83\\\\x82Ã\\x82\\\\x8dÃ\\x83\\\\x83Ã\\x82\\\\x83Ã\\x83\\\\x82Ã\\x82\\\\x83Ã\\x83\\\\x83Ã\\x82\\\\x82Ã\\x83\\\\x82Ã\\x82Â°Ã\\x83\\\\x83Ã\\x82\\\\x83Ã\\x83\\\\x82Ã\\x82\\\\x82Ã\\x83\\\\x83Ã\\x82\\\\x82Ã\\x83\\\\x82Ã\\x82\\\\x9fÃ\\x83\\\\x83Ã\\x82\\\\x83Ã\\x83\\\\x82Ã\\x82\\\\x82Ã\\x83\\\\x83Ã\\x82\\\\x82Ã\\x83\\\\x82Ã\\x82\\\\x98Ã\\x83\\\\x83Ã\\x82\\\\x83Ã\\x83\\\\x82Ã\\x82\\\\x82Ã\\x83\\\\x83Ã\\x82\\\\x82Ã\\x83\\\\x82Ã\\x82\\\\x8dThis place have beautiful ambience of smoke zone..loved it!!!!!\\'), (\\'Rated 4.0\\', \"RATED\\\\n  There\\'s more to this place than just beer!\\\\nThat\\'s true.\\\\nI visited this place on a weekday for lunch and found it to be all empty and quite which is quite contrary to the buzzing environment I\\'m generally used on weekends. My order included:\\\\nNachos for starters\\\\nVeg Platter(onion rings, spring rolls and honey chilli potatoes) for starters\\\\nPeppy Paneer pizza\\\\nEgg biryani for main course\\\\nI loved how the outer single layer of the egg was friend and make crispy,it was just perfect.\\\\nPortion was good and all the dishes were fresh n tasty.\\\\nMust visit!\\\\nbon appÃ\\x83\\\\x83Ã\\x82\\\\x83Ã\\x83\\\\x82Ã\\x82\\\\x83Ã\\x83\\\\x83Ã\\x82\\\\x82Ã\\x83\\\\x82Ã\\x82\\\\x83Ã\\x83\\\\x83Ã\\x82\\\\x83Ã\\x83\\\\x82Ã\\x82\\\\x82Ã\\x83\\\\x83Ã\\x82\\\\x82Ã\\x83\\\\x82Ã\\x82Â©tit :)\"), (\\'Rated 5.0\\', \\'RATED\\\\n  On a lazy sunday afternoon, I was craving for a good pizza..but most of my friends were out of town... I opened zomato and this restaurant just popped up.. I ordered chicken supreme pizza... oh boy! one of the best pizzas I have had.. thin crust, succulent chicken pieces generously strewn and wonderfully packed.. Thanks Beer Cafe for making such awesome pizzas and Thank you Zomato for delivering the same.. Will I order/visit again?? Ofcourse!!!!!!!!!!!!!!!!!!!!!!!!!!!!\\'), (\\'Rated 3.0\\', \"RATED\\\\n  The ambiance was pretty cool. Ordered some of their pizza varieties which I didn\\'t like much. Also had coke glass which again didn\\'t feel even like the original one.. Not chilled. Of course, it\\'s a beer cafe and I\\'m sure they would be providing nice beer and definitely the ambiance is something that one would wanna go there.\"), (\\'Rated 3.0\\', \"RATED\\\\n  Beer cafe located to vr mall, Whitefield. Its my favourite place to hangout with my friends, outside setting area is nice, but lots of mosquito, you cant seat outside but indoor its nice, food was good, talking bout service we are not happy for service , we called 2 or 3 times, i don\\'t know where they will busy, they didn\\'t came, after that my friend called again that time one guy is came nd took my order, overall all is fine.\"), (\\'Rated 3.0\\', \\'RATED\\\\n  Went for a quick bite n drinks...was planning to go from long time, n finally made it..the place is small n nice...I found the sitting arrangements really conjusted...too much crowded at Sunday night..waited for 10 to 15 mins to get a table...Good thing about the place is they take orders till late night...\\\\n\\\\nWell coming to the food...food options is not much...we ordered chicken nachos n barbeque chicken wings with some beer...food taste was average not that great..\\\\n\\\\nService is very slow..no one is interested to take the orders...no one there to serve water also...kitchen was also too slow...have to wait for half n hr for getting food...really annoying...n on the top of that you will not see any service guys around...\\\\n\\\\nOverall an okay experience...dint like their service at all...\\'), (\\'Rated 4.0\\', \\'RATED\\\\n  They have Geist on Tap, lovely selection of beer and and both indoor and Outdoor seating, including a smoking area.  For me, the food here is a big surprise and pretty darn good. Everything I had here impressed me, including the quantity and taste. I would never imagine having a Biryani at a pub, but I did try it here, and Voila, it was really yummy.\\\\n\\\\nDo try the beer braised trio chicken, the hariyali chicken tangri and the calcutta style chilli chicken, You will not regret it. Add Zomato Gold to that, and you have a winner!\\\\n\\\\ntheuncliched.com\\'), (\\'Rated 5.0\\', \\'RATED\\\\n  Amazing food. The food is so appealing and tasty that it will get over with few minutes. Must try tgere chicken nachos amazing. The ambiance is nice. Suited both for friends and family. Too good beer.\\'), (\\'Rated 4.0\\', \"RATED\\\\n  #Best place for hangout with friends. Specially in weekend.\\\\nService is good. But I didn\\'t like their beer taste. So I think they have to give good quality beer.\\\\nStaters quality and quantity was super. I had tried nacos . If you like then you try it.\"), (\\'Rated 3.0\\', \"RATED\\\\n  The kitchen is slow on a Sunday Night, with any food item taking about more than 30 mins, the servers appear helpless in this situation.\\\\n\\\\nChilli Paneer - don\\'t recommend not cooked well.Dahi Pakoda - this was decent and worth a try.\\\\nBeer as always is good.\"), (\\'Rated 4.0\\', \"RATED\\\\n  The ambience of the place is good. You have outdoor as well as indoor seatings available.\\\\nComing to the service and staff, it is great and the staff is quite friendly.\\\\nFor drinks, we ordered a mug of Budweiser. One of the best beers we have had. Pretty chilled and tasted amazing.\\\\nFor food, we ordered a plate of veg nachos and hariyali chicken tangri. Both of them were good.\\\\n\\\\nThis is the go-to place if you\\'re tired and really want to chill.\"), (\\'Rated 3.0\\', \\'RATED\\\\n  The Beer Cafe probably has one of the largest selections of bottled beers. Their courtyard seating is always buzzing with activity. The interior seating however seems a little crammed especially so with the tables close to the door.\\\\n\\\\nI was happy to see the Geist craft beer. It was refreshing and cold. We just wanted some bar food to go with the beer. The classic wings had a vinegary sourness to them and the calcutta chilli chicken had a strong dose of ketchup.\\\\n\\\\nAmbiance 4/5\\\\nFood 2/5\\\\nBeer 4/5\\\\nBeer Selection 5/5\\\\nService 3/5\\'), (\\'Rated 4.0\\', \\'RATED\\\\n  Nice and quite place to chillout with nice ambience. Staff is polite and professional. Will definitely come back and is recommended. Keep up the good work.\\'), (\\'Rated 4.0\\', \\'RATED\\\\n  Often end up here whenever I am in the vicinity solely for the foodÃ\\x83\\\\x83Ã\\x82\\\\x83Ã\\x83\\\\x82Ã\\x82\\\\x83Ã\\x83\\\\x83Ã\\x82\\\\x82Ã\\x83\\\\x82Ã\\x82Â°Ã\\x83\\\\x83Ã\\x82\\\\x83Ã\\x83\\\\x82Ã\\x82\\\\x82Ã\\x83\\\\x83Ã\\x82\\\\x82Ã\\x83\\\\x82Ã\\x82\\\\x9fÃ\\x83\\\\x83Ã\\x82\\\\x83Ã\\x83\\\\x82Ã\\x82\\\\x82Ã\\x83\\\\x83Ã\\x82\\\\x82Ã\\x83\\\\x82Ã\\x82\\\\x98Ã\\x83\\\\x83Ã\\x82\\\\x83Ã\\x83\\\\x82Ã\\x82\\\\x82Ã\\x83\\\\x83Ã\\x82\\\\x82Ã\\x83\\\\x82Ã\\x82\\\\x80 . Have tried their garden fresh pizza, chicken makhani platter and burger sliders.\\\\nThe food was really tasty. Worth a visit if around.\\\\nSeating place is ideal for small groups only .\\'), (\\'Rated 4.0\\', \\'RATED\\\\n  A nice place for beer lovers.\\\\nGreat ambiance, outdoor and indoor seating is available. Food was good. We ordered Dal Makhani, one burgers combo, a beer and lime soda.\\\\nThe food was good. Service was good, and the bill was good too, thanks to Zomato gold.\\\\nOverall a great place to catch up for small groups.\\'), (\\'Rated 3.0\\', \\'RATED\\\\n  The Beer Cafe probably has one of the largest selections of bottled beers. Their courtyard seating is always buzzing with activity. The interior seating however seems a little crammed especially so with the tables close to the door.\\\\n\\\\nI was happy to see the Geist craft beer. It was refreshing and cold. We just wanted some bar food to go with the beer. The classic wings had a vinegary sourness to them and the calcutta chilli chicken had a strong dose of ketchup.\\\\n\\\\nAmbiance 4/5\\\\nFood 2/5\\\\nBeer 4/5\\\\nBeer Selection 5/5\\\\nService 3/5\\'), (\\'Rated 4.0\\', \\'RATED\\\\n  Nice and quite place to chillout with nice ambience. Staff is polite and professional. Will definitely come back and is recommended. Keep up the good work.\\'), (\\'Rated 4.0\\', \\'RATED\\\\n  Often end up here whenever I am in the vicinity solely for the foodÃ\\x83\\\\x83Ã\\x82\\\\x83Ã\\x83\\\\x82Ã\\x82\\\\x83Ã\\x83\\\\x83Ã\\x82\\\\x82Ã\\x83\\\\x82Ã\\x82Â°Ã\\x83\\\\x83Ã\\x82\\\\x83Ã\\x83\\\\x82Ã\\x82\\\\x82Ã\\x83\\\\x83Ã\\x82\\\\x82Ã\\x83\\\\x82Ã\\x82\\\\x9fÃ\\x83\\\\x83Ã\\x82\\\\x83Ã\\x83\\\\x82Ã\\x82\\\\x82Ã\\x83\\\\x83Ã\\x82\\\\x82Ã\\x83\\\\x82Ã\\x82\\\\x98Ã\\x83\\\\x83Ã\\x82\\\\x83Ã\\x83\\\\x82Ã\\x82\\\\x82Ã\\x83\\\\x83Ã\\x82\\\\x82Ã\\x83\\\\x82Ã\\x82\\\\x80 . Have tried their garden fresh pizza, chicken makhani platter and burger sliders.\\\\nThe food was really tasty. Worth a visit if around.\\\\nSeating place is ideal for small groups only .\\'), (\\'Rated 4.0\\', \\'RATED\\\\n  A nice place for beer lovers.\\\\nGreat ambiance, outdoor and indoor seating is available. Food was good. We ordered Dal Makhani, one burgers combo, a beer and lime soda.\\\\nThe food was good. Service was good, and the bill was good too, thanks to Zomato gold.\\\\nOverall a great place to catch up for small groups.\\'), (\\'Rated 3.0\\', \\'RATED\\\\n  The Beer Cafe probably has one of the largest selections of bottled beers. Their courtyard seating is always buzzing with activity. The interior seating however seems a little crammed especially so with the tables close to the door.\\\\n\\\\nI was happy to see the Geist craft beer. It was refreshing and cold. We just wanted some bar food to go with the beer. The classic wings had a vinegary sourness to them and the calcutta chilli chicken had a strong dose of ketchup.\\\\n\\\\nAmbiance 4/5\\\\nFood 2/5\\\\nBeer 4/5\\\\nBeer Selection 5/5\\\\nService 3/5\\'), (\\'Rated 4.0\\', \\'RATED\\\\n  Nice and quite place to chillout with nice ambience. Staff is polite and professional. Will definitely come back and is recommended. Keep up the good work.\\'), (\\'Rated 4.0\\', \\'RATED\\\\n  Often end up here whenever I am in the vicinity solely for the foodÃ\\x83\\\\x83Ã\\x82\\\\x83Ã\\x83\\\\x82Ã\\x82\\\\x83Ã\\x83\\\\x83Ã\\x82\\\\x82Ã\\x83\\\\x82Ã\\x82Â°Ã\\x83\\\\x83Ã\\x82\\\\x83Ã\\x83\\\\x82Ã\\x82\\\\x82Ã\\x83\\\\x83Ã\\x82\\\\x82Ã\\x83\\\\x82Ã\\x82\\\\x9fÃ\\x83\\\\x83Ã\\x82\\\\x83Ã\\x83\\\\x82Ã\\x82\\\\x82Ã\\x83\\\\x83Ã\\x82\\\\x82Ã\\x83\\\\x82Ã\\x82\\\\x98Ã\\x83\\\\x83Ã\\x82\\\\x83Ã\\x83\\\\x82Ã\\x82\\\\x82Ã\\x83\\\\x83Ã\\x82\\\\x82Ã\\x83\\\\x82Ã\\x82\\\\x80 . Have tried their garden fresh pizza, chicken makhani platter and burger sliders.\\\\nThe food was really tasty. Worth a visit if around.\\\\nSeating place is ideal for small groups only .\\'), (\\'Rated 4.0\\', \\'RATED\\\\n  A nice place for beer lovers.\\\\nGreat ambiance, outdoor and indoor seating is available. Food was good. We ordered Dal Makhani, one burgers combo, a beer and lime soda.\\\\nThe food was good. Service was good, and the bill was good too, thanks to Zomato gold.\\\\nOverall a great place to catch up for small groups.\\'), (\\'Rated 3.0\\', \\'RATED\\\\n  The Beer Cafe probably has one of the largest selections of bottled beers. Their courtyard seating is always buzzing with activity. The interior seating however seems a little crammed especially so with the tables close to the door.\\\\n\\\\nI was happy to see the Geist craft beer. It was refreshing and cold. We just wanted some bar food to go with the beer. The classic wings had a vinegary sourness to them and the calcutta chilli chicken had a strong dose of ketchup.\\\\n\\\\nAmbiance 4/5\\\\nFood 2/5\\\\nBeer 4/5\\\\nBeer Selection 5/5\\\\nService 3/5\\'), (\\'Rated 4.0\\', \\'RATED\\\\n  Nice and quite place to chillout with nice ambience. Staff is polite and professional. Will definitely come back and is recommended. Keep up the good work.\\'), (\\'Rated 4.0\\', \\'RATED\\\\n  Often end up here whenever I am in the vicinity solely for the foodÃ\\x83\\\\x83Ã\\x82\\\\x83Ã\\x83\\\\x82Ã\\x82\\\\x83Ã\\x83\\\\x83Ã\\x82\\\\x82Ã\\x83\\\\x82Ã\\x82Â°Ã\\x83\\\\x83Ã\\x82\\\\x83Ã\\x83\\\\x82Ã\\x82\\\\x82Ã\\x83\\\\x83Ã\\x82\\\\x82Ã\\x83\\\\x82Ã\\x82\\\\x9fÃ\\x83\\\\x83Ã\\x82\\\\x83Ã\\x83\\\\x82Ã\\x82\\\\x82Ã\\x83\\\\x83Ã\\x82\\\\x82Ã\\x83\\\\x82Ã\\x82\\\\x98Ã\\x83\\\\x83Ã\\x82\\\\x83Ã\\x83\\\\x82Ã\\x82\\\\x82Ã\\x83\\\\x83Ã\\x82\\\\x82Ã\\x83\\\\x82Ã\\x82\\\\x80 . Have tried their garden fresh pizza, chicken makhani platter and burger sliders.\\\\nThe food was really tasty. Worth a visit if around.\\\\nSeating place is ideal for small groups only .\\'), (\\'Rated 4.0\\', \\'RATED\\\\n  A nice place for beer lovers.\\\\nGreat ambiance, outdoor and indoor seating is available. Food was good. We ordered Dal Makhani, one burgers combo, a beer and lime soda.\\\\nThe food was good. Service was good, and the bill was good too, thanks to Zomato gold.\\\\nOverall a great place to catch up for small groups.\\'), (\\'Rated 4.0\\', \"RATED\\\\n  Tired from all the shopping that you\\'ve done?? Worry not .. you can simply stroll into this place located right inside the VR mall. They have a seating arrangement outside the restaurant as well so you can happily chomp away your food while breathing in fresh air.\\\\nThe pepperoni pizza we ordered was hot, fresh and crisp. The service was pretty quick and the ambience was pretty cool as well.\\\\nHad a good experience here and would definitely want to revisit !\"), (\\'Rated 4.0\\', \"RATED\\\\n  Lovely place, must visit if you are visiting VR mall, cool ambience, scrumptious food, descent drinks and friendly staff. A must try dish is the hulk(veg platter) .Only thing I am not liking is the space here, it\\'s small cafe and the sitting area is not that comfortable.\"), (\\'Rated 3.0\\', \\'RATED\\\\n  Food- we were a group of 9 people and ordered the following- andey ka funda(well made, high salt content though. It was egg Bhurji on top of toast. Chicken wings- well made, kohliwada fried chicken- Overfried and due to this it became little bitter. Pasta arabiata lacked the taste. Too tangy for the palette.\\\\nAmbience- pretty similar like church street social furnitureÃ\\x83\\\\x83Ã\\x82\\\\x83Ã\\x83\\\\x82Ã\\x82\\\\x83Ã\\x83\\\\x83Ã\\x82\\\\x82Ã\\x83\\\\x82Ã\\x82Â¢Ã\\x83\\\\x83Ã\\x82\\\\x83Ã\\x83\\\\x82Ã\\x82\\\\x82Ã\\x83\\\\x83Ã\\x82\\\\x82Ã\\x83\\\\x82Ã\\x82\\\\x80Ã\\x83\\\\x83Ã\\x82\\\\x83Ã\\x83\\\\x82Ã\\x82\\\\x82Ã\\x83\\\\x83Ã\\x82\\\\x82Ã\\x83\\\\x82Ã\\x82\\\\x99s.. wood and steel.\\\\nCustomer service- Pretty slow. We had remind them 3 times to get the food as there were kids who were hungry\\\\nValue for money- Moderate. No idea why do they keep service charge inspire of governmentÃ\\x83\\\\x83Ã\\x82\\\\x83Ã\\x83\\\\x82Ã\\x82\\\\x83Ã\\x83\\\\x83Ã\\x82\\\\x82Ã\\x83\\\\x82Ã\\x82Â¢Ã\\x83\\\\x83Ã\\x82\\\\x83Ã\\x83\\\\x82Ã\\x82\\\\x82Ã\\x83\\\\x83Ã\\x82\\\\x82Ã\\x83\\\\x82Ã\\x82\\\\x80Ã\\x83\\\\x83Ã\\x82\\\\x83Ã\\x83\\\\x82Ã\\x82\\\\x82Ã\\x83\\\\x83Ã\\x82\\\\x82Ã\\x83\\\\x82Ã\\x82\\\\x99s mandate of 5% gst. Once you remind them then they say, upto you if you would like to pay or not. ItÃ\\x83\\\\x83Ã\\x82\\\\x83Ã\\x83\\\\x82Ã\\x82\\\\x83Ã\\x83\\\\x83Ã\\x82\\\\x82Ã\\x83\\\\x82Ã\\x82Â¢Ã\\x83\\\\x83Ã\\x82\\\\x83Ã\\x83\\\\x82Ã\\x82\\\\x82Ã\\x83\\\\x83Ã\\x82\\\\x82Ã\\x83\\\\x82Ã\\x82\\\\x80Ã\\x83\\\\x83Ã\\x82\\\\x83Ã\\x83\\\\x82Ã\\x82\\\\x82Ã\\x83\\\\x83Ã\\x82\\\\x82Ã\\x83\\\\x82Ã\\x82\\\\x99s a nice way of minting money from the customers\\'), (\\'Rated 3.0\\', \\'RATED\\\\n  Food : 3/5\\\\nDrinks : 4/5\\\\nService : 3/5\\\\nAmbiance : 4/5\\\\nValue for money : 3.5/5\\\\n\\\\nBeen here on a sunday evening. They didnt have place to be seated due to rain outside and too much crowd inside, but we were seated within 5mins. The servers were not able to provide service as we hoped. We had to ask them to get things like tissues, spoons, water. Overall we had nice time but it would have been better if servers were paying more attention to their customers.\\'), (\\'Rated 4.0\\', \"RATED\\\\n  Tired from all the shopping that you\\'ve done?? Worry not .. you can simply stroll into this place located right inside the VR mall. They have a seating arrangement outside the restaurant as well so you can happily chomp away your food while breathing in fresh air.\\\\nThe pepperoni pizza we ordered was hot, fresh and crisp. The service was pretty quick and the ambience was pretty cool as well.\\\\nHad a good experience here and would definitely want to revisit !\"), (\\'Rated 4.0\\', \"RATED\\\\n  Lovely place, must visit if you are visiting VR mall, cool ambience, scrumptious food, descent drinks and friendly staff. A must try dish is the hulk(veg platter) .Only thing I am not liking is the space here, it\\'s small cafe and the sitting area is not that comfortable.\"), (\\'Rated 3.0\\', \\'RATED\\\\n  Food- we were a group of 9 people and ordered the following- andey ka funda(well made, high salt content though. It was egg Bhurji on top of toast. Chicken wings- well made, kohliwada fried chicken- Overfried and due to this it became little bitter. Pasta arabiata lacked the taste. Too tangy for the palette.\\\\nAmbience- pretty similar like church street social furnitureÃ\\x83\\\\x83Ã\\x82\\\\x83Ã\\x83\\\\x82Ã\\x82\\\\x83Ã\\x83\\\\x83Ã\\x82\\\\x82Ã\\x83\\\\x82Ã\\x82Â¢Ã\\x83\\\\x83Ã\\x82\\\\x83Ã\\x83\\\\x82Ã\\x82\\\\x82Ã\\x83\\\\x83Ã\\x82\\\\x82Ã\\x83\\\\x82Ã\\x82\\\\x80Ã\\x83\\\\x83Ã\\x82\\\\x83Ã\\x83\\\\x82Ã\\x82\\\\x82Ã\\x83\\\\x83Ã\\x82\\\\x82Ã\\x83\\\\x82Ã\\x82\\\\x99s.. wood and steel.\\\\nCustomer service- Pretty slow. We had remind them 3 times to get the food as there were kids who were hungry\\\\nValue for money- Moderate. No idea why do they keep service charge inspire of governmentÃ\\x83\\\\x83Ã\\x82\\\\x83Ã\\x83\\\\x82Ã\\x82\\\\x83Ã\\x83\\\\x83Ã\\x82\\\\x82Ã\\x83\\\\x82Ã\\x82Â¢Ã\\x83\\\\x83Ã\\x82\\\\x83Ã\\x83\\\\x82Ã\\x82\\\\x82Ã\\x83\\\\x83Ã\\x82\\\\x82Ã\\x83\\\\x82Ã\\x82\\\\x80Ã\\x83\\\\x83Ã\\x82\\\\x83Ã\\x83\\\\x82Ã\\x82\\\\x82Ã\\x83\\\\x83Ã\\x82\\\\x82Ã\\x83\\\\x82Ã\\x82\\\\x99s mandate of 5% gst. Once you remind them then they say, upto you if you would like to pay or not. ItÃ\\x83\\\\x83Ã\\x82\\\\x83Ã\\x83\\\\x82Ã\\x82\\\\x83Ã\\x83\\\\x83Ã\\x82\\\\x82Ã\\x83\\\\x82Ã\\x82Â¢Ã\\x83\\\\x83Ã\\x82\\\\x83Ã\\x83\\\\x82Ã\\x82\\\\x82Ã\\x83\\\\x83Ã\\x82\\\\x82Ã\\x83\\\\x82Ã\\x82\\\\x80Ã\\x83\\\\x83Ã\\x82\\\\x83Ã\\x83\\\\x82Ã\\x82\\\\x82Ã\\x83\\\\x83Ã\\x82\\\\x82Ã\\x83\\\\x82Ã\\x82\\\\x99s a nice way of minting money from the customers\\'), (\\'Rated 3.0\\', \\'RATED\\\\n  Food : 3/5\\\\nDrinks : 4/5\\\\nService : 3/5\\\\nAmbiance : 4/5\\\\nValue for money : 3.5/5\\\\n\\\\nBeen here on a sunday evening. They didnt have place to be seated due to rain outside and too much crowd inside, but we were seated within 5mins. The servers were not able to provide service as we hoped. We had to ask them to get things like tissues, spoons, water. Overall we had nice time but it would have been better if servers were paying more attention to their customers.\\'), (\\'Rated 4.0\\', \"RATED\\\\n  Tired from all the shopping that you\\'ve done?? Worry not .. you can simply stroll into this place located right inside the VR mall. They have a seating arrangement outside the restaurant as well so you can happily chomp away your food while breathing in fresh air.\\\\nThe pepperoni pizza we ordered was hot, fresh and crisp. The service was pretty quick and the ambience was pretty cool as well.\\\\nHad a good experience here and would definitely want to revisit !\"), (\\'Rated 4.0\\', \"RATED\\\\n  Lovely place, must visit if you are visiting VR mall, cool ambience, scrumptious food, descent drinks and friendly staff. A must try dish is the hulk(veg platter) .Only thing I am not liking is the space here, it\\'s small cafe and the sitting area is not that comfortable.\"), (\\'Rated 3.0\\', \\'RATED\\\\n  Food- we were a group of 9 people and ordered the following- andey ka funda(well made, high salt content though. It was egg Bhurji on top of toast. Chicken wings- well made, kohliwada fried chicken- Overfried and due to this it became little bitter. Pasta arabiata lacked the taste. Too tangy for the palette.\\\\nAmbience- pretty similar like church street social furnitureÃ\\x83\\\\x83Ã\\x82\\\\x83Ã\\x83\\\\x82Ã\\x82\\\\x83Ã\\x83\\\\x83Ã\\x82\\\\x82Ã\\x83\\\\x82Ã\\x82Â¢Ã\\x83\\\\x83Ã\\x82\\\\x83Ã\\x83\\\\x82Ã\\x82\\\\x82Ã\\x83\\\\x83Ã\\x82\\\\x82Ã\\x83\\\\x82Ã\\x82\\\\x80Ã\\x83\\\\x83Ã\\x82\\\\x83Ã\\x83\\\\x82Ã\\x82\\\\x82Ã\\x83\\\\x83Ã\\x82\\\\x82Ã\\x83\\\\x82Ã\\x82\\\\x99s.. wood and steel.\\\\nCustomer service- Pretty slow. We had remind them 3 times to get the food as there were kids who were hungry\\\\nValue for money- Moderate. No idea why do they keep service charge inspire of governmentÃ\\x83\\\\x83Ã\\x82\\\\x83Ã\\x83\\\\x82Ã\\x82\\\\x83Ã\\x83\\\\x83Ã\\x82\\\\x82Ã\\x83\\\\x82Ã\\x82Â¢Ã\\x83\\\\x83Ã\\x82\\\\x83Ã\\x83\\\\x82Ã\\x82\\\\x82Ã\\x83\\\\x83Ã\\x82\\\\x82Ã\\x83\\\\x82Ã\\x82\\\\x80Ã\\x83\\\\x83Ã\\x82\\\\x83Ã\\x83\\\\x82Ã\\x82\\\\x82Ã\\x83\\\\x83Ã\\x82\\\\x82Ã\\x83\\\\x82Ã\\x82\\\\x99s mandate of 5% gst. Once you remind them then they say, upto you if you would like to pay or not. ItÃ\\x83\\\\x83Ã\\x82\\\\x83Ã\\x83\\\\x82Ã\\x82\\\\x83Ã\\x83\\\\x83Ã\\x82\\\\x82Ã\\x83\\\\x82Ã\\x82Â¢Ã\\x83\\\\x83Ã\\x82\\\\x83Ã\\x83\\\\x82Ã\\x82\\\\x82Ã\\x83\\\\x83Ã\\x82\\\\x82Ã\\x83\\\\x82Ã\\x82\\\\x80Ã\\x83\\\\x83Ã\\x82\\\\x83Ã\\x83\\\\x82Ã\\x82\\\\x82Ã\\x83\\\\x83Ã\\x82\\\\x82Ã\\x83\\\\x82Ã\\x82\\\\x99s a nice way of minting money from the customers\\'), (\\'Rated 3.0\\', \\'RATED\\\\n  Food : 3/5\\\\nDrinks : 4/5\\\\nService : 3/5\\\\nAmbiance : 4/5\\\\nValue for money : 3.5/5\\\\n\\\\nBeen here on a sunday evening. They didnt have place to be seated due to rain outside and too much crowd inside, but we were seated within 5mins. The servers were not able to provide service as we hoped. We had to ask them to get things like tissues, spoons, water. Overall we had nice time but it would have been better if servers were paying more attention to their customers.\\'), (\\'Rated 4.0\\', \"RATED\\\\n  Tired from all the shopping that you\\'ve done?? Worry not .. you can simply stroll into this place located right inside the VR mall. They have a seating arrangement outside the restaurant as well so you can happily chomp away your food while breathing in fresh air.\\\\nThe pepperoni pizza we ordered was hot, fresh and crisp. The service was pretty quick and the ambience was pretty cool as well.\\\\nHad a good experience here and would definitely want to revisit !\"), (\\'Rated 4.0\\', \"RATED\\\\n  Lovely place, must visit if you are visiting VR mall, cool ambience, scrumptious food, descent drinks and friendly staff. A must try dish is the hulk(veg platter) .Only thing I am not liking is the space here, it\\'s small cafe and the sitting area is not that comfortable.\"), (\\'Rated 3.0\\', \\'RATED\\\\n  Food- we were a group of 9 people and ordered the following- andey ka funda(well made, high salt content though. It was egg Bhurji on top of toast. Chicken wings- well made, kohliwada fried chicken- Overfried and due to this it became little bitter. Pasta arabiata lacked the taste. Too tangy for the palette.\\\\nAmbience- pretty similar like church street social furnitureÃ\\x83\\\\x83Ã\\x82\\\\x83Ã\\x83\\\\x82Ã\\x82\\\\x83Ã\\x83\\\\x83Ã\\x82\\\\x82Ã\\x83\\\\x82Ã\\x82Â¢Ã\\x83\\\\x83Ã\\x82\\\\x83Ã\\x83\\\\x82Ã\\x82\\\\x82Ã\\x83\\\\x83Ã\\x82\\\\x82Ã\\x83\\\\x82Ã\\x82\\\\x80Ã\\x83\\\\x83Ã\\x82\\\\x83Ã\\x83\\\\x82Ã\\x82\\\\x82Ã\\x83\\\\x83Ã\\x82\\\\x82Ã\\x83\\\\x82Ã\\x82\\\\x99s.. wood and steel.\\\\nCustomer service- Pretty slow. We had remind them 3 times to get the food as there were kids who were hungry\\\\nValue for money- Moderate. No idea why do they keep service charge inspire of governmentÃ\\x83\\\\x83Ã\\x82\\\\x83Ã\\x83\\\\x82Ã\\x82\\\\x83Ã\\x83\\\\x83Ã\\x82\\\\x82Ã\\x83\\\\x82Ã\\x82Â¢Ã\\x83\\\\x83Ã\\x82\\\\x83Ã\\x83\\\\x82Ã\\x82\\\\x82Ã\\x83\\\\x83Ã\\x82\\\\x82Ã\\x83\\\\x82Ã\\x82\\\\x80Ã\\x83\\\\x83Ã\\x82\\\\x83Ã\\x83\\\\x82Ã\\x82\\\\x82Ã\\x83\\\\x83Ã\\x82\\\\x82Ã\\x83\\\\x82Ã\\x82\\\\x99s mandate of 5% gst. Once you remind them then they say, upto you if you would like to pay or not. ItÃ\\x83\\\\x83Ã\\x82\\\\x83Ã\\x83\\\\x82Ã\\x82\\\\x83Ã\\x83\\\\x83Ã\\x82\\\\x82Ã\\x83\\\\x82Ã\\x82Â¢Ã\\x83\\\\x83Ã\\x82\\\\x83Ã\\x83\\\\x82Ã\\x82\\\\x82Ã\\x83\\\\x83Ã\\x82\\\\x82Ã\\x83\\\\x82Ã\\x82\\\\x80Ã\\x83\\\\x83Ã\\x82\\\\x83Ã\\x83\\\\x82Ã\\x82\\\\x82Ã\\x83\\\\x83Ã\\x82\\\\x82Ã\\x83\\\\x82Ã\\x82\\\\x99s a nice way of minting money from the customers\\'), (\\'Rated 3.0\\', \\'RATED\\\\n  Food : 3/5\\\\nDrinks : 4/5\\\\nService : 3/5\\\\nAmbiance : 4/5\\\\nValue for money : 3.5/5\\\\n\\\\nBeen here on a sunday evening. They didnt have place to be seated due to rain outside and too much crowd inside, but we were seated within 5mins. The servers were not able to provide service as we hoped. We had to ask them to get things like tissues, spoons, water. Overall we had nice time but it would have been better if servers were paying more attention to their customers.\\'), (\\'Rated 4.0\\', \\'RATED\\\\n  Ambience is good. Being a Sunday evening the service lagged a bit. The manager was a savior. Craft beer is good. Food quality is good. Burger tasted very yumm. The ocktober fest menu is very delightful, we had vegetable platter.\\\\nOverall a good place to unwind\\'), (\\'Rated 4.0\\', \\'RATED\\\\n  The best thing about this place is the ambience on a Saturday afternoon. ItÃ\\x83\\\\x83Ã\\x82\\\\x83Ã\\x83\\\\x82Ã\\x82\\\\x83Ã\\x83\\\\x83Ã\\x82\\\\x82Ã\\x83\\\\x82Ã\\x82Â¢Ã\\x83\\\\x83Ã\\x82\\\\x83Ã\\x83\\\\x82Ã\\x82\\\\x82Ã\\x83\\\\x83Ã\\x82\\\\x82Ã\\x83\\\\x82Ã\\x82\\\\x80Ã\\x83\\\\x83Ã\\x82\\\\x83Ã\\x83\\\\x82Ã\\x82\\\\x82Ã\\x83\\\\x83Ã\\x82\\\\x82Ã\\x83\\\\x82Ã\\x82\\\\x99s less crowded and you are served faster. I have ordered a dish of chicken sausages with mashed potato; it was better than what I have expected. I didnÃ\\x83\\\\x83Ã\\x82\\\\x83Ã\\x83\\\\x82Ã\\x82\\\\x83Ã\\x83\\\\x83Ã\\x82\\\\x82Ã\\x83\\\\x82Ã\\x82Â¢Ã\\x83\\\\x83Ã\\x82\\\\x83Ã\\x83\\\\x82Ã\\x82\\\\x82Ã\\x83\\\\x83Ã\\x82\\\\x82Ã\\x83\\\\x82Ã\\x82\\\\x80Ã\\x83\\\\x83Ã\\x82\\\\x83Ã\\x83\\\\x82Ã\\x82\\\\x82Ã\\x83\\\\x83Ã\\x82\\\\x82Ã\\x83\\\\x82Ã\\x82\\\\x99t like chicken spring rolls. It was a good experience though.\\'), (\\'Rated 5.0\\', \\'RATED\\\\n  A great place for awesome beer and long talks. Located in the left side of VR Bengaluru Mall, this place is ideal for indoor as well as outdoor seating. Staff here is highly courteous and serves well.\\\\nI ordered a Kingfisher Premium Pitcher which tasted lovely. I also ordered Stadium Style Nachos which were good and French Fries.\\\\nOverall an amazing place for gatherings.\\'), (\\'Rated 1.0\\', \\'RATED\\\\n  Bad service. Very bad service.\\\\n\\\\nWent there on a saturday night. Not crowded as the other ones and have exterior seating too. Not so scenic still good.\\\\n\\\\nThey have a big beer menu. All bottled and have fancy towes and some other blah blah stuff\\\\n\\\\nFood options and taste was not that good. We ordered onion rings, chicken wings, some steaks and burgers. All of them were like 2.5/5. Not really good but was ok.\\\\n\\\\nNOW THE SERVICE. It was very bad, pathetic actually. Nobody comes to the table on call. Your beer and food takes hours to reach you and their faces seem like we stole something from them when we ask for stuff we ordered.\\'), (\\'Rated 4.0\\', \\'RATED\\\\n  Amazing Place The best thing I liked about this place is their outside seating arrangement. One can enjoy the amazing weather of Bengaluru by sitting outside, which basically is kind of at the corner of VR mall. Coupled with Zomato Gold, the price of food gets very cheap. We ( 2 persons) managed to fill our stomach with just 750 rs (including 1 mug of beer each). We ordered Chilly chicken, 2 draught Beer and Chicken Gravy Masala with roti. \\\\n\\\\nThe food was really up to the mark and tasty.  \\\\n\\\\nSpecial Mention to their Chilly Chicken \\\\n\\\\nService : 4/5 - very courteous staff. \\\\nFood : 4/5 \\\\nAmbience : 5/5\\'), (\\'Rated 4.0\\', \\'RATED\\\\n  Ambience is good. Being a Sunday evening the service lagged a bit. The manager was a savior. Craft beer is good. Food quality is good. Burger tasted very yumm. The ocktober fest menu is very delightful, we had vegetable platter.\\\\nOverall a good place to unwind\\'), (\\'Rated 4.0\\', \\'RATED\\\\n  The best thing about this place is the ambience on a Saturday afternoon. ItÃ\\x83\\\\x83Ã\\x82\\\\x83Ã\\x83\\\\x82Ã\\x82\\\\x83Ã\\x83\\\\x83Ã\\x82\\\\x82Ã\\x83\\\\x82Ã\\x82Â¢Ã\\x83\\\\x83Ã\\x82\\\\x83Ã\\x83\\\\x82Ã\\x82\\\\x82Ã\\x83\\\\x83Ã\\x82\\\\x82Ã\\x83\\\\x82Ã\\x82\\\\x80Ã\\x83\\\\x83Ã\\x82\\\\x83Ã\\x83\\\\x82Ã\\x82\\\\x82Ã\\x83\\\\x83Ã\\x82\\\\x82Ã\\x83\\\\x82Ã\\x82\\\\x99s less crowded and you are served faster. I have ordered a dish of chicken sausages with mashed potato; it was better than what I have expected. I didnÃ\\x83\\\\x83Ã\\x82\\\\x83Ã\\x83\\\\x82Ã\\x82\\\\x83Ã\\x83\\\\x83Ã\\x82\\\\x82Ã\\x83\\\\x82Ã\\x82Â¢Ã\\x83\\\\x83Ã\\x82\\\\x83Ã\\x83\\\\x82Ã\\x82\\\\x82Ã\\x83\\\\x83Ã\\x82\\\\x82Ã\\x83\\\\x82Ã\\x82\\\\x80Ã\\x83\\\\x83Ã\\x82\\\\x83Ã\\x83\\\\x82Ã\\x82\\\\x82Ã\\x83\\\\x83Ã\\x82\\\\x82Ã\\x83\\\\x82Ã\\x82\\\\x99t like chicken spring rolls. It was a good experience though.\\'), (\\'Rated 5.0\\', \\'RATED\\\\n  A great place for awesome beer and long talks. Located in the left side of VR Bengaluru Mall, this place is ideal for indoor as well as outdoor seating. Staff here is highly courteous and serves well.\\\\nI ordered a Kingfisher Premium Pitcher which tasted lovely. I also ordered Stadium Style Nachos which were good and French Fries.\\\\nOverall an amazing place for gatherings.\\'), (\\'Rated 1.0\\', \\'RATED\\\\n  Bad service. Very bad service.\\\\n\\\\nWent there on a saturday night. Not crowded as the other ones and have exterior seating too. Not so scenic still good.\\\\n\\\\nThey have a big beer menu. All bottled and have fancy towes and some other blah blah stuff\\\\n\\\\nFood options and taste was not that good. We ordered onion rings, chicken wings, some steaks and burgers. All of them were like 2.5/5. Not really good but was ok.\\\\n\\\\nNOW THE SERVICE. It was very bad, pathetic actually. Nobody comes to the table on call. Your beer and food takes hours to reach you and their faces seem like we stole something from them when we ask for stuff we ordered.\\'), (\\'Rated 4.0\\', \\'RATED\\\\n  Amazing Place The best thing I liked about this place is their outside seating arrangement. One can enjoy the amazing weather of Bengaluru by sitting outside, which basically is kind of at the corner of VR mall. Coupled with Zomato Gold, the price of food gets very cheap. We ( 2 persons) managed to fill our stomach with just 750 rs (including 1 mug of beer each). We ordered Chilly chicken, 2 draught Beer and Chicken Gravy Masala with roti. \\\\n\\\\nThe food was really up to the mark and tasty.  \\\\n\\\\nSpecial Mention to their Chilly Chicken \\\\n\\\\nService : 4/5 - very courteous staff. \\\\nFood : 4/5 \\\\nAmbience : 5/5\\'), (\\'Rated 4.0\\', \\'RATED\\\\n  Ambience is good. Being a Sunday evening the service lagged a bit. The manager was a savior. Craft beer is good. Food quality is good. Burger tasted very yumm. The ocktober fest menu is very delightful, we had vegetable platter.\\\\nOverall a good place to unwind\\'), (\\'Rated 4.0\\', \\'RATED\\\\n  The best thing about this place is the ambience on a Saturday afternoon. ItÃ\\x83\\\\x83Ã\\x82\\\\x83Ã\\x83\\\\x82Ã\\x82\\\\x83Ã\\x83\\\\x83Ã\\x82\\\\x82Ã\\x83\\\\x82Ã\\x82Â¢Ã\\x83\\\\x83Ã\\x82\\\\x83Ã\\x83\\\\x82Ã\\x82\\\\x82Ã\\x83\\\\x83Ã\\x82\\\\x82Ã\\x83\\\\x82Ã\\x82\\\\x80Ã\\x83\\\\x83Ã\\x82\\\\x83Ã\\x83\\\\x82Ã\\x82\\\\x82Ã\\x83\\\\x83Ã\\x82\\\\x82Ã\\x83\\\\x82Ã\\x82\\\\x99s less crowded and you are served faster. I have ordered a dish of chicken sausages with mashed potato; it was better than what I have expected. I didnÃ\\x83\\\\x83Ã\\x82\\\\x83Ã\\x83\\\\x82Ã\\x82\\\\x83Ã\\x83\\\\x83Ã\\x82\\\\x82Ã\\x83\\\\x82Ã\\x82Â¢Ã\\x83\\\\x83Ã\\x82\\\\x83Ã\\x83\\\\x82Ã\\x82\\\\x82Ã\\x83\\\\x83Ã\\x82\\\\x82Ã\\x83\\\\x82Ã\\x82\\\\x80Ã\\x83\\\\x83Ã\\x82\\\\x83Ã\\x83\\\\x82Ã\\x82\\\\x82Ã\\x83\\\\x83Ã\\x82\\\\x82Ã\\x83\\\\x82Ã\\x82\\\\x99t like chicken spring rolls. It was a good experience though.\\'), (\\'Rated 5.0\\', \\'RATED\\\\n  A great place for awesome beer and long talks. Located in the left side of VR Bengaluru Mall, this place is ideal for indoor as well as outdoor seating. Staff here is highly courteous and serves well.\\\\nI ordered a Kingfisher Premium Pitcher which tasted lovely. I also ordered Stadium Style Nachos which were good and French Fries.\\\\nOverall an amazing place for gatherings.\\'), (\\'Rated 1.0\\', \\'RATED\\\\n  Bad service. Very bad service.\\\\n\\\\nWent there on a saturday night. Not crowded as the other ones and have exterior seating too. Not so scenic still good.\\\\n\\\\nThey have a big beer menu. All bottled and have fancy towes and some other blah blah stuff\\\\n\\\\nFood options and taste was not that good. We ordered onion rings, chicken wings, some steaks and burgers. All of them were like 2.5/5. Not really good but was ok.\\\\n\\\\nNOW THE SERVICE. It was very bad, pathetic actually. Nobody comes to the table on call. Your beer and food takes hours to reach you and their faces seem like we stole something from them when we ask for stuff we ordered.\\'), (\\'Rated 4.0\\', \\'RATED\\\\n  Amazing Place The best thing I liked about this place is their outside seating arrangement. One can enjoy the amazing weather of Bengaluru by sitting outside, which basically is kind of at the corner of VR mall. Coupled with Zomato Gold, the price of food gets very cheap. We ( 2 persons) managed to fill our stomach with just 750 rs (including 1 mug of beer each). We ordered Chilly chicken, 2 draught Beer and Chicken Gravy Masala with roti. \\\\n\\\\nThe food was really up to the mark and tasty.  \\\\n\\\\nSpecial Mention to their Chilly Chicken \\\\n\\\\nService : 4/5 - very courteous staff. \\\\nFood : 4/5 \\\\nAmbience : 5/5\\'), (\\'Rated 5.0\\', \\'RATED\\\\n  Beer cafe ,VR Bengaluru\\\\nBeen here a few times , small place , good options of beer\\\\nOne of the few places in Whitefield which serve Budweiser draught beer\\\\nThe ambience is ok\\\\nService is little slow ,but friendly staff\\\\nFood is good too , no complaints there\\\\nZomato gold on food makes it pocket friendly .\\'), (\\'Rated 2.0\\', \\'RATED\\\\n  For a place with a name like beer cafe, I would expect them to have stock of popular varients of beer. But no. Food is meh. Service is God damn slow.\\'), (\\'Rated 5.0\\', \"RATED\\\\n  Small but nice ambience, friendly staff, varieties in beer and yummy pizzas make this beer cafe amazing place to sit n drink .. service is good especially Rajen is very courteous n friendly .. overall it\\'s a highly recommended place to all beer lovers ..\"), (\\'Rated 3.0\\', \"RATED\\\\n  The place small however it\\'s has all verities of beer which is great .We were visited here on Sunday afternoon where number of people in the restaurant less and it was not that crowded.\\\\n\\\\nI can rate beer @ 5 star however food is not up to the mark. Whoever likes to test different beers from around the world this is the place is must go.\\\\n\\\\nFood :3/5\\\\nDrinks:5/5\\\\nAmbiance:3.5/5\"), (\\'Rated 3.0\\', \\'RATED\\\\n  Situated in the ground floor of VR mall Mahadevapura, Beer cafe is a small pub. To be honest it is really small, although they have outdoor sitting but in case of downpour there wonÃ\\x83\\\\x83Ã\\x82\\\\x83Ã\\x83\\\\x82Ã\\x82\\\\x83Ã\\x83\\\\x83Ã\\x82\\\\x82Ã\\x83\\\\x82Ã\\x82Â¢Ã\\x83\\\\x83Ã\\x82\\\\x83Ã\\x83\\\\x82Ã\\x82\\\\x82Ã\\x83\\\\x83Ã\\x82\\\\x82Ã\\x83\\\\x82Ã\\x82\\\\x80Ã\\x83\\\\x83Ã\\x82\\\\x83Ã\\x83\\\\x82Ã\\x82\\\\x82Ã\\x83\\\\x83Ã\\x82\\\\x82Ã\\x83\\\\x82Ã\\x82\\\\x99t be much room to relax.\\\\nSo, as per my experience service was really slow and hence the 3 star.\\\\nMy friends like their orange flavoured wheat beer whereas I was happy with my fresh lime soda Ã\\x83\\\\x83Ã\\x82\\\\x83Ã\\x83\\\\x82Ã\\x82\\\\x83Ã\\x83\\\\x83Ã\\x82\\\\x82Ã\\x83\\\\x82Ã\\x82Â°Ã\\x83\\\\x83Ã\\x82\\\\x83Ã\\x83\\\\x82Ã\\x82\\\\x82Ã\\x83\\\\x83Ã\\x82\\\\x82Ã\\x83\\\\x82Ã\\x82\\\\x9fÃ\\x83\\\\x83Ã\\x82\\\\x83Ã\\x83\\\\x82Ã\\x82\\\\x82Ã\\x83\\\\x83Ã\\x82\\\\x82Ã\\x83\\\\x82Ã\\x82\\\\x98Ã\\x83\\\\x83Ã\\x82\\\\x83Ã\\x83\\\\x82Ã\\x82\\\\x82Ã\\x83\\\\x83Ã\\x82\\\\x82Ã\\x83\\\\x82Ã\\x82Â¬. Food menu is very limited for vegetarian and starters in particular was disappointing for me.\\'), (\\'Rated 5.0\\', \\'RATED\\\\n  Beer cafe ,VR Bengaluru\\\\nBeen here a few times , small place , good options of beer\\\\nOne of the few places in Whitefield which serve Budweiser draught beer\\\\nThe ambience is ok\\\\nService is little slow ,but friendly staff\\\\nFood is good too , no complaints there\\\\nZomato gold on food makes it pocket friendly .\\'), (\\'Rated 2.0\\', \\'RATED\\\\n  For a place with a name like beer cafe, I would expect them to have stock of popular varients of beer. But no. Food is meh. Service is God damn slow.\\'), (\\'Rated 5.0\\', \"RATED\\\\n  Small but nice ambience, friendly staff, varieties in beer and yummy pizzas make this beer cafe amazing place to sit n drink .. service is good especially Rajen is very courteous n friendly .. overall it\\'s a highly recommended place to all beer lovers ..\"), (\\'Rated 3.0\\', \"RATED\\\\n  The place small however it\\'s has all verities of beer which is great .We were visited here on Sunday afternoon where number of people in the restaurant less and it was not that crowded.\\\\n\\\\nI can rate beer @ 5 star however food is not up to the mark. Whoever likes to test different beers from around the world this is the place is must go.\\\\n\\\\nFood :3/5\\\\nDrinks:5/5\\\\nAmbiance:3.5/5\"), (\\'Rated 3.0\\', \\'RATED\\\\n  Situated in the ground floor of VR mall Mahadevapura, Beer cafe is a small pub. To be honest it is really small, although they have outdoor sitting but in case of downpour there wonÃ\\x83\\\\x83Ã\\x82\\\\x83Ã\\x83\\\\x82Ã\\x82\\\\x83Ã\\x83\\\\x83Ã\\x82\\\\x82Ã\\x83\\\\x82Ã\\x82Â¢Ã\\x83\\\\x83Ã\\x82\\\\x83Ã\\x83\\\\x82Ã\\x82\\\\x82Ã\\x83\\\\x83Ã\\x82\\\\x82Ã\\x83\\\\x82Ã\\x82\\\\x80Ã\\x83\\\\x83Ã\\x82\\\\x83Ã\\x83\\\\x82Ã\\x82\\\\x82Ã\\x83\\\\x83Ã\\x82\\\\x82Ã\\x83\\\\x82Ã\\x82\\\\x99t be much room to relax.\\\\nSo, as per my experience service was really slow and hence the 3 star.\\\\nMy friends like their orange flavoured wheat beer whereas I was happy with my fresh lime soda Ã\\x83\\\\x83Ã\\x82\\\\x83Ã\\x83\\\\x82Ã\\x82\\\\x83Ã\\x83\\\\x83Ã\\x82\\\\x82Ã\\x83\\\\x82Ã\\x82Â°Ã\\x83\\\\x83Ã\\x82\\\\x83Ã\\x83\\\\x82Ã\\x82\\\\x82Ã\\x83\\\\x83Ã\\x82\\\\x82Ã\\x83\\\\x82Ã\\x82\\\\x9fÃ\\x83\\\\x83Ã\\x82\\\\x83Ã\\x83\\\\x82Ã\\x82\\\\x82Ã\\x83\\\\x83Ã\\x82\\\\x82Ã\\x83\\\\x82Ã\\x82\\\\x98Ã\\x83\\\\x83Ã\\x82\\\\x83Ã\\x83\\\\x82Ã\\x82\\\\x82Ã\\x83\\\\x83Ã\\x82\\\\x82Ã\\x83\\\\x82Ã\\x82Â¬. Food menu is very limited for vegetarian and starters in particular was disappointing for me.\\'), (\\'Rated 5.0\\', \\'RATED\\\\n  Beer cafe ,VR Bengaluru\\\\nBeen here a few times , small place , good options of beer\\\\nOne of the few places in Whitefield which serve Budweiser draught beer\\\\nThe ambience is ok\\\\nService is little slow ,but friendly staff\\\\nFood is good too , no complaints there\\\\nZomato gold on food makes it pocket friendly .\\'), (\\'Rated 2.0\\', \\'RATED\\\\n  For a place with a name like beer cafe, I would expect them to have stock of popular varients of beer. But no. Food is meh. Service is God damn slow.\\'), (\\'Rated 5.0\\', \"RATED\\\\n  Small but nice ambience, friendly staff, varieties in beer and yummy pizzas make this beer cafe amazing place to sit n drink .. service is good especially Rajen is very courteous n friendly .. overall it\\'s a highly recommended place to all beer lovers ..\"), (\\'Rated 3.0\\', \"RATED\\\\n  The place small however it\\'s has all verities of beer which is great .We were visited here on Sunday afternoon where number of people in the restaurant less and it was not that crowded.\\\\n\\\\nI can rate beer @ 5 star however food is not up to the mark. Whoever likes to test different beers from around the world this is the place is must go.\\\\n\\\\nFood :3/5\\\\nDrinks:5/5\\\\nAmbiance:3.5/5\"), (\\'Rated 3.0\\', \\'RATED\\\\n  Situated in the ground floor of VR mall Mahadevapura, Beer cafe is a small pub. To be honest it is really small, although they have outdoor sitting but in case of downpour there wonÃ\\x83\\\\x83Ã\\x82\\\\x83Ã\\x83\\\\x82Ã\\x82\\\\x83Ã\\x83\\\\x83Ã\\x82\\\\x82Ã\\x83\\\\x82Ã\\x82Â¢Ã\\x83\\\\x83Ã\\x82\\\\x83Ã\\x83\\\\x82Ã\\x82\\\\x82Ã\\x83\\\\x83Ã\\x82\\\\x82Ã\\x83\\\\x82Ã\\x82\\\\x80Ã\\x83\\\\x83Ã\\x82\\\\x83Ã\\x83\\\\x82Ã\\x82\\\\x82Ã\\x83\\\\x83Ã\\x82\\\\x82Ã\\x83\\\\x82Ã\\x82\\\\x99t be much room to relax.\\\\nSo, as per my experience service was really slow and hence the 3 star.\\\\nMy friends like their orange flavoured wheat beer whereas I was happy with my fresh lime soda Ã\\x83\\\\x83Ã\\x82\\\\x83Ã\\x83\\\\x82Ã\\x82\\\\x83Ã\\x83\\\\x83Ã\\x82\\\\x82Ã\\x83\\\\x82Ã\\x82Â°Ã\\x83\\\\x83Ã\\x82\\\\x83Ã\\x83\\\\x82Ã\\x82\\\\x82Ã\\x83\\\\x83Ã\\x82\\\\x82Ã\\x83\\\\x82Ã\\x82\\\\x9fÃ\\x83\\\\x83Ã\\x82\\\\x83Ã\\x83\\\\x82Ã\\x82\\\\x82Ã\\x83\\\\x83Ã\\x82\\\\x82Ã\\x83\\\\x82Ã\\x82\\\\x98Ã\\x83\\\\x83Ã\\x82\\\\x83Ã\\x83\\\\x82Ã\\x82\\\\x82Ã\\x83\\\\x83Ã\\x82\\\\x82Ã\\x83\\\\x82Ã\\x82Â¬. Food menu is very limited for vegetarian and starters in particular was disappointing for me.\\'), (\\'Rated 3.0\\', \"RATED\\\\n  It\\'s a good place. The ambience created using beer bottles is great however the place is small and cramped so u cannot enjoy the place. The choices of beer is great but food is Lil disappointing. They lack in providing much options. The snacks I ordered were only n lacked crispiness. On the whole it\\'s a place to try.\"), (\\'Rated 1.0\\', \\'RATED\\\\n  Over atrocious place . A place where you should not go second time to say the least . People here have no knowledge about the food they have in their menu . They donÃ\\x83\\\\x83Ã\\x82\\\\x83Ã\\x83\\\\x82Ã\\x82\\\\x83Ã\\x83\\\\x83Ã\\x82\\\\x82Ã\\x83\\\\x82Ã\\x82Â¢Ã\\x83\\\\x83Ã\\x82\\\\x83Ã\\x83\\\\x82Ã\\x82\\\\x82Ã\\x83\\\\x83Ã\\x82\\\\x82Ã\\x83\\\\x82Ã\\x82\\\\x80Ã\\x83\\\\x83Ã\\x82\\\\x83Ã\\x83\\\\x82Ã\\x82\\\\x82Ã\\x83\\\\x83Ã\\x82\\\\x82Ã\\x83\\\\x82Ã\\x82\\\\x99t know how to make a baad Maggi ( we had to order these as one of my friend wanted to have ) apart from that all starters were useless and without taste . Road side wine shops are better than this . And who gave them the place to set up in VR mall . Beer is not at all good and the person there will say this beer not available whatever you ask. For . I will strongly recommend not to go there and waste your precious money . Food takes much longer time to be served which should not be an ideal case in a bar or any other beer cafe.\\'), (\\'Rated 5.0\\', \\'RATED\\\\n  Very chilled out place, go with friends or alone. Nice food and drinks are reasonably priced. Should try french fries, egg burji and also the pizzas. Outside sitting is recommended.\\'), (\\'Rated 5.0\\', \\'RATED\\\\n  The first thing that hits you when you enter is the quaintness\\\\nLove the way it is done up and innovative ideas in terms of beer and what to choose\\\\nSuperb location too right guy at the entrance of the mall with out door and indoor setting\\\\nBest way to get out battery charger after a shopping spree\\\\nWe had the Get at and regular beer on tap\\\\nThe onion rings and potato skins were too yum\\\\nService great\\\\nMusic good\\\\nFood and beer yum\\\\nThank you Rajeev for serving is and giving us a good time\\')]'\n",
      " '[(\\'Rated 4.0\\', \\'RATED\\\\n  A good place to dine. Very friendly staff and the management as well. Food is good too. Ambience is soothing and the music is a great add on to that place. Plus they screen matches as well which is great for a sports fan.\\'), (\\'Rated 4.0\\', \\'RATED\\\\n  This place is huge! Fooled by the entrance, I didnt expect the place to be large. No issues finding a table :P\\\\n\\\\nThe service here is good, we were well attended to and the servers kept a good eye on the water levels in our glass. The food however took some time to get ready after order.\\\\n\\\\nThey have a good selection of food, I liked the food here. Alcohol here is reasonably priced. Bacon was a let down though, it was very salty.\\'), (\\'Rated 4.0\\', \\'RATED\\\\n  Went to this place on Sunday afternoon it was empty. We were the only guest available there. Food was great and Alcoholic drinks had one plus one offer.\\\\nWe asked for Axis bank discount of 15% as mentioned in the Zomato application but they refused. Apart from this it was great place to hang out.\\'), (\\'Rated 3.0\\', \"RATED\\\\n  We went to this place for sort of after party, from some nearby place. We didn\\'t ate much...had beers and french fries.\\\\nWhen we entered, we sort of liked this place majorly coz of some open space and live music; but then service here was pathetic..we have to wait for more than 10 mins just for someone to attend us and take order and it seemed that waiters were least bothered about it.\\\\n\\\\nI wanted to give this place 2/5; but then just coz I liked the atmosphere and live music...I am going with 3/5.\"), (\\'Rated 3.0\\', \\'RATED\\\\n  Had visited this place on Saturday evening.tried diffetent beers.chilli beer was okay but cucumber was way too bad.ambience was pretty nice.hated the pesto pizza corn was really great!\\'), (\\'Rated 2.0\\', \"RATED\\\\n  What started as a good evening ended as an average experience! This is a spacious , open ambience setup which went fabulously well with the awesome music but their food and customer service dampened our spirits. Our order for chicken steak came out as a totally different recipe (one in menu was different) and they didn\\'t offer any apologies or something to the mistake, instead made us wait for over 20 minutes for a rehash of the same dish. These guys need a tutorial on customer service!\"), (\\'Rated 5.0\\', \\'RATED\\\\n  I like this place so much because of its ambience more. This is my 4th visit to PabloÃ\\x83\\\\x83Ã\\x82\\\\x83Ã\\x83\\\\x82Ã\\x82\\\\x83Ã\\x83\\\\x83Ã\\x82\\\\x82Ã\\x83\\\\x82Ã\\x82Â¢Ã\\x83\\\\x83Ã\\x82\\\\x83Ã\\x83\\\\x82Ã\\x82\\\\x82Ã\\x83\\\\x83Ã\\x82\\\\x82Ã\\x83\\\\x82Ã\\x82\\\\x80Ã\\x83\\\\x83Ã\\x82\\\\x83Ã\\x83\\\\x82Ã\\x82\\\\x82Ã\\x83\\\\x83Ã\\x82\\\\x82Ã\\x83\\\\x82Ã\\x82\\\\x99s and every time I liked this place. If you like karaoke then please plan to PabloÃ\\x83\\\\x83Ã\\x82\\\\x83Ã\\x83\\\\x82Ã\\x82\\\\x83Ã\\x83\\\\x83Ã\\x82\\\\x82Ã\\x83\\\\x82Ã\\x82Â¢Ã\\x83\\\\x83Ã\\x82\\\\x83Ã\\x83\\\\x82Ã\\x82\\\\x82Ã\\x83\\\\x83Ã\\x82\\\\x82Ã\\x83\\\\x82Ã\\x82\\\\x80Ã\\x83\\\\x83Ã\\x82\\\\x83Ã\\x83\\\\x82Ã\\x82\\\\x82Ã\\x83\\\\x83Ã\\x82\\\\x82Ã\\x83\\\\x82Ã\\x82\\\\x99s on Friday night. And definitely you will enjoy your Friday night. They served hooka as well, that add an additional attraction to this place. Coming to food, no doubt all the dishes here is so tasty. Chilli chicken was so yummy. We applied our zomato gold and we got offered on drink (2+2). Overall experience was nice.\\'), (\\'Rated 4.0\\', \\'RATED\\\\n  I only look for good food and courteous staff because I think everything else depends on your company. So, its fist bump for both these qualities for this place. I ordered Cheese balls, garlic cheese poppers, beer battered onion rings for the starters plus Peach and Passion fruit Iced tea.\\\\nFor main course, I ordered Spanish rice with paneer steak. Everything was yum, exactly how I like it. Give it a guys!!\\'), (\\'Rated 4.0\\', \\'RATED\\\\n  A place where you really want to hop around with your friends and chill out. I went here at Saturday night and yes it was amazing for me. Good food and a music made us all set and I really enjoyed a lot with my friends.\\\\n#foodiesapien\\\\nFollow me on youtube : Foodie Sapien\\\\nInstagram : manishpushkar\\'), (\\'Rated 4.0\\', \"RATED\\\\n  Visited this place on a Saturday late evening. From the outside though there is a huge hoarding and everything it totally doesn\\'t prepare you for what\\'s in store inside. The place is quite massive with huge seating area. It\\'s a good place for watching matches too as there are a couple of giant screens there. We (a group of 5) got a place almost immediately on reaching and let me tell you that place was quite crowded but it\\'s the widespread seating area that made it possible. For food we tried a couple of starters both of which were good. Coming to drinks we stuck to the age old cocktails. Whiskey sour and liit. Both of which were concentrated and one of them was enough to get you buzzed. The staff was prompt and helpful as well.\\\\nOverall a good experience.\\\\nHoping to try out more from the food menu the next time I visit. Ã\\x83\\\\x83Ã\\x82\\\\x83Ã\\x83\\\\x82Ã\\x82\\\\x83Ã\\x83\\\\x83Ã\\x82\\\\x82Ã\\x83\\\\x82Ã\\x82Â°Ã\\x83\\\\x83Ã\\x82\\\\x83Ã\\x83\\\\x82Ã\\x82\\\\x82Ã\\x83\\\\x83Ã\\x82\\\\x82Ã\\x83\\\\x82Ã\\x82\\\\x9fÃ\\x83\\\\x83Ã\\x82\\\\x83Ã\\x83\\\\x82Ã\\x82\\\\x82Ã\\x83\\\\x83Ã\\x82\\\\x82Ã\\x83\\\\x82Ã\\x82\\\\x98Ã\\x83\\\\x83Ã\\x82\\\\x83Ã\\x83\\\\x82Ã\\x82\\\\x82Ã\\x83\\\\x83Ã\\x82\\\\x82Ã\\x83\\\\x82Ã\\x82\\\\x81\"), (\\'Rated 2.0\\', \\'RATED\\\\n  Having heard from a lot of my friends that itÃ\\x83\\\\x83Ã\\x82\\\\x83Ã\\x83\\\\x82Ã\\x82\\\\x83Ã\\x83\\\\x83Ã\\x82\\\\x82Ã\\x83\\\\x82Ã\\x82Â¢Ã\\x83\\\\x83Ã\\x82\\\\x83Ã\\x83\\\\x82Ã\\x82\\\\x82Ã\\x83\\\\x83Ã\\x82\\\\x82Ã\\x83\\\\x82Ã\\x82\\\\x80Ã\\x83\\\\x83Ã\\x82\\\\x83Ã\\x83\\\\x82Ã\\x82\\\\x82Ã\\x83\\\\x83Ã\\x82\\\\x82Ã\\x83\\\\x82Ã\\x82\\\\x99s a great Ã\\x83\\\\x83Ã\\x82\\\\x83Ã\\x83\\\\x82Ã\\x82\\\\x83Ã\\x83\\\\x83Ã\\x82\\\\x82Ã\\x83\\\\x82Ã\\x82Â¢Ã\\x83\\\\x83Ã\\x82\\\\x83Ã\\x83\\\\x82Ã\\x82\\\\x82Ã\\x83\\\\x83Ã\\x82\\\\x82Ã\\x83\\\\x82Ã\\x82\\\\x80Ã\\x83\\\\x83Ã\\x82\\\\x83Ã\\x83\\\\x82Ã\\x82\\\\x82Ã\\x83\\\\x83Ã\\x82\\\\x82Ã\\x83\\\\x82Ã\\x82\\\\x9changoutÃ\\x83\\\\x83Ã\\x82\\\\x83Ã\\x83\\\\x82Ã\\x82\\\\x83Ã\\x83\\\\x83Ã\\x82\\\\x82Ã\\x83\\\\x82Ã\\x82Â¢Ã\\x83\\\\x83Ã\\x82\\\\x83Ã\\x83\\\\x82Ã\\x82\\\\x82Ã\\x83\\\\x83Ã\\x82\\\\x82Ã\\x83\\\\x82Ã\\x82\\\\x80Ã\\x83\\\\x83Ã\\x82\\\\x83Ã\\x83\\\\x82Ã\\x82\\\\x82Ã\\x83\\\\x83Ã\\x82\\\\x82Ã\\x83\\\\x82Ã\\x82\\\\x9d, finally decided to visit for a lazy Thursday dinner and was rather disappointed. The place looked very dull, even with half of it occupied - the music was okay but definitely reminded me of my high school playlist. The food is nothing to write home about, the beers are good though but the cocktails are meh. I donÃ\\x83\\\\x83Ã\\x82\\\\x83Ã\\x83\\\\x82Ã\\x82\\\\x83Ã\\x83\\\\x83Ã\\x82\\\\x82Ã\\x83\\\\x82Ã\\x82Â¢Ã\\x83\\\\x83Ã\\x82\\\\x83Ã\\x83\\\\x82Ã\\x82\\\\x82Ã\\x83\\\\x83Ã\\x82\\\\x82Ã\\x83\\\\x82Ã\\x82\\\\x80Ã\\x83\\\\x83Ã\\x82\\\\x83Ã\\x83\\\\x82Ã\\x82\\\\x82Ã\\x83\\\\x83Ã\\x82\\\\x82Ã\\x83\\\\x82Ã\\x82\\\\x99t think IÃ\\x83\\\\x83Ã\\x82\\\\x83Ã\\x83\\\\x82Ã\\x82\\\\x83Ã\\x83\\\\x83Ã\\x82\\\\x82Ã\\x83\\\\x82Ã\\x82Â¢Ã\\x83\\\\x83Ã\\x82\\\\x83Ã\\x83\\\\x82Ã\\x82\\\\x82Ã\\x83\\\\x83Ã\\x82\\\\x82Ã\\x83\\\\x82Ã\\x82\\\\x80Ã\\x83\\\\x83Ã\\x82\\\\x83Ã\\x83\\\\x82Ã\\x82\\\\x82Ã\\x83\\\\x83Ã\\x82\\\\x82Ã\\x83\\\\x82Ã\\x82\\\\x99d be heading back soon considering the fact that there are a lot more places around we would rather go to.\\\\n\\\\nAmbience : 2.5/5\\\\nFood : 2.5/5\\\\nPricing : 2.5/5\\\\nService : 3/5\\\\nVariety : 3/5\\'), (\\'Rated 4.0\\', \\'RATED\\\\n  Been here several times. Yes, it is an after office relief, especially on Fridays. Food here is good. The starters(nachos, cheese balls, wings) are great and go well with the drinks. The main course is decent too. Try the burgers for sure. The only downside here I feel is the lack of a brewery. It could have been so much better then. Hope it gets one soon.\\'), (\\'Rated 3.0\\', \"RATED\\\\n  I visited the place on a Sunday...it\\'s located rgt next to biergarten..coming to the place...it\\'s night but the ambience is a bit dull...I found the energy lacking...crowd was also bit less...coming to the food, ordered peanut masala, bruschetta, chilli chicken and chicken tikka..chicken tikka was good and rest items were decent...what spoils the rating are the drinks, I thought they were too diluted..had LIIT and whiskey sour and both were not upto the mark..used Zomato gold for the drinks...service is decent...to sum it up, it\\'s a decent place, food is good but they need to work on the drinks...\"), (\\'Rated 3.0\\', \\'RATED\\\\n  I went to this place on a Thursday evening with few friends. The place looked gloomy and we were the only people in it.\\\\nIts ambience gave feel of the shacks of Goa.\\\\nThey were not serving beer that day which explained why it was so empty.\\\\n\\\\nWe ordered only paneer chilli which was decent.\\'), (\\'Rated 4.0\\', \\'RATED\\\\n  Loved the ambience here\\\\nVery lively crowd\\\\nHad shots here and lemon iced tea which was really good\\\\nGood customer service provided\\\\nWould definitely visit this place again\\'), (\\'Rated 3.0\\', \"RATED\\\\n  Amazing place for music,food,drinks and Karaoke. Getting a table is a big task on a Friday which looks the day the place makes most business. Location is close by to ITPl hnev draws big crowd which means only Regulars are given preference to tables when compared to may be first timers though both may have no booking done prior to the visit so be ready to stand near other table\\'s or near bar for a long time before you get your own table here. Music gets shut almost at 1030 which is a big let-down as places in Indiranagar or Koramangala play almost an hour more. They really need to work on bills as we had almost 20% of the items not pertaining to our table but was added into our bill,watch out for this when you pay.\"), (\\'Rated 3.0\\', \"RATED\\\\n  Decent place. Service can be improved. Dull on weekdays. Music needs major revamp. Hookah isn\\'t up to the mark. Matches are screened.\\\\n\\\\nAmbience-4/5\\\\nF&B-3/5\\\\nHospitality-3/5\"), (\\'Rated 3.0\\', \"RATED\\\\n  I visited the place on a Sunday...it\\'s located rgt next to biergarten..coming to the place...it\\'s night but the ambience is a bit dull...I found the energy lacking...crowd was also bit less...coming to the food, ordered peanut masala, bruschetta, chilli chicken and chicken tikka..chicken tikka was good and rest items were decent...what spoils the rating are the drinks, I thought they were too diluted..had LIIT and whiskey sour and both were not upto the mark..used Zomato gold for the drinks...service is decent...to sum it up, it\\'s a decent place, food is good but they need to work on the drinks...\"), (\\'Rated 3.0\\', \\'RATED\\\\n  I went to this place on a Thursday evening with few friends. The place looked gloomy and we were the only people in it.\\\\nIts ambience gave feel of the shacks of Goa.\\\\nThey were not serving beer that day which explained why it was so empty.\\\\n\\\\nWe ordered only paneer chilli which was decent.\\'), (\\'Rated 4.0\\', \\'RATED\\\\n  Loved the ambience here\\\\nVery lively crowd\\\\nHad shots here and lemon iced tea which was really good\\\\nGood customer service provided\\\\nWould definitely visit this place again\\'), (\\'Rated 3.0\\', \"RATED\\\\n  Amazing place for music,food,drinks and Karaoke. Getting a table is a big task on a Friday which looks the day the place makes most business. Location is close by to ITPl hnev draws big crowd which means only Regulars are given preference to tables when compared to may be first timers though both may have no booking done prior to the visit so be ready to stand near other table\\'s or near bar for a long time before you get your own table here. Music gets shut almost at 1030 which is a big let-down as places in Indiranagar or Koramangala play almost an hour more. They really need to work on bills as we had almost 20% of the items not pertaining to our table but was added into our bill,watch out for this when you pay.\"), (\\'Rated 3.0\\', \"RATED\\\\n  Decent place. Service can be improved. Dull on weekdays. Music needs major revamp. Hookah isn\\'t up to the mark. Matches are screened.\\\\n\\\\nAmbience-4/5\\\\nF&B-3/5\\\\nHospitality-3/5\"), (\\'Rated 3.0\\', \"RATED\\\\n  I visited the place on a Sunday...it\\'s located rgt next to biergarten..coming to the place...it\\'s night but the ambience is a bit dull...I found the energy lacking...crowd was also bit less...coming to the food, ordered peanut masala, bruschetta, chilli chicken and chicken tikka..chicken tikka was good and rest items were decent...what spoils the rating are the drinks, I thought they were too diluted..had LIIT and whiskey sour and both were not upto the mark..used Zomato gold for the drinks...service is decent...to sum it up, it\\'s a decent place, food is good but they need to work on the drinks...\"), (\\'Rated 3.0\\', \\'RATED\\\\n  I went to this place on a Thursday evening with few friends. The place looked gloomy and we were the only people in it.\\\\nIts ambience gave feel of the shacks of Goa.\\\\nThey were not serving beer that day which explained why it was so empty.\\\\n\\\\nWe ordered only paneer chilli which was decent.\\'), (\\'Rated 4.0\\', \\'RATED\\\\n  Loved the ambience here\\\\nVery lively crowd\\\\nHad shots here and lemon iced tea which was really good\\\\nGood customer service provided\\\\nWould definitely visit this place again\\'), (\\'Rated 3.0\\', \"RATED\\\\n  Amazing place for music,food,drinks and Karaoke. Getting a table is a big task on a Friday which looks the day the place makes most business. Location is close by to ITPl hnev draws big crowd which means only Regulars are given preference to tables when compared to may be first timers though both may have no booking done prior to the visit so be ready to stand near other table\\'s or near bar for a long time before you get your own table here. Music gets shut almost at 1030 which is a big let-down as places in Indiranagar or Koramangala play almost an hour more. They really need to work on bills as we had almost 20% of the items not pertaining to our table but was added into our bill,watch out for this when you pay.\"), (\\'Rated 3.0\\', \"RATED\\\\n  Decent place. Service can be improved. Dull on weekdays. Music needs major revamp. Hookah isn\\'t up to the mark. Matches are screened.\\\\n\\\\nAmbience-4/5\\\\nF&B-3/5\\\\nHospitality-3/5\"), (\\'Rated 4.0\\', \\'RATED\\\\n  I go to this place on FridayÃ\\x83\\\\x83Ã\\x82\\\\x83Ã\\x83\\\\x82Ã\\x82\\\\x83Ã\\x83\\\\x83Ã\\x82\\\\x82Ã\\x83\\\\x82Ã\\x82Â¢Ã\\x83\\\\x83Ã\\x82\\\\x83Ã\\x83\\\\x82Ã\\x82\\\\x82Ã\\x83\\\\x83Ã\\x82\\\\x82Ã\\x83\\\\x82Ã\\x82\\\\x80Ã\\x83\\\\x83Ã\\x82\\\\x83Ã\\x83\\\\x82Ã\\x82\\\\x82Ã\\x83\\\\x83Ã\\x82\\\\x82Ã\\x83\\\\x82Ã\\x82\\\\x99s for a karaoke night. Beautiful ambience, nice crowd, excellent food. I always end up ordering the chilli beef and chicken fried rice. I have tried other foods like the prawn wafers, the prawn appetiser, chilli chicken, pasta, Biryani, pizzas and the vegetarian starters and they have been excellent. The staff are very friendly and quick to serve. FridayÃ\\x83\\\\x83Ã\\x82\\\\x83Ã\\x83\\\\x82Ã\\x82\\\\x83Ã\\x83\\\\x83Ã\\x82\\\\x82Ã\\x83\\\\x82Ã\\x82Â¢Ã\\x83\\\\x83Ã\\x82\\\\x83Ã\\x83\\\\x82Ã\\x82\\\\x82Ã\\x83\\\\x83Ã\\x82\\\\x82Ã\\x83\\\\x82Ã\\x82\\\\x80Ã\\x83\\\\x83Ã\\x82\\\\x83Ã\\x83\\\\x82Ã\\x82\\\\x82Ã\\x83\\\\x83Ã\\x82\\\\x82Ã\\x83\\\\x82Ã\\x82\\\\x99s can be an exception in terms of service due to the crazy crowds. I have had a couple of team dinners in PabloÃ\\x83\\\\x83Ã\\x82\\\\x83Ã\\x83\\\\x82Ã\\x82\\\\x83Ã\\x83\\\\x83Ã\\x82\\\\x82Ã\\x83\\\\x82Ã\\x82Â¢Ã\\x83\\\\x83Ã\\x82\\\\x83Ã\\x83\\\\x82Ã\\x82\\\\x82Ã\\x83\\\\x83Ã\\x82\\\\x82Ã\\x83\\\\x82Ã\\x82\\\\x80Ã\\x83\\\\x83Ã\\x82\\\\x83Ã\\x83\\\\x82Ã\\x82\\\\x82Ã\\x83\\\\x83Ã\\x82\\\\x82Ã\\x83\\\\x82Ã\\x82\\\\x99s with a very good package. My team enjoyed their evenings there.\\\\nA lovely place to be at on weekdays if you want a quiet and not very crowded place to hang out at.\\\\nP.S. The restrooms need to be checked at regular intervals.\\'), (\\'Rated 3.0\\', \"RATED\\\\n  I went to this place on a Saturday night. This place looks huge and has a good ambience, unfortunately it wasn\\'t a happening place. There were less people at the gastrobar. The drinks were just fine. The slow motion cocktail was very different from the description. They also have hookah. The beer battered onion rings were good but their chilli chicken wasn\\'t good and the chicken was pretty hard.\"), (\\'Rated 5.0\\', \"RATED\\\\n  Among my best dinner experiences in Bengaluru! And I don\\'t think it would be changing any time soon. Of course the company matters, went here with my best buddies. But nothing to take away from the place.\\\\nThe whole gastrobar has a great vibe to it with openness of the entire seating and karaoke on the side. The staff is really warm and friendly. The cheese samosas and potato jackets were great appetizers. The pizza was good too. The highlight of the whole evening was an extremely potent LIIT though ;)\\\\nThe crowd too was lively adding to the entire experience. Overall a must visit place.\"), (\\'Rated 4.0\\', \\'RATED\\\\n  Perfect place to spend your weekend nights with karaoke on fridays, tasty food and amazing service! Have gone so many times and love it each time.\\'), (\\'Rated 3.0\\', \"RATED\\\\n  The place is nice but the ambience is a bit dull. it\\'s near to my office so I have been there couple of times just because its nearby. The food is ok ok.\\\\n.\\\\nThey have kareoke night on Fridays but they only allow English songs Ã\\x83\\\\x83Ã\\x82\\\\x83Ã\\x83\\\\x82Ã\\x82\\\\x83Ã\\x83\\\\x83Ã\\x82\\\\x82Ã\\x83\\\\x82Ã\\x82Â°Ã\\x83\\\\x83Ã\\x82\\\\x83Ã\\x83\\\\x82Ã\\x82\\\\x82Ã\\x83\\\\x83Ã\\x82\\\\x82Ã\\x83\\\\x82Ã\\x82\\\\x9fÃ\\x83\\\\x83Ã\\x82\\\\x83Ã\\x83\\\\x82Ã\\x82\\\\x82Ã\\x83\\\\x83Ã\\x82\\\\x82Ã\\x83\\\\x82Ã\\x82\\\\x98Ã\\x83\\\\x83Ã\\x82\\\\x83Ã\\x83\\\\x82Ã\\x82\\\\x82Ã\\x83\\\\x83Ã\\x82\\\\x82Ã\\x83\\\\x82Ã\\x82\\\\x91Ã\\x83\\\\x83Ã\\x82\\\\x83Ã\\x83\\\\x82Ã\\x82\\\\x83Ã\\x83\\\\x83Ã\\x82\\\\x82Ã\\x83\\\\x82Ã\\x82Â°Ã\\x83\\\\x83Ã\\x82\\\\x83Ã\\x83\\\\x82Ã\\x82\\\\x82Ã\\x83\\\\x83Ã\\x82\\\\x82Ã\\x83\\\\x82Ã\\x82\\\\x9fÃ\\x83\\\\x83Ã\\x82\\\\x83Ã\\x83\\\\x82Ã\\x82\\\\x82Ã\\x83\\\\x83Ã\\x82\\\\x82Ã\\x83\\\\x82Ã\\x82\\\\x98Ã\\x83\\\\x83Ã\\x82\\\\x83Ã\\x83\\\\x82Ã\\x82\\\\x82Ã\\x83\\\\x83Ã\\x82\\\\x82Ã\\x83\\\\x82Ã\\x82\\\\x91\\\\n.\\\\nThe pub is quite spacious and they have foos ball table as well which is entertaining Ã\\x83\\\\x83Ã\\x82\\\\x83Ã\\x83\\\\x82Ã\\x82\\\\x83Ã\\x83\\\\x83Ã\\x82\\\\x82Ã\\x83\\\\x82Ã\\x82Â°Ã\\x83\\\\x83Ã\\x82\\\\x83Ã\\x83\\\\x82Ã\\x82\\\\x82Ã\\x83\\\\x83Ã\\x82\\\\x82Ã\\x83\\\\x82Ã\\x82\\\\x9fÃ\\x83\\\\x83Ã\\x82\\\\x83Ã\\x83\\\\x82Ã\\x82\\\\x82Ã\\x83\\\\x83Ã\\x82\\\\x82Ã\\x83\\\\x82Ã\\x82Â¤Ã\\x83\\\\x83Ã\\x82\\\\x83Ã\\x83\\\\x82Ã\\x82\\\\x82Ã\\x83\\\\x83Ã\\x82\\\\x82Ã\\x83\\\\x82Ã\\x82\\\\x97\"), (\\'Rated 4.0\\', \\'RATED\\\\n  I go to this place on FridayÃ\\x83\\\\x83Ã\\x82\\\\x83Ã\\x83\\\\x82Ã\\x82\\\\x83Ã\\x83\\\\x83Ã\\x82\\\\x82Ã\\x83\\\\x82Ã\\x82Â¢Ã\\x83\\\\x83Ã\\x82\\\\x83Ã\\x83\\\\x82Ã\\x82\\\\x82Ã\\x83\\\\x83Ã\\x82\\\\x82Ã\\x83\\\\x82Ã\\x82\\\\x80Ã\\x83\\\\x83Ã\\x82\\\\x83Ã\\x83\\\\x82Ã\\x82\\\\x82Ã\\x83\\\\x83Ã\\x82\\\\x82Ã\\x83\\\\x82Ã\\x82\\\\x99s for a karaoke night. Beautiful ambience, nice crowd, excellent food. I always end up ordering the chilli beef and chicken fried rice. I have tried other foods like the prawn wafers, the prawn appetiser, chilli chicken, pasta, Biryani, pizzas and the vegetarian starters and they have been excellent. The staff are very friendly and quick to serve. FridayÃ\\x83\\\\x83Ã\\x82\\\\x83Ã\\x83\\\\x82Ã\\x82\\\\x83Ã\\x83\\\\x83Ã\\x82\\\\x82Ã\\x83\\\\x82Ã\\x82Â¢Ã\\x83\\\\x83Ã\\x82\\\\x83Ã\\x83\\\\x82Ã\\x82\\\\x82Ã\\x83\\\\x83Ã\\x82\\\\x82Ã\\x83\\\\x82Ã\\x82\\\\x80Ã\\x83\\\\x83Ã\\x82\\\\x83Ã\\x83\\\\x82Ã\\x82\\\\x82Ã\\x83\\\\x83Ã\\x82\\\\x82Ã\\x83\\\\x82Ã\\x82\\\\x99s can be an exception in terms of service due to the crazy crowds. I have had a couple of team dinners in PabloÃ\\x83\\\\x83Ã\\x82\\\\x83Ã\\x83\\\\x82Ã\\x82\\\\x83Ã\\x83\\\\x83Ã\\x82\\\\x82Ã\\x83\\\\x82Ã\\x82Â¢Ã\\x83\\\\x83Ã\\x82\\\\x83Ã\\x83\\\\x82Ã\\x82\\\\x82Ã\\x83\\\\x83Ã\\x82\\\\x82Ã\\x83\\\\x82Ã\\x82\\\\x80Ã\\x83\\\\x83Ã\\x82\\\\x83Ã\\x83\\\\x82Ã\\x82\\\\x82Ã\\x83\\\\x83Ã\\x82\\\\x82Ã\\x83\\\\x82Ã\\x82\\\\x99s with a very good package. My team enjoyed their evenings there.\\\\nA lovely place to be at on weekdays if you want a quiet and not very crowded place to hang out at.\\\\nP.S. The restrooms need to be checked at regular intervals.\\'), (\\'Rated 3.0\\', \"RATED\\\\n  I went to this place on a Saturday night. This place looks huge and has a good ambience, unfortunately it wasn\\'t a happening place. There were less people at the gastrobar. The drinks were just fine. The slow motion cocktail was very different from the description. They also have hookah. The beer battered onion rings were good but their chilli chicken wasn\\'t good and the chicken was pretty hard.\"), (\\'Rated 5.0\\', \"RATED\\\\n  Among my best dinner experiences in Bengaluru! And I don\\'t think it would be changing any time soon. Of course the company matters, went here with my best buddies. But nothing to take away from the place.\\\\nThe whole gastrobar has a great vibe to it with openness of the entire seating and karaoke on the side. The staff is really warm and friendly. The cheese samosas and potato jackets were great appetizers. The pizza was good too. The highlight of the whole evening was an extremely potent LIIT though ;)\\\\nThe crowd too was lively adding to the entire experience. Overall a must visit place.\"), (\\'Rated 4.0\\', \\'RATED\\\\n  Perfect place to spend your weekend nights with karaoke on fridays, tasty food and amazing service! Have gone so many times and love it each time.\\'), (\\'Rated 3.0\\', \"RATED\\\\n  The place is nice but the ambience is a bit dull. it\\'s near to my office so I have been there couple of times just because its nearby. The food is ok ok.\\\\n.\\\\nThey have kareoke night on Fridays but they only allow English songs Ã\\x83\\\\x83Ã\\x82\\\\x83Ã\\x83\\\\x82Ã\\x82\\\\x83Ã\\x83\\\\x83Ã\\x82\\\\x82Ã\\x83\\\\x82Ã\\x82Â°Ã\\x83\\\\x83Ã\\x82\\\\x83Ã\\x83\\\\x82Ã\\x82\\\\x82Ã\\x83\\\\x83Ã\\x82\\\\x82Ã\\x83\\\\x82Ã\\x82\\\\x9fÃ\\x83\\\\x83Ã\\x82\\\\x83Ã\\x83\\\\x82Ã\\x82\\\\x82Ã\\x83\\\\x83Ã\\x82\\\\x82Ã\\x83\\\\x82Ã\\x82\\\\x98Ã\\x83\\\\x83Ã\\x82\\\\x83Ã\\x83\\\\x82Ã\\x82\\\\x82Ã\\x83\\\\x83Ã\\x82\\\\x82Ã\\x83\\\\x82Ã\\x82\\\\x91Ã\\x83\\\\x83Ã\\x82\\\\x83Ã\\x83\\\\x82Ã\\x82\\\\x83Ã\\x83\\\\x83Ã\\x82\\\\x82Ã\\x83\\\\x82Ã\\x82Â°Ã\\x83\\\\x83Ã\\x82\\\\x83Ã\\x83\\\\x82Ã\\x82\\\\x82Ã\\x83\\\\x83Ã\\x82\\\\x82Ã\\x83\\\\x82Ã\\x82\\\\x9fÃ\\x83\\\\x83Ã\\x82\\\\x83Ã\\x83\\\\x82Ã\\x82\\\\x82Ã\\x83\\\\x83Ã\\x82\\\\x82Ã\\x83\\\\x82Ã\\x82\\\\x98Ã\\x83\\\\x83Ã\\x82\\\\x83Ã\\x83\\\\x82Ã\\x82\\\\x82Ã\\x83\\\\x83Ã\\x82\\\\x82Ã\\x83\\\\x82Ã\\x82\\\\x91\\\\n.\\\\nThe pub is quite spacious and they have foos ball table as well which is entertaining Ã\\x83\\\\x83Ã\\x82\\\\x83Ã\\x83\\\\x82Ã\\x82\\\\x83Ã\\x83\\\\x83Ã\\x82\\\\x82Ã\\x83\\\\x82Ã\\x82Â°Ã\\x83\\\\x83Ã\\x82\\\\x83Ã\\x83\\\\x82Ã\\x82\\\\x82Ã\\x83\\\\x83Ã\\x82\\\\x82Ã\\x83\\\\x82Ã\\x82\\\\x9fÃ\\x83\\\\x83Ã\\x82\\\\x83Ã\\x83\\\\x82Ã\\x82\\\\x82Ã\\x83\\\\x83Ã\\x82\\\\x82Ã\\x83\\\\x82Ã\\x82Â¤Ã\\x83\\\\x83Ã\\x82\\\\x83Ã\\x83\\\\x82Ã\\x82\\\\x82Ã\\x83\\\\x83Ã\\x82\\\\x82Ã\\x83\\\\x82Ã\\x82\\\\x97\"), (\\'Rated 4.0\\', \\'RATED\\\\n  I go to this place on FridayÃ\\x83\\\\x83Ã\\x82\\\\x83Ã\\x83\\\\x82Ã\\x82\\\\x83Ã\\x83\\\\x83Ã\\x82\\\\x82Ã\\x83\\\\x82Ã\\x82Â¢Ã\\x83\\\\x83Ã\\x82\\\\x83Ã\\x83\\\\x82Ã\\x82\\\\x82Ã\\x83\\\\x83Ã\\x82\\\\x82Ã\\x83\\\\x82Ã\\x82\\\\x80Ã\\x83\\\\x83Ã\\x82\\\\x83Ã\\x83\\\\x82Ã\\x82\\\\x82Ã\\x83\\\\x83Ã\\x82\\\\x82Ã\\x83\\\\x82Ã\\x82\\\\x99s for a karaoke night. Beautiful ambience, nice crowd, excellent food. I always end up ordering the chilli beef and chicken fried rice. I have tried other foods like the prawn wafers, the prawn appetiser, chilli chicken, pasta, Biryani, pizzas and the vegetarian starters and they have been excellent. The staff are very friendly and quick to serve. FridayÃ\\x83\\\\x83Ã\\x82\\\\x83Ã\\x83\\\\x82Ã\\x82\\\\x83Ã\\x83\\\\x83Ã\\x82\\\\x82Ã\\x83\\\\x82Ã\\x82Â¢Ã\\x83\\\\x83Ã\\x82\\\\x83Ã\\x83\\\\x82Ã\\x82\\\\x82Ã\\x83\\\\x83Ã\\x82\\\\x82Ã\\x83\\\\x82Ã\\x82\\\\x80Ã\\x83\\\\x83Ã\\x82\\\\x83Ã\\x83\\\\x82Ã\\x82\\\\x82Ã\\x83\\\\x83Ã\\x82\\\\x82Ã\\x83\\\\x82Ã\\x82\\\\x99s can be an exception in terms of service due to the crazy crowds. I have had a couple of team dinners in PabloÃ\\x83\\\\x83Ã\\x82\\\\x83Ã\\x83\\\\x82Ã\\x82\\\\x83Ã\\x83\\\\x83Ã\\x82\\\\x82Ã\\x83\\\\x82Ã\\x82Â¢Ã\\x83\\\\x83Ã\\x82\\\\x83Ã\\x83\\\\x82Ã\\x82\\\\x82Ã\\x83\\\\x83Ã\\x82\\\\x82Ã\\x83\\\\x82Ã\\x82\\\\x80Ã\\x83\\\\x83Ã\\x82\\\\x83Ã\\x83\\\\x82Ã\\x82\\\\x82Ã\\x83\\\\x83Ã\\x82\\\\x82Ã\\x83\\\\x82Ã\\x82\\\\x99s with a very good package. My team enjoyed their evenings there.\\\\nA lovely place to be at on weekdays if you want a quiet and not very crowded place to hang out at.\\\\nP.S. The restrooms need to be checked at regular intervals.\\'), (\\'Rated 3.0\\', \"RATED\\\\n  I went to this place on a Saturday night. This place looks huge and has a good ambience, unfortunately it wasn\\'t a happening place. There were less people at the gastrobar. The drinks were just fine. The slow motion cocktail was very different from the description. They also have hookah. The beer battered onion rings were good but their chilli chicken wasn\\'t good and the chicken was pretty hard.\"), (\\'Rated 5.0\\', \"RATED\\\\n  Among my best dinner experiences in Bengaluru! And I don\\'t think it would be changing any time soon. Of course the company matters, went here with my best buddies. But nothing to take away from the place.\\\\nThe whole gastrobar has a great vibe to it with openness of the entire seating and karaoke on the side. The staff is really warm and friendly. The cheese samosas and potato jackets were great appetizers. The pizza was good too. The highlight of the whole evening was an extremely potent LIIT though ;)\\\\nThe crowd too was lively adding to the entire experience. Overall a must visit place.\"), (\\'Rated 4.0\\', \\'RATED\\\\n  Perfect place to spend your weekend nights with karaoke on fridays, tasty food and amazing service! Have gone so many times and love it each time.\\'), (\\'Rated 3.0\\', \"RATED\\\\n  The place is nice but the ambience is a bit dull. it\\'s near to my office so I have been there couple of times just because its nearby. The food is ok ok.\\\\n.\\\\nThey have kareoke night on Fridays but they only allow English songs Ã\\x83\\\\x83Ã\\x82\\\\x83Ã\\x83\\\\x82Ã\\x82\\\\x83Ã\\x83\\\\x83Ã\\x82\\\\x82Ã\\x83\\\\x82Ã\\x82Â°Ã\\x83\\\\x83Ã\\x82\\\\x83Ã\\x83\\\\x82Ã\\x82\\\\x82Ã\\x83\\\\x83Ã\\x82\\\\x82Ã\\x83\\\\x82Ã\\x82\\\\x9fÃ\\x83\\\\x83Ã\\x82\\\\x83Ã\\x83\\\\x82Ã\\x82\\\\x82Ã\\x83\\\\x83Ã\\x82\\\\x82Ã\\x83\\\\x82Ã\\x82\\\\x98Ã\\x83\\\\x83Ã\\x82\\\\x83Ã\\x83\\\\x82Ã\\x82\\\\x82Ã\\x83\\\\x83Ã\\x82\\\\x82Ã\\x83\\\\x82Ã\\x82\\\\x91Ã\\x83\\\\x83Ã\\x82\\\\x83Ã\\x83\\\\x82Ã\\x82\\\\x83Ã\\x83\\\\x83Ã\\x82\\\\x82Ã\\x83\\\\x82Ã\\x82Â°Ã\\x83\\\\x83Ã\\x82\\\\x83Ã\\x83\\\\x82Ã\\x82\\\\x82Ã\\x83\\\\x83Ã\\x82\\\\x82Ã\\x83\\\\x82Ã\\x82\\\\x9fÃ\\x83\\\\x83Ã\\x82\\\\x83Ã\\x83\\\\x82Ã\\x82\\\\x82Ã\\x83\\\\x83Ã\\x82\\\\x82Ã\\x83\\\\x82Ã\\x82\\\\x98Ã\\x83\\\\x83Ã\\x82\\\\x83Ã\\x83\\\\x82Ã\\x82\\\\x82Ã\\x83\\\\x83Ã\\x82\\\\x82Ã\\x83\\\\x82Ã\\x82\\\\x91\\\\n.\\\\nThe pub is quite spacious and they have foos ball table as well which is entertaining Ã\\x83\\\\x83Ã\\x82\\\\x83Ã\\x83\\\\x82Ã\\x82\\\\x83Ã\\x83\\\\x83Ã\\x82\\\\x82Ã\\x83\\\\x82Ã\\x82Â°Ã\\x83\\\\x83Ã\\x82\\\\x83Ã\\x83\\\\x82Ã\\x82\\\\x82Ã\\x83\\\\x83Ã\\x82\\\\x82Ã\\x83\\\\x82Ã\\x82\\\\x9fÃ\\x83\\\\x83Ã\\x82\\\\x83Ã\\x83\\\\x82Ã\\x82\\\\x82Ã\\x83\\\\x83Ã\\x82\\\\x82Ã\\x83\\\\x82Ã\\x82Â¤Ã\\x83\\\\x83Ã\\x82\\\\x83Ã\\x83\\\\x82Ã\\x82\\\\x82Ã\\x83\\\\x83Ã\\x82\\\\x82Ã\\x83\\\\x82Ã\\x82\\\\x97\"), (\\'Rated 4.0\\', \\'RATED\\\\n  Cool place to hangout with friends. We celebrated a farewell here. Had lot of beers, whisky, nachos, pizzzas. Well all drunk, we just enjoyed the show.\\'), (\\'Rated 5.0\\', \"RATED\\\\n  Pablos is a vary cheerful place and filled with youngsters as that\\'s the vibe you get here from the time you enter\\\\nLove the way they have used containers to make the kitchen and the bar\\\\n\\\\nThe karaoke at nights is super fun\\\\nHeard they are found for their whiskey sours and by God they sure we\\'re good\\\\nAnd if you are a Zomato Gold membe on drinksr then feat not as they have a 2+2 on drinks\\\\nSo yay need I say more\\\\nÃ\\x83\\\\x83Ã\\x82\\\\x83Ã\\x83\\\\x82Ã\\x82\\\\x83Ã\\x83\\\\x83Ã\\x82\\\\x82Ã\\x83\\\\x82Ã\\x82Â°Ã\\x83\\\\x83Ã\\x82\\\\x83Ã\\x83\\\\x82Ã\\x82\\\\x82Ã\\x83\\\\x83Ã\\x82\\\\x82Ã\\x83\\\\x82Ã\\x82\\\\x9fÃ\\x83\\\\x83Ã\\x82\\\\x83Ã\\x83\\\\x82Ã\\x82\\\\x82Ã\\x83\\\\x83Ã\\x82\\\\x82Ã\\x83\\\\x82Ã\\x82\\\\x98Ã\\x83\\\\x83Ã\\x82\\\\x83Ã\\x83\\\\x82Ã\\x82\\\\x82Ã\\x83\\\\x83Ã\\x82\\\\x82Ã\\x83\\\\x82Ã\\x82\\\\x80\\\\nWe had pizzas\\\\nCheese and bacon balls\\\\nChicken wings\\\\nPulled pork burgers and gisn sausage pulao\\\\nAll yum yum yum\\\\nGreat service and good music\")]'\n",
      " '[(\\'Rated 4.0\\', \"RATED\\\\n  I had :-\\\\n\\\\n1. Italian Tiramisu Shake\\\\n2. Grilled One\\'s (Burgers) Chicken\\\\n\\\\nLoved both the items... The shake was really good... It whet my appetite for the burger which too was lovely and delectable...\\\\n\\\\nThe staff was pleasant and friendly...\"), (\\'Rated 3.0\\', \"RATED\\\\n  Oliver\\'s is always the place where people working in ITPL go if they are in mood to chill post work.\\\\nThis place serves decent pizza and drinks\"), (\\'Rated 3.0\\', \\'RATED\\\\n  I have been to this place couple of times now. Found it OK in terms of food, service, ambience, pricing and availability of drinks.\\\\nOn our 1st visit we were around 6people and had ordered chicken starters, beer, wine and pizza. However, the service was too slow. Even the bill was given to us almost after 20mins of asking the waiters.\\\\nDuring 2nd visit, we were 5 people. This visit was bit disappointing, as almost 80% of the drinks on menu which I wanted to have were not available. Ultimately i had to get a diet coke. Even the food menu is a traditional one. There is nothing different and the taste is average.\\\\nMy friend also tried flame shot here, which was a big disappointment as the waiters who made it seemed amateurs. He had struggled so much to drink that flame shot, as the flame was all over the table.\\'), (\\'Rated 3.0\\', \"RATED\\\\n  I\\'m pleasantly surprised when I happen to find new places to dine close to home.\\\\nWith this in mind I stopped by Oliver a while back. \\\\nOverlooking ITPL, the atmosphere here is well lit and lively especially if you happen to be here during live match screenings. \\\\nComing to the food I was a bit disappointed. \\\\nI ordered the buenos nachos and the chicken nachos pizza. \\\\nTalking about the nachos, they were basically made with cornitos chips. \\\\nThe crust of the pizza was dry and the toppings lacked seasoning. \\\\nThe drinks we ordered were just okayish.\\\\nOverall slightly disappointed.\"), (\\'Rated 3.0\\', \\'RATED\\\\n  Ordered chilly pork, which was not really very spicy( also most of the pieces were pork fat only and not meat) . And the noodles was good but not that good. Kind of expected a little bit more from this place. Found it a bit overpriced for the quantity.\\'), (\\'Rated 3.0\\', \"RATED\\\\n  Good place to hang out and chill with your friends with good food and drinks. You would love their range of pizzas and their taste if you like thin crush pizzas - like the Mexican nachos one myself. Drinks are good too with offers - mainly people opt for Bira. Had sizzling Brownie in desserts and it was yum! Can improve more on overall crust and taste of the pizzas though - not that nice if you\\'re going only for food. Ã\\x83\\\\x83Ã\\x82\\\\x83Ã\\x83\\\\x82Ã\\x82\\\\x83Ã\\x83\\\\x83Ã\\x82\\\\x82Ã\\x83\\\\x82Ã\\x82Â¢Ã\\x83\\\\x83Ã\\x82\\\\x83Ã\\x83\\\\x82Ã\\x82\\\\x82Ã\\x83\\\\x83Ã\\x82\\\\x82Ã\\x83\\\\x82Ã\\x82\\\\x9cÃ\\x83\\\\x83Ã\\x82\\\\x83Ã\\x83\\\\x82Ã\\x82\\\\x82Ã\\x83\\\\x83Ã\\x82\\\\x82Ã\\x83\\\\x82Ã\\x82\\\\x8cÃ\\x83\\\\x83Ã\\x82\\\\x83Ã\\x83\\\\x82Ã\\x82\\\\x83Ã\\x83\\\\x83Ã\\x82\\\\x82Ã\\x83\\\\x82Ã\\x82Â°Ã\\x83\\\\x83Ã\\x82\\\\x83Ã\\x83\\\\x82Ã\\x82\\\\x82Ã\\x83\\\\x83Ã\\x82\\\\x82Ã\\x83\\\\x82Ã\\x82\\\\x9fÃ\\x83\\\\x83Ã\\x82\\\\x83Ã\\x83\\\\x82Ã\\x82\\\\x82Ã\\x83\\\\x83Ã\\x82\\\\x82Ã\\x83\\\\x82Ã\\x82\\\\x8fÃ\\x83\\\\x83Ã\\x82\\\\x83Ã\\x83\\\\x82Ã\\x82\\\\x82Ã\\x83\\\\x83Ã\\x82\\\\x82Ã\\x83\\\\x82Ã\\x82Â» #ThinCrustPizzas #Bira\"), (\\'Rated 3.0\\', \"RATED\\\\n  Visited during lunch hours.\\\\nThe nachos were pretty filling but just about above-average in taste.\\\\n\\\\nI would recommend the Gambas! Prawns were succelent and flavourful.\\\\n\\\\nThe service was also pretty quick. I\\'m not sure why the stools were a little worn out and the ambience was a little low and dim. Perhaps the aim was to give a rusty vibe but the tables and chairs seemed a little too old and rusted.\"), (\\'Rated 3.0\\', \"RATED\\\\n  It\\'s one of the few places we found open past 9pm near ITPL, that serves cocktails. It\\'s on the first floor of the shopping complex. This one cocktail called Hanky Panky was particularly good.\"), (\\'Rated 4.0\\', \"RATED\\\\n  Oliver\\'s.. The place i love for pizzas... And hey.. If you want to just chill, have some beer along with your friends then this is the place for you.. I personally love their pizzas and the ambience.. Cheers..!!\"), (\\'Rated 4.0\\', \"RATED\\\\n  Oliver\\'s have been a go to place after office as it is in ITPL itself. For drinks they don\\'t keep much options available which is disappointing. Coming to food, food is really good. We tried chilly chicken, American corn and crispy babycorn for starters and had chilly paneer tikka and spinach paneer pizza. Taste and ambience is very much lively and dewy.\"), (\\'Rated 1.0\\', \"RATED\\\\n  This restaurant was a big disappointment. The list of unprofessionalism is quite big.\\\\nWe found a dead cockroach near the table. And when pointing it out the service guy was least bothered and asked some other guy to look into it.Then we shifted to a different table.\\\\nAnother downer was the unresponsive attitude of the staff. We literally had to get up from our seats to give order.\\\\nThe food was above par to it\\'s service, which was a good thing. But when some one visits ur restaurant, they want to have the full dining experience. Otherwise food can be home delivered.\\\\nPlease work on ur cleanliness and service if u want to attract customers.\"), (\\'Rated 5.0\\', \\'RATED\\\\n  A desi styled pub easy on pocket, still under construction. Has got combo offers throughout the week. The food is great to hangout on any day of the week. Should minimise the order delivery time.\\'), (\\'Rated 4.0\\', \"RATED\\\\n  Tasty food at not so high rates. The ambience and service was pretty good.\\\\n\\\\nWe had spring rolls and jalapeno poppers for starters. They didn\\'t feel too oily and were delicious. Sauces served with them went pretty well with them.\\\\n\\\\nWe went for patata salsa pizza. Potato part tasted good. Though I would have liked better sauce.\\\\n\\\\nFor desserts, we went for brownie sundae and it was amazing. The quantity was generous as well.\"), (\\'Rated 3.0\\', \"RATED\\\\n  Not sure why it is rated so high on Zomato. When I go to any pub I expect atleast some good quality finger food and mocktails. Both were missing here. Service was way below par as the servers didn\\'t even know what to recommend and what is house special etc. Pizza was OK.\\\\n\\\\nAmbience wise a good place to hang out with friends and make some noise. They did try to make it look like a sports bar with TV screens here and there. But failed miserably.\\\\n\\\\nOverall experience was well below par.\"), (\\'Rated 4.0\\', \"RATED\\\\n  Good place for stress busting.ambience is friendly.bug food quality is not upto the mark.beer also not available according to your choice.we asked Bira..they told it\\'s not available right now (seriously?? Even on Saturday evening).Music was ok only..not a good music place.the only advantage I got is its in ITPL ,beside my office.\"), (\\'Rated 1.0\\', \"RATED\\\\n  This restaurant was a big disappointment. The list of unprofessionalism is quite big.\\\\nWe found a dead cockroach near the table. And when pointing it out the service guy was least bothered and asked some other guy to look into it.Then we shifted to a different table.\\\\nAnother downer was the unresponsive attitude of the staff. We literally had to get up from our seats to give order.\\\\nThe food was above par to it\\'s service, which was a good thing. But when some one visits ur restaurant, they want to have the full dining experience. Otherwise food can be home delivered.\\\\nPlease work on ur cleanliness and service if u want to attract customers.\"), (\\'Rated 5.0\\', \\'RATED\\\\n  A desi styled pub easy on pocket, still under construction. Has got combo offers throughout the week. The food is great to hangout on any day of the week. Should minimise the order delivery time.\\'), (\\'Rated 4.0\\', \"RATED\\\\n  Tasty food at not so high rates. The ambience and service was pretty good.\\\\n\\\\nWe had spring rolls and jalapeno poppers for starters. They didn\\'t feel too oily and were delicious. Sauces served with them went pretty well with them.\\\\n\\\\nWe went for patata salsa pizza. Potato part tasted good. Though I would have liked better sauce.\\\\n\\\\nFor desserts, we went for brownie sundae and it was amazing. The quantity was generous as well.\"), (\\'Rated 3.0\\', \"RATED\\\\n  Not sure why it is rated so high on Zomato. When I go to any pub I expect atleast some good quality finger food and mocktails. Both were missing here. Service was way below par as the servers didn\\'t even know what to recommend and what is house special etc. Pizza was OK.\\\\n\\\\nAmbience wise a good place to hang out with friends and make some noise. They did try to make it look like a sports bar with TV screens here and there. But failed miserably.\\\\n\\\\nOverall experience was well below par.\"), (\\'Rated 4.0\\', \"RATED\\\\n  Good place for stress busting.ambience is friendly.bug food quality is not upto the mark.beer also not available according to your choice.we asked Bira..they told it\\'s not available right now (seriously?? Even on Saturday evening).Music was ok only..not a good music place.the only advantage I got is its in ITPL ,beside my office.\"), (\\'Rated 1.0\\', \"RATED\\\\n  This restaurant was a big disappointment. The list of unprofessionalism is quite big.\\\\nWe found a dead cockroach near the table. And when pointing it out the service guy was least bothered and asked some other guy to look into it.Then we shifted to a different table.\\\\nAnother downer was the unresponsive attitude of the staff. We literally had to get up from our seats to give order.\\\\nThe food was above par to it\\'s service, which was a good thing. But when some one visits ur restaurant, they want to have the full dining experience. Otherwise food can be home delivered.\\\\nPlease work on ur cleanliness and service if u want to attract customers.\"), (\\'Rated 5.0\\', \\'RATED\\\\n  A desi styled pub easy on pocket, still under construction. Has got combo offers throughout the week. The food is great to hangout on any day of the week. Should minimise the order delivery time.\\'), (\\'Rated 4.0\\', \"RATED\\\\n  Tasty food at not so high rates. The ambience and service was pretty good.\\\\n\\\\nWe had spring rolls and jalapeno poppers for starters. They didn\\'t feel too oily and were delicious. Sauces served with them went pretty well with them.\\\\n\\\\nWe went for patata salsa pizza. Potato part tasted good. Though I would have liked better sauce.\\\\n\\\\nFor desserts, we went for brownie sundae and it was amazing. The quantity was generous as well.\"), (\\'Rated 3.0\\', \"RATED\\\\n  Not sure why it is rated so high on Zomato. When I go to any pub I expect atleast some good quality finger food and mocktails. Both were missing here. Service was way below par as the servers didn\\'t even know what to recommend and what is house special etc. Pizza was OK.\\\\n\\\\nAmbience wise a good place to hang out with friends and make some noise. They did try to make it look like a sports bar with TV screens here and there. But failed miserably.\\\\n\\\\nOverall experience was well below par.\"), (\\'Rated 4.0\\', \"RATED\\\\n  Good place for stress busting.ambience is friendly.bug food quality is not upto the mark.beer also not available according to your choice.we asked Bira..they told it\\'s not available right now (seriously?? Even on Saturday evening).Music was ok only..not a good music place.the only advantage I got is its in ITPL ,beside my office.\"), (\\'Rated 2.0\\', \"RATED\\\\n  Pathetic presentation of the dishes, the plate looks half empty. It\\'s just cigarette smoke that u can breath.\\\\nDid not enjoy the food or ambience.\"), (\\'Rated 3.0\\', \\'RATED\\\\n  Went there on a Friday eve. They were out of almost every good branded beers. Below average food, the place seems a little bit shady. Sitting chairs and tables are really rusty. Staffs not really pro active in serving you. They overcharged me, had to call them and get the amount back. So you get the picture.\\'), (\\'Rated 4.0\\', \"RATED\\\\n  Oliver\\'s Pub is a decent place with a good ambience. Food was pretty good although we tried only vegetarian dishes. They had limited options for drinks and few of the listed drinks were not even available. I had the most amazing Chinese bhel over here. I tried two variants of pizzas there : Paneer peri peri and Margherita paneer spinach pizza, both of them were nicely made. Please do give a try to the spinach one. It was surprisingly delicious Ã\\x83\\\\x83Ã\\x82\\\\x83Ã\\x83\\\\x82Ã\\x82\\\\x83Ã\\x83\\\\x83Ã\\x82\\\\x82Ã\\x83\\\\x82Ã\\x82Â°Ã\\x83\\\\x83Ã\\x82\\\\x83Ã\\x83\\\\x82Ã\\x82\\\\x82Ã\\x83\\\\x83Ã\\x82\\\\x82Ã\\x83\\\\x82Ã\\x82\\\\x9fÃ\\x83\\\\x83Ã\\x82\\\\x83Ã\\x83\\\\x82Ã\\x82\\\\x82Ã\\x83\\\\x83Ã\\x82\\\\x82Ã\\x83\\\\x82Ã\\x82\\\\x98Ã\\x83\\\\x83Ã\\x82\\\\x83Ã\\x83\\\\x82Ã\\x82\\\\x82Ã\\x83\\\\x83Ã\\x82\\\\x82Ã\\x83\\\\x82Ã\\x82\\\\x8b\")]'] \n",
      " ****************************************************************************************************\n",
      "menu_item\n",
      "9098\n",
      "['[]'\n",
      " \"['Chocolate Fantasy (Pack Of 5)', 'Pan Cake (Pack Of 6)', 'Gulab Jamun (Pack Of 10)', 'Gulkand Shot (Pack Of 5)', 'Chocolate Decadence (Pack of 2)', 'CheeseCake (Pack Of 2)', 'Red Velvet Slice Cake (Pack of 2)', 'Red Velvet Slice Cake & Cheese Cake (Pack of 2)', 'Red Velvet Slice Cake & Chocolate Decadence Cake (Pack of 2)', 'Hazelnut Brownie (Pack of 2)', 'Moments', 'Red Velvet Cake With Butter Cream Frosting (750 Gm)', 'Red Velvet Slice Cake (Pack of 2)', 'Red Velvet Slice Cake & Cheese Cake (Pack of 2)', 'Red Velvet Slice Cake & Chocolate Decadence Cake (Pack of 2)', 'Red Velvet Slice Cake (Pack of 1)', 'Valentine Red Velvet Jar', 'Valentine Chocolate Jar', 'Valentines Jar Combo', 'Pink Guava 500 ML', 'Oreo Vanilla 500 ML', 'Cookie Crumble 500 ML', 'Chocolate Fantasy', 'Gulkand-E-Bahar', 'Pan Cake', 'Hazelnut Brownie (Pack Of 1)', 'Gulab Jamun (Pack Of 2)', 'Plum Cake', 'Red Velvet Cake With Butter Cream Frosting (750 Gm)', 'Chocolate Mud Cake (700 Gms)', 'CheeseCake (Pack of 1)', 'Chocolate Decadence (Pack of 1)', 'Red Velvet Slice Cake (Pack of 1)']\"\n",
      " \"['Chole Kulcha Meal', 'Upvas Aloo Paratha With Dahi', 'Singhada Aloo Paratha with Hare Tamatar Ki Sabji', 'Smoked Butter Chicken Combo', 'Paneer Methi Chaman Combo', 'Mutton Bhuna Combo', 'Rajma Masala Meal', 'Dal Makhani Veg Starter Combo', 'Dal Makhani Non-Veg Starter Combo', 'Malai Kofta Combo', 'Jumbo Chicken Wrap', 'Jumbo Veg Wrap', 'Jumbo Falafel Salsa Wrap', 'Chicken Overload Jumbo Wrap', 'Veg Pizza Wrap', 'Chicken Pizza Wrap', 'Mexican Potato Salsa Wrap', 'American Smokey Sausage Wrap', 'Makhani Falafel Wrap', 'Mutton Overload Wrap', 'Mac & Cheese Chicken Wrap', 'Mac & Cheese Veg Wrap', 'Barbeque Chicken Wrap', 'Mutton Boti Wrap', 'Masala Paneer Tikka Wrap', 'Fiery Paneer Tikka Wrap', 'Masala Chicken Tikka Wrap', 'Cheesy Corn Salsa Wrap', 'Chicken Mayo Wrap', 'Cheese Melt Chicken Wrap', 'Cheese Melt Paneer Wrap', 'Double Cheese Meatball Wrap', 'Reshmi Chicken Kebab Wrap', 'Egg Cheese Sausage Wrap', 'Double Egg Chatpata Wrap', 'Cheesy Potato Wrap', 'Veg Falafel Wrap', 'Chicken Bhuna Wrap', 'Chatpate Chole Wrap', 'Fiery Paneer Wrap', 'Fiery Chicken Wrap', 'Mac & Cheese Wrap', 'Hare Tamatar & Sabudana Wada Royal Thali', 'Singhada Aloo Paratha & Hare Tamatar Royal Satvik Meal', 'Smoked Butter Chicken With Omelette', 'Rajma Masala Royal Combo', 'Paneer Methi Chaman Royal Combo', 'Mutton Bhuna Royal Combo', 'Smoked Butter Chicken Royal Combo', 'Malai Kofta Royal Combo', 'Fusion Breakfast', 'Pan Cake', 'Aloo Paratha Combo', 'Chai for 4', 'Cheesy Chicken Meatballs', 'Peach Tea (Serves 4)', 'Falafel Nuggets with Mayo Dip', 'Potato Chilli Shots with Mayo Dip', 'Pan Cake', 'Kashmiri Kahwa (Serves 4)', 'Masala Chai (Serves 4)', 'Chai for 4 + Nature valley bar', 'Kulcha', 'Flavorful Rice Tub', 'Dal Makhani Bowl (Half KG)', 'Smoked Butter Chicken Bowl (Half KG)', 'Mutton Bhuna Bowl (Half KG)', 'Singhada Aloo Paratha Tub', 'Curd Bowl (Half KG)', 'Hare Tamatar Ki Subji (Half KG)', 'Rajma Masala Bowl (Half KG)', 'Triangle Paratha Tub', 'Malai Kofta Bowl (Half Kg)', 'Chocolate Fantasy', 'SWIG Jeera Masala', 'SWIG Green apple', 'Kesar Muesli', 'Gulab Jamun (Pack Of 2)', 'Plum Cake', 'Gulab Jamun (Pack of 1)', 'Moments', 'Hazelnut Brownie (Pack Of 1)', 'CheeseCake (Pack of 1)', 'Chocolate Decadence (Pack of 1)', 'Red Velvet Slice Cake (Pack of 1)', 'Mint Chaas']\"\n",
      " ...\n",
      " '[\\'Veg Thai Green Curry\\', \\'BBQ Sloppy Chicken Burger\\', \"Harry\\'s Farm House Pizza\", \\'Egg Schezwan Fried Rice\\', \\'Chicken Schezwan Noodles\\', \\'Veg Platter\\', \\'Non Veg Platter\\', \\'Tom Yum Goong\\', \\'Tandoori Kalonji Aloo\\', \\'Tandoori Pesto Flowerets\\', \\'Paneer and Pineapple Tikka\\', \\'Adraki Soy Chilli Chicken Kebab\\', \\'Tandoori Chicken Lollipop\\', \\'Parpika Choosa\\', \\'Lamb Seekh Kebab\\', \\'Achari Fish Tikka\\', \\'Rumali Roti\\', \\'Naan\\', \\'Butter Naan\\', \\'Garlic Naan\\', \\'Butter Garlic Naan\\', \\'Cheese Naan\\', \\'Butter Garlic Cheese Naan\\', \\'Garlic Cheese Naan\\', \\'Veg Fried Rice\\', \\'Veg Schezwan Fried Rice\\', \\'Veg Hakka Noodles\\', \\'Veg Schezwan Noodles\\', \\'Veg Singapore Noodles\\', \\'Egg Fried Rice\\', \\'Egg Schezwan Fried Rice\\', \\'Egg Hakka Noodles\\', \\'Egg Schezwan Noodles\\', \\'Egg Singapore Noodles\\', \\'Chicken Hakka Noodles\\', \\'Chicken Schezwan Noodles\\', \\'Chicken Singapore Noodles\\', \\'Prawns Fried Rice\\', \\'Prawns Schezwan Fried Rice\\', \\'Prawns Hakka Noodles\\', \\'Prawns Schezwan Noodles\\', \\'Prawns Singapore Noodles\\', \\'Margherita Pizza\\', \"Harry\\'s Farm House Pizza\", \\'Classique Paneer Tikka Pizza\\', \\'Veg Exotica Pizza\\', \\'Thai Basil Chicken Pizza\\', \\'Classic Chicken Tikka Pizza\\', \\'Spicy Pepperoni Pizza\\', \\'Penne Rustica\\', \\'Spaghetti Aglio e Olio Pasta\\', \\'HarryÃ\\x83\\\\x83Ã\\x82\\\\x83Ã\\x83\\\\x82Ã\\x82\\\\x83Ã\\x83\\\\x83Ã\\x82\\\\x82Ã\\x83\\\\x82Ã\\x82Â¢Ã\\x83\\\\x83Ã\\x82\\\\x83Ã\\x83\\\\x82Ã\\x82\\\\x82Ã\\x83\\\\x83Ã\\x82\\\\x82Ã\\x83\\\\x82Ã\\x82\\\\x80Ã\\x83\\\\x83Ã\\x82\\\\x83Ã\\x83\\\\x82Ã\\x82\\\\x82Ã\\x83\\\\x83Ã\\x82\\\\x82Ã\\x83\\\\x82Ã\\x82\\\\x99s Mac and Cheese Pasta\\', \\'Penne Vodkatini\\', \\'Baked Butter Chicken Lasaqna\\', \\'Spaghetti Carbonara\\', \\'Straight Up Veg Burger\\', \\'BBQ Sloppy Chicken Burger\\', \\'HarryÃ\\x83\\\\x83Ã\\x82\\\\x83Ã\\x83\\\\x82Ã\\x82\\\\x83Ã\\x83\\\\x83Ã\\x82\\\\x82Ã\\x83\\\\x82Ã\\x82Â¢Ã\\x83\\\\x83Ã\\x82\\\\x83Ã\\x83\\\\x82Ã\\x82\\\\x82Ã\\x83\\\\x83Ã\\x82\\\\x82Ã\\x83\\\\x82Ã\\x82\\\\x80Ã\\x83\\\\x83Ã\\x82\\\\x83Ã\\x83\\\\x82Ã\\x82\\\\x82Ã\\x83\\\\x83Ã\\x82\\\\x82Ã\\x83\\\\x82Ã\\x82\\\\x99s Lamb Burger\\', \\'Jazz Burger\\', \\'Paneer Bhurji Pav\\', \\'Egg Kejriwal\\', \\'Anda Bhurji Pav\\', \\'Omelette Pav\\', \\'Egg Chilly\\', \\'Goan Rassa Omelette with Pav\\', \\'Veg Wok Tossed Ginger Sprout Noodles with Crackling Spinach\\', \\'Veg Kung Pao Curry\\', \\'Veg Thai Green Curry\\', \\'Veg Laksa\\', \\'Chicken Wok Tossed Ginger Sprout Noodles with Crackling Spinach\\', \\'Grilled Chilly Chicken\\', \\'Chicken Kung Pao Curry\\', \\'Chicken Thai Green Curry\\', \\'Chicken Laksa\\', \\'Sri Lankan Black Pepper Chicken\\', \\'Nasi Stir Fry Rice\\', \\'Fish Wok Tossed Ginger Sprout Noodles with Crackling Spinach\\', \\'Seafood Kung Pao Curry\\', \\'Seafood Thai Green Curry\\', \\'Seafood Laksa\\', \\'Bangkok Seafood Bowl\\', \\'Crispy Garlic Bread\\', \\'Classic Masala Peanut\\', \\'Salt and Pepper Corn\\', \\'Bombay Spiced Wedges\\', \\'Harrys Onion Rings\\', \\'French Fries\\', \\'Crispy Chilli Potatoes\\', \\'Baked Sweet Potato Wedges\\', \\'Peri Peri Salsa Fries\\', \\'Parmigiana Truffle Fries\\', \\'Chicken Tikka Poutine\\', \\'Lamb Lovers Fries\\', \\'Paneer Bhurji Pav\\', \\'Cheese Chilli Toast\\', \\'Pita Chips with Classic Hummus\\', \\'Paneer Chilli Dry\\', \\'Veg Smoked Quesadillas\\', \\'Fondue Stuffed Mushrooms\\', \\'Wonton Kachories\\', \\'Cottage Cheese Malaysian Satay\\', \\'Muchos Nachos Veggie\\', \"Harry\\'s Cheese Fondue Veg Dunks\", \\'Non Veg Smoked Quesadillas\\', \\'Chilli Chicken\\', \\'Chicken Malaysian Satay\\', \\'Drunken Chicken\\', \\'Crispy Chicken\\', \\'Andhra Chicken Pepper Fry\\', \\'Singapore Chicken Lollipop\\', \\'Fiery Schezwan Pepper Chicken\\', \\'Chilli Chicken Roll\\', \\'BBQ Rum Flambeed Wings\\', \\'Grilled Tenderloin Chilli Fry\\', \\'Keema Pav\\', \\'Pigs in a Blanket\\', \\'Kerala Buff Chilly\\', \\'Buffalo Chicken Winglets\\', \\'Pattaya Beach Fish Goujons\\', \\'Fishermans Basket\\', \"Harry\\'s Cheese Fondue Non Veg Dunks\", \\'Paneer Urban Tikka Masala\\', \"Veg Harry\\'s Stroganoff\", \\'Chicken Urban Tikka Masala\\', \\'Jamaican Jerk Chicken\\', \"Chicken Harry\\'s Stroganoff\", \\'Harrys Pepper Chicken\\', \\'Peppered Tenderloin Steak\\', \"Harry\\'s Beer Batter Fish\", \\'Smoked Paprika Fish\\', \\'Darsaan\\', \\'Sizzling Brownie\\']'\n",
      " '[\\'Chicken Wings\\', \\'Pepper Chicken\\', \"Beef Grilled One\\'s Burger\", \\'Spicy Louisiana Pizza\\', \\'Chilly Chicken Pizza\\', \\'Chicken Mexicana Pizza\\', \\'Veg Italian Tomato and Fresh Basil Soup\\', \\'Chicken Lemon Coriander Soup\\', \\'Southern Fried Chicken\\', \\'Chicken Wings\\', \\'Gambas\\', \\'Bbq Jerk Chicken\\', \\'Chicken Nachos Carnitos\\', \\'Spicy Chicken Carrebbean Sausages\\', \\'Spicy Pork Carrebbean Sausages\\', \\'Pork Nachos Carnitos\\', \\'Beef Spicy New Orleans Braised Meat\\', \\'Cajun Spiced Fish Fingers\\', \\'Pepper Chicken\\', \\'Chicken Apollo Style\\', \\'Prawns Apollo Style\\', \\'Chicken Streetside Chilly Style\\', \\'Beef Streetside Chilly Style\\', \\'Pork Streetside Chilly Style\\', \\'Chicken Manchurian Style\\', \"Chicken Spicy Chef\\'s Special Style\", \"Beef Spicy Chef\\'s Special Style\", \"Chicken Kim\\'s Style\", \\'Beef Nachos Carnitos\\', \"Beef Kim\\'s Style\", \"Pork Kim\\'s Style\", \\'Chettinad Chicken Roast\\', \\'Chettinad Pudhina Chicken Roast\\', \\'Chicken Kabab\\', \"Prawns Spicy Chef\\'s Special Style\", \\'Prawns Manchurian Style\\', \\'Fried Beef\\', \\'Pork Spicy New Orleans Braised Meat\\', \\'Fried Pork\\', \"Prawns Kim\\'s Style\", \\'Fish Manchurian Style\\', \"Fish Spicy Chef\\'s Special Style\", \\'Fish Streetside Chilly Style\\', \\'Fish Apollo Style\\', \"Fish Kim\\'s Style\", \\'Pork Streetside Chilly Style\\', \"Pork Spicy Chef\\'s Special Style\", \\'Pork Manchurian Style\\', \\'Beef Manchurian Style\\', \"Paneer Korean Kim\\'s Style\", \\'Paneer Tangy Spinach Sauce\\', \\'Paneer Apollo Style Sauce\\', \\'Paneer Singaporean Style Sauce\\', \\'Paneer Ginger Chilly Garlic Sauce\\', \\'Paneer Ginger Chilly Garlic Sauce\\', \\'Paneer Ginger Chilly Garlic Sauce\\', \\'Paneer Hot Garlic Sauce\\', \\'Paneer Lemon Coriander Sauce\\', \"Veg Korean Kim\\'s Style\", \\'Veg Tangy Spinach Sauce\\', \\'Veg Apollo Style Sauce\\', \"Veg Korean Kim\\'s Style\", \\'Veg Singaporean Style Sauce\\', \\'Veg Ginger Chilly Garlic Sauce Burger\\', \\'Veg Chefs Super Spicy Style\\', \\'Veg Hot Garlic Sauce\\', \\'Lemon Coriander Sauce\\', \"Chicken Korean Kim\\'s Style\", \\'Chicken Tangy Spinach Sauce\\', \\'Apollo Style Sauce\\', \\'Chicken Singaporean Style Sauce\\', \\'Chicken Singaporean Style Sauce\\', \\'Chicken Chefs Super Spicy Style\\', \\'Chicken Hot Garlic Sauce\\', \\'Chicken Hot Garlic Sauce\\', \"Beef Korean Kim\\'s Style\", \\'Beef Tangy Spinach Sauce\\', \\'Beef Apollo Style Sauce\\', \\'Beef Singaporean Style Sauce\\', \\'Beef Ginger Chilly Garlic Sauce\\', \\'Beef Chefs Super Spicy Style\\', \\'Beef Chefs Super Spicy Style\\', \\'Beef Hot Garlic Sauce\\', \\'Beef Lemon Coriander Sauce\\', \"Pork Korean Kim\\'s Style\", \\'Pork Tangy Spinach Sauce\\', \\'Pork Apollo Style Sauce\\', \\'Pork Singaporean Style Sauce\\', \\'Pork Ginger Chilly Garlic Sauce\\', \\'Pork Chefs Super Spicy Style\\', \\'Pork Hot Garlic Sauce\\', \\'Pork Lemon Coriander Sauce\\', \"Fish Korean Kim\\'s Style\", \\'Fish Tangy Spinach Sauce\\', \\'Fish Apollo Style Sauce\\', \\'Fish Singaporean Style Sauce\\', \\'Fish Ginger Chilly Garlic Sauce\\', \\'Fish Chefs Super Spicy Style\\', \\'Fish Hot Garlic Sauce\\', \\'Fish Lemon Coriander Sauce\\', \"Korean Kim\\'s Style\", \\'Prawns Tangy Spinach Sauce\\', \\'Prawns Apollo Style Sauce\\', \\'Prawns Apollo Style Sauce\\', \\'Prawns Ginger Chilly Garlic Sauce\\', \\'Prawns Chefs Super Spicy Style\\', \\'Prawns Hot Garlic Sauce\\', \\'Prawns Lemon Coriander Sauce\\', \\'Veg Stir Fried Rice\\', \\'Veg Mongolian Rice\\', \\'Veg Olivers Spicy Rice\\', \\'Veg Singaporean Rice\\', \\'Egg Stir Fried Rice\\', \\'Egg Mongolian Rice\\', \\'Egg Olivers Spicy Rice\\', \\'Egg Singaporean Rice\\', \\'Chicken Stir Fried Rice\\', \\'Chicken Mongolian Rice\\', \\'Chicken Olivers Spicy Rice\\', \\'Chicken Singaporean Rice\\', \\'Beef Stir Fried Rice\\', \\'Beef Mongolian Rice\\', \\'Beef Olivers Spicy Rice\\', \\'Beef Singaporean Rice\\', \\'Pork Stir Fried Rice\\', \\'Pork Mongolian Rice\\', \\'Pork Olivers Spicy Rice\\', \\'Pork Singaporean Rice\\', \\'Fish Stir Fried Rice\\', \\'Fish Mongolian Rice\\', \\'Fish Olivers Spicy Rice\\', \\'Fish Singaporean Rice\\', \\'Prawns Stir Fried Rice\\', \\'Prawns Mongolian Rice\\', \\'Prawns Olivers Spicy Rice\\', \\'Prawns Singaporean Rice\\', \\'Veg Stir Fried Noodles\\', \\'Veg Mongolian Noodles\\', \\'Veg Olivers Spicy Noodles\\', \\'Veg Singaporean Noodles\\', \\'Egg Stir Fried Noodles\\', \\'Egg Mongolian Noodles\\', \\'Egg Olivers Spicy Noodles\\', \\'Egg Singaporean Noodles\\', \\'Chicken Stir Fried Noodles\\', \\'Chicken Mongolian Noodles\\', \\'Chicken Olivers Spicy Noodles\\', \\'Chicken Singaporean Noodles\\', \\'Beef Stir Fried Noodles\\', \\'Beef Mongolian Noodles\\', \\'Beef Olivers Spicy Noodles\\', \\'Beef Singaporean Noodles\\', \\'Pork Stir Fried Noodles\\', \\'Pork Mongolian Noodles\\', \\'Pork Olivers Spicy Noodles\\', \\'Pork Singaporean Noodles\\', \\'Fish Stir Fried Noodles\\', \\'Fish Mongolian Noodles\\', \\'Fish Olivers Spicy Noodles\\', \\'Fish Singaporean Noodles\\', \\'Prawns Stir Fried Noodles\\', \\'Prawns Mongolian Noodles\\', \\'Prawns Olivers Spicy Noodles\\', \\'Prawns Singaporean Noodles\\', \\'Mexican Bean Burger\\', \\'Bean Bbq\\', \\'Ginger Chilly Garlic Sauce Burger\\', \\'Cottage Cheese Jerky Burgers\\', \\'Spinach Ricotta Smashers\\', \\'Grilled Pepper Smashers\\', \\'Grilled Veg Sandwich\\', \\'Falafel\\', \\'Eggplant Parm\\', \"Chicken Grilled One\\'s Burger\", \"Beef Grilled One\\'s Burger\", \\'Almost Famous Moo Burger\\', \\'Miami Chicken Burger\\', \\'Miami Beef Burger\\', \\'Philly Cheesesteak Burger\\', \\'Santa Fe Beef Burger\\', \\'Cleveland Sandwich\\', \\'Philly Cheese Steak Sandwich\\', \\'Cuban Sandwich\\', \\'Pulled Chicken Sandwich\\', \\'Beef Saigon Bahn Mi Sandwich\\', \\'Pork Saigon Bahn Mi Sandwich\\', \\'Cheese Garlic Bread\\', \\'Jalapeno Poppers\\', \\'Cajun Spiced Potato Wedges\\', \\'Bruschetta\\', \\'Spring Rolls\\', \\'Crispy Potato Fingers\\', \\'Manchurian Style\\', \\'Streeside Chilly Style\\', \\'Crispy Fried Babycorn\\', \\'American Corn Bombs\\', \\'Cripsy Fried Paneer\\', \\'Pepper Salt\\', \\'OliverÃ\\x83\\\\x83Ã\\x82\\\\x83Ã\\x83\\\\x82Ã\\x82\\\\x83Ã\\x83\\\\x83Ã\\x82\\\\x82Ã\\x83\\\\x82Ã\\x82Â¢Ã\\x83\\\\x83Ã\\x82\\\\x83Ã\\x83\\\\x82Ã\\x82\\\\x82Ã\\x83\\\\x83Ã\\x82\\\\x82Ã\\x83\\\\x82Ã\\x82\\\\x80Ã\\x83\\\\x83Ã\\x82\\\\x83Ã\\x83\\\\x82Ã\\x82\\\\x82Ã\\x83\\\\x83Ã\\x82\\\\x82Ã\\x83\\\\x82Ã\\x82\\\\x99s Pepper Masala Paneer Roast\\', \\'OliverÃ\\x83\\\\x83Ã\\x82\\\\x83Ã\\x83\\\\x82Ã\\x82\\\\x83Ã\\x83\\\\x83Ã\\x82\\\\x82Ã\\x83\\\\x82Ã\\x82Â¢Ã\\x83\\\\x83Ã\\x82\\\\x83Ã\\x83\\\\x82Ã\\x82\\\\x82Ã\\x83\\\\x83Ã\\x82\\\\x82Ã\\x83\\\\x82Ã\\x82\\\\x80Ã\\x83\\\\x83Ã\\x82\\\\x83Ã\\x83\\\\x82Ã\\x82\\\\x82Ã\\x83\\\\x83Ã\\x82\\\\x82Ã\\x83\\\\x82Ã\\x82\\\\x99s Chettinad Aloo Roast\\', \\'OliverÃ\\x83\\\\x83Ã\\x82\\\\x83Ã\\x83\\\\x82Ã\\x82\\\\x83Ã\\x83\\\\x83Ã\\x82\\\\x82Ã\\x83\\\\x82Ã\\x82Â¢Ã\\x83\\\\x83Ã\\x82\\\\x83Ã\\x83\\\\x82Ã\\x82\\\\x82Ã\\x83\\\\x83Ã\\x82\\\\x82Ã\\x83\\\\x82Ã\\x82\\\\x80Ã\\x83\\\\x83Ã\\x82\\\\x83Ã\\x83\\\\x82Ã\\x82\\\\x82Ã\\x83\\\\x83Ã\\x82\\\\x82Ã\\x83\\\\x82Ã\\x82\\\\x99s Pudhina Aloo Roast\\', \\'Onion Pakoda\\', \\'Paneer Pakoda\\', \\'Egg Bhurji\\', \\'Masala Egg Pakoda\\', \\'Masala Omlette\\', \\'Egg Bhurji With Bacon & Sausage\\', \\'Chilly Egg\\', \\'Egg Bhurji With Bacon And Sausage\\', \\'Pizza Margharita\\', \\'Spicy Louisiana Pizza\\', \\'Wilted Spinach Pizza\\', \\'Eggplant Pizza\\', \\'Patata Salsa Pizza\\', \\'Stirfried Babycorn Pizza\\', \\'Arugula Pizza\\', \\'Pesto Shrooms Pizza\\', \\'Chilly Paneer Pizza\\', \\'Spicy Peri Peri Paneer & Spinach Pizza\\', \\'Mexican Nachos Special Pizza\\', \\'Chicken BBQ Pizza\\', \\'Chicken Sausage Pizza\\', \\'Chilly Chicken Pizza\\', \\'Chicken 65 Pizza\\', \\'Chicken Mexicana Pizza\\', \\'Chicken Bolognese Pizza\\', \\'Mexican Chicken Nachos Pizza\\', \\'Mexican Beef Nachos Pizza\\', \\'Arugula Bacon Pizza\\', \\'Pepperoni Pizza\\', \\'Chorizo Pizza\\', \\'Chocolate Brownie\\']'\n",
      " \"['Dal Tadka', 'Dal Makhani', 'Paneer Tikka Masala', 'Kadai Paneer', 'Paneer Makhani', 'Malai Kofta', 'Mutton Rogan Josh', 'Jeera Rice', 'Veg Biryani', 'Murgh Dum Biryani', 'Murgh Dum Biryani [Family Pack]', 'Hara Bara Kabab', 'Paneer Tikka', 'Tandoori Murgh', 'Murgh Lahori Kalmi', 'Jalebi with Rabdi', 'Roomali Roti', 'Afghani Naan', 'Stuffed Paratha', 'Paneer Tikka Masala Meal', 'Paneer Makhani Meal', 'Veg Biryani Meal', 'Executive Veg Box Meal', 'Executive Non Veg Box Meal', 'Rajma Meal', 'Peshawari Channa Meal', 'Paneer Tikka Masala Meal', 'Paneer Makhani Meal', 'Egg Curry Meal', 'Butter Chicken Meal', 'Rara Murgh Meal', 'Mutton Rogan Josh Meal', 'Rara Mutton Meal', 'Veg Biryani Meal', 'Egg Biryani Meal', 'Murgh Dum Biryani Meal', 'Murgh Tikka Biryani Meal', 'Mutton Biryani Meal', 'Prawns Biryani Meal', 'Executive Veg Box Meal', 'Executive Non Veg Box Meal', 'Tomato Shorba', 'Murgh Shorba', 'Bagicha ka Salad', 'Karela Salad', 'Kaju Fry Salad', 'Murgh Tikka Salad', 'French Fries', 'Aloo Tak-a-Tak', 'Baby Corn Harimirch Wala', 'Bhatti ka Gobi', 'Hara Bara Kabab', 'Tandoori Mushroom', 'Mushroom Harimirch Wala', 'Paneer Resunga', 'Paneer Tikka', 'Peshawari Seekh Kabab', 'Tandoori Murgh', 'Murgh Lahori Kalmi', 'Mutton Pepper Dry', 'Macchi Amritsari', 'Macchi Tak-a-Tak', 'Tawa Macchi', 'Prawns Balaika', 'Prawns Tak-a-Tak', 'Tandoori Prawns', 'Prawns Harimirch Wala', 'Dal Tadka', 'Dal Makhani', 'Paneer Tikka Masala', 'Paneer Saagwala', 'Kadai Paneer', 'Paneer Makhani', 'Mushroom Matar', 'Veg Patiala', 'Diwani Handi', 'Kadai Veg', 'Rajma', 'Sarson ka Saag', 'Aloo Gobi Masala', 'Bhindi Do Pyaza', 'Peshawari Channa', 'Malai Kofta', 'Kaju Masala', 'Egg Bhurji', 'Egg Masala', 'Rarra Mutton', 'Mutton Rogan Josh', 'Methi Macchi Masala', 'Macchi Jalfrezi', 'Prawns Masala', 'Plain Rice', 'Curd Rice', 'Jeera Rice', 'Veg Pulao', 'Peas Pulao', 'Veg Biryani', 'Egg Biryani', 'Murgh Dum Biryani', 'Murgh Tikka Biryani', 'Mutton Biryani', 'Prawns Biryani', 'Egg Biryani [Family Pack]', 'Murgh Dum Biryani [Family Pack]', 'Murgh Tikka Biryani [Family Pack]', 'Mutton Biryani [Family Pack]', 'Prawns Biryani [Family Pack]', 'Phulka', 'Roti', 'Butter Roti', 'Harimirch Paratha', 'Lalmirch Paratha', 'Garlic Naan', 'Naan', 'Butter Naan', 'Lachha Paratha', 'Kulcha', 'Butter Kulcha', 'Makkai Ki Roti', 'Roomali Roti', 'Afghani Naan', 'Peshawari Paratha', 'Stuffed Paratha', '8 Roti ka Chota Khazana', '12 Roti ka Bada Khazana', 'Egg Paratha', 'Mutton Keema Paratha', 'Roasted Papad', 'Masala Papad', 'Plain Curd', 'Mixed Veg Raita', 'Boondi Raita', 'Cucumber Raita', 'Pineapple Raita', 'Onion Raita', 'Mint Raita', 'Rabdi', 'Jalebi', 'Jalebi with Rabdi', 'Gulab Jamun', 'Rasgulla', 'Bhune Jeere ki Chaach', 'Jal Jeera', 'Meetha Punjabi Lassi', 'Namkeen Punjabi Lassi', 'Masala Punjabi Lassi', 'Patiala Punjabi Lassi', 'Meetha Nimboo Paani', 'Namkeen Nimboo Paani', 'Roohafza Sherbat', 'Mineral Water [1 litre]']\"] \n",
      " ****************************************************************************************************\n",
      "listed_in(type)\n",
      "7\n",
      "['Buffet' 'Cafes' 'Delivery' 'Desserts' 'Dine-out' 'Drinks & nightlife'\n",
      " 'Pubs and bars'] \n",
      " ****************************************************************************************************\n",
      "listed_in(city)\n",
      "30\n",
      "['Banashankari' 'Bannerghatta Road' 'Basavanagudi' 'Bellandur'\n",
      " 'Brigade Road' 'Brookefield' 'BTM' 'Church Street' 'Electronic City'\n",
      " 'Frazer Town' 'HSR' 'Indiranagar' 'Jayanagar' 'JP Nagar' 'Kalyan Nagar'\n",
      " 'Kammanahalli' 'Koramangala 4th Block' 'Koramangala 5th Block'\n",
      " 'Koramangala 6th Block' 'Koramangala 7th Block' 'Lavelle Road'\n",
      " 'Malleshwaram' 'Marathahalli' 'MG Road' 'New BEL Road' 'Old Airport Road'\n",
      " 'Rajajinagar' 'Residency Road' 'Sarjapur Road' 'Whitefield'] \n",
      " ****************************************************************************************************\n"
     ]
    }
   ],
   "source": [
    "for col in df:\n",
    "    print(col)\n",
    "    print(df[col].nunique())\n",
    "    print(df[col].unique(), '\\n', '*' * 100)"
   ]
  },
  {
   "cell_type": "code",
   "execution_count": 10,
   "id": "98f2ab19",
   "metadata": {},
   "outputs": [
    {
     "data": {
      "text/plain": [
       "Index(['online_order', 'book_table', 'rate', 'votes', 'location', 'rest_type',\n",
       "       'cuisines', 'approx_cost(for two people)', 'listed_in(type)',\n",
       "       'listed_in(city)'],\n",
       "      dtype='object')"
      ]
     },
     "execution_count": 10,
     "metadata": {},
     "output_type": "execute_result"
    }
   ],
   "source": [
    "# drop unnecessary columns and 'dish_liked' that have 54% missing \n",
    "\n",
    "drop_cols = ['url', 'address', 'name', 'phone', 'reviews_list', 'menu_item','dish_liked']\n",
    "\n",
    "df.drop(columns=drop_cols, inplace=True)\n",
    "\n",
    "df.columns\n"
   ]
  },
  {
   "cell_type": "code",
   "execution_count": 11,
   "id": "67a6486b",
   "metadata": {},
   "outputs": [
    {
     "data": {
      "text/plain": [
       "np.int64(372)"
      ]
     },
     "execution_count": 11,
     "metadata": {},
     "output_type": "execute_result"
    }
   ],
   "source": [
    "df.duplicated().sum()"
   ]
  },
  {
   "cell_type": "code",
   "execution_count": 12,
   "id": "04a2a7c4",
   "metadata": {},
   "outputs": [],
   "source": [
    "df.drop_duplicates(inplace=True , ignore_index=True)\n"
   ]
  },
  {
   "cell_type": "code",
   "execution_count": 13,
   "id": "b433b978",
   "metadata": {},
   "outputs": [
    {
     "data": {
      "text/plain": [
       "online_order                    0.00\n",
       "book_table                      0.00\n",
       "rate                           14.65\n",
       "votes                           0.00\n",
       "location                        0.04\n",
       "rest_type                       0.44\n",
       "cuisines                        0.08\n",
       "approx_cost(for two people)     0.66\n",
       "listed_in(type)                 0.00\n",
       "listed_in(city)                 0.00\n",
       "dtype: float64"
      ]
     },
     "execution_count": 13,
     "metadata": {},
     "output_type": "execute_result"
    }
   ],
   "source": [
    "round(df.isna().mean()*100,2)"
   ]
  },
  {
   "cell_type": "code",
   "execution_count": 14,
   "id": "2f833121",
   "metadata": {},
   "outputs": [
    {
     "data": {
      "text/plain": [
       "Index(['online_order', 'book_table', 'rate', 'location', 'rest_type',\n",
       "       'cuisines', 'approx_cost(for two people)', 'listed_in(type)',\n",
       "       'listed_in(city)'],\n",
       "      dtype='object')"
      ]
     },
     "execution_count": 14,
     "metadata": {},
     "output_type": "execute_result"
    }
   ],
   "source": [
    "df.select_dtypes(include= 'object').columns"
   ]
  },
  {
   "cell_type": "code",
   "execution_count": 15,
   "id": "5afc5b21",
   "metadata": {},
   "outputs": [
    {
     "name": "stderr",
     "output_type": "stream",
     "text": [
      "C:\\Users\\hp\\AppData\\Local\\Temp\\ipykernel_3628\\3891272953.py:3: FutureWarning: A value is trying to be set on a copy of a DataFrame or Series through chained assignment using an inplace method.\n",
      "The behavior will change in pandas 3.0. This inplace method will never work because the intermediate object on which we are setting values always behaves as a copy.\n",
      "\n",
      "For example, when doing 'df[col].method(value, inplace=True)', try using 'df.method({col: value}, inplace=True)' or df[col] = df[col].method(value) instead, to perform the operation inplace on the original object.\n",
      "\n",
      "\n",
      "  df['rate(?/5)'].replace(['NEW', '-'], np.nan, inplace=True)\n"
     ]
    }
   ],
   "source": [
    "df.rename(columns={'rate': 'rate(?/5)'}, inplace=True)\n",
    "\n",
    "df['rate(?/5)'].replace(['NEW', '-'], np.nan, inplace=True)\n",
    "\n",
    "df['rate(?/5)'] = df['rate(?/5)'].str.replace('/5', '', regex=False)\n",
    "\n",
    "df['rate(?/5)'] = df[\"rate(?/5)\"].astype(float)\n"
   ]
  },
  {
   "cell_type": "code",
   "execution_count": 16,
   "id": "28a27125",
   "metadata": {},
   "outputs": [],
   "source": [
    "df[\"approx_cost(for two people)\"] = df[\"approx_cost(for two people)\"].str.replace(',','',regex=False)\n"
   ]
  },
  {
   "cell_type": "code",
   "execution_count": 17,
   "id": "1ff51313",
   "metadata": {},
   "outputs": [
    {
     "data": {
      "text/plain": [
       "online_order                    0.00\n",
       "book_table                      0.00\n",
       "rate(?/5)                      19.01\n",
       "votes                           0.00\n",
       "location                        0.04\n",
       "rest_type                       0.44\n",
       "cuisines                        0.08\n",
       "approx_cost(for two people)     0.66\n",
       "listed_in(type)                 0.00\n",
       "listed_in(city)                 0.00\n",
       "dtype: float64"
      ]
     },
     "execution_count": 17,
     "metadata": {},
     "output_type": "execute_result"
    }
   ],
   "source": [
    "round(df.isna().mean()*100,2)"
   ]
  },
  {
   "cell_type": "code",
   "execution_count": 18,
   "id": "e9e71a15",
   "metadata": {},
   "outputs": [],
   "source": [
    "df.dropna(subset= ['location', 'rest_type', 'cuisines', 'approx_cost(for two people)','rate(?/5)'], inplace=True, ignore_index= True)"
   ]
  },
  {
   "cell_type": "code",
   "execution_count": 19,
   "id": "5f73a223",
   "metadata": {},
   "outputs": [
    {
     "data": {
      "text/plain": [
       "np.int64(0)"
      ]
     },
     "execution_count": 19,
     "metadata": {},
     "output_type": "execute_result"
    }
   ],
   "source": [
    "df.duplicated().sum()"
   ]
  },
  {
   "cell_type": "code",
   "execution_count": 20,
   "id": "092afd37",
   "metadata": {},
   "outputs": [],
   "source": [
    "df.drop_duplicates(inplace=True, ignore_index=True)"
   ]
  },
  {
   "cell_type": "code",
   "execution_count": 21,
   "id": "55c4245e",
   "metadata": {},
   "outputs": [
    {
     "data": {
      "text/plain": [
       "online_order                   0.0\n",
       "book_table                     0.0\n",
       "rate(?/5)                      0.0\n",
       "votes                          0.0\n",
       "location                       0.0\n",
       "rest_type                      0.0\n",
       "cuisines                       0.0\n",
       "approx_cost(for two people)    0.0\n",
       "listed_in(type)                0.0\n",
       "listed_in(city)                0.0\n",
       "dtype: float64"
      ]
     },
     "execution_count": 21,
     "metadata": {},
     "output_type": "execute_result"
    }
   ],
   "source": [
    "round(df.isna().mean()*100,2)"
   ]
  },
  {
   "cell_type": "code",
   "execution_count": 22,
   "id": "a0038546",
   "metadata": {},
   "outputs": [],
   "source": [
    "df['approx_cost(for two people)'] = df[\"approx_cost(for two people)\"].astype(int)"
   ]
  },
  {
   "cell_type": "code",
   "execution_count": 23,
   "id": "bf78108b",
   "metadata": {},
   "outputs": [
    {
     "data": {
      "text/html": [
       "<div>\n",
       "<style scoped>\n",
       "    .dataframe tbody tr th:only-of-type {\n",
       "        vertical-align: middle;\n",
       "    }\n",
       "\n",
       "    .dataframe tbody tr th {\n",
       "        vertical-align: top;\n",
       "    }\n",
       "\n",
       "    .dataframe thead th {\n",
       "        text-align: right;\n",
       "    }\n",
       "</style>\n",
       "<table border=\"1\" class=\"dataframe\">\n",
       "  <thead>\n",
       "    <tr style=\"text-align: right;\">\n",
       "      <th></th>\n",
       "      <th>online_order</th>\n",
       "      <th>book_table</th>\n",
       "      <th>rate(?/5)</th>\n",
       "      <th>votes</th>\n",
       "      <th>location</th>\n",
       "      <th>rest_type</th>\n",
       "      <th>cuisines</th>\n",
       "      <th>approx_cost(for two people)</th>\n",
       "      <th>listed_in(type)</th>\n",
       "      <th>listed_in(city)</th>\n",
       "    </tr>\n",
       "  </thead>\n",
       "  <tbody>\n",
       "    <tr>\n",
       "      <th>0</th>\n",
       "      <td>Yes</td>\n",
       "      <td>Yes</td>\n",
       "      <td>4.1</td>\n",
       "      <td>775</td>\n",
       "      <td>Banashankari</td>\n",
       "      <td>Casual Dining</td>\n",
       "      <td>North Indian, Mughlai, Chinese</td>\n",
       "      <td>800</td>\n",
       "      <td>Buffet</td>\n",
       "      <td>Banashankari</td>\n",
       "    </tr>\n",
       "    <tr>\n",
       "      <th>1</th>\n",
       "      <td>Yes</td>\n",
       "      <td>No</td>\n",
       "      <td>4.1</td>\n",
       "      <td>787</td>\n",
       "      <td>Banashankari</td>\n",
       "      <td>Casual Dining</td>\n",
       "      <td>Chinese, North Indian, Thai</td>\n",
       "      <td>800</td>\n",
       "      <td>Buffet</td>\n",
       "      <td>Banashankari</td>\n",
       "    </tr>\n",
       "    <tr>\n",
       "      <th>2</th>\n",
       "      <td>Yes</td>\n",
       "      <td>No</td>\n",
       "      <td>3.8</td>\n",
       "      <td>918</td>\n",
       "      <td>Banashankari</td>\n",
       "      <td>Cafe, Casual Dining</td>\n",
       "      <td>Cafe, Mexican, Italian</td>\n",
       "      <td>800</td>\n",
       "      <td>Buffet</td>\n",
       "      <td>Banashankari</td>\n",
       "    </tr>\n",
       "    <tr>\n",
       "      <th>3</th>\n",
       "      <td>No</td>\n",
       "      <td>No</td>\n",
       "      <td>3.7</td>\n",
       "      <td>88</td>\n",
       "      <td>Banashankari</td>\n",
       "      <td>Quick Bites</td>\n",
       "      <td>South Indian, North Indian</td>\n",
       "      <td>300</td>\n",
       "      <td>Buffet</td>\n",
       "      <td>Banashankari</td>\n",
       "    </tr>\n",
       "    <tr>\n",
       "      <th>4</th>\n",
       "      <td>No</td>\n",
       "      <td>No</td>\n",
       "      <td>3.8</td>\n",
       "      <td>166</td>\n",
       "      <td>Basavanagudi</td>\n",
       "      <td>Casual Dining</td>\n",
       "      <td>North Indian, Rajasthani</td>\n",
       "      <td>600</td>\n",
       "      <td>Buffet</td>\n",
       "      <td>Banashankari</td>\n",
       "    </tr>\n",
       "    <tr>\n",
       "      <th>...</th>\n",
       "      <td>...</td>\n",
       "      <td>...</td>\n",
       "      <td>...</td>\n",
       "      <td>...</td>\n",
       "      <td>...</td>\n",
       "      <td>...</td>\n",
       "      <td>...</td>\n",
       "      <td>...</td>\n",
       "      <td>...</td>\n",
       "      <td>...</td>\n",
       "    </tr>\n",
       "    <tr>\n",
       "      <th>41180</th>\n",
       "      <td>No</td>\n",
       "      <td>No</td>\n",
       "      <td>3.7</td>\n",
       "      <td>34</td>\n",
       "      <td>Whitefield</td>\n",
       "      <td>Casual Dining, Bar</td>\n",
       "      <td>North Indian, Continental</td>\n",
       "      <td>800</td>\n",
       "      <td>Pubs and bars</td>\n",
       "      <td>Whitefield</td>\n",
       "    </tr>\n",
       "    <tr>\n",
       "      <th>41181</th>\n",
       "      <td>No</td>\n",
       "      <td>No</td>\n",
       "      <td>2.5</td>\n",
       "      <td>81</td>\n",
       "      <td>Whitefield</td>\n",
       "      <td>Casual Dining, Bar</td>\n",
       "      <td>Andhra, South Indian, Chinese, North Indian</td>\n",
       "      <td>800</td>\n",
       "      <td>Pubs and bars</td>\n",
       "      <td>Whitefield</td>\n",
       "    </tr>\n",
       "    <tr>\n",
       "      <th>41182</th>\n",
       "      <td>No</td>\n",
       "      <td>No</td>\n",
       "      <td>3.6</td>\n",
       "      <td>27</td>\n",
       "      <td>Whitefield</td>\n",
       "      <td>Bar</td>\n",
       "      <td>Continental</td>\n",
       "      <td>1500</td>\n",
       "      <td>Pubs and bars</td>\n",
       "      <td>Whitefield</td>\n",
       "    </tr>\n",
       "    <tr>\n",
       "      <th>41183</th>\n",
       "      <td>No</td>\n",
       "      <td>Yes</td>\n",
       "      <td>4.3</td>\n",
       "      <td>236</td>\n",
       "      <td>ITPL Main Road, Whitefield</td>\n",
       "      <td>Bar</td>\n",
       "      <td>Finger Food</td>\n",
       "      <td>2500</td>\n",
       "      <td>Pubs and bars</td>\n",
       "      <td>Whitefield</td>\n",
       "    </tr>\n",
       "    <tr>\n",
       "      <th>41184</th>\n",
       "      <td>No</td>\n",
       "      <td>No</td>\n",
       "      <td>3.4</td>\n",
       "      <td>13</td>\n",
       "      <td>ITPL Main Road, Whitefield</td>\n",
       "      <td>Bar, Casual Dining</td>\n",
       "      <td>Finger Food, North Indian, Continental</td>\n",
       "      <td>1500</td>\n",
       "      <td>Pubs and bars</td>\n",
       "      <td>Whitefield</td>\n",
       "    </tr>\n",
       "  </tbody>\n",
       "</table>\n",
       "<p>41185 rows × 10 columns</p>\n",
       "</div>"
      ],
      "text/plain": [
       "      online_order book_table  rate(?/5)  votes                    location  \\\n",
       "0              Yes        Yes        4.1    775                Banashankari   \n",
       "1              Yes         No        4.1    787                Banashankari   \n",
       "2              Yes         No        3.8    918                Banashankari   \n",
       "3               No         No        3.7     88                Banashankari   \n",
       "4               No         No        3.8    166                Basavanagudi   \n",
       "...            ...        ...        ...    ...                         ...   \n",
       "41180           No         No        3.7     34                  Whitefield   \n",
       "41181           No         No        2.5     81                  Whitefield   \n",
       "41182           No         No        3.6     27                  Whitefield   \n",
       "41183           No        Yes        4.3    236  ITPL Main Road, Whitefield   \n",
       "41184           No         No        3.4     13  ITPL Main Road, Whitefield   \n",
       "\n",
       "                 rest_type                                     cuisines  \\\n",
       "0            Casual Dining               North Indian, Mughlai, Chinese   \n",
       "1            Casual Dining                  Chinese, North Indian, Thai   \n",
       "2      Cafe, Casual Dining                       Cafe, Mexican, Italian   \n",
       "3              Quick Bites                   South Indian, North Indian   \n",
       "4            Casual Dining                     North Indian, Rajasthani   \n",
       "...                    ...                                          ...   \n",
       "41180   Casual Dining, Bar                    North Indian, Continental   \n",
       "41181   Casual Dining, Bar  Andhra, South Indian, Chinese, North Indian   \n",
       "41182                  Bar                                  Continental   \n",
       "41183                  Bar                                  Finger Food   \n",
       "41184   Bar, Casual Dining       Finger Food, North Indian, Continental   \n",
       "\n",
       "       approx_cost(for two people) listed_in(type) listed_in(city)  \n",
       "0                              800          Buffet    Banashankari  \n",
       "1                              800          Buffet    Banashankari  \n",
       "2                              800          Buffet    Banashankari  \n",
       "3                              300          Buffet    Banashankari  \n",
       "4                              600          Buffet    Banashankari  \n",
       "...                            ...             ...             ...  \n",
       "41180                          800   Pubs and bars      Whitefield  \n",
       "41181                          800   Pubs and bars      Whitefield  \n",
       "41182                         1500   Pubs and bars      Whitefield  \n",
       "41183                         2500   Pubs and bars      Whitefield  \n",
       "41184                         1500   Pubs and bars      Whitefield  \n",
       "\n",
       "[41185 rows x 10 columns]"
      ]
     },
     "execution_count": 23,
     "metadata": {},
     "output_type": "execute_result"
    }
   ],
   "source": [
    "df"
   ]
  },
  {
   "cell_type": "code",
   "execution_count": 24,
   "id": "96deb270",
   "metadata": {},
   "outputs": [
    {
     "name": "stdout",
     "output_type": "stream",
     "text": [
      "<class 'pandas.core.frame.DataFrame'>\n",
      "RangeIndex: 41185 entries, 0 to 41184\n",
      "Data columns (total 10 columns):\n",
      " #   Column                       Non-Null Count  Dtype  \n",
      "---  ------                       --------------  -----  \n",
      " 0   online_order                 41185 non-null  object \n",
      " 1   book_table                   41185 non-null  object \n",
      " 2   rate(?/5)                    41185 non-null  float64\n",
      " 3   votes                        41185 non-null  int64  \n",
      " 4   location                     41185 non-null  object \n",
      " 5   rest_type                    41185 non-null  object \n",
      " 6   cuisines                     41185 non-null  object \n",
      " 7   approx_cost(for two people)  41185 non-null  int64  \n",
      " 8   listed_in(type)              41185 non-null  object \n",
      " 9   listed_in(city)              41185 non-null  object \n",
      "dtypes: float64(1), int64(2), object(7)\n",
      "memory usage: 3.1+ MB\n"
     ]
    }
   ],
   "source": [
    "df.info()"
   ]
  },
  {
   "cell_type": "markdown",
   "id": "3505be26",
   "metadata": {},
   "source": [
    "# Data Analysis"
   ]
  },
  {
   "cell_type": "markdown",
   "id": "26d01db8",
   "metadata": {},
   "source": [
    "## Which cities have the highest number of restaurants?"
   ]
  },
  {
   "cell_type": "code",
   "execution_count": 25,
   "id": "f509c5ad",
   "metadata": {},
   "outputs": [
    {
     "data": {
      "application/vnd.plotly.v1+json": {
       "config": {
        "plotlyServerURL": "https://plot.ly"
       },
       "data": [
        {
         "hovertemplate": "city=%{x}<br>count=%{y}<extra></extra>",
         "legendgroup": "",
         "marker": {
          "color": "#636efa",
          "pattern": {
           "shape": ""
          }
         },
         "name": "",
         "orientation": "v",
         "showlegend": false,
         "textposition": "auto",
         "type": "bar",
         "x": [
          "BTM",
          "Koramangala 7th Block",
          "Koramangala 4th Block",
          "Koramangala 5th Block",
          "Koramangala 6th Block",
          "Jayanagar",
          "JP Nagar",
          "Indiranagar",
          "MG Road",
          "Church Street"
         ],
         "xaxis": "x",
         "y": {
          "bdata": "Ego3Cc0IxghICHoHYAb/BeUF1wU=",
          "dtype": "i2"
         },
         "yaxis": "y"
        }
       ],
       "layout": {
        "barmode": "relative",
        "legend": {
         "tracegroupgap": 0
        },
        "template": {
         "data": {
          "bar": [
           {
            "error_x": {
             "color": "#2a3f5f"
            },
            "error_y": {
             "color": "#2a3f5f"
            },
            "marker": {
             "line": {
              "color": "#E5ECF6",
              "width": 0.5
             },
             "pattern": {
              "fillmode": "overlay",
              "size": 10,
              "solidity": 0.2
             }
            },
            "type": "bar"
           }
          ],
          "barpolar": [
           {
            "marker": {
             "line": {
              "color": "#E5ECF6",
              "width": 0.5
             },
             "pattern": {
              "fillmode": "overlay",
              "size": 10,
              "solidity": 0.2
             }
            },
            "type": "barpolar"
           }
          ],
          "carpet": [
           {
            "aaxis": {
             "endlinecolor": "#2a3f5f",
             "gridcolor": "white",
             "linecolor": "white",
             "minorgridcolor": "white",
             "startlinecolor": "#2a3f5f"
            },
            "baxis": {
             "endlinecolor": "#2a3f5f",
             "gridcolor": "white",
             "linecolor": "white",
             "minorgridcolor": "white",
             "startlinecolor": "#2a3f5f"
            },
            "type": "carpet"
           }
          ],
          "choropleth": [
           {
            "colorbar": {
             "outlinewidth": 0,
             "ticks": ""
            },
            "type": "choropleth"
           }
          ],
          "contour": [
           {
            "colorbar": {
             "outlinewidth": 0,
             "ticks": ""
            },
            "colorscale": [
             [
              0,
              "#0d0887"
             ],
             [
              0.1111111111111111,
              "#46039f"
             ],
             [
              0.2222222222222222,
              "#7201a8"
             ],
             [
              0.3333333333333333,
              "#9c179e"
             ],
             [
              0.4444444444444444,
              "#bd3786"
             ],
             [
              0.5555555555555556,
              "#d8576b"
             ],
             [
              0.6666666666666666,
              "#ed7953"
             ],
             [
              0.7777777777777778,
              "#fb9f3a"
             ],
             [
              0.8888888888888888,
              "#fdca26"
             ],
             [
              1,
              "#f0f921"
             ]
            ],
            "type": "contour"
           }
          ],
          "contourcarpet": [
           {
            "colorbar": {
             "outlinewidth": 0,
             "ticks": ""
            },
            "type": "contourcarpet"
           }
          ],
          "heatmap": [
           {
            "colorbar": {
             "outlinewidth": 0,
             "ticks": ""
            },
            "colorscale": [
             [
              0,
              "#0d0887"
             ],
             [
              0.1111111111111111,
              "#46039f"
             ],
             [
              0.2222222222222222,
              "#7201a8"
             ],
             [
              0.3333333333333333,
              "#9c179e"
             ],
             [
              0.4444444444444444,
              "#bd3786"
             ],
             [
              0.5555555555555556,
              "#d8576b"
             ],
             [
              0.6666666666666666,
              "#ed7953"
             ],
             [
              0.7777777777777778,
              "#fb9f3a"
             ],
             [
              0.8888888888888888,
              "#fdca26"
             ],
             [
              1,
              "#f0f921"
             ]
            ],
            "type": "heatmap"
           }
          ],
          "histogram": [
           {
            "marker": {
             "pattern": {
              "fillmode": "overlay",
              "size": 10,
              "solidity": 0.2
             }
            },
            "type": "histogram"
           }
          ],
          "histogram2d": [
           {
            "colorbar": {
             "outlinewidth": 0,
             "ticks": ""
            },
            "colorscale": [
             [
              0,
              "#0d0887"
             ],
             [
              0.1111111111111111,
              "#46039f"
             ],
             [
              0.2222222222222222,
              "#7201a8"
             ],
             [
              0.3333333333333333,
              "#9c179e"
             ],
             [
              0.4444444444444444,
              "#bd3786"
             ],
             [
              0.5555555555555556,
              "#d8576b"
             ],
             [
              0.6666666666666666,
              "#ed7953"
             ],
             [
              0.7777777777777778,
              "#fb9f3a"
             ],
             [
              0.8888888888888888,
              "#fdca26"
             ],
             [
              1,
              "#f0f921"
             ]
            ],
            "type": "histogram2d"
           }
          ],
          "histogram2dcontour": [
           {
            "colorbar": {
             "outlinewidth": 0,
             "ticks": ""
            },
            "colorscale": [
             [
              0,
              "#0d0887"
             ],
             [
              0.1111111111111111,
              "#46039f"
             ],
             [
              0.2222222222222222,
              "#7201a8"
             ],
             [
              0.3333333333333333,
              "#9c179e"
             ],
             [
              0.4444444444444444,
              "#bd3786"
             ],
             [
              0.5555555555555556,
              "#d8576b"
             ],
             [
              0.6666666666666666,
              "#ed7953"
             ],
             [
              0.7777777777777778,
              "#fb9f3a"
             ],
             [
              0.8888888888888888,
              "#fdca26"
             ],
             [
              1,
              "#f0f921"
             ]
            ],
            "type": "histogram2dcontour"
           }
          ],
          "mesh3d": [
           {
            "colorbar": {
             "outlinewidth": 0,
             "ticks": ""
            },
            "type": "mesh3d"
           }
          ],
          "parcoords": [
           {
            "line": {
             "colorbar": {
              "outlinewidth": 0,
              "ticks": ""
             }
            },
            "type": "parcoords"
           }
          ],
          "pie": [
           {
            "automargin": true,
            "type": "pie"
           }
          ],
          "scatter": [
           {
            "fillpattern": {
             "fillmode": "overlay",
             "size": 10,
             "solidity": 0.2
            },
            "type": "scatter"
           }
          ],
          "scatter3d": [
           {
            "line": {
             "colorbar": {
              "outlinewidth": 0,
              "ticks": ""
             }
            },
            "marker": {
             "colorbar": {
              "outlinewidth": 0,
              "ticks": ""
             }
            },
            "type": "scatter3d"
           }
          ],
          "scattercarpet": [
           {
            "marker": {
             "colorbar": {
              "outlinewidth": 0,
              "ticks": ""
             }
            },
            "type": "scattercarpet"
           }
          ],
          "scattergeo": [
           {
            "marker": {
             "colorbar": {
              "outlinewidth": 0,
              "ticks": ""
             }
            },
            "type": "scattergeo"
           }
          ],
          "scattergl": [
           {
            "marker": {
             "colorbar": {
              "outlinewidth": 0,
              "ticks": ""
             }
            },
            "type": "scattergl"
           }
          ],
          "scattermap": [
           {
            "marker": {
             "colorbar": {
              "outlinewidth": 0,
              "ticks": ""
             }
            },
            "type": "scattermap"
           }
          ],
          "scattermapbox": [
           {
            "marker": {
             "colorbar": {
              "outlinewidth": 0,
              "ticks": ""
             }
            },
            "type": "scattermapbox"
           }
          ],
          "scatterpolar": [
           {
            "marker": {
             "colorbar": {
              "outlinewidth": 0,
              "ticks": ""
             }
            },
            "type": "scatterpolar"
           }
          ],
          "scatterpolargl": [
           {
            "marker": {
             "colorbar": {
              "outlinewidth": 0,
              "ticks": ""
             }
            },
            "type": "scatterpolargl"
           }
          ],
          "scatterternary": [
           {
            "marker": {
             "colorbar": {
              "outlinewidth": 0,
              "ticks": ""
             }
            },
            "type": "scatterternary"
           }
          ],
          "surface": [
           {
            "colorbar": {
             "outlinewidth": 0,
             "ticks": ""
            },
            "colorscale": [
             [
              0,
              "#0d0887"
             ],
             [
              0.1111111111111111,
              "#46039f"
             ],
             [
              0.2222222222222222,
              "#7201a8"
             ],
             [
              0.3333333333333333,
              "#9c179e"
             ],
             [
              0.4444444444444444,
              "#bd3786"
             ],
             [
              0.5555555555555556,
              "#d8576b"
             ],
             [
              0.6666666666666666,
              "#ed7953"
             ],
             [
              0.7777777777777778,
              "#fb9f3a"
             ],
             [
              0.8888888888888888,
              "#fdca26"
             ],
             [
              1,
              "#f0f921"
             ]
            ],
            "type": "surface"
           }
          ],
          "table": [
           {
            "cells": {
             "fill": {
              "color": "#EBF0F8"
             },
             "line": {
              "color": "white"
             }
            },
            "header": {
             "fill": {
              "color": "#C8D4E3"
             },
             "line": {
              "color": "white"
             }
            },
            "type": "table"
           }
          ]
         },
         "layout": {
          "annotationdefaults": {
           "arrowcolor": "#2a3f5f",
           "arrowhead": 0,
           "arrowwidth": 1
          },
          "autotypenumbers": "strict",
          "coloraxis": {
           "colorbar": {
            "outlinewidth": 0,
            "ticks": ""
           }
          },
          "colorscale": {
           "diverging": [
            [
             0,
             "#8e0152"
            ],
            [
             0.1,
             "#c51b7d"
            ],
            [
             0.2,
             "#de77ae"
            ],
            [
             0.3,
             "#f1b6da"
            ],
            [
             0.4,
             "#fde0ef"
            ],
            [
             0.5,
             "#f7f7f7"
            ],
            [
             0.6,
             "#e6f5d0"
            ],
            [
             0.7,
             "#b8e186"
            ],
            [
             0.8,
             "#7fbc41"
            ],
            [
             0.9,
             "#4d9221"
            ],
            [
             1,
             "#276419"
            ]
           ],
           "sequential": [
            [
             0,
             "#0d0887"
            ],
            [
             0.1111111111111111,
             "#46039f"
            ],
            [
             0.2222222222222222,
             "#7201a8"
            ],
            [
             0.3333333333333333,
             "#9c179e"
            ],
            [
             0.4444444444444444,
             "#bd3786"
            ],
            [
             0.5555555555555556,
             "#d8576b"
            ],
            [
             0.6666666666666666,
             "#ed7953"
            ],
            [
             0.7777777777777778,
             "#fb9f3a"
            ],
            [
             0.8888888888888888,
             "#fdca26"
            ],
            [
             1,
             "#f0f921"
            ]
           ],
           "sequentialminus": [
            [
             0,
             "#0d0887"
            ],
            [
             0.1111111111111111,
             "#46039f"
            ],
            [
             0.2222222222222222,
             "#7201a8"
            ],
            [
             0.3333333333333333,
             "#9c179e"
            ],
            [
             0.4444444444444444,
             "#bd3786"
            ],
            [
             0.5555555555555556,
             "#d8576b"
            ],
            [
             0.6666666666666666,
             "#ed7953"
            ],
            [
             0.7777777777777778,
             "#fb9f3a"
            ],
            [
             0.8888888888888888,
             "#fdca26"
            ],
            [
             1,
             "#f0f921"
            ]
           ]
          },
          "colorway": [
           "#636efa",
           "#EF553B",
           "#00cc96",
           "#ab63fa",
           "#FFA15A",
           "#19d3f3",
           "#FF6692",
           "#B6E880",
           "#FF97FF",
           "#FECB52"
          ],
          "font": {
           "color": "#2a3f5f"
          },
          "geo": {
           "bgcolor": "white",
           "lakecolor": "white",
           "landcolor": "#E5ECF6",
           "showlakes": true,
           "showland": true,
           "subunitcolor": "white"
          },
          "hoverlabel": {
           "align": "left"
          },
          "hovermode": "closest",
          "mapbox": {
           "style": "light"
          },
          "paper_bgcolor": "white",
          "plot_bgcolor": "#E5ECF6",
          "polar": {
           "angularaxis": {
            "gridcolor": "white",
            "linecolor": "white",
            "ticks": ""
           },
           "bgcolor": "#E5ECF6",
           "radialaxis": {
            "gridcolor": "white",
            "linecolor": "white",
            "ticks": ""
           }
          },
          "scene": {
           "xaxis": {
            "backgroundcolor": "#E5ECF6",
            "gridcolor": "white",
            "gridwidth": 2,
            "linecolor": "white",
            "showbackground": true,
            "ticks": "",
            "zerolinecolor": "white"
           },
           "yaxis": {
            "backgroundcolor": "#E5ECF6",
            "gridcolor": "white",
            "gridwidth": 2,
            "linecolor": "white",
            "showbackground": true,
            "ticks": "",
            "zerolinecolor": "white"
           },
           "zaxis": {
            "backgroundcolor": "#E5ECF6",
            "gridcolor": "white",
            "gridwidth": 2,
            "linecolor": "white",
            "showbackground": true,
            "ticks": "",
            "zerolinecolor": "white"
           }
          },
          "shapedefaults": {
           "line": {
            "color": "#2a3f5f"
           }
          },
          "ternary": {
           "aaxis": {
            "gridcolor": "white",
            "linecolor": "white",
            "ticks": ""
           },
           "baxis": {
            "gridcolor": "white",
            "linecolor": "white",
            "ticks": ""
           },
           "bgcolor": "#E5ECF6",
           "caxis": {
            "gridcolor": "white",
            "linecolor": "white",
            "ticks": ""
           }
          },
          "title": {
           "x": 0.05
          },
          "xaxis": {
           "automargin": true,
           "gridcolor": "white",
           "linecolor": "white",
           "ticks": "",
           "title": {
            "standoff": 15
           },
           "zerolinecolor": "white",
           "zerolinewidth": 2
          },
          "yaxis": {
           "automargin": true,
           "gridcolor": "white",
           "linecolor": "white",
           "ticks": "",
           "title": {
            "standoff": 15
           },
           "zerolinecolor": "white",
           "zerolinewidth": 2
          }
         }
        },
        "title": {
         "text": "Top 10 Cities by Number of Restaurants"
        },
        "xaxis": {
         "anchor": "y",
         "domain": [
          0,
          1
         ],
         "title": {
          "text": "city"
         }
        },
        "yaxis": {
         "anchor": "x",
         "domain": [
          0,
          1
         ],
         "title": {
          "text": "count"
         }
        }
       }
      }
     },
     "metadata": {},
     "output_type": "display_data"
    }
   ],
   "source": [
    "city_counts = df['listed_in(city)'].value_counts().nlargest(10).reset_index()\n",
    "city_counts.columns = ['city', 'count']\n",
    "\n",
    "px.bar(city_counts, x='city', y='count', \n",
    "             title=\"Top 10 Cities by Number of Restaurants\")\n"
   ]
  },
  {
   "cell_type": "markdown",
   "id": "adaa0ea7",
   "metadata": {},
   "source": [
    "## What are the top 10 most popular cuisines?"
   ]
  },
  {
   "cell_type": "code",
   "execution_count": 26,
   "id": "55475503",
   "metadata": {},
   "outputs": [
    {
     "data": {
      "application/vnd.plotly.v1+json": {
       "config": {
        "plotlyServerURL": "https://plot.ly"
       },
       "data": [
        {
         "hovertemplate": "cuisine=%{x}<br>count=%{y}<extra></extra>",
         "legendgroup": "",
         "marker": {
          "color": "#636efa",
          "pattern": {
           "shape": ""
          }
         },
         "name": "",
         "orientation": "v",
         "showlegend": false,
         "textposition": "auto",
         "type": "bar",
         "x": [
          "North Indian",
          "North Indian, Chinese",
          "South Indian",
          "Cafe",
          "Bakery, Desserts",
          "Biryani",
          "South Indian, North Indian, Chinese",
          "Desserts",
          "Fast Food",
          "Chinese"
         ],
         "xaxis": "x",
         "y": {
          "bdata": "OwibB88EbAJlAlcCMQIhAgACmQE=",
          "dtype": "i2"
         },
         "yaxis": "y"
        }
       ],
       "layout": {
        "barmode": "relative",
        "legend": {
         "tracegroupgap": 0
        },
        "template": {
         "data": {
          "bar": [
           {
            "error_x": {
             "color": "#2a3f5f"
            },
            "error_y": {
             "color": "#2a3f5f"
            },
            "marker": {
             "line": {
              "color": "#E5ECF6",
              "width": 0.5
             },
             "pattern": {
              "fillmode": "overlay",
              "size": 10,
              "solidity": 0.2
             }
            },
            "type": "bar"
           }
          ],
          "barpolar": [
           {
            "marker": {
             "line": {
              "color": "#E5ECF6",
              "width": 0.5
             },
             "pattern": {
              "fillmode": "overlay",
              "size": 10,
              "solidity": 0.2
             }
            },
            "type": "barpolar"
           }
          ],
          "carpet": [
           {
            "aaxis": {
             "endlinecolor": "#2a3f5f",
             "gridcolor": "white",
             "linecolor": "white",
             "minorgridcolor": "white",
             "startlinecolor": "#2a3f5f"
            },
            "baxis": {
             "endlinecolor": "#2a3f5f",
             "gridcolor": "white",
             "linecolor": "white",
             "minorgridcolor": "white",
             "startlinecolor": "#2a3f5f"
            },
            "type": "carpet"
           }
          ],
          "choropleth": [
           {
            "colorbar": {
             "outlinewidth": 0,
             "ticks": ""
            },
            "type": "choropleth"
           }
          ],
          "contour": [
           {
            "colorbar": {
             "outlinewidth": 0,
             "ticks": ""
            },
            "colorscale": [
             [
              0,
              "#0d0887"
             ],
             [
              0.1111111111111111,
              "#46039f"
             ],
             [
              0.2222222222222222,
              "#7201a8"
             ],
             [
              0.3333333333333333,
              "#9c179e"
             ],
             [
              0.4444444444444444,
              "#bd3786"
             ],
             [
              0.5555555555555556,
              "#d8576b"
             ],
             [
              0.6666666666666666,
              "#ed7953"
             ],
             [
              0.7777777777777778,
              "#fb9f3a"
             ],
             [
              0.8888888888888888,
              "#fdca26"
             ],
             [
              1,
              "#f0f921"
             ]
            ],
            "type": "contour"
           }
          ],
          "contourcarpet": [
           {
            "colorbar": {
             "outlinewidth": 0,
             "ticks": ""
            },
            "type": "contourcarpet"
           }
          ],
          "heatmap": [
           {
            "colorbar": {
             "outlinewidth": 0,
             "ticks": ""
            },
            "colorscale": [
             [
              0,
              "#0d0887"
             ],
             [
              0.1111111111111111,
              "#46039f"
             ],
             [
              0.2222222222222222,
              "#7201a8"
             ],
             [
              0.3333333333333333,
              "#9c179e"
             ],
             [
              0.4444444444444444,
              "#bd3786"
             ],
             [
              0.5555555555555556,
              "#d8576b"
             ],
             [
              0.6666666666666666,
              "#ed7953"
             ],
             [
              0.7777777777777778,
              "#fb9f3a"
             ],
             [
              0.8888888888888888,
              "#fdca26"
             ],
             [
              1,
              "#f0f921"
             ]
            ],
            "type": "heatmap"
           }
          ],
          "histogram": [
           {
            "marker": {
             "pattern": {
              "fillmode": "overlay",
              "size": 10,
              "solidity": 0.2
             }
            },
            "type": "histogram"
           }
          ],
          "histogram2d": [
           {
            "colorbar": {
             "outlinewidth": 0,
             "ticks": ""
            },
            "colorscale": [
             [
              0,
              "#0d0887"
             ],
             [
              0.1111111111111111,
              "#46039f"
             ],
             [
              0.2222222222222222,
              "#7201a8"
             ],
             [
              0.3333333333333333,
              "#9c179e"
             ],
             [
              0.4444444444444444,
              "#bd3786"
             ],
             [
              0.5555555555555556,
              "#d8576b"
             ],
             [
              0.6666666666666666,
              "#ed7953"
             ],
             [
              0.7777777777777778,
              "#fb9f3a"
             ],
             [
              0.8888888888888888,
              "#fdca26"
             ],
             [
              1,
              "#f0f921"
             ]
            ],
            "type": "histogram2d"
           }
          ],
          "histogram2dcontour": [
           {
            "colorbar": {
             "outlinewidth": 0,
             "ticks": ""
            },
            "colorscale": [
             [
              0,
              "#0d0887"
             ],
             [
              0.1111111111111111,
              "#46039f"
             ],
             [
              0.2222222222222222,
              "#7201a8"
             ],
             [
              0.3333333333333333,
              "#9c179e"
             ],
             [
              0.4444444444444444,
              "#bd3786"
             ],
             [
              0.5555555555555556,
              "#d8576b"
             ],
             [
              0.6666666666666666,
              "#ed7953"
             ],
             [
              0.7777777777777778,
              "#fb9f3a"
             ],
             [
              0.8888888888888888,
              "#fdca26"
             ],
             [
              1,
              "#f0f921"
             ]
            ],
            "type": "histogram2dcontour"
           }
          ],
          "mesh3d": [
           {
            "colorbar": {
             "outlinewidth": 0,
             "ticks": ""
            },
            "type": "mesh3d"
           }
          ],
          "parcoords": [
           {
            "line": {
             "colorbar": {
              "outlinewidth": 0,
              "ticks": ""
             }
            },
            "type": "parcoords"
           }
          ],
          "pie": [
           {
            "automargin": true,
            "type": "pie"
           }
          ],
          "scatter": [
           {
            "fillpattern": {
             "fillmode": "overlay",
             "size": 10,
             "solidity": 0.2
            },
            "type": "scatter"
           }
          ],
          "scatter3d": [
           {
            "line": {
             "colorbar": {
              "outlinewidth": 0,
              "ticks": ""
             }
            },
            "marker": {
             "colorbar": {
              "outlinewidth": 0,
              "ticks": ""
             }
            },
            "type": "scatter3d"
           }
          ],
          "scattercarpet": [
           {
            "marker": {
             "colorbar": {
              "outlinewidth": 0,
              "ticks": ""
             }
            },
            "type": "scattercarpet"
           }
          ],
          "scattergeo": [
           {
            "marker": {
             "colorbar": {
              "outlinewidth": 0,
              "ticks": ""
             }
            },
            "type": "scattergeo"
           }
          ],
          "scattergl": [
           {
            "marker": {
             "colorbar": {
              "outlinewidth": 0,
              "ticks": ""
             }
            },
            "type": "scattergl"
           }
          ],
          "scattermap": [
           {
            "marker": {
             "colorbar": {
              "outlinewidth": 0,
              "ticks": ""
             }
            },
            "type": "scattermap"
           }
          ],
          "scattermapbox": [
           {
            "marker": {
             "colorbar": {
              "outlinewidth": 0,
              "ticks": ""
             }
            },
            "type": "scattermapbox"
           }
          ],
          "scatterpolar": [
           {
            "marker": {
             "colorbar": {
              "outlinewidth": 0,
              "ticks": ""
             }
            },
            "type": "scatterpolar"
           }
          ],
          "scatterpolargl": [
           {
            "marker": {
             "colorbar": {
              "outlinewidth": 0,
              "ticks": ""
             }
            },
            "type": "scatterpolargl"
           }
          ],
          "scatterternary": [
           {
            "marker": {
             "colorbar": {
              "outlinewidth": 0,
              "ticks": ""
             }
            },
            "type": "scatterternary"
           }
          ],
          "surface": [
           {
            "colorbar": {
             "outlinewidth": 0,
             "ticks": ""
            },
            "colorscale": [
             [
              0,
              "#0d0887"
             ],
             [
              0.1111111111111111,
              "#46039f"
             ],
             [
              0.2222222222222222,
              "#7201a8"
             ],
             [
              0.3333333333333333,
              "#9c179e"
             ],
             [
              0.4444444444444444,
              "#bd3786"
             ],
             [
              0.5555555555555556,
              "#d8576b"
             ],
             [
              0.6666666666666666,
              "#ed7953"
             ],
             [
              0.7777777777777778,
              "#fb9f3a"
             ],
             [
              0.8888888888888888,
              "#fdca26"
             ],
             [
              1,
              "#f0f921"
             ]
            ],
            "type": "surface"
           }
          ],
          "table": [
           {
            "cells": {
             "fill": {
              "color": "#EBF0F8"
             },
             "line": {
              "color": "white"
             }
            },
            "header": {
             "fill": {
              "color": "#C8D4E3"
             },
             "line": {
              "color": "white"
             }
            },
            "type": "table"
           }
          ]
         },
         "layout": {
          "annotationdefaults": {
           "arrowcolor": "#2a3f5f",
           "arrowhead": 0,
           "arrowwidth": 1
          },
          "autotypenumbers": "strict",
          "coloraxis": {
           "colorbar": {
            "outlinewidth": 0,
            "ticks": ""
           }
          },
          "colorscale": {
           "diverging": [
            [
             0,
             "#8e0152"
            ],
            [
             0.1,
             "#c51b7d"
            ],
            [
             0.2,
             "#de77ae"
            ],
            [
             0.3,
             "#f1b6da"
            ],
            [
             0.4,
             "#fde0ef"
            ],
            [
             0.5,
             "#f7f7f7"
            ],
            [
             0.6,
             "#e6f5d0"
            ],
            [
             0.7,
             "#b8e186"
            ],
            [
             0.8,
             "#7fbc41"
            ],
            [
             0.9,
             "#4d9221"
            ],
            [
             1,
             "#276419"
            ]
           ],
           "sequential": [
            [
             0,
             "#0d0887"
            ],
            [
             0.1111111111111111,
             "#46039f"
            ],
            [
             0.2222222222222222,
             "#7201a8"
            ],
            [
             0.3333333333333333,
             "#9c179e"
            ],
            [
             0.4444444444444444,
             "#bd3786"
            ],
            [
             0.5555555555555556,
             "#d8576b"
            ],
            [
             0.6666666666666666,
             "#ed7953"
            ],
            [
             0.7777777777777778,
             "#fb9f3a"
            ],
            [
             0.8888888888888888,
             "#fdca26"
            ],
            [
             1,
             "#f0f921"
            ]
           ],
           "sequentialminus": [
            [
             0,
             "#0d0887"
            ],
            [
             0.1111111111111111,
             "#46039f"
            ],
            [
             0.2222222222222222,
             "#7201a8"
            ],
            [
             0.3333333333333333,
             "#9c179e"
            ],
            [
             0.4444444444444444,
             "#bd3786"
            ],
            [
             0.5555555555555556,
             "#d8576b"
            ],
            [
             0.6666666666666666,
             "#ed7953"
            ],
            [
             0.7777777777777778,
             "#fb9f3a"
            ],
            [
             0.8888888888888888,
             "#fdca26"
            ],
            [
             1,
             "#f0f921"
            ]
           ]
          },
          "colorway": [
           "#636efa",
           "#EF553B",
           "#00cc96",
           "#ab63fa",
           "#FFA15A",
           "#19d3f3",
           "#FF6692",
           "#B6E880",
           "#FF97FF",
           "#FECB52"
          ],
          "font": {
           "color": "#2a3f5f"
          },
          "geo": {
           "bgcolor": "white",
           "lakecolor": "white",
           "landcolor": "#E5ECF6",
           "showlakes": true,
           "showland": true,
           "subunitcolor": "white"
          },
          "hoverlabel": {
           "align": "left"
          },
          "hovermode": "closest",
          "mapbox": {
           "style": "light"
          },
          "paper_bgcolor": "white",
          "plot_bgcolor": "#E5ECF6",
          "polar": {
           "angularaxis": {
            "gridcolor": "white",
            "linecolor": "white",
            "ticks": ""
           },
           "bgcolor": "#E5ECF6",
           "radialaxis": {
            "gridcolor": "white",
            "linecolor": "white",
            "ticks": ""
           }
          },
          "scene": {
           "xaxis": {
            "backgroundcolor": "#E5ECF6",
            "gridcolor": "white",
            "gridwidth": 2,
            "linecolor": "white",
            "showbackground": true,
            "ticks": "",
            "zerolinecolor": "white"
           },
           "yaxis": {
            "backgroundcolor": "#E5ECF6",
            "gridcolor": "white",
            "gridwidth": 2,
            "linecolor": "white",
            "showbackground": true,
            "ticks": "",
            "zerolinecolor": "white"
           },
           "zaxis": {
            "backgroundcolor": "#E5ECF6",
            "gridcolor": "white",
            "gridwidth": 2,
            "linecolor": "white",
            "showbackground": true,
            "ticks": "",
            "zerolinecolor": "white"
           }
          },
          "shapedefaults": {
           "line": {
            "color": "#2a3f5f"
           }
          },
          "ternary": {
           "aaxis": {
            "gridcolor": "white",
            "linecolor": "white",
            "ticks": ""
           },
           "baxis": {
            "gridcolor": "white",
            "linecolor": "white",
            "ticks": ""
           },
           "bgcolor": "#E5ECF6",
           "caxis": {
            "gridcolor": "white",
            "linecolor": "white",
            "ticks": ""
           }
          },
          "title": {
           "x": 0.05
          },
          "xaxis": {
           "automargin": true,
           "gridcolor": "white",
           "linecolor": "white",
           "ticks": "",
           "title": {
            "standoff": 15
           },
           "zerolinecolor": "white",
           "zerolinewidth": 2
          },
          "yaxis": {
           "automargin": true,
           "gridcolor": "white",
           "linecolor": "white",
           "ticks": "",
           "title": {
            "standoff": 15
           },
           "zerolinecolor": "white",
           "zerolinewidth": 2
          }
         }
        },
        "title": {
         "text": "Top 10 Popular Cuisines"
        },
        "xaxis": {
         "anchor": "y",
         "domain": [
          0,
          1
         ],
         "title": {
          "text": "cuisine"
         }
        },
        "yaxis": {
         "anchor": "x",
         "domain": [
          0,
          1
         ],
         "title": {
          "text": "count"
         }
        }
       }
      }
     },
     "metadata": {},
     "output_type": "display_data"
    }
   ],
   "source": [
    "cuisine_counts = df['cuisines'].value_counts().nlargest(10).reset_index()\n",
    "cuisine_counts.columns = ['cuisine', 'count']\n",
    "\n",
    "px.bar(cuisine_counts, x='cuisine', y='count', \n",
    "        title=\"Top 10 Popular Cuisines\")\n"
   ]
  },
  {
   "cell_type": "markdown",
   "id": "c28ba51f",
   "metadata": {},
   "source": [
    "## What is the distribution of restaurants offering online ordering?"
   ]
  },
  {
   "cell_type": "code",
   "execution_count": 27,
   "id": "2f179e80",
   "metadata": {},
   "outputs": [
    {
     "data": {
      "application/vnd.plotly.v1+json": {
       "config": {
        "plotlyServerURL": "https://plot.ly"
       },
       "data": [
        {
         "domain": {
          "x": [
           0,
           1
          ],
          "y": [
           0,
           1
          ]
         },
         "hovertemplate": "online_order=%{label}<br>count=%{value}<extra></extra>",
         "labels": [
          "No",
          "Yes"
         ],
         "legendgroup": "",
         "name": "",
         "showlegend": true,
         "type": "pie",
         "values": {
          "bdata": "PjejaQ==",
          "dtype": "i2"
         }
        }
       ],
       "layout": {
        "legend": {
         "tracegroupgap": 0
        },
        "template": {
         "data": {
          "bar": [
           {
            "error_x": {
             "color": "#2a3f5f"
            },
            "error_y": {
             "color": "#2a3f5f"
            },
            "marker": {
             "line": {
              "color": "#E5ECF6",
              "width": 0.5
             },
             "pattern": {
              "fillmode": "overlay",
              "size": 10,
              "solidity": 0.2
             }
            },
            "type": "bar"
           }
          ],
          "barpolar": [
           {
            "marker": {
             "line": {
              "color": "#E5ECF6",
              "width": 0.5
             },
             "pattern": {
              "fillmode": "overlay",
              "size": 10,
              "solidity": 0.2
             }
            },
            "type": "barpolar"
           }
          ],
          "carpet": [
           {
            "aaxis": {
             "endlinecolor": "#2a3f5f",
             "gridcolor": "white",
             "linecolor": "white",
             "minorgridcolor": "white",
             "startlinecolor": "#2a3f5f"
            },
            "baxis": {
             "endlinecolor": "#2a3f5f",
             "gridcolor": "white",
             "linecolor": "white",
             "minorgridcolor": "white",
             "startlinecolor": "#2a3f5f"
            },
            "type": "carpet"
           }
          ],
          "choropleth": [
           {
            "colorbar": {
             "outlinewidth": 0,
             "ticks": ""
            },
            "type": "choropleth"
           }
          ],
          "contour": [
           {
            "colorbar": {
             "outlinewidth": 0,
             "ticks": ""
            },
            "colorscale": [
             [
              0,
              "#0d0887"
             ],
             [
              0.1111111111111111,
              "#46039f"
             ],
             [
              0.2222222222222222,
              "#7201a8"
             ],
             [
              0.3333333333333333,
              "#9c179e"
             ],
             [
              0.4444444444444444,
              "#bd3786"
             ],
             [
              0.5555555555555556,
              "#d8576b"
             ],
             [
              0.6666666666666666,
              "#ed7953"
             ],
             [
              0.7777777777777778,
              "#fb9f3a"
             ],
             [
              0.8888888888888888,
              "#fdca26"
             ],
             [
              1,
              "#f0f921"
             ]
            ],
            "type": "contour"
           }
          ],
          "contourcarpet": [
           {
            "colorbar": {
             "outlinewidth": 0,
             "ticks": ""
            },
            "type": "contourcarpet"
           }
          ],
          "heatmap": [
           {
            "colorbar": {
             "outlinewidth": 0,
             "ticks": ""
            },
            "colorscale": [
             [
              0,
              "#0d0887"
             ],
             [
              0.1111111111111111,
              "#46039f"
             ],
             [
              0.2222222222222222,
              "#7201a8"
             ],
             [
              0.3333333333333333,
              "#9c179e"
             ],
             [
              0.4444444444444444,
              "#bd3786"
             ],
             [
              0.5555555555555556,
              "#d8576b"
             ],
             [
              0.6666666666666666,
              "#ed7953"
             ],
             [
              0.7777777777777778,
              "#fb9f3a"
             ],
             [
              0.8888888888888888,
              "#fdca26"
             ],
             [
              1,
              "#f0f921"
             ]
            ],
            "type": "heatmap"
           }
          ],
          "histogram": [
           {
            "marker": {
             "pattern": {
              "fillmode": "overlay",
              "size": 10,
              "solidity": 0.2
             }
            },
            "type": "histogram"
           }
          ],
          "histogram2d": [
           {
            "colorbar": {
             "outlinewidth": 0,
             "ticks": ""
            },
            "colorscale": [
             [
              0,
              "#0d0887"
             ],
             [
              0.1111111111111111,
              "#46039f"
             ],
             [
              0.2222222222222222,
              "#7201a8"
             ],
             [
              0.3333333333333333,
              "#9c179e"
             ],
             [
              0.4444444444444444,
              "#bd3786"
             ],
             [
              0.5555555555555556,
              "#d8576b"
             ],
             [
              0.6666666666666666,
              "#ed7953"
             ],
             [
              0.7777777777777778,
              "#fb9f3a"
             ],
             [
              0.8888888888888888,
              "#fdca26"
             ],
             [
              1,
              "#f0f921"
             ]
            ],
            "type": "histogram2d"
           }
          ],
          "histogram2dcontour": [
           {
            "colorbar": {
             "outlinewidth": 0,
             "ticks": ""
            },
            "colorscale": [
             [
              0,
              "#0d0887"
             ],
             [
              0.1111111111111111,
              "#46039f"
             ],
             [
              0.2222222222222222,
              "#7201a8"
             ],
             [
              0.3333333333333333,
              "#9c179e"
             ],
             [
              0.4444444444444444,
              "#bd3786"
             ],
             [
              0.5555555555555556,
              "#d8576b"
             ],
             [
              0.6666666666666666,
              "#ed7953"
             ],
             [
              0.7777777777777778,
              "#fb9f3a"
             ],
             [
              0.8888888888888888,
              "#fdca26"
             ],
             [
              1,
              "#f0f921"
             ]
            ],
            "type": "histogram2dcontour"
           }
          ],
          "mesh3d": [
           {
            "colorbar": {
             "outlinewidth": 0,
             "ticks": ""
            },
            "type": "mesh3d"
           }
          ],
          "parcoords": [
           {
            "line": {
             "colorbar": {
              "outlinewidth": 0,
              "ticks": ""
             }
            },
            "type": "parcoords"
           }
          ],
          "pie": [
           {
            "automargin": true,
            "type": "pie"
           }
          ],
          "scatter": [
           {
            "fillpattern": {
             "fillmode": "overlay",
             "size": 10,
             "solidity": 0.2
            },
            "type": "scatter"
           }
          ],
          "scatter3d": [
           {
            "line": {
             "colorbar": {
              "outlinewidth": 0,
              "ticks": ""
             }
            },
            "marker": {
             "colorbar": {
              "outlinewidth": 0,
              "ticks": ""
             }
            },
            "type": "scatter3d"
           }
          ],
          "scattercarpet": [
           {
            "marker": {
             "colorbar": {
              "outlinewidth": 0,
              "ticks": ""
             }
            },
            "type": "scattercarpet"
           }
          ],
          "scattergeo": [
           {
            "marker": {
             "colorbar": {
              "outlinewidth": 0,
              "ticks": ""
             }
            },
            "type": "scattergeo"
           }
          ],
          "scattergl": [
           {
            "marker": {
             "colorbar": {
              "outlinewidth": 0,
              "ticks": ""
             }
            },
            "type": "scattergl"
           }
          ],
          "scattermap": [
           {
            "marker": {
             "colorbar": {
              "outlinewidth": 0,
              "ticks": ""
             }
            },
            "type": "scattermap"
           }
          ],
          "scattermapbox": [
           {
            "marker": {
             "colorbar": {
              "outlinewidth": 0,
              "ticks": ""
             }
            },
            "type": "scattermapbox"
           }
          ],
          "scatterpolar": [
           {
            "marker": {
             "colorbar": {
              "outlinewidth": 0,
              "ticks": ""
             }
            },
            "type": "scatterpolar"
           }
          ],
          "scatterpolargl": [
           {
            "marker": {
             "colorbar": {
              "outlinewidth": 0,
              "ticks": ""
             }
            },
            "type": "scatterpolargl"
           }
          ],
          "scatterternary": [
           {
            "marker": {
             "colorbar": {
              "outlinewidth": 0,
              "ticks": ""
             }
            },
            "type": "scatterternary"
           }
          ],
          "surface": [
           {
            "colorbar": {
             "outlinewidth": 0,
             "ticks": ""
            },
            "colorscale": [
             [
              0,
              "#0d0887"
             ],
             [
              0.1111111111111111,
              "#46039f"
             ],
             [
              0.2222222222222222,
              "#7201a8"
             ],
             [
              0.3333333333333333,
              "#9c179e"
             ],
             [
              0.4444444444444444,
              "#bd3786"
             ],
             [
              0.5555555555555556,
              "#d8576b"
             ],
             [
              0.6666666666666666,
              "#ed7953"
             ],
             [
              0.7777777777777778,
              "#fb9f3a"
             ],
             [
              0.8888888888888888,
              "#fdca26"
             ],
             [
              1,
              "#f0f921"
             ]
            ],
            "type": "surface"
           }
          ],
          "table": [
           {
            "cells": {
             "fill": {
              "color": "#EBF0F8"
             },
             "line": {
              "color": "white"
             }
            },
            "header": {
             "fill": {
              "color": "#C8D4E3"
             },
             "line": {
              "color": "white"
             }
            },
            "type": "table"
           }
          ]
         },
         "layout": {
          "annotationdefaults": {
           "arrowcolor": "#2a3f5f",
           "arrowhead": 0,
           "arrowwidth": 1
          },
          "autotypenumbers": "strict",
          "coloraxis": {
           "colorbar": {
            "outlinewidth": 0,
            "ticks": ""
           }
          },
          "colorscale": {
           "diverging": [
            [
             0,
             "#8e0152"
            ],
            [
             0.1,
             "#c51b7d"
            ],
            [
             0.2,
             "#de77ae"
            ],
            [
             0.3,
             "#f1b6da"
            ],
            [
             0.4,
             "#fde0ef"
            ],
            [
             0.5,
             "#f7f7f7"
            ],
            [
             0.6,
             "#e6f5d0"
            ],
            [
             0.7,
             "#b8e186"
            ],
            [
             0.8,
             "#7fbc41"
            ],
            [
             0.9,
             "#4d9221"
            ],
            [
             1,
             "#276419"
            ]
           ],
           "sequential": [
            [
             0,
             "#0d0887"
            ],
            [
             0.1111111111111111,
             "#46039f"
            ],
            [
             0.2222222222222222,
             "#7201a8"
            ],
            [
             0.3333333333333333,
             "#9c179e"
            ],
            [
             0.4444444444444444,
             "#bd3786"
            ],
            [
             0.5555555555555556,
             "#d8576b"
            ],
            [
             0.6666666666666666,
             "#ed7953"
            ],
            [
             0.7777777777777778,
             "#fb9f3a"
            ],
            [
             0.8888888888888888,
             "#fdca26"
            ],
            [
             1,
             "#f0f921"
            ]
           ],
           "sequentialminus": [
            [
             0,
             "#0d0887"
            ],
            [
             0.1111111111111111,
             "#46039f"
            ],
            [
             0.2222222222222222,
             "#7201a8"
            ],
            [
             0.3333333333333333,
             "#9c179e"
            ],
            [
             0.4444444444444444,
             "#bd3786"
            ],
            [
             0.5555555555555556,
             "#d8576b"
            ],
            [
             0.6666666666666666,
             "#ed7953"
            ],
            [
             0.7777777777777778,
             "#fb9f3a"
            ],
            [
             0.8888888888888888,
             "#fdca26"
            ],
            [
             1,
             "#f0f921"
            ]
           ]
          },
          "colorway": [
           "#636efa",
           "#EF553B",
           "#00cc96",
           "#ab63fa",
           "#FFA15A",
           "#19d3f3",
           "#FF6692",
           "#B6E880",
           "#FF97FF",
           "#FECB52"
          ],
          "font": {
           "color": "#2a3f5f"
          },
          "geo": {
           "bgcolor": "white",
           "lakecolor": "white",
           "landcolor": "#E5ECF6",
           "showlakes": true,
           "showland": true,
           "subunitcolor": "white"
          },
          "hoverlabel": {
           "align": "left"
          },
          "hovermode": "closest",
          "mapbox": {
           "style": "light"
          },
          "paper_bgcolor": "white",
          "plot_bgcolor": "#E5ECF6",
          "polar": {
           "angularaxis": {
            "gridcolor": "white",
            "linecolor": "white",
            "ticks": ""
           },
           "bgcolor": "#E5ECF6",
           "radialaxis": {
            "gridcolor": "white",
            "linecolor": "white",
            "ticks": ""
           }
          },
          "scene": {
           "xaxis": {
            "backgroundcolor": "#E5ECF6",
            "gridcolor": "white",
            "gridwidth": 2,
            "linecolor": "white",
            "showbackground": true,
            "ticks": "",
            "zerolinecolor": "white"
           },
           "yaxis": {
            "backgroundcolor": "#E5ECF6",
            "gridcolor": "white",
            "gridwidth": 2,
            "linecolor": "white",
            "showbackground": true,
            "ticks": "",
            "zerolinecolor": "white"
           },
           "zaxis": {
            "backgroundcolor": "#E5ECF6",
            "gridcolor": "white",
            "gridwidth": 2,
            "linecolor": "white",
            "showbackground": true,
            "ticks": "",
            "zerolinecolor": "white"
           }
          },
          "shapedefaults": {
           "line": {
            "color": "#2a3f5f"
           }
          },
          "ternary": {
           "aaxis": {
            "gridcolor": "white",
            "linecolor": "white",
            "ticks": ""
           },
           "baxis": {
            "gridcolor": "white",
            "linecolor": "white",
            "ticks": ""
           },
           "bgcolor": "#E5ECF6",
           "caxis": {
            "gridcolor": "white",
            "linecolor": "white",
            "ticks": ""
           }
          },
          "title": {
           "x": 0.05
          },
          "xaxis": {
           "automargin": true,
           "gridcolor": "white",
           "linecolor": "white",
           "ticks": "",
           "title": {
            "standoff": 15
           },
           "zerolinecolor": "white",
           "zerolinewidth": 2
          },
          "yaxis": {
           "automargin": true,
           "gridcolor": "white",
           "linecolor": "white",
           "ticks": "",
           "title": {
            "standoff": 15
           },
           "zerolinecolor": "white",
           "zerolinewidth": 2
          }
         }
        },
        "title": {
         "text": "Online Order Availability"
        }
       }
      }
     },
     "metadata": {},
     "output_type": "display_data"
    }
   ],
   "source": [
    "online_order_counts = df.groupby(\"online_order\").size().reset_index(name=\"count\")\n",
    "\n",
    "px.pie(online_order_counts, names=\"online_order\", values=\"count\", \n",
    "        title=\"Online Order Availability\")\n",
    "\n"
   ]
  },
  {
   "cell_type": "markdown",
   "id": "bc313a14",
   "metadata": {},
   "source": [
    "## Are there cities where the average cost for two is higher than in others?"
   ]
  },
  {
   "cell_type": "code",
   "execution_count": 28,
   "id": "9791afb5",
   "metadata": {},
   "outputs": [
    {
     "data": {
      "application/vnd.plotly.v1+json": {
       "config": {
        "plotlyServerURL": "https://plot.ly"
       },
       "data": [
        {
         "hovertemplate": "listed_in(city)=%{x}<br>approx_cost(for two people)=%{y}<extra></extra>",
         "legendgroup": "",
         "marker": {
          "color": "#636efa",
          "pattern": {
           "shape": ""
          }
         },
         "name": "",
         "orientation": "v",
         "showlegend": false,
         "textposition": "auto",
         "type": "bar",
         "x": [
          "Church Street",
          "Brigade Road",
          "Lavelle Road",
          "MG Road",
          "Residency Road",
          "Indiranagar",
          "Old Airport Road",
          "Whitefield",
          "Malleshwaram",
          "Frazer Town"
         ],
         "xaxis": "x",
         "y": {
          "bdata": "/Yggjg6NikDZr8fmlDWKQELh/Ssv9YlA/i6PpP7niUDbtm3b1peJQByq/OuH/4VAtgpVefdshEAAAAAAAF2EQKMiwGXkUoNAZGP+NW8Sg0A=",
          "dtype": "f8"
         },
         "yaxis": "y"
        }
       ],
       "layout": {
        "barmode": "relative",
        "legend": {
         "tracegroupgap": 0
        },
        "template": {
         "data": {
          "bar": [
           {
            "error_x": {
             "color": "#2a3f5f"
            },
            "error_y": {
             "color": "#2a3f5f"
            },
            "marker": {
             "line": {
              "color": "#E5ECF6",
              "width": 0.5
             },
             "pattern": {
              "fillmode": "overlay",
              "size": 10,
              "solidity": 0.2
             }
            },
            "type": "bar"
           }
          ],
          "barpolar": [
           {
            "marker": {
             "line": {
              "color": "#E5ECF6",
              "width": 0.5
             },
             "pattern": {
              "fillmode": "overlay",
              "size": 10,
              "solidity": 0.2
             }
            },
            "type": "barpolar"
           }
          ],
          "carpet": [
           {
            "aaxis": {
             "endlinecolor": "#2a3f5f",
             "gridcolor": "white",
             "linecolor": "white",
             "minorgridcolor": "white",
             "startlinecolor": "#2a3f5f"
            },
            "baxis": {
             "endlinecolor": "#2a3f5f",
             "gridcolor": "white",
             "linecolor": "white",
             "minorgridcolor": "white",
             "startlinecolor": "#2a3f5f"
            },
            "type": "carpet"
           }
          ],
          "choropleth": [
           {
            "colorbar": {
             "outlinewidth": 0,
             "ticks": ""
            },
            "type": "choropleth"
           }
          ],
          "contour": [
           {
            "colorbar": {
             "outlinewidth": 0,
             "ticks": ""
            },
            "colorscale": [
             [
              0,
              "#0d0887"
             ],
             [
              0.1111111111111111,
              "#46039f"
             ],
             [
              0.2222222222222222,
              "#7201a8"
             ],
             [
              0.3333333333333333,
              "#9c179e"
             ],
             [
              0.4444444444444444,
              "#bd3786"
             ],
             [
              0.5555555555555556,
              "#d8576b"
             ],
             [
              0.6666666666666666,
              "#ed7953"
             ],
             [
              0.7777777777777778,
              "#fb9f3a"
             ],
             [
              0.8888888888888888,
              "#fdca26"
             ],
             [
              1,
              "#f0f921"
             ]
            ],
            "type": "contour"
           }
          ],
          "contourcarpet": [
           {
            "colorbar": {
             "outlinewidth": 0,
             "ticks": ""
            },
            "type": "contourcarpet"
           }
          ],
          "heatmap": [
           {
            "colorbar": {
             "outlinewidth": 0,
             "ticks": ""
            },
            "colorscale": [
             [
              0,
              "#0d0887"
             ],
             [
              0.1111111111111111,
              "#46039f"
             ],
             [
              0.2222222222222222,
              "#7201a8"
             ],
             [
              0.3333333333333333,
              "#9c179e"
             ],
             [
              0.4444444444444444,
              "#bd3786"
             ],
             [
              0.5555555555555556,
              "#d8576b"
             ],
             [
              0.6666666666666666,
              "#ed7953"
             ],
             [
              0.7777777777777778,
              "#fb9f3a"
             ],
             [
              0.8888888888888888,
              "#fdca26"
             ],
             [
              1,
              "#f0f921"
             ]
            ],
            "type": "heatmap"
           }
          ],
          "histogram": [
           {
            "marker": {
             "pattern": {
              "fillmode": "overlay",
              "size": 10,
              "solidity": 0.2
             }
            },
            "type": "histogram"
           }
          ],
          "histogram2d": [
           {
            "colorbar": {
             "outlinewidth": 0,
             "ticks": ""
            },
            "colorscale": [
             [
              0,
              "#0d0887"
             ],
             [
              0.1111111111111111,
              "#46039f"
             ],
             [
              0.2222222222222222,
              "#7201a8"
             ],
             [
              0.3333333333333333,
              "#9c179e"
             ],
             [
              0.4444444444444444,
              "#bd3786"
             ],
             [
              0.5555555555555556,
              "#d8576b"
             ],
             [
              0.6666666666666666,
              "#ed7953"
             ],
             [
              0.7777777777777778,
              "#fb9f3a"
             ],
             [
              0.8888888888888888,
              "#fdca26"
             ],
             [
              1,
              "#f0f921"
             ]
            ],
            "type": "histogram2d"
           }
          ],
          "histogram2dcontour": [
           {
            "colorbar": {
             "outlinewidth": 0,
             "ticks": ""
            },
            "colorscale": [
             [
              0,
              "#0d0887"
             ],
             [
              0.1111111111111111,
              "#46039f"
             ],
             [
              0.2222222222222222,
              "#7201a8"
             ],
             [
              0.3333333333333333,
              "#9c179e"
             ],
             [
              0.4444444444444444,
              "#bd3786"
             ],
             [
              0.5555555555555556,
              "#d8576b"
             ],
             [
              0.6666666666666666,
              "#ed7953"
             ],
             [
              0.7777777777777778,
              "#fb9f3a"
             ],
             [
              0.8888888888888888,
              "#fdca26"
             ],
             [
              1,
              "#f0f921"
             ]
            ],
            "type": "histogram2dcontour"
           }
          ],
          "mesh3d": [
           {
            "colorbar": {
             "outlinewidth": 0,
             "ticks": ""
            },
            "type": "mesh3d"
           }
          ],
          "parcoords": [
           {
            "line": {
             "colorbar": {
              "outlinewidth": 0,
              "ticks": ""
             }
            },
            "type": "parcoords"
           }
          ],
          "pie": [
           {
            "automargin": true,
            "type": "pie"
           }
          ],
          "scatter": [
           {
            "fillpattern": {
             "fillmode": "overlay",
             "size": 10,
             "solidity": 0.2
            },
            "type": "scatter"
           }
          ],
          "scatter3d": [
           {
            "line": {
             "colorbar": {
              "outlinewidth": 0,
              "ticks": ""
             }
            },
            "marker": {
             "colorbar": {
              "outlinewidth": 0,
              "ticks": ""
             }
            },
            "type": "scatter3d"
           }
          ],
          "scattercarpet": [
           {
            "marker": {
             "colorbar": {
              "outlinewidth": 0,
              "ticks": ""
             }
            },
            "type": "scattercarpet"
           }
          ],
          "scattergeo": [
           {
            "marker": {
             "colorbar": {
              "outlinewidth": 0,
              "ticks": ""
             }
            },
            "type": "scattergeo"
           }
          ],
          "scattergl": [
           {
            "marker": {
             "colorbar": {
              "outlinewidth": 0,
              "ticks": ""
             }
            },
            "type": "scattergl"
           }
          ],
          "scattermap": [
           {
            "marker": {
             "colorbar": {
              "outlinewidth": 0,
              "ticks": ""
             }
            },
            "type": "scattermap"
           }
          ],
          "scattermapbox": [
           {
            "marker": {
             "colorbar": {
              "outlinewidth": 0,
              "ticks": ""
             }
            },
            "type": "scattermapbox"
           }
          ],
          "scatterpolar": [
           {
            "marker": {
             "colorbar": {
              "outlinewidth": 0,
              "ticks": ""
             }
            },
            "type": "scatterpolar"
           }
          ],
          "scatterpolargl": [
           {
            "marker": {
             "colorbar": {
              "outlinewidth": 0,
              "ticks": ""
             }
            },
            "type": "scatterpolargl"
           }
          ],
          "scatterternary": [
           {
            "marker": {
             "colorbar": {
              "outlinewidth": 0,
              "ticks": ""
             }
            },
            "type": "scatterternary"
           }
          ],
          "surface": [
           {
            "colorbar": {
             "outlinewidth": 0,
             "ticks": ""
            },
            "colorscale": [
             [
              0,
              "#0d0887"
             ],
             [
              0.1111111111111111,
              "#46039f"
             ],
             [
              0.2222222222222222,
              "#7201a8"
             ],
             [
              0.3333333333333333,
              "#9c179e"
             ],
             [
              0.4444444444444444,
              "#bd3786"
             ],
             [
              0.5555555555555556,
              "#d8576b"
             ],
             [
              0.6666666666666666,
              "#ed7953"
             ],
             [
              0.7777777777777778,
              "#fb9f3a"
             ],
             [
              0.8888888888888888,
              "#fdca26"
             ],
             [
              1,
              "#f0f921"
             ]
            ],
            "type": "surface"
           }
          ],
          "table": [
           {
            "cells": {
             "fill": {
              "color": "#EBF0F8"
             },
             "line": {
              "color": "white"
             }
            },
            "header": {
             "fill": {
              "color": "#C8D4E3"
             },
             "line": {
              "color": "white"
             }
            },
            "type": "table"
           }
          ]
         },
         "layout": {
          "annotationdefaults": {
           "arrowcolor": "#2a3f5f",
           "arrowhead": 0,
           "arrowwidth": 1
          },
          "autotypenumbers": "strict",
          "coloraxis": {
           "colorbar": {
            "outlinewidth": 0,
            "ticks": ""
           }
          },
          "colorscale": {
           "diverging": [
            [
             0,
             "#8e0152"
            ],
            [
             0.1,
             "#c51b7d"
            ],
            [
             0.2,
             "#de77ae"
            ],
            [
             0.3,
             "#f1b6da"
            ],
            [
             0.4,
             "#fde0ef"
            ],
            [
             0.5,
             "#f7f7f7"
            ],
            [
             0.6,
             "#e6f5d0"
            ],
            [
             0.7,
             "#b8e186"
            ],
            [
             0.8,
             "#7fbc41"
            ],
            [
             0.9,
             "#4d9221"
            ],
            [
             1,
             "#276419"
            ]
           ],
           "sequential": [
            [
             0,
             "#0d0887"
            ],
            [
             0.1111111111111111,
             "#46039f"
            ],
            [
             0.2222222222222222,
             "#7201a8"
            ],
            [
             0.3333333333333333,
             "#9c179e"
            ],
            [
             0.4444444444444444,
             "#bd3786"
            ],
            [
             0.5555555555555556,
             "#d8576b"
            ],
            [
             0.6666666666666666,
             "#ed7953"
            ],
            [
             0.7777777777777778,
             "#fb9f3a"
            ],
            [
             0.8888888888888888,
             "#fdca26"
            ],
            [
             1,
             "#f0f921"
            ]
           ],
           "sequentialminus": [
            [
             0,
             "#0d0887"
            ],
            [
             0.1111111111111111,
             "#46039f"
            ],
            [
             0.2222222222222222,
             "#7201a8"
            ],
            [
             0.3333333333333333,
             "#9c179e"
            ],
            [
             0.4444444444444444,
             "#bd3786"
            ],
            [
             0.5555555555555556,
             "#d8576b"
            ],
            [
             0.6666666666666666,
             "#ed7953"
            ],
            [
             0.7777777777777778,
             "#fb9f3a"
            ],
            [
             0.8888888888888888,
             "#fdca26"
            ],
            [
             1,
             "#f0f921"
            ]
           ]
          },
          "colorway": [
           "#636efa",
           "#EF553B",
           "#00cc96",
           "#ab63fa",
           "#FFA15A",
           "#19d3f3",
           "#FF6692",
           "#B6E880",
           "#FF97FF",
           "#FECB52"
          ],
          "font": {
           "color": "#2a3f5f"
          },
          "geo": {
           "bgcolor": "white",
           "lakecolor": "white",
           "landcolor": "#E5ECF6",
           "showlakes": true,
           "showland": true,
           "subunitcolor": "white"
          },
          "hoverlabel": {
           "align": "left"
          },
          "hovermode": "closest",
          "mapbox": {
           "style": "light"
          },
          "paper_bgcolor": "white",
          "plot_bgcolor": "#E5ECF6",
          "polar": {
           "angularaxis": {
            "gridcolor": "white",
            "linecolor": "white",
            "ticks": ""
           },
           "bgcolor": "#E5ECF6",
           "radialaxis": {
            "gridcolor": "white",
            "linecolor": "white",
            "ticks": ""
           }
          },
          "scene": {
           "xaxis": {
            "backgroundcolor": "#E5ECF6",
            "gridcolor": "white",
            "gridwidth": 2,
            "linecolor": "white",
            "showbackground": true,
            "ticks": "",
            "zerolinecolor": "white"
           },
           "yaxis": {
            "backgroundcolor": "#E5ECF6",
            "gridcolor": "white",
            "gridwidth": 2,
            "linecolor": "white",
            "showbackground": true,
            "ticks": "",
            "zerolinecolor": "white"
           },
           "zaxis": {
            "backgroundcolor": "#E5ECF6",
            "gridcolor": "white",
            "gridwidth": 2,
            "linecolor": "white",
            "showbackground": true,
            "ticks": "",
            "zerolinecolor": "white"
           }
          },
          "shapedefaults": {
           "line": {
            "color": "#2a3f5f"
           }
          },
          "ternary": {
           "aaxis": {
            "gridcolor": "white",
            "linecolor": "white",
            "ticks": ""
           },
           "baxis": {
            "gridcolor": "white",
            "linecolor": "white",
            "ticks": ""
           },
           "bgcolor": "#E5ECF6",
           "caxis": {
            "gridcolor": "white",
            "linecolor": "white",
            "ticks": ""
           }
          },
          "title": {
           "x": 0.05
          },
          "xaxis": {
           "automargin": true,
           "gridcolor": "white",
           "linecolor": "white",
           "ticks": "",
           "title": {
            "standoff": 15
           },
           "zerolinecolor": "white",
           "zerolinewidth": 2
          },
          "yaxis": {
           "automargin": true,
           "gridcolor": "white",
           "linecolor": "white",
           "ticks": "",
           "title": {
            "standoff": 15
           },
           "zerolinecolor": "white",
           "zerolinewidth": 2
          }
         }
        },
        "title": {
         "text": "Top 10 Cities by Average Cost for Two"
        },
        "xaxis": {
         "anchor": "y",
         "domain": [
          0,
          1
         ],
         "title": {
          "text": "listed_in(city)"
         }
        },
        "yaxis": {
         "anchor": "x",
         "domain": [
          0,
          1
         ],
         "title": {
          "text": "approx_cost(for two people)"
         }
        }
       }
      }
     },
     "metadata": {},
     "output_type": "display_data"
    }
   ],
   "source": [
    "avg_cost_city = df.groupby(\"listed_in(city)\")[\"approx_cost(for two people)\"].mean().nlargest(10).reset_index()\n",
    "\n",
    "fig = px.bar(avg_cost_city, x=\"listed_in(city)\", y=\"approx_cost(for two people)\", \n",
    "             title=\"Top 10 Cities by Average Cost for Two\")\n",
    "fig.show()\n"
   ]
  },
  {
   "cell_type": "markdown",
   "id": "584b6164",
   "metadata": {},
   "source": [
    "## Is there a relationship between the number of votes and the restaurant rating?"
   ]
  },
  {
   "cell_type": "code",
   "execution_count": 29,
   "id": "90bac621",
   "metadata": {},
   "outputs": [
    {
     "data": {
      "application/vnd.plotly.v1+json": {
       "config": {
        "plotlyServerURL": "https://plot.ly"
       },
       "data": [
        {
         "hovertemplate": "Number of Votes=%{x}<br>Restaurant Rating=%{y}<extra></extra>",
         "legendgroup": "",
         "marker": {
          "color": "#636efa",
          "opacity": 0.5,
          "symbol": "circle"
         },
         "mode": "markers",
         "name": "",
         "showlegend": false,
         "type": "scattergl",
         "x": {
          "bdata": "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",
          "dtype": "i2"
         },
         "xaxis": "x",
         "y": {
          "bdata": "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",
          "dtype": "f8"
         },
         "yaxis": "y"
        }
       ],
       "layout": {
        "legend": {
         "tracegroupgap": 0
        },
        "template": {
         "data": {
          "bar": [
           {
            "error_x": {
             "color": "#2a3f5f"
            },
            "error_y": {
             "color": "#2a3f5f"
            },
            "marker": {
             "line": {
              "color": "#E5ECF6",
              "width": 0.5
             },
             "pattern": {
              "fillmode": "overlay",
              "size": 10,
              "solidity": 0.2
             }
            },
            "type": "bar"
           }
          ],
          "barpolar": [
           {
            "marker": {
             "line": {
              "color": "#E5ECF6",
              "width": 0.5
             },
             "pattern": {
              "fillmode": "overlay",
              "size": 10,
              "solidity": 0.2
             }
            },
            "type": "barpolar"
           }
          ],
          "carpet": [
           {
            "aaxis": {
             "endlinecolor": "#2a3f5f",
             "gridcolor": "white",
             "linecolor": "white",
             "minorgridcolor": "white",
             "startlinecolor": "#2a3f5f"
            },
            "baxis": {
             "endlinecolor": "#2a3f5f",
             "gridcolor": "white",
             "linecolor": "white",
             "minorgridcolor": "white",
             "startlinecolor": "#2a3f5f"
            },
            "type": "carpet"
           }
          ],
          "choropleth": [
           {
            "colorbar": {
             "outlinewidth": 0,
             "ticks": ""
            },
            "type": "choropleth"
           }
          ],
          "contour": [
           {
            "colorbar": {
             "outlinewidth": 0,
             "ticks": ""
            },
            "colorscale": [
             [
              0,
              "#0d0887"
             ],
             [
              0.1111111111111111,
              "#46039f"
             ],
             [
              0.2222222222222222,
              "#7201a8"
             ],
             [
              0.3333333333333333,
              "#9c179e"
             ],
             [
              0.4444444444444444,
              "#bd3786"
             ],
             [
              0.5555555555555556,
              "#d8576b"
             ],
             [
              0.6666666666666666,
              "#ed7953"
             ],
             [
              0.7777777777777778,
              "#fb9f3a"
             ],
             [
              0.8888888888888888,
              "#fdca26"
             ],
             [
              1,
              "#f0f921"
             ]
            ],
            "type": "contour"
           }
          ],
          "contourcarpet": [
           {
            "colorbar": {
             "outlinewidth": 0,
             "ticks": ""
            },
            "type": "contourcarpet"
           }
          ],
          "heatmap": [
           {
            "colorbar": {
             "outlinewidth": 0,
             "ticks": ""
            },
            "colorscale": [
             [
              0,
              "#0d0887"
             ],
             [
              0.1111111111111111,
              "#46039f"
             ],
             [
              0.2222222222222222,
              "#7201a8"
             ],
             [
              0.3333333333333333,
              "#9c179e"
             ],
             [
              0.4444444444444444,
              "#bd3786"
             ],
             [
              0.5555555555555556,
              "#d8576b"
             ],
             [
              0.6666666666666666,
              "#ed7953"
             ],
             [
              0.7777777777777778,
              "#fb9f3a"
             ],
             [
              0.8888888888888888,
              "#fdca26"
             ],
             [
              1,
              "#f0f921"
             ]
            ],
            "type": "heatmap"
           }
          ],
          "histogram": [
           {
            "marker": {
             "pattern": {
              "fillmode": "overlay",
              "size": 10,
              "solidity": 0.2
             }
            },
            "type": "histogram"
           }
          ],
          "histogram2d": [
           {
            "colorbar": {
             "outlinewidth": 0,
             "ticks": ""
            },
            "colorscale": [
             [
              0,
              "#0d0887"
             ],
             [
              0.1111111111111111,
              "#46039f"
             ],
             [
              0.2222222222222222,
              "#7201a8"
             ],
             [
              0.3333333333333333,
              "#9c179e"
             ],
             [
              0.4444444444444444,
              "#bd3786"
             ],
             [
              0.5555555555555556,
              "#d8576b"
             ],
             [
              0.6666666666666666,
              "#ed7953"
             ],
             [
              0.7777777777777778,
              "#fb9f3a"
             ],
             [
              0.8888888888888888,
              "#fdca26"
             ],
             [
              1,
              "#f0f921"
             ]
            ],
            "type": "histogram2d"
           }
          ],
          "histogram2dcontour": [
           {
            "colorbar": {
             "outlinewidth": 0,
             "ticks": ""
            },
            "colorscale": [
             [
              0,
              "#0d0887"
             ],
             [
              0.1111111111111111,
              "#46039f"
             ],
             [
              0.2222222222222222,
              "#7201a8"
             ],
             [
              0.3333333333333333,
              "#9c179e"
             ],
             [
              0.4444444444444444,
              "#bd3786"
             ],
             [
              0.5555555555555556,
              "#d8576b"
             ],
             [
              0.6666666666666666,
              "#ed7953"
             ],
             [
              0.7777777777777778,
              "#fb9f3a"
             ],
             [
              0.8888888888888888,
              "#fdca26"
             ],
             [
              1,
              "#f0f921"
             ]
            ],
            "type": "histogram2dcontour"
           }
          ],
          "mesh3d": [
           {
            "colorbar": {
             "outlinewidth": 0,
             "ticks": ""
            },
            "type": "mesh3d"
           }
          ],
          "parcoords": [
           {
            "line": {
             "colorbar": {
              "outlinewidth": 0,
              "ticks": ""
             }
            },
            "type": "parcoords"
           }
          ],
          "pie": [
           {
            "automargin": true,
            "type": "pie"
           }
          ],
          "scatter": [
           {
            "fillpattern": {
             "fillmode": "overlay",
             "size": 10,
             "solidity": 0.2
            },
            "type": "scatter"
           }
          ],
          "scatter3d": [
           {
            "line": {
             "colorbar": {
              "outlinewidth": 0,
              "ticks": ""
             }
            },
            "marker": {
             "colorbar": {
              "outlinewidth": 0,
              "ticks": ""
             }
            },
            "type": "scatter3d"
           }
          ],
          "scattercarpet": [
           {
            "marker": {
             "colorbar": {
              "outlinewidth": 0,
              "ticks": ""
             }
            },
            "type": "scattercarpet"
           }
          ],
          "scattergeo": [
           {
            "marker": {
             "colorbar": {
              "outlinewidth": 0,
              "ticks": ""
             }
            },
            "type": "scattergeo"
           }
          ],
          "scattergl": [
           {
            "marker": {
             "colorbar": {
              "outlinewidth": 0,
              "ticks": ""
             }
            },
            "type": "scattergl"
           }
          ],
          "scattermap": [
           {
            "marker": {
             "colorbar": {
              "outlinewidth": 0,
              "ticks": ""
             }
            },
            "type": "scattermap"
           }
          ],
          "scattermapbox": [
           {
            "marker": {
             "colorbar": {
              "outlinewidth": 0,
              "ticks": ""
             }
            },
            "type": "scattermapbox"
           }
          ],
          "scatterpolar": [
           {
            "marker": {
             "colorbar": {
              "outlinewidth": 0,
              "ticks": ""
             }
            },
            "type": "scatterpolar"
           }
          ],
          "scatterpolargl": [
           {
            "marker": {
             "colorbar": {
              "outlinewidth": 0,
              "ticks": ""
             }
            },
            "type": "scatterpolargl"
           }
          ],
          "scatterternary": [
           {
            "marker": {
             "colorbar": {
              "outlinewidth": 0,
              "ticks": ""
             }
            },
            "type": "scatterternary"
           }
          ],
          "surface": [
           {
            "colorbar": {
             "outlinewidth": 0,
             "ticks": ""
            },
            "colorscale": [
             [
              0,
              "#0d0887"
             ],
             [
              0.1111111111111111,
              "#46039f"
             ],
             [
              0.2222222222222222,
              "#7201a8"
             ],
             [
              0.3333333333333333,
              "#9c179e"
             ],
             [
              0.4444444444444444,
              "#bd3786"
             ],
             [
              0.5555555555555556,
              "#d8576b"
             ],
             [
              0.6666666666666666,
              "#ed7953"
             ],
             [
              0.7777777777777778,
              "#fb9f3a"
             ],
             [
              0.8888888888888888,
              "#fdca26"
             ],
             [
              1,
              "#f0f921"
             ]
            ],
            "type": "surface"
           }
          ],
          "table": [
           {
            "cells": {
             "fill": {
              "color": "#EBF0F8"
             },
             "line": {
              "color": "white"
             }
            },
            "header": {
             "fill": {
              "color": "#C8D4E3"
             },
             "line": {
              "color": "white"
             }
            },
            "type": "table"
           }
          ]
         },
         "layout": {
          "annotationdefaults": {
           "arrowcolor": "#2a3f5f",
           "arrowhead": 0,
           "arrowwidth": 1
          },
          "autotypenumbers": "strict",
          "coloraxis": {
           "colorbar": {
            "outlinewidth": 0,
            "ticks": ""
           }
          },
          "colorscale": {
           "diverging": [
            [
             0,
             "#8e0152"
            ],
            [
             0.1,
             "#c51b7d"
            ],
            [
             0.2,
             "#de77ae"
            ],
            [
             0.3,
             "#f1b6da"
            ],
            [
             0.4,
             "#fde0ef"
            ],
            [
             0.5,
             "#f7f7f7"
            ],
            [
             0.6,
             "#e6f5d0"
            ],
            [
             0.7,
             "#b8e186"
            ],
            [
             0.8,
             "#7fbc41"
            ],
            [
             0.9,
             "#4d9221"
            ],
            [
             1,
             "#276419"
            ]
           ],
           "sequential": [
            [
             0,
             "#0d0887"
            ],
            [
             0.1111111111111111,
             "#46039f"
            ],
            [
             0.2222222222222222,
             "#7201a8"
            ],
            [
             0.3333333333333333,
             "#9c179e"
            ],
            [
             0.4444444444444444,
             "#bd3786"
            ],
            [
             0.5555555555555556,
             "#d8576b"
            ],
            [
             0.6666666666666666,
             "#ed7953"
            ],
            [
             0.7777777777777778,
             "#fb9f3a"
            ],
            [
             0.8888888888888888,
             "#fdca26"
            ],
            [
             1,
             "#f0f921"
            ]
           ],
           "sequentialminus": [
            [
             0,
             "#0d0887"
            ],
            [
             0.1111111111111111,
             "#46039f"
            ],
            [
             0.2222222222222222,
             "#7201a8"
            ],
            [
             0.3333333333333333,
             "#9c179e"
            ],
            [
             0.4444444444444444,
             "#bd3786"
            ],
            [
             0.5555555555555556,
             "#d8576b"
            ],
            [
             0.6666666666666666,
             "#ed7953"
            ],
            [
             0.7777777777777778,
             "#fb9f3a"
            ],
            [
             0.8888888888888888,
             "#fdca26"
            ],
            [
             1,
             "#f0f921"
            ]
           ]
          },
          "colorway": [
           "#636efa",
           "#EF553B",
           "#00cc96",
           "#ab63fa",
           "#FFA15A",
           "#19d3f3",
           "#FF6692",
           "#B6E880",
           "#FF97FF",
           "#FECB52"
          ],
          "font": {
           "color": "#2a3f5f"
          },
          "geo": {
           "bgcolor": "white",
           "lakecolor": "white",
           "landcolor": "#E5ECF6",
           "showlakes": true,
           "showland": true,
           "subunitcolor": "white"
          },
          "hoverlabel": {
           "align": "left"
          },
          "hovermode": "closest",
          "mapbox": {
           "style": "light"
          },
          "paper_bgcolor": "white",
          "plot_bgcolor": "#E5ECF6",
          "polar": {
           "angularaxis": {
            "gridcolor": "white",
            "linecolor": "white",
            "ticks": ""
           },
           "bgcolor": "#E5ECF6",
           "radialaxis": {
            "gridcolor": "white",
            "linecolor": "white",
            "ticks": ""
           }
          },
          "scene": {
           "xaxis": {
            "backgroundcolor": "#E5ECF6",
            "gridcolor": "white",
            "gridwidth": 2,
            "linecolor": "white",
            "showbackground": true,
            "ticks": "",
            "zerolinecolor": "white"
           },
           "yaxis": {
            "backgroundcolor": "#E5ECF6",
            "gridcolor": "white",
            "gridwidth": 2,
            "linecolor": "white",
            "showbackground": true,
            "ticks": "",
            "zerolinecolor": "white"
           },
           "zaxis": {
            "backgroundcolor": "#E5ECF6",
            "gridcolor": "white",
            "gridwidth": 2,
            "linecolor": "white",
            "showbackground": true,
            "ticks": "",
            "zerolinecolor": "white"
           }
          },
          "shapedefaults": {
           "line": {
            "color": "#2a3f5f"
           }
          },
          "ternary": {
           "aaxis": {
            "gridcolor": "white",
            "linecolor": "white",
            "ticks": ""
           },
           "baxis": {
            "gridcolor": "white",
            "linecolor": "white",
            "ticks": ""
           },
           "bgcolor": "#E5ECF6",
           "caxis": {
            "gridcolor": "white",
            "linecolor": "white",
            "ticks": ""
           }
          },
          "title": {
           "x": 0.05
          },
          "xaxis": {
           "automargin": true,
           "gridcolor": "white",
           "linecolor": "white",
           "ticks": "",
           "title": {
            "standoff": 15
           },
           "zerolinecolor": "white",
           "zerolinewidth": 2
          },
          "yaxis": {
           "automargin": true,
           "gridcolor": "white",
           "linecolor": "white",
           "ticks": "",
           "title": {
            "standoff": 15
           },
           "zerolinecolor": "white",
           "zerolinewidth": 2
          }
         }
        },
        "title": {
         "text": "Votes vs Rating (Scatter Plot)"
        },
        "xaxis": {
         "anchor": "y",
         "domain": [
          0,
          1
         ],
         "title": {
          "text": "Number of Votes"
         }
        },
        "yaxis": {
         "anchor": "x",
         "domain": [
          0,
          1
         ],
         "title": {
          "text": "Restaurant Rating"
         }
        }
       }
      }
     },
     "metadata": {},
     "output_type": "display_data"
    }
   ],
   "source": [
    "px.scatter(df, \n",
    "                 x=\"votes\", \n",
    "                 y=\"rate(?/5)\", \n",
    "                 opacity=0.5,\n",
    "                 title=\"Votes vs Rating (Scatter Plot)\",\n",
    "                 labels={\"votes\": \"Number of Votes\", \"rate(?/5)\": \"Restaurant Rating\"})"
   ]
  },
  {
   "cell_type": "markdown",
   "id": "88860b1c",
   "metadata": {},
   "source": [
    "### Save cleaned dataframe for later use in streamlit python file"
   ]
  },
  {
   "cell_type": "code",
   "execution_count": 30,
   "id": "a01559e1",
   "metadata": {},
   "outputs": [],
   "source": [
    "df.to_csv('cleaned_df.csv')"
   ]
  },
  {
   "cell_type": "markdown",
   "id": "a30aef26",
   "metadata": {},
   "source": [
    "## Pipeline"
   ]
  },
  {
   "cell_type": "code",
   "execution_count": 31,
   "id": "5fe7e64e",
   "metadata": {},
   "outputs": [],
   "source": [
    "x = df.drop('rate(?/5)', axis= 1)\n",
    "y = df['rate(?/5)']"
   ]
  },
  {
   "cell_type": "markdown",
   "id": "33bdb28b",
   "metadata": {},
   "source": [
    "### Numerical Pipeline"
   ]
  },
  {
   "cell_type": "code",
   "execution_count": 32,
   "id": "9fed7f6c",
   "metadata": {},
   "outputs": [
    {
     "data": {
      "text/html": [
       "<div>\n",
       "<style scoped>\n",
       "    .dataframe tbody tr th:only-of-type {\n",
       "        vertical-align: middle;\n",
       "    }\n",
       "\n",
       "    .dataframe tbody tr th {\n",
       "        vertical-align: top;\n",
       "    }\n",
       "\n",
       "    .dataframe thead th {\n",
       "        text-align: right;\n",
       "    }\n",
       "</style>\n",
       "<table border=\"1\" class=\"dataframe\">\n",
       "  <thead>\n",
       "    <tr style=\"text-align: right;\">\n",
       "      <th></th>\n",
       "      <th>votes</th>\n",
       "      <th>approx_cost(for two people)</th>\n",
       "    </tr>\n",
       "  </thead>\n",
       "  <tbody>\n",
       "    <tr>\n",
       "      <th>0</th>\n",
       "      <td>775</td>\n",
       "      <td>800</td>\n",
       "    </tr>\n",
       "    <tr>\n",
       "      <th>1</th>\n",
       "      <td>787</td>\n",
       "      <td>800</td>\n",
       "    </tr>\n",
       "    <tr>\n",
       "      <th>2</th>\n",
       "      <td>918</td>\n",
       "      <td>800</td>\n",
       "    </tr>\n",
       "    <tr>\n",
       "      <th>3</th>\n",
       "      <td>88</td>\n",
       "      <td>300</td>\n",
       "    </tr>\n",
       "    <tr>\n",
       "      <th>4</th>\n",
       "      <td>166</td>\n",
       "      <td>600</td>\n",
       "    </tr>\n",
       "  </tbody>\n",
       "</table>\n",
       "</div>"
      ],
      "text/plain": [
       "   votes  approx_cost(for two people)\n",
       "0    775                          800\n",
       "1    787                          800\n",
       "2    918                          800\n",
       "3     88                          300\n",
       "4    166                          600"
      ]
     },
     "execution_count": 32,
     "metadata": {},
     "output_type": "execute_result"
    }
   ],
   "source": [
    "x.select_dtypes(include= 'number').head()"
   ]
  },
  {
   "cell_type": "code",
   "execution_count": 33,
   "id": "8d157708",
   "metadata": {},
   "outputs": [
    {
     "data": {
      "text/html": [
       "<style>#sk-container-id-1 {\n",
       "  /* Definition of color scheme common for light and dark mode */\n",
       "  --sklearn-color-text: #000;\n",
       "  --sklearn-color-text-muted: #666;\n",
       "  --sklearn-color-line: gray;\n",
       "  /* Definition of color scheme for unfitted estimators */\n",
       "  --sklearn-color-unfitted-level-0: #fff5e6;\n",
       "  --sklearn-color-unfitted-level-1: #f6e4d2;\n",
       "  --sklearn-color-unfitted-level-2: #ffe0b3;\n",
       "  --sklearn-color-unfitted-level-3: chocolate;\n",
       "  /* Definition of color scheme for fitted estimators */\n",
       "  --sklearn-color-fitted-level-0: #f0f8ff;\n",
       "  --sklearn-color-fitted-level-1: #d4ebff;\n",
       "  --sklearn-color-fitted-level-2: #b3dbfd;\n",
       "  --sklearn-color-fitted-level-3: cornflowerblue;\n",
       "\n",
       "  /* Specific color for light theme */\n",
       "  --sklearn-color-text-on-default-background: var(--sg-text-color, var(--theme-code-foreground, var(--jp-content-font-color1, black)));\n",
       "  --sklearn-color-background: var(--sg-background-color, var(--theme-background, var(--jp-layout-color0, white)));\n",
       "  --sklearn-color-border-box: var(--sg-text-color, var(--theme-code-foreground, var(--jp-content-font-color1, black)));\n",
       "  --sklearn-color-icon: #696969;\n",
       "\n",
       "  @media (prefers-color-scheme: dark) {\n",
       "    /* Redefinition of color scheme for dark theme */\n",
       "    --sklearn-color-text-on-default-background: var(--sg-text-color, var(--theme-code-foreground, var(--jp-content-font-color1, white)));\n",
       "    --sklearn-color-background: var(--sg-background-color, var(--theme-background, var(--jp-layout-color0, #111)));\n",
       "    --sklearn-color-border-box: var(--sg-text-color, var(--theme-code-foreground, var(--jp-content-font-color1, white)));\n",
       "    --sklearn-color-icon: #878787;\n",
       "  }\n",
       "}\n",
       "\n",
       "#sk-container-id-1 {\n",
       "  color: var(--sklearn-color-text);\n",
       "}\n",
       "\n",
       "#sk-container-id-1 pre {\n",
       "  padding: 0;\n",
       "}\n",
       "\n",
       "#sk-container-id-1 input.sk-hidden--visually {\n",
       "  border: 0;\n",
       "  clip: rect(1px 1px 1px 1px);\n",
       "  clip: rect(1px, 1px, 1px, 1px);\n",
       "  height: 1px;\n",
       "  margin: -1px;\n",
       "  overflow: hidden;\n",
       "  padding: 0;\n",
       "  position: absolute;\n",
       "  width: 1px;\n",
       "}\n",
       "\n",
       "#sk-container-id-1 div.sk-dashed-wrapped {\n",
       "  border: 1px dashed var(--sklearn-color-line);\n",
       "  margin: 0 0.4em 0.5em 0.4em;\n",
       "  box-sizing: border-box;\n",
       "  padding-bottom: 0.4em;\n",
       "  background-color: var(--sklearn-color-background);\n",
       "}\n",
       "\n",
       "#sk-container-id-1 div.sk-container {\n",
       "  /* jupyter's `normalize.less` sets `[hidden] { display: none; }`\n",
       "     but bootstrap.min.css set `[hidden] { display: none !important; }`\n",
       "     so we also need the `!important` here to be able to override the\n",
       "     default hidden behavior on the sphinx rendered scikit-learn.org.\n",
       "     See: https://github.com/scikit-learn/scikit-learn/issues/21755 */\n",
       "  display: inline-block !important;\n",
       "  position: relative;\n",
       "}\n",
       "\n",
       "#sk-container-id-1 div.sk-text-repr-fallback {\n",
       "  display: none;\n",
       "}\n",
       "\n",
       "div.sk-parallel-item,\n",
       "div.sk-serial,\n",
       "div.sk-item {\n",
       "  /* draw centered vertical line to link estimators */\n",
       "  background-image: linear-gradient(var(--sklearn-color-text-on-default-background), var(--sklearn-color-text-on-default-background));\n",
       "  background-size: 2px 100%;\n",
       "  background-repeat: no-repeat;\n",
       "  background-position: center center;\n",
       "}\n",
       "\n",
       "/* Parallel-specific style estimator block */\n",
       "\n",
       "#sk-container-id-1 div.sk-parallel-item::after {\n",
       "  content: \"\";\n",
       "  width: 100%;\n",
       "  border-bottom: 2px solid var(--sklearn-color-text-on-default-background);\n",
       "  flex-grow: 1;\n",
       "}\n",
       "\n",
       "#sk-container-id-1 div.sk-parallel {\n",
       "  display: flex;\n",
       "  align-items: stretch;\n",
       "  justify-content: center;\n",
       "  background-color: var(--sklearn-color-background);\n",
       "  position: relative;\n",
       "}\n",
       "\n",
       "#sk-container-id-1 div.sk-parallel-item {\n",
       "  display: flex;\n",
       "  flex-direction: column;\n",
       "}\n",
       "\n",
       "#sk-container-id-1 div.sk-parallel-item:first-child::after {\n",
       "  align-self: flex-end;\n",
       "  width: 50%;\n",
       "}\n",
       "\n",
       "#sk-container-id-1 div.sk-parallel-item:last-child::after {\n",
       "  align-self: flex-start;\n",
       "  width: 50%;\n",
       "}\n",
       "\n",
       "#sk-container-id-1 div.sk-parallel-item:only-child::after {\n",
       "  width: 0;\n",
       "}\n",
       "\n",
       "/* Serial-specific style estimator block */\n",
       "\n",
       "#sk-container-id-1 div.sk-serial {\n",
       "  display: flex;\n",
       "  flex-direction: column;\n",
       "  align-items: center;\n",
       "  background-color: var(--sklearn-color-background);\n",
       "  padding-right: 1em;\n",
       "  padding-left: 1em;\n",
       "}\n",
       "\n",
       "\n",
       "/* Toggleable style: style used for estimator/Pipeline/ColumnTransformer box that is\n",
       "clickable and can be expanded/collapsed.\n",
       "- Pipeline and ColumnTransformer use this feature and define the default style\n",
       "- Estimators will overwrite some part of the style using the `sk-estimator` class\n",
       "*/\n",
       "\n",
       "/* Pipeline and ColumnTransformer style (default) */\n",
       "\n",
       "#sk-container-id-1 div.sk-toggleable {\n",
       "  /* Default theme specific background. It is overwritten whether we have a\n",
       "  specific estimator or a Pipeline/ColumnTransformer */\n",
       "  background-color: var(--sklearn-color-background);\n",
       "}\n",
       "\n",
       "/* Toggleable label */\n",
       "#sk-container-id-1 label.sk-toggleable__label {\n",
       "  cursor: pointer;\n",
       "  display: flex;\n",
       "  width: 100%;\n",
       "  margin-bottom: 0;\n",
       "  padding: 0.5em;\n",
       "  box-sizing: border-box;\n",
       "  text-align: center;\n",
       "  align-items: start;\n",
       "  justify-content: space-between;\n",
       "  gap: 0.5em;\n",
       "}\n",
       "\n",
       "#sk-container-id-1 label.sk-toggleable__label .caption {\n",
       "  font-size: 0.6rem;\n",
       "  font-weight: lighter;\n",
       "  color: var(--sklearn-color-text-muted);\n",
       "}\n",
       "\n",
       "#sk-container-id-1 label.sk-toggleable__label-arrow:before {\n",
       "  /* Arrow on the left of the label */\n",
       "  content: \"▸\";\n",
       "  float: left;\n",
       "  margin-right: 0.25em;\n",
       "  color: var(--sklearn-color-icon);\n",
       "}\n",
       "\n",
       "#sk-container-id-1 label.sk-toggleable__label-arrow:hover:before {\n",
       "  color: var(--sklearn-color-text);\n",
       "}\n",
       "\n",
       "/* Toggleable content - dropdown */\n",
       "\n",
       "#sk-container-id-1 div.sk-toggleable__content {\n",
       "  max-height: 0;\n",
       "  max-width: 0;\n",
       "  overflow: hidden;\n",
       "  text-align: left;\n",
       "  /* unfitted */\n",
       "  background-color: var(--sklearn-color-unfitted-level-0);\n",
       "}\n",
       "\n",
       "#sk-container-id-1 div.sk-toggleable__content.fitted {\n",
       "  /* fitted */\n",
       "  background-color: var(--sklearn-color-fitted-level-0);\n",
       "}\n",
       "\n",
       "#sk-container-id-1 div.sk-toggleable__content pre {\n",
       "  margin: 0.2em;\n",
       "  border-radius: 0.25em;\n",
       "  color: var(--sklearn-color-text);\n",
       "  /* unfitted */\n",
       "  background-color: var(--sklearn-color-unfitted-level-0);\n",
       "}\n",
       "\n",
       "#sk-container-id-1 div.sk-toggleable__content.fitted pre {\n",
       "  /* unfitted */\n",
       "  background-color: var(--sklearn-color-fitted-level-0);\n",
       "}\n",
       "\n",
       "#sk-container-id-1 input.sk-toggleable__control:checked~div.sk-toggleable__content {\n",
       "  /* Expand drop-down */\n",
       "  max-height: 200px;\n",
       "  max-width: 100%;\n",
       "  overflow: auto;\n",
       "}\n",
       "\n",
       "#sk-container-id-1 input.sk-toggleable__control:checked~label.sk-toggleable__label-arrow:before {\n",
       "  content: \"▾\";\n",
       "}\n",
       "\n",
       "/* Pipeline/ColumnTransformer-specific style */\n",
       "\n",
       "#sk-container-id-1 div.sk-label input.sk-toggleable__control:checked~label.sk-toggleable__label {\n",
       "  color: var(--sklearn-color-text);\n",
       "  background-color: var(--sklearn-color-unfitted-level-2);\n",
       "}\n",
       "\n",
       "#sk-container-id-1 div.sk-label.fitted input.sk-toggleable__control:checked~label.sk-toggleable__label {\n",
       "  background-color: var(--sklearn-color-fitted-level-2);\n",
       "}\n",
       "\n",
       "/* Estimator-specific style */\n",
       "\n",
       "/* Colorize estimator box */\n",
       "#sk-container-id-1 div.sk-estimator input.sk-toggleable__control:checked~label.sk-toggleable__label {\n",
       "  /* unfitted */\n",
       "  background-color: var(--sklearn-color-unfitted-level-2);\n",
       "}\n",
       "\n",
       "#sk-container-id-1 div.sk-estimator.fitted input.sk-toggleable__control:checked~label.sk-toggleable__label {\n",
       "  /* fitted */\n",
       "  background-color: var(--sklearn-color-fitted-level-2);\n",
       "}\n",
       "\n",
       "#sk-container-id-1 div.sk-label label.sk-toggleable__label,\n",
       "#sk-container-id-1 div.sk-label label {\n",
       "  /* The background is the default theme color */\n",
       "  color: var(--sklearn-color-text-on-default-background);\n",
       "}\n",
       "\n",
       "/* On hover, darken the color of the background */\n",
       "#sk-container-id-1 div.sk-label:hover label.sk-toggleable__label {\n",
       "  color: var(--sklearn-color-text);\n",
       "  background-color: var(--sklearn-color-unfitted-level-2);\n",
       "}\n",
       "\n",
       "/* Label box, darken color on hover, fitted */\n",
       "#sk-container-id-1 div.sk-label.fitted:hover label.sk-toggleable__label.fitted {\n",
       "  color: var(--sklearn-color-text);\n",
       "  background-color: var(--sklearn-color-fitted-level-2);\n",
       "}\n",
       "\n",
       "/* Estimator label */\n",
       "\n",
       "#sk-container-id-1 div.sk-label label {\n",
       "  font-family: monospace;\n",
       "  font-weight: bold;\n",
       "  display: inline-block;\n",
       "  line-height: 1.2em;\n",
       "}\n",
       "\n",
       "#sk-container-id-1 div.sk-label-container {\n",
       "  text-align: center;\n",
       "}\n",
       "\n",
       "/* Estimator-specific */\n",
       "#sk-container-id-1 div.sk-estimator {\n",
       "  font-family: monospace;\n",
       "  border: 1px dotted var(--sklearn-color-border-box);\n",
       "  border-radius: 0.25em;\n",
       "  box-sizing: border-box;\n",
       "  margin-bottom: 0.5em;\n",
       "  /* unfitted */\n",
       "  background-color: var(--sklearn-color-unfitted-level-0);\n",
       "}\n",
       "\n",
       "#sk-container-id-1 div.sk-estimator.fitted {\n",
       "  /* fitted */\n",
       "  background-color: var(--sklearn-color-fitted-level-0);\n",
       "}\n",
       "\n",
       "/* on hover */\n",
       "#sk-container-id-1 div.sk-estimator:hover {\n",
       "  /* unfitted */\n",
       "  background-color: var(--sklearn-color-unfitted-level-2);\n",
       "}\n",
       "\n",
       "#sk-container-id-1 div.sk-estimator.fitted:hover {\n",
       "  /* fitted */\n",
       "  background-color: var(--sklearn-color-fitted-level-2);\n",
       "}\n",
       "\n",
       "/* Specification for estimator info (e.g. \"i\" and \"?\") */\n",
       "\n",
       "/* Common style for \"i\" and \"?\" */\n",
       "\n",
       ".sk-estimator-doc-link,\n",
       "a:link.sk-estimator-doc-link,\n",
       "a:visited.sk-estimator-doc-link {\n",
       "  float: right;\n",
       "  font-size: smaller;\n",
       "  line-height: 1em;\n",
       "  font-family: monospace;\n",
       "  background-color: var(--sklearn-color-background);\n",
       "  border-radius: 1em;\n",
       "  height: 1em;\n",
       "  width: 1em;\n",
       "  text-decoration: none !important;\n",
       "  margin-left: 0.5em;\n",
       "  text-align: center;\n",
       "  /* unfitted */\n",
       "  border: var(--sklearn-color-unfitted-level-1) 1pt solid;\n",
       "  color: var(--sklearn-color-unfitted-level-1);\n",
       "}\n",
       "\n",
       ".sk-estimator-doc-link.fitted,\n",
       "a:link.sk-estimator-doc-link.fitted,\n",
       "a:visited.sk-estimator-doc-link.fitted {\n",
       "  /* fitted */\n",
       "  border: var(--sklearn-color-fitted-level-1) 1pt solid;\n",
       "  color: var(--sklearn-color-fitted-level-1);\n",
       "}\n",
       "\n",
       "/* On hover */\n",
       "div.sk-estimator:hover .sk-estimator-doc-link:hover,\n",
       ".sk-estimator-doc-link:hover,\n",
       "div.sk-label-container:hover .sk-estimator-doc-link:hover,\n",
       ".sk-estimator-doc-link:hover {\n",
       "  /* unfitted */\n",
       "  background-color: var(--sklearn-color-unfitted-level-3);\n",
       "  color: var(--sklearn-color-background);\n",
       "  text-decoration: none;\n",
       "}\n",
       "\n",
       "div.sk-estimator.fitted:hover .sk-estimator-doc-link.fitted:hover,\n",
       ".sk-estimator-doc-link.fitted:hover,\n",
       "div.sk-label-container:hover .sk-estimator-doc-link.fitted:hover,\n",
       ".sk-estimator-doc-link.fitted:hover {\n",
       "  /* fitted */\n",
       "  background-color: var(--sklearn-color-fitted-level-3);\n",
       "  color: var(--sklearn-color-background);\n",
       "  text-decoration: none;\n",
       "}\n",
       "\n",
       "/* Span, style for the box shown on hovering the info icon */\n",
       ".sk-estimator-doc-link span {\n",
       "  display: none;\n",
       "  z-index: 9999;\n",
       "  position: relative;\n",
       "  font-weight: normal;\n",
       "  right: .2ex;\n",
       "  padding: .5ex;\n",
       "  margin: .5ex;\n",
       "  width: min-content;\n",
       "  min-width: 20ex;\n",
       "  max-width: 50ex;\n",
       "  color: var(--sklearn-color-text);\n",
       "  box-shadow: 2pt 2pt 4pt #999;\n",
       "  /* unfitted */\n",
       "  background: var(--sklearn-color-unfitted-level-0);\n",
       "  border: .5pt solid var(--sklearn-color-unfitted-level-3);\n",
       "}\n",
       "\n",
       ".sk-estimator-doc-link.fitted span {\n",
       "  /* fitted */\n",
       "  background: var(--sklearn-color-fitted-level-0);\n",
       "  border: var(--sklearn-color-fitted-level-3);\n",
       "}\n",
       "\n",
       ".sk-estimator-doc-link:hover span {\n",
       "  display: block;\n",
       "}\n",
       "\n",
       "/* \"?\"-specific style due to the `<a>` HTML tag */\n",
       "\n",
       "#sk-container-id-1 a.estimator_doc_link {\n",
       "  float: right;\n",
       "  font-size: 1rem;\n",
       "  line-height: 1em;\n",
       "  font-family: monospace;\n",
       "  background-color: var(--sklearn-color-background);\n",
       "  border-radius: 1rem;\n",
       "  height: 1rem;\n",
       "  width: 1rem;\n",
       "  text-decoration: none;\n",
       "  /* unfitted */\n",
       "  color: var(--sklearn-color-unfitted-level-1);\n",
       "  border: var(--sklearn-color-unfitted-level-1) 1pt solid;\n",
       "}\n",
       "\n",
       "#sk-container-id-1 a.estimator_doc_link.fitted {\n",
       "  /* fitted */\n",
       "  border: var(--sklearn-color-fitted-level-1) 1pt solid;\n",
       "  color: var(--sklearn-color-fitted-level-1);\n",
       "}\n",
       "\n",
       "/* On hover */\n",
       "#sk-container-id-1 a.estimator_doc_link:hover {\n",
       "  /* unfitted */\n",
       "  background-color: var(--sklearn-color-unfitted-level-3);\n",
       "  color: var(--sklearn-color-background);\n",
       "  text-decoration: none;\n",
       "}\n",
       "\n",
       "#sk-container-id-1 a.estimator_doc_link.fitted:hover {\n",
       "  /* fitted */\n",
       "  background-color: var(--sklearn-color-fitted-level-3);\n",
       "}\n",
       "</style><div id=\"sk-container-id-1\" class=\"sk-top-container\"><div class=\"sk-text-repr-fallback\"><pre>Pipeline(steps=[(&#x27;Robust Scaler&#x27;, RobustScaler())])</pre><b>In a Jupyter environment, please rerun this cell to show the HTML representation or trust the notebook. <br />On GitHub, the HTML representation is unable to render, please try loading this page with nbviewer.org.</b></div><div class=\"sk-container\" hidden><div class=\"sk-item sk-dashed-wrapped\"><div class=\"sk-label-container\"><div class=\"sk-label  sk-toggleable\"><input class=\"sk-toggleable__control sk-hidden--visually\" id=\"sk-estimator-id-1\" type=\"checkbox\" ><label for=\"sk-estimator-id-1\" class=\"sk-toggleable__label  sk-toggleable__label-arrow\"><div><div>Pipeline</div></div><div><span class=\"sk-estimator-doc-link \">i<span>Not fitted</span></span></div></label><div class=\"sk-toggleable__content \"><pre>Pipeline(steps=[(&#x27;Robust Scaler&#x27;, RobustScaler())])</pre></div> </div></div><div class=\"sk-serial\"><div class=\"sk-item\"><div class=\"sk-estimator  sk-toggleable\"><input class=\"sk-toggleable__control sk-hidden--visually\" id=\"sk-estimator-id-2\" type=\"checkbox\" ><label for=\"sk-estimator-id-2\" class=\"sk-toggleable__label  sk-toggleable__label-arrow\"><div><div>RobustScaler</div></div><div><a class=\"sk-estimator-doc-link \" rel=\"noreferrer\" target=\"_blank\" href=\"https://scikit-learn.org/1.6/modules/generated/sklearn.preprocessing.RobustScaler.html\">?<span>Documentation for RobustScaler</span></a></div></label><div class=\"sk-toggleable__content \"><pre>RobustScaler()</pre></div> </div></div></div></div></div></div>"
      ],
      "text/plain": [
       "Pipeline(steps=[('Robust Scaler', RobustScaler())])"
      ]
     },
     "execution_count": 33,
     "metadata": {},
     "output_type": "execute_result"
    }
   ],
   "source": [
    "from imblearn.pipeline import Pipeline\n",
    "from sklearn.preprocessing import RobustScaler\n",
    "\n",
    "scaler = RobustScaler()\n",
    "\n",
    "num_pipeline = Pipeline(steps= [ ('Robust Scaler', scaler) ])\n",
    "num_pipeline"
   ]
  },
  {
   "cell_type": "code",
   "execution_count": 34,
   "id": "fd45124d",
   "metadata": {},
   "outputs": [
    {
     "data": {
      "text/plain": [
       "Index(['online_order', 'book_table', 'location', 'rest_type', 'cuisines',\n",
       "       'listed_in(type)', 'listed_in(city)'],\n",
       "      dtype='object')"
      ]
     },
     "execution_count": 34,
     "metadata": {},
     "output_type": "execute_result"
    }
   ],
   "source": [
    "x.select_dtypes(include= 'object').head().columns"
   ]
  },
  {
   "cell_type": "code",
   "execution_count": 35,
   "id": "4055e2a1",
   "metadata": {},
   "outputs": [],
   "source": [
    "cat_col = ['online_order', 'book_table', 'location', 'rest_type', 'cuisines',\n",
    "       'listed_in(type)', 'listed_in(city)']"
   ]
  },
  {
   "cell_type": "code",
   "execution_count": 36,
   "id": "e3ca8440",
   "metadata": {},
   "outputs": [
    {
     "name": "stdout",
     "output_type": "stream",
     "text": [
      "online_order\n",
      "2\n",
      "book_table\n",
      "2\n",
      "location\n",
      "92\n",
      "rest_type\n",
      "87\n",
      "cuisines\n",
      "2367\n",
      "listed_in(type)\n",
      "7\n",
      "listed_in(city)\n",
      "30\n"
     ]
    }
   ],
   "source": [
    "for col in cat_col:\n",
    "    print(col)\n",
    "    print(df[col].nunique())\n",
    "   "
   ]
  },
  {
   "cell_type": "markdown",
   "id": "cd5d3485",
   "metadata": {},
   "source": [
    "# Categorical pipeline"
   ]
  },
  {
   "cell_type": "markdown",
   "id": "c35513cd",
   "metadata": {},
   "source": [
    "### OHE Pipeline"
   ]
  },
  {
   "cell_type": "code",
   "execution_count": 37,
   "id": "0bffb5b2",
   "metadata": {},
   "outputs": [
    {
     "data": {
      "text/plain": [
       "Index(['online_order', 'book_table'], dtype='object')"
      ]
     },
     "execution_count": 37,
     "metadata": {},
     "output_type": "execute_result"
    }
   ],
   "source": [
    "ohe_cols = x.select_dtypes(include= 'object').columns.drop(['location', 'rest_type', 'cuisines', 'listed_in(city)','listed_in(type)'])\n",
    "ohe_cols"
   ]
  },
  {
   "cell_type": "code",
   "execution_count": 38,
   "id": "78754185",
   "metadata": {},
   "outputs": [
    {
     "data": {
      "text/html": [
       "<style>#sk-container-id-2 {\n",
       "  /* Definition of color scheme common for light and dark mode */\n",
       "  --sklearn-color-text: #000;\n",
       "  --sklearn-color-text-muted: #666;\n",
       "  --sklearn-color-line: gray;\n",
       "  /* Definition of color scheme for unfitted estimators */\n",
       "  --sklearn-color-unfitted-level-0: #fff5e6;\n",
       "  --sklearn-color-unfitted-level-1: #f6e4d2;\n",
       "  --sklearn-color-unfitted-level-2: #ffe0b3;\n",
       "  --sklearn-color-unfitted-level-3: chocolate;\n",
       "  /* Definition of color scheme for fitted estimators */\n",
       "  --sklearn-color-fitted-level-0: #f0f8ff;\n",
       "  --sklearn-color-fitted-level-1: #d4ebff;\n",
       "  --sklearn-color-fitted-level-2: #b3dbfd;\n",
       "  --sklearn-color-fitted-level-3: cornflowerblue;\n",
       "\n",
       "  /* Specific color for light theme */\n",
       "  --sklearn-color-text-on-default-background: var(--sg-text-color, var(--theme-code-foreground, var(--jp-content-font-color1, black)));\n",
       "  --sklearn-color-background: var(--sg-background-color, var(--theme-background, var(--jp-layout-color0, white)));\n",
       "  --sklearn-color-border-box: var(--sg-text-color, var(--theme-code-foreground, var(--jp-content-font-color1, black)));\n",
       "  --sklearn-color-icon: #696969;\n",
       "\n",
       "  @media (prefers-color-scheme: dark) {\n",
       "    /* Redefinition of color scheme for dark theme */\n",
       "    --sklearn-color-text-on-default-background: var(--sg-text-color, var(--theme-code-foreground, var(--jp-content-font-color1, white)));\n",
       "    --sklearn-color-background: var(--sg-background-color, var(--theme-background, var(--jp-layout-color0, #111)));\n",
       "    --sklearn-color-border-box: var(--sg-text-color, var(--theme-code-foreground, var(--jp-content-font-color1, white)));\n",
       "    --sklearn-color-icon: #878787;\n",
       "  }\n",
       "}\n",
       "\n",
       "#sk-container-id-2 {\n",
       "  color: var(--sklearn-color-text);\n",
       "}\n",
       "\n",
       "#sk-container-id-2 pre {\n",
       "  padding: 0;\n",
       "}\n",
       "\n",
       "#sk-container-id-2 input.sk-hidden--visually {\n",
       "  border: 0;\n",
       "  clip: rect(1px 1px 1px 1px);\n",
       "  clip: rect(1px, 1px, 1px, 1px);\n",
       "  height: 1px;\n",
       "  margin: -1px;\n",
       "  overflow: hidden;\n",
       "  padding: 0;\n",
       "  position: absolute;\n",
       "  width: 1px;\n",
       "}\n",
       "\n",
       "#sk-container-id-2 div.sk-dashed-wrapped {\n",
       "  border: 1px dashed var(--sklearn-color-line);\n",
       "  margin: 0 0.4em 0.5em 0.4em;\n",
       "  box-sizing: border-box;\n",
       "  padding-bottom: 0.4em;\n",
       "  background-color: var(--sklearn-color-background);\n",
       "}\n",
       "\n",
       "#sk-container-id-2 div.sk-container {\n",
       "  /* jupyter's `normalize.less` sets `[hidden] { display: none; }`\n",
       "     but bootstrap.min.css set `[hidden] { display: none !important; }`\n",
       "     so we also need the `!important` here to be able to override the\n",
       "     default hidden behavior on the sphinx rendered scikit-learn.org.\n",
       "     See: https://github.com/scikit-learn/scikit-learn/issues/21755 */\n",
       "  display: inline-block !important;\n",
       "  position: relative;\n",
       "}\n",
       "\n",
       "#sk-container-id-2 div.sk-text-repr-fallback {\n",
       "  display: none;\n",
       "}\n",
       "\n",
       "div.sk-parallel-item,\n",
       "div.sk-serial,\n",
       "div.sk-item {\n",
       "  /* draw centered vertical line to link estimators */\n",
       "  background-image: linear-gradient(var(--sklearn-color-text-on-default-background), var(--sklearn-color-text-on-default-background));\n",
       "  background-size: 2px 100%;\n",
       "  background-repeat: no-repeat;\n",
       "  background-position: center center;\n",
       "}\n",
       "\n",
       "/* Parallel-specific style estimator block */\n",
       "\n",
       "#sk-container-id-2 div.sk-parallel-item::after {\n",
       "  content: \"\";\n",
       "  width: 100%;\n",
       "  border-bottom: 2px solid var(--sklearn-color-text-on-default-background);\n",
       "  flex-grow: 1;\n",
       "}\n",
       "\n",
       "#sk-container-id-2 div.sk-parallel {\n",
       "  display: flex;\n",
       "  align-items: stretch;\n",
       "  justify-content: center;\n",
       "  background-color: var(--sklearn-color-background);\n",
       "  position: relative;\n",
       "}\n",
       "\n",
       "#sk-container-id-2 div.sk-parallel-item {\n",
       "  display: flex;\n",
       "  flex-direction: column;\n",
       "}\n",
       "\n",
       "#sk-container-id-2 div.sk-parallel-item:first-child::after {\n",
       "  align-self: flex-end;\n",
       "  width: 50%;\n",
       "}\n",
       "\n",
       "#sk-container-id-2 div.sk-parallel-item:last-child::after {\n",
       "  align-self: flex-start;\n",
       "  width: 50%;\n",
       "}\n",
       "\n",
       "#sk-container-id-2 div.sk-parallel-item:only-child::after {\n",
       "  width: 0;\n",
       "}\n",
       "\n",
       "/* Serial-specific style estimator block */\n",
       "\n",
       "#sk-container-id-2 div.sk-serial {\n",
       "  display: flex;\n",
       "  flex-direction: column;\n",
       "  align-items: center;\n",
       "  background-color: var(--sklearn-color-background);\n",
       "  padding-right: 1em;\n",
       "  padding-left: 1em;\n",
       "}\n",
       "\n",
       "\n",
       "/* Toggleable style: style used for estimator/Pipeline/ColumnTransformer box that is\n",
       "clickable and can be expanded/collapsed.\n",
       "- Pipeline and ColumnTransformer use this feature and define the default style\n",
       "- Estimators will overwrite some part of the style using the `sk-estimator` class\n",
       "*/\n",
       "\n",
       "/* Pipeline and ColumnTransformer style (default) */\n",
       "\n",
       "#sk-container-id-2 div.sk-toggleable {\n",
       "  /* Default theme specific background. It is overwritten whether we have a\n",
       "  specific estimator or a Pipeline/ColumnTransformer */\n",
       "  background-color: var(--sklearn-color-background);\n",
       "}\n",
       "\n",
       "/* Toggleable label */\n",
       "#sk-container-id-2 label.sk-toggleable__label {\n",
       "  cursor: pointer;\n",
       "  display: flex;\n",
       "  width: 100%;\n",
       "  margin-bottom: 0;\n",
       "  padding: 0.5em;\n",
       "  box-sizing: border-box;\n",
       "  text-align: center;\n",
       "  align-items: start;\n",
       "  justify-content: space-between;\n",
       "  gap: 0.5em;\n",
       "}\n",
       "\n",
       "#sk-container-id-2 label.sk-toggleable__label .caption {\n",
       "  font-size: 0.6rem;\n",
       "  font-weight: lighter;\n",
       "  color: var(--sklearn-color-text-muted);\n",
       "}\n",
       "\n",
       "#sk-container-id-2 label.sk-toggleable__label-arrow:before {\n",
       "  /* Arrow on the left of the label */\n",
       "  content: \"▸\";\n",
       "  float: left;\n",
       "  margin-right: 0.25em;\n",
       "  color: var(--sklearn-color-icon);\n",
       "}\n",
       "\n",
       "#sk-container-id-2 label.sk-toggleable__label-arrow:hover:before {\n",
       "  color: var(--sklearn-color-text);\n",
       "}\n",
       "\n",
       "/* Toggleable content - dropdown */\n",
       "\n",
       "#sk-container-id-2 div.sk-toggleable__content {\n",
       "  max-height: 0;\n",
       "  max-width: 0;\n",
       "  overflow: hidden;\n",
       "  text-align: left;\n",
       "  /* unfitted */\n",
       "  background-color: var(--sklearn-color-unfitted-level-0);\n",
       "}\n",
       "\n",
       "#sk-container-id-2 div.sk-toggleable__content.fitted {\n",
       "  /* fitted */\n",
       "  background-color: var(--sklearn-color-fitted-level-0);\n",
       "}\n",
       "\n",
       "#sk-container-id-2 div.sk-toggleable__content pre {\n",
       "  margin: 0.2em;\n",
       "  border-radius: 0.25em;\n",
       "  color: var(--sklearn-color-text);\n",
       "  /* unfitted */\n",
       "  background-color: var(--sklearn-color-unfitted-level-0);\n",
       "}\n",
       "\n",
       "#sk-container-id-2 div.sk-toggleable__content.fitted pre {\n",
       "  /* unfitted */\n",
       "  background-color: var(--sklearn-color-fitted-level-0);\n",
       "}\n",
       "\n",
       "#sk-container-id-2 input.sk-toggleable__control:checked~div.sk-toggleable__content {\n",
       "  /* Expand drop-down */\n",
       "  max-height: 200px;\n",
       "  max-width: 100%;\n",
       "  overflow: auto;\n",
       "}\n",
       "\n",
       "#sk-container-id-2 input.sk-toggleable__control:checked~label.sk-toggleable__label-arrow:before {\n",
       "  content: \"▾\";\n",
       "}\n",
       "\n",
       "/* Pipeline/ColumnTransformer-specific style */\n",
       "\n",
       "#sk-container-id-2 div.sk-label input.sk-toggleable__control:checked~label.sk-toggleable__label {\n",
       "  color: var(--sklearn-color-text);\n",
       "  background-color: var(--sklearn-color-unfitted-level-2);\n",
       "}\n",
       "\n",
       "#sk-container-id-2 div.sk-label.fitted input.sk-toggleable__control:checked~label.sk-toggleable__label {\n",
       "  background-color: var(--sklearn-color-fitted-level-2);\n",
       "}\n",
       "\n",
       "/* Estimator-specific style */\n",
       "\n",
       "/* Colorize estimator box */\n",
       "#sk-container-id-2 div.sk-estimator input.sk-toggleable__control:checked~label.sk-toggleable__label {\n",
       "  /* unfitted */\n",
       "  background-color: var(--sklearn-color-unfitted-level-2);\n",
       "}\n",
       "\n",
       "#sk-container-id-2 div.sk-estimator.fitted input.sk-toggleable__control:checked~label.sk-toggleable__label {\n",
       "  /* fitted */\n",
       "  background-color: var(--sklearn-color-fitted-level-2);\n",
       "}\n",
       "\n",
       "#sk-container-id-2 div.sk-label label.sk-toggleable__label,\n",
       "#sk-container-id-2 div.sk-label label {\n",
       "  /* The background is the default theme color */\n",
       "  color: var(--sklearn-color-text-on-default-background);\n",
       "}\n",
       "\n",
       "/* On hover, darken the color of the background */\n",
       "#sk-container-id-2 div.sk-label:hover label.sk-toggleable__label {\n",
       "  color: var(--sklearn-color-text);\n",
       "  background-color: var(--sklearn-color-unfitted-level-2);\n",
       "}\n",
       "\n",
       "/* Label box, darken color on hover, fitted */\n",
       "#sk-container-id-2 div.sk-label.fitted:hover label.sk-toggleable__label.fitted {\n",
       "  color: var(--sklearn-color-text);\n",
       "  background-color: var(--sklearn-color-fitted-level-2);\n",
       "}\n",
       "\n",
       "/* Estimator label */\n",
       "\n",
       "#sk-container-id-2 div.sk-label label {\n",
       "  font-family: monospace;\n",
       "  font-weight: bold;\n",
       "  display: inline-block;\n",
       "  line-height: 1.2em;\n",
       "}\n",
       "\n",
       "#sk-container-id-2 div.sk-label-container {\n",
       "  text-align: center;\n",
       "}\n",
       "\n",
       "/* Estimator-specific */\n",
       "#sk-container-id-2 div.sk-estimator {\n",
       "  font-family: monospace;\n",
       "  border: 1px dotted var(--sklearn-color-border-box);\n",
       "  border-radius: 0.25em;\n",
       "  box-sizing: border-box;\n",
       "  margin-bottom: 0.5em;\n",
       "  /* unfitted */\n",
       "  background-color: var(--sklearn-color-unfitted-level-0);\n",
       "}\n",
       "\n",
       "#sk-container-id-2 div.sk-estimator.fitted {\n",
       "  /* fitted */\n",
       "  background-color: var(--sklearn-color-fitted-level-0);\n",
       "}\n",
       "\n",
       "/* on hover */\n",
       "#sk-container-id-2 div.sk-estimator:hover {\n",
       "  /* unfitted */\n",
       "  background-color: var(--sklearn-color-unfitted-level-2);\n",
       "}\n",
       "\n",
       "#sk-container-id-2 div.sk-estimator.fitted:hover {\n",
       "  /* fitted */\n",
       "  background-color: var(--sklearn-color-fitted-level-2);\n",
       "}\n",
       "\n",
       "/* Specification for estimator info (e.g. \"i\" and \"?\") */\n",
       "\n",
       "/* Common style for \"i\" and \"?\" */\n",
       "\n",
       ".sk-estimator-doc-link,\n",
       "a:link.sk-estimator-doc-link,\n",
       "a:visited.sk-estimator-doc-link {\n",
       "  float: right;\n",
       "  font-size: smaller;\n",
       "  line-height: 1em;\n",
       "  font-family: monospace;\n",
       "  background-color: var(--sklearn-color-background);\n",
       "  border-radius: 1em;\n",
       "  height: 1em;\n",
       "  width: 1em;\n",
       "  text-decoration: none !important;\n",
       "  margin-left: 0.5em;\n",
       "  text-align: center;\n",
       "  /* unfitted */\n",
       "  border: var(--sklearn-color-unfitted-level-1) 1pt solid;\n",
       "  color: var(--sklearn-color-unfitted-level-1);\n",
       "}\n",
       "\n",
       ".sk-estimator-doc-link.fitted,\n",
       "a:link.sk-estimator-doc-link.fitted,\n",
       "a:visited.sk-estimator-doc-link.fitted {\n",
       "  /* fitted */\n",
       "  border: var(--sklearn-color-fitted-level-1) 1pt solid;\n",
       "  color: var(--sklearn-color-fitted-level-1);\n",
       "}\n",
       "\n",
       "/* On hover */\n",
       "div.sk-estimator:hover .sk-estimator-doc-link:hover,\n",
       ".sk-estimator-doc-link:hover,\n",
       "div.sk-label-container:hover .sk-estimator-doc-link:hover,\n",
       ".sk-estimator-doc-link:hover {\n",
       "  /* unfitted */\n",
       "  background-color: var(--sklearn-color-unfitted-level-3);\n",
       "  color: var(--sklearn-color-background);\n",
       "  text-decoration: none;\n",
       "}\n",
       "\n",
       "div.sk-estimator.fitted:hover .sk-estimator-doc-link.fitted:hover,\n",
       ".sk-estimator-doc-link.fitted:hover,\n",
       "div.sk-label-container:hover .sk-estimator-doc-link.fitted:hover,\n",
       ".sk-estimator-doc-link.fitted:hover {\n",
       "  /* fitted */\n",
       "  background-color: var(--sklearn-color-fitted-level-3);\n",
       "  color: var(--sklearn-color-background);\n",
       "  text-decoration: none;\n",
       "}\n",
       "\n",
       "/* Span, style for the box shown on hovering the info icon */\n",
       ".sk-estimator-doc-link span {\n",
       "  display: none;\n",
       "  z-index: 9999;\n",
       "  position: relative;\n",
       "  font-weight: normal;\n",
       "  right: .2ex;\n",
       "  padding: .5ex;\n",
       "  margin: .5ex;\n",
       "  width: min-content;\n",
       "  min-width: 20ex;\n",
       "  max-width: 50ex;\n",
       "  color: var(--sklearn-color-text);\n",
       "  box-shadow: 2pt 2pt 4pt #999;\n",
       "  /* unfitted */\n",
       "  background: var(--sklearn-color-unfitted-level-0);\n",
       "  border: .5pt solid var(--sklearn-color-unfitted-level-3);\n",
       "}\n",
       "\n",
       ".sk-estimator-doc-link.fitted span {\n",
       "  /* fitted */\n",
       "  background: var(--sklearn-color-fitted-level-0);\n",
       "  border: var(--sklearn-color-fitted-level-3);\n",
       "}\n",
       "\n",
       ".sk-estimator-doc-link:hover span {\n",
       "  display: block;\n",
       "}\n",
       "\n",
       "/* \"?\"-specific style due to the `<a>` HTML tag */\n",
       "\n",
       "#sk-container-id-2 a.estimator_doc_link {\n",
       "  float: right;\n",
       "  font-size: 1rem;\n",
       "  line-height: 1em;\n",
       "  font-family: monospace;\n",
       "  background-color: var(--sklearn-color-background);\n",
       "  border-radius: 1rem;\n",
       "  height: 1rem;\n",
       "  width: 1rem;\n",
       "  text-decoration: none;\n",
       "  /* unfitted */\n",
       "  color: var(--sklearn-color-unfitted-level-1);\n",
       "  border: var(--sklearn-color-unfitted-level-1) 1pt solid;\n",
       "}\n",
       "\n",
       "#sk-container-id-2 a.estimator_doc_link.fitted {\n",
       "  /* fitted */\n",
       "  border: var(--sklearn-color-fitted-level-1) 1pt solid;\n",
       "  color: var(--sklearn-color-fitted-level-1);\n",
       "}\n",
       "\n",
       "/* On hover */\n",
       "#sk-container-id-2 a.estimator_doc_link:hover {\n",
       "  /* unfitted */\n",
       "  background-color: var(--sklearn-color-unfitted-level-3);\n",
       "  color: var(--sklearn-color-background);\n",
       "  text-decoration: none;\n",
       "}\n",
       "\n",
       "#sk-container-id-2 a.estimator_doc_link.fitted:hover {\n",
       "  /* fitted */\n",
       "  background-color: var(--sklearn-color-fitted-level-3);\n",
       "}\n",
       "</style><div id=\"sk-container-id-2\" class=\"sk-top-container\"><div class=\"sk-text-repr-fallback\"><pre>Pipeline(steps=[(&#x27;OHE&#x27;, OneHotEncoder(drop=&#x27;first&#x27;, sparse_output=False))])</pre><b>In a Jupyter environment, please rerun this cell to show the HTML representation or trust the notebook. <br />On GitHub, the HTML representation is unable to render, please try loading this page with nbviewer.org.</b></div><div class=\"sk-container\" hidden><div class=\"sk-item sk-dashed-wrapped\"><div class=\"sk-label-container\"><div class=\"sk-label  sk-toggleable\"><input class=\"sk-toggleable__control sk-hidden--visually\" id=\"sk-estimator-id-3\" type=\"checkbox\" ><label for=\"sk-estimator-id-3\" class=\"sk-toggleable__label  sk-toggleable__label-arrow\"><div><div>Pipeline</div></div><div><span class=\"sk-estimator-doc-link \">i<span>Not fitted</span></span></div></label><div class=\"sk-toggleable__content \"><pre>Pipeline(steps=[(&#x27;OHE&#x27;, OneHotEncoder(drop=&#x27;first&#x27;, sparse_output=False))])</pre></div> </div></div><div class=\"sk-serial\"><div class=\"sk-item\"><div class=\"sk-estimator  sk-toggleable\"><input class=\"sk-toggleable__control sk-hidden--visually\" id=\"sk-estimator-id-4\" type=\"checkbox\" ><label for=\"sk-estimator-id-4\" class=\"sk-toggleable__label  sk-toggleable__label-arrow\"><div><div>OneHotEncoder</div></div><div><a class=\"sk-estimator-doc-link \" rel=\"noreferrer\" target=\"_blank\" href=\"https://scikit-learn.org/1.6/modules/generated/sklearn.preprocessing.OneHotEncoder.html\">?<span>Documentation for OneHotEncoder</span></a></div></label><div class=\"sk-toggleable__content \"><pre>OneHotEncoder(drop=&#x27;first&#x27;, sparse_output=False)</pre></div> </div></div></div></div></div></div>"
      ],
      "text/plain": [
       "Pipeline(steps=[('OHE', OneHotEncoder(drop='first', sparse_output=False))])"
      ]
     },
     "execution_count": 38,
     "metadata": {},
     "output_type": "execute_result"
    }
   ],
   "source": [
    "from sklearn.preprocessing import OneHotEncoder\n",
    "\n",
    "ohe = OneHotEncoder(drop= 'first', sparse_output= False)\n",
    "\n",
    "ohe_pipeline = Pipeline(steps= [ ('OHE', ohe) ])\n",
    "ohe_pipeline"
   ]
  },
  {
   "cell_type": "markdown",
   "id": "eec999a9",
   "metadata": {},
   "source": [
    "### BE Pipeline"
   ]
  },
  {
   "cell_type": "code",
   "execution_count": 39,
   "id": "4b5a8cd2",
   "metadata": {},
   "outputs": [
    {
     "data": {
      "text/plain": [
       "Index(['location', 'rest_type', 'cuisines', 'listed_in(type)',\n",
       "       'listed_in(city)'],\n",
       "      dtype='object')"
      ]
     },
     "execution_count": 39,
     "metadata": {},
     "output_type": "execute_result"
    }
   ],
   "source": [
    "be_cols = x.select_dtypes(include= 'object').columns.drop(['online_order', 'book_table'])\n",
    "be_cols"
   ]
  },
  {
   "cell_type": "code",
   "execution_count": 40,
   "id": "729df375",
   "metadata": {},
   "outputs": [
    {
     "data": {
      "text/html": [
       "<style>#sk-container-id-3 {\n",
       "  /* Definition of color scheme common for light and dark mode */\n",
       "  --sklearn-color-text: #000;\n",
       "  --sklearn-color-text-muted: #666;\n",
       "  --sklearn-color-line: gray;\n",
       "  /* Definition of color scheme for unfitted estimators */\n",
       "  --sklearn-color-unfitted-level-0: #fff5e6;\n",
       "  --sklearn-color-unfitted-level-1: #f6e4d2;\n",
       "  --sklearn-color-unfitted-level-2: #ffe0b3;\n",
       "  --sklearn-color-unfitted-level-3: chocolate;\n",
       "  /* Definition of color scheme for fitted estimators */\n",
       "  --sklearn-color-fitted-level-0: #f0f8ff;\n",
       "  --sklearn-color-fitted-level-1: #d4ebff;\n",
       "  --sklearn-color-fitted-level-2: #b3dbfd;\n",
       "  --sklearn-color-fitted-level-3: cornflowerblue;\n",
       "\n",
       "  /* Specific color for light theme */\n",
       "  --sklearn-color-text-on-default-background: var(--sg-text-color, var(--theme-code-foreground, var(--jp-content-font-color1, black)));\n",
       "  --sklearn-color-background: var(--sg-background-color, var(--theme-background, var(--jp-layout-color0, white)));\n",
       "  --sklearn-color-border-box: var(--sg-text-color, var(--theme-code-foreground, var(--jp-content-font-color1, black)));\n",
       "  --sklearn-color-icon: #696969;\n",
       "\n",
       "  @media (prefers-color-scheme: dark) {\n",
       "    /* Redefinition of color scheme for dark theme */\n",
       "    --sklearn-color-text-on-default-background: var(--sg-text-color, var(--theme-code-foreground, var(--jp-content-font-color1, white)));\n",
       "    --sklearn-color-background: var(--sg-background-color, var(--theme-background, var(--jp-layout-color0, #111)));\n",
       "    --sklearn-color-border-box: var(--sg-text-color, var(--theme-code-foreground, var(--jp-content-font-color1, white)));\n",
       "    --sklearn-color-icon: #878787;\n",
       "  }\n",
       "}\n",
       "\n",
       "#sk-container-id-3 {\n",
       "  color: var(--sklearn-color-text);\n",
       "}\n",
       "\n",
       "#sk-container-id-3 pre {\n",
       "  padding: 0;\n",
       "}\n",
       "\n",
       "#sk-container-id-3 input.sk-hidden--visually {\n",
       "  border: 0;\n",
       "  clip: rect(1px 1px 1px 1px);\n",
       "  clip: rect(1px, 1px, 1px, 1px);\n",
       "  height: 1px;\n",
       "  margin: -1px;\n",
       "  overflow: hidden;\n",
       "  padding: 0;\n",
       "  position: absolute;\n",
       "  width: 1px;\n",
       "}\n",
       "\n",
       "#sk-container-id-3 div.sk-dashed-wrapped {\n",
       "  border: 1px dashed var(--sklearn-color-line);\n",
       "  margin: 0 0.4em 0.5em 0.4em;\n",
       "  box-sizing: border-box;\n",
       "  padding-bottom: 0.4em;\n",
       "  background-color: var(--sklearn-color-background);\n",
       "}\n",
       "\n",
       "#sk-container-id-3 div.sk-container {\n",
       "  /* jupyter's `normalize.less` sets `[hidden] { display: none; }`\n",
       "     but bootstrap.min.css set `[hidden] { display: none !important; }`\n",
       "     so we also need the `!important` here to be able to override the\n",
       "     default hidden behavior on the sphinx rendered scikit-learn.org.\n",
       "     See: https://github.com/scikit-learn/scikit-learn/issues/21755 */\n",
       "  display: inline-block !important;\n",
       "  position: relative;\n",
       "}\n",
       "\n",
       "#sk-container-id-3 div.sk-text-repr-fallback {\n",
       "  display: none;\n",
       "}\n",
       "\n",
       "div.sk-parallel-item,\n",
       "div.sk-serial,\n",
       "div.sk-item {\n",
       "  /* draw centered vertical line to link estimators */\n",
       "  background-image: linear-gradient(var(--sklearn-color-text-on-default-background), var(--sklearn-color-text-on-default-background));\n",
       "  background-size: 2px 100%;\n",
       "  background-repeat: no-repeat;\n",
       "  background-position: center center;\n",
       "}\n",
       "\n",
       "/* Parallel-specific style estimator block */\n",
       "\n",
       "#sk-container-id-3 div.sk-parallel-item::after {\n",
       "  content: \"\";\n",
       "  width: 100%;\n",
       "  border-bottom: 2px solid var(--sklearn-color-text-on-default-background);\n",
       "  flex-grow: 1;\n",
       "}\n",
       "\n",
       "#sk-container-id-3 div.sk-parallel {\n",
       "  display: flex;\n",
       "  align-items: stretch;\n",
       "  justify-content: center;\n",
       "  background-color: var(--sklearn-color-background);\n",
       "  position: relative;\n",
       "}\n",
       "\n",
       "#sk-container-id-3 div.sk-parallel-item {\n",
       "  display: flex;\n",
       "  flex-direction: column;\n",
       "}\n",
       "\n",
       "#sk-container-id-3 div.sk-parallel-item:first-child::after {\n",
       "  align-self: flex-end;\n",
       "  width: 50%;\n",
       "}\n",
       "\n",
       "#sk-container-id-3 div.sk-parallel-item:last-child::after {\n",
       "  align-self: flex-start;\n",
       "  width: 50%;\n",
       "}\n",
       "\n",
       "#sk-container-id-3 div.sk-parallel-item:only-child::after {\n",
       "  width: 0;\n",
       "}\n",
       "\n",
       "/* Serial-specific style estimator block */\n",
       "\n",
       "#sk-container-id-3 div.sk-serial {\n",
       "  display: flex;\n",
       "  flex-direction: column;\n",
       "  align-items: center;\n",
       "  background-color: var(--sklearn-color-background);\n",
       "  padding-right: 1em;\n",
       "  padding-left: 1em;\n",
       "}\n",
       "\n",
       "\n",
       "/* Toggleable style: style used for estimator/Pipeline/ColumnTransformer box that is\n",
       "clickable and can be expanded/collapsed.\n",
       "- Pipeline and ColumnTransformer use this feature and define the default style\n",
       "- Estimators will overwrite some part of the style using the `sk-estimator` class\n",
       "*/\n",
       "\n",
       "/* Pipeline and ColumnTransformer style (default) */\n",
       "\n",
       "#sk-container-id-3 div.sk-toggleable {\n",
       "  /* Default theme specific background. It is overwritten whether we have a\n",
       "  specific estimator or a Pipeline/ColumnTransformer */\n",
       "  background-color: var(--sklearn-color-background);\n",
       "}\n",
       "\n",
       "/* Toggleable label */\n",
       "#sk-container-id-3 label.sk-toggleable__label {\n",
       "  cursor: pointer;\n",
       "  display: flex;\n",
       "  width: 100%;\n",
       "  margin-bottom: 0;\n",
       "  padding: 0.5em;\n",
       "  box-sizing: border-box;\n",
       "  text-align: center;\n",
       "  align-items: start;\n",
       "  justify-content: space-between;\n",
       "  gap: 0.5em;\n",
       "}\n",
       "\n",
       "#sk-container-id-3 label.sk-toggleable__label .caption {\n",
       "  font-size: 0.6rem;\n",
       "  font-weight: lighter;\n",
       "  color: var(--sklearn-color-text-muted);\n",
       "}\n",
       "\n",
       "#sk-container-id-3 label.sk-toggleable__label-arrow:before {\n",
       "  /* Arrow on the left of the label */\n",
       "  content: \"▸\";\n",
       "  float: left;\n",
       "  margin-right: 0.25em;\n",
       "  color: var(--sklearn-color-icon);\n",
       "}\n",
       "\n",
       "#sk-container-id-3 label.sk-toggleable__label-arrow:hover:before {\n",
       "  color: var(--sklearn-color-text);\n",
       "}\n",
       "\n",
       "/* Toggleable content - dropdown */\n",
       "\n",
       "#sk-container-id-3 div.sk-toggleable__content {\n",
       "  max-height: 0;\n",
       "  max-width: 0;\n",
       "  overflow: hidden;\n",
       "  text-align: left;\n",
       "  /* unfitted */\n",
       "  background-color: var(--sklearn-color-unfitted-level-0);\n",
       "}\n",
       "\n",
       "#sk-container-id-3 div.sk-toggleable__content.fitted {\n",
       "  /* fitted */\n",
       "  background-color: var(--sklearn-color-fitted-level-0);\n",
       "}\n",
       "\n",
       "#sk-container-id-3 div.sk-toggleable__content pre {\n",
       "  margin: 0.2em;\n",
       "  border-radius: 0.25em;\n",
       "  color: var(--sklearn-color-text);\n",
       "  /* unfitted */\n",
       "  background-color: var(--sklearn-color-unfitted-level-0);\n",
       "}\n",
       "\n",
       "#sk-container-id-3 div.sk-toggleable__content.fitted pre {\n",
       "  /* unfitted */\n",
       "  background-color: var(--sklearn-color-fitted-level-0);\n",
       "}\n",
       "\n",
       "#sk-container-id-3 input.sk-toggleable__control:checked~div.sk-toggleable__content {\n",
       "  /* Expand drop-down */\n",
       "  max-height: 200px;\n",
       "  max-width: 100%;\n",
       "  overflow: auto;\n",
       "}\n",
       "\n",
       "#sk-container-id-3 input.sk-toggleable__control:checked~label.sk-toggleable__label-arrow:before {\n",
       "  content: \"▾\";\n",
       "}\n",
       "\n",
       "/* Pipeline/ColumnTransformer-specific style */\n",
       "\n",
       "#sk-container-id-3 div.sk-label input.sk-toggleable__control:checked~label.sk-toggleable__label {\n",
       "  color: var(--sklearn-color-text);\n",
       "  background-color: var(--sklearn-color-unfitted-level-2);\n",
       "}\n",
       "\n",
       "#sk-container-id-3 div.sk-label.fitted input.sk-toggleable__control:checked~label.sk-toggleable__label {\n",
       "  background-color: var(--sklearn-color-fitted-level-2);\n",
       "}\n",
       "\n",
       "/* Estimator-specific style */\n",
       "\n",
       "/* Colorize estimator box */\n",
       "#sk-container-id-3 div.sk-estimator input.sk-toggleable__control:checked~label.sk-toggleable__label {\n",
       "  /* unfitted */\n",
       "  background-color: var(--sklearn-color-unfitted-level-2);\n",
       "}\n",
       "\n",
       "#sk-container-id-3 div.sk-estimator.fitted input.sk-toggleable__control:checked~label.sk-toggleable__label {\n",
       "  /* fitted */\n",
       "  background-color: var(--sklearn-color-fitted-level-2);\n",
       "}\n",
       "\n",
       "#sk-container-id-3 div.sk-label label.sk-toggleable__label,\n",
       "#sk-container-id-3 div.sk-label label {\n",
       "  /* The background is the default theme color */\n",
       "  color: var(--sklearn-color-text-on-default-background);\n",
       "}\n",
       "\n",
       "/* On hover, darken the color of the background */\n",
       "#sk-container-id-3 div.sk-label:hover label.sk-toggleable__label {\n",
       "  color: var(--sklearn-color-text);\n",
       "  background-color: var(--sklearn-color-unfitted-level-2);\n",
       "}\n",
       "\n",
       "/* Label box, darken color on hover, fitted */\n",
       "#sk-container-id-3 div.sk-label.fitted:hover label.sk-toggleable__label.fitted {\n",
       "  color: var(--sklearn-color-text);\n",
       "  background-color: var(--sklearn-color-fitted-level-2);\n",
       "}\n",
       "\n",
       "/* Estimator label */\n",
       "\n",
       "#sk-container-id-3 div.sk-label label {\n",
       "  font-family: monospace;\n",
       "  font-weight: bold;\n",
       "  display: inline-block;\n",
       "  line-height: 1.2em;\n",
       "}\n",
       "\n",
       "#sk-container-id-3 div.sk-label-container {\n",
       "  text-align: center;\n",
       "}\n",
       "\n",
       "/* Estimator-specific */\n",
       "#sk-container-id-3 div.sk-estimator {\n",
       "  font-family: monospace;\n",
       "  border: 1px dotted var(--sklearn-color-border-box);\n",
       "  border-radius: 0.25em;\n",
       "  box-sizing: border-box;\n",
       "  margin-bottom: 0.5em;\n",
       "  /* unfitted */\n",
       "  background-color: var(--sklearn-color-unfitted-level-0);\n",
       "}\n",
       "\n",
       "#sk-container-id-3 div.sk-estimator.fitted {\n",
       "  /* fitted */\n",
       "  background-color: var(--sklearn-color-fitted-level-0);\n",
       "}\n",
       "\n",
       "/* on hover */\n",
       "#sk-container-id-3 div.sk-estimator:hover {\n",
       "  /* unfitted */\n",
       "  background-color: var(--sklearn-color-unfitted-level-2);\n",
       "}\n",
       "\n",
       "#sk-container-id-3 div.sk-estimator.fitted:hover {\n",
       "  /* fitted */\n",
       "  background-color: var(--sklearn-color-fitted-level-2);\n",
       "}\n",
       "\n",
       "/* Specification for estimator info (e.g. \"i\" and \"?\") */\n",
       "\n",
       "/* Common style for \"i\" and \"?\" */\n",
       "\n",
       ".sk-estimator-doc-link,\n",
       "a:link.sk-estimator-doc-link,\n",
       "a:visited.sk-estimator-doc-link {\n",
       "  float: right;\n",
       "  font-size: smaller;\n",
       "  line-height: 1em;\n",
       "  font-family: monospace;\n",
       "  background-color: var(--sklearn-color-background);\n",
       "  border-radius: 1em;\n",
       "  height: 1em;\n",
       "  width: 1em;\n",
       "  text-decoration: none !important;\n",
       "  margin-left: 0.5em;\n",
       "  text-align: center;\n",
       "  /* unfitted */\n",
       "  border: var(--sklearn-color-unfitted-level-1) 1pt solid;\n",
       "  color: var(--sklearn-color-unfitted-level-1);\n",
       "}\n",
       "\n",
       ".sk-estimator-doc-link.fitted,\n",
       "a:link.sk-estimator-doc-link.fitted,\n",
       "a:visited.sk-estimator-doc-link.fitted {\n",
       "  /* fitted */\n",
       "  border: var(--sklearn-color-fitted-level-1) 1pt solid;\n",
       "  color: var(--sklearn-color-fitted-level-1);\n",
       "}\n",
       "\n",
       "/* On hover */\n",
       "div.sk-estimator:hover .sk-estimator-doc-link:hover,\n",
       ".sk-estimator-doc-link:hover,\n",
       "div.sk-label-container:hover .sk-estimator-doc-link:hover,\n",
       ".sk-estimator-doc-link:hover {\n",
       "  /* unfitted */\n",
       "  background-color: var(--sklearn-color-unfitted-level-3);\n",
       "  color: var(--sklearn-color-background);\n",
       "  text-decoration: none;\n",
       "}\n",
       "\n",
       "div.sk-estimator.fitted:hover .sk-estimator-doc-link.fitted:hover,\n",
       ".sk-estimator-doc-link.fitted:hover,\n",
       "div.sk-label-container:hover .sk-estimator-doc-link.fitted:hover,\n",
       ".sk-estimator-doc-link.fitted:hover {\n",
       "  /* fitted */\n",
       "  background-color: var(--sklearn-color-fitted-level-3);\n",
       "  color: var(--sklearn-color-background);\n",
       "  text-decoration: none;\n",
       "}\n",
       "\n",
       "/* Span, style for the box shown on hovering the info icon */\n",
       ".sk-estimator-doc-link span {\n",
       "  display: none;\n",
       "  z-index: 9999;\n",
       "  position: relative;\n",
       "  font-weight: normal;\n",
       "  right: .2ex;\n",
       "  padding: .5ex;\n",
       "  margin: .5ex;\n",
       "  width: min-content;\n",
       "  min-width: 20ex;\n",
       "  max-width: 50ex;\n",
       "  color: var(--sklearn-color-text);\n",
       "  box-shadow: 2pt 2pt 4pt #999;\n",
       "  /* unfitted */\n",
       "  background: var(--sklearn-color-unfitted-level-0);\n",
       "  border: .5pt solid var(--sklearn-color-unfitted-level-3);\n",
       "}\n",
       "\n",
       ".sk-estimator-doc-link.fitted span {\n",
       "  /* fitted */\n",
       "  background: var(--sklearn-color-fitted-level-0);\n",
       "  border: var(--sklearn-color-fitted-level-3);\n",
       "}\n",
       "\n",
       ".sk-estimator-doc-link:hover span {\n",
       "  display: block;\n",
       "}\n",
       "\n",
       "/* \"?\"-specific style due to the `<a>` HTML tag */\n",
       "\n",
       "#sk-container-id-3 a.estimator_doc_link {\n",
       "  float: right;\n",
       "  font-size: 1rem;\n",
       "  line-height: 1em;\n",
       "  font-family: monospace;\n",
       "  background-color: var(--sklearn-color-background);\n",
       "  border-radius: 1rem;\n",
       "  height: 1rem;\n",
       "  width: 1rem;\n",
       "  text-decoration: none;\n",
       "  /* unfitted */\n",
       "  color: var(--sklearn-color-unfitted-level-1);\n",
       "  border: var(--sklearn-color-unfitted-level-1) 1pt solid;\n",
       "}\n",
       "\n",
       "#sk-container-id-3 a.estimator_doc_link.fitted {\n",
       "  /* fitted */\n",
       "  border: var(--sklearn-color-fitted-level-1) 1pt solid;\n",
       "  color: var(--sklearn-color-fitted-level-1);\n",
       "}\n",
       "\n",
       "/* On hover */\n",
       "#sk-container-id-3 a.estimator_doc_link:hover {\n",
       "  /* unfitted */\n",
       "  background-color: var(--sklearn-color-unfitted-level-3);\n",
       "  color: var(--sklearn-color-background);\n",
       "  text-decoration: none;\n",
       "}\n",
       "\n",
       "#sk-container-id-3 a.estimator_doc_link.fitted:hover {\n",
       "  /* fitted */\n",
       "  background-color: var(--sklearn-color-fitted-level-3);\n",
       "}\n",
       "</style><div id=\"sk-container-id-3\" class=\"sk-top-container\"><div class=\"sk-text-repr-fallback\"><pre>Pipeline(steps=[(&#x27;Binary Encoder&#x27;, BinaryEncoder())])</pre><b>In a Jupyter environment, please rerun this cell to show the HTML representation or trust the notebook. <br />On GitHub, the HTML representation is unable to render, please try loading this page with nbviewer.org.</b></div><div class=\"sk-container\" hidden><div class=\"sk-item sk-dashed-wrapped\"><div class=\"sk-label-container\"><div class=\"sk-label  sk-toggleable\"><input class=\"sk-toggleable__control sk-hidden--visually\" id=\"sk-estimator-id-5\" type=\"checkbox\" ><label for=\"sk-estimator-id-5\" class=\"sk-toggleable__label  sk-toggleable__label-arrow\"><div><div>Pipeline</div></div><div><span class=\"sk-estimator-doc-link \">i<span>Not fitted</span></span></div></label><div class=\"sk-toggleable__content \"><pre>Pipeline(steps=[(&#x27;Binary Encoder&#x27;, BinaryEncoder())])</pre></div> </div></div><div class=\"sk-serial\"><div class=\"sk-item\"><div class=\"sk-estimator  sk-toggleable\"><input class=\"sk-toggleable__control sk-hidden--visually\" id=\"sk-estimator-id-6\" type=\"checkbox\" ><label for=\"sk-estimator-id-6\" class=\"sk-toggleable__label  sk-toggleable__label-arrow\"><div><div>BinaryEncoder</div></div></label><div class=\"sk-toggleable__content \"><pre>BinaryEncoder()</pre></div> </div></div></div></div></div></div>"
      ],
      "text/plain": [
       "Pipeline(steps=[('Binary Encoder', BinaryEncoder())])"
      ]
     },
     "execution_count": 40,
     "metadata": {},
     "output_type": "execute_result"
    }
   ],
   "source": [
    "from category_encoders import BinaryEncoder\n",
    "\n",
    "be = BinaryEncoder()\n",
    "\n",
    "bE_pipeline = Pipeline(steps= [('Binary Encoder', be)])\n",
    "bE_pipeline"
   ]
  },
  {
   "cell_type": "code",
   "execution_count": 41,
   "id": "7e880db9",
   "metadata": {},
   "outputs": [
    {
     "data": {
      "text/html": [
       "<style>#sk-container-id-4 {\n",
       "  /* Definition of color scheme common for light and dark mode */\n",
       "  --sklearn-color-text: #000;\n",
       "  --sklearn-color-text-muted: #666;\n",
       "  --sklearn-color-line: gray;\n",
       "  /* Definition of color scheme for unfitted estimators */\n",
       "  --sklearn-color-unfitted-level-0: #fff5e6;\n",
       "  --sklearn-color-unfitted-level-1: #f6e4d2;\n",
       "  --sklearn-color-unfitted-level-2: #ffe0b3;\n",
       "  --sklearn-color-unfitted-level-3: chocolate;\n",
       "  /* Definition of color scheme for fitted estimators */\n",
       "  --sklearn-color-fitted-level-0: #f0f8ff;\n",
       "  --sklearn-color-fitted-level-1: #d4ebff;\n",
       "  --sklearn-color-fitted-level-2: #b3dbfd;\n",
       "  --sklearn-color-fitted-level-3: cornflowerblue;\n",
       "\n",
       "  /* Specific color for light theme */\n",
       "  --sklearn-color-text-on-default-background: var(--sg-text-color, var(--theme-code-foreground, var(--jp-content-font-color1, black)));\n",
       "  --sklearn-color-background: var(--sg-background-color, var(--theme-background, var(--jp-layout-color0, white)));\n",
       "  --sklearn-color-border-box: var(--sg-text-color, var(--theme-code-foreground, var(--jp-content-font-color1, black)));\n",
       "  --sklearn-color-icon: #696969;\n",
       "\n",
       "  @media (prefers-color-scheme: dark) {\n",
       "    /* Redefinition of color scheme for dark theme */\n",
       "    --sklearn-color-text-on-default-background: var(--sg-text-color, var(--theme-code-foreground, var(--jp-content-font-color1, white)));\n",
       "    --sklearn-color-background: var(--sg-background-color, var(--theme-background, var(--jp-layout-color0, #111)));\n",
       "    --sklearn-color-border-box: var(--sg-text-color, var(--theme-code-foreground, var(--jp-content-font-color1, white)));\n",
       "    --sklearn-color-icon: #878787;\n",
       "  }\n",
       "}\n",
       "\n",
       "#sk-container-id-4 {\n",
       "  color: var(--sklearn-color-text);\n",
       "}\n",
       "\n",
       "#sk-container-id-4 pre {\n",
       "  padding: 0;\n",
       "}\n",
       "\n",
       "#sk-container-id-4 input.sk-hidden--visually {\n",
       "  border: 0;\n",
       "  clip: rect(1px 1px 1px 1px);\n",
       "  clip: rect(1px, 1px, 1px, 1px);\n",
       "  height: 1px;\n",
       "  margin: -1px;\n",
       "  overflow: hidden;\n",
       "  padding: 0;\n",
       "  position: absolute;\n",
       "  width: 1px;\n",
       "}\n",
       "\n",
       "#sk-container-id-4 div.sk-dashed-wrapped {\n",
       "  border: 1px dashed var(--sklearn-color-line);\n",
       "  margin: 0 0.4em 0.5em 0.4em;\n",
       "  box-sizing: border-box;\n",
       "  padding-bottom: 0.4em;\n",
       "  background-color: var(--sklearn-color-background);\n",
       "}\n",
       "\n",
       "#sk-container-id-4 div.sk-container {\n",
       "  /* jupyter's `normalize.less` sets `[hidden] { display: none; }`\n",
       "     but bootstrap.min.css set `[hidden] { display: none !important; }`\n",
       "     so we also need the `!important` here to be able to override the\n",
       "     default hidden behavior on the sphinx rendered scikit-learn.org.\n",
       "     See: https://github.com/scikit-learn/scikit-learn/issues/21755 */\n",
       "  display: inline-block !important;\n",
       "  position: relative;\n",
       "}\n",
       "\n",
       "#sk-container-id-4 div.sk-text-repr-fallback {\n",
       "  display: none;\n",
       "}\n",
       "\n",
       "div.sk-parallel-item,\n",
       "div.sk-serial,\n",
       "div.sk-item {\n",
       "  /* draw centered vertical line to link estimators */\n",
       "  background-image: linear-gradient(var(--sklearn-color-text-on-default-background), var(--sklearn-color-text-on-default-background));\n",
       "  background-size: 2px 100%;\n",
       "  background-repeat: no-repeat;\n",
       "  background-position: center center;\n",
       "}\n",
       "\n",
       "/* Parallel-specific style estimator block */\n",
       "\n",
       "#sk-container-id-4 div.sk-parallel-item::after {\n",
       "  content: \"\";\n",
       "  width: 100%;\n",
       "  border-bottom: 2px solid var(--sklearn-color-text-on-default-background);\n",
       "  flex-grow: 1;\n",
       "}\n",
       "\n",
       "#sk-container-id-4 div.sk-parallel {\n",
       "  display: flex;\n",
       "  align-items: stretch;\n",
       "  justify-content: center;\n",
       "  background-color: var(--sklearn-color-background);\n",
       "  position: relative;\n",
       "}\n",
       "\n",
       "#sk-container-id-4 div.sk-parallel-item {\n",
       "  display: flex;\n",
       "  flex-direction: column;\n",
       "}\n",
       "\n",
       "#sk-container-id-4 div.sk-parallel-item:first-child::after {\n",
       "  align-self: flex-end;\n",
       "  width: 50%;\n",
       "}\n",
       "\n",
       "#sk-container-id-4 div.sk-parallel-item:last-child::after {\n",
       "  align-self: flex-start;\n",
       "  width: 50%;\n",
       "}\n",
       "\n",
       "#sk-container-id-4 div.sk-parallel-item:only-child::after {\n",
       "  width: 0;\n",
       "}\n",
       "\n",
       "/* Serial-specific style estimator block */\n",
       "\n",
       "#sk-container-id-4 div.sk-serial {\n",
       "  display: flex;\n",
       "  flex-direction: column;\n",
       "  align-items: center;\n",
       "  background-color: var(--sklearn-color-background);\n",
       "  padding-right: 1em;\n",
       "  padding-left: 1em;\n",
       "}\n",
       "\n",
       "\n",
       "/* Toggleable style: style used for estimator/Pipeline/ColumnTransformer box that is\n",
       "clickable and can be expanded/collapsed.\n",
       "- Pipeline and ColumnTransformer use this feature and define the default style\n",
       "- Estimators will overwrite some part of the style using the `sk-estimator` class\n",
       "*/\n",
       "\n",
       "/* Pipeline and ColumnTransformer style (default) */\n",
       "\n",
       "#sk-container-id-4 div.sk-toggleable {\n",
       "  /* Default theme specific background. It is overwritten whether we have a\n",
       "  specific estimator or a Pipeline/ColumnTransformer */\n",
       "  background-color: var(--sklearn-color-background);\n",
       "}\n",
       "\n",
       "/* Toggleable label */\n",
       "#sk-container-id-4 label.sk-toggleable__label {\n",
       "  cursor: pointer;\n",
       "  display: flex;\n",
       "  width: 100%;\n",
       "  margin-bottom: 0;\n",
       "  padding: 0.5em;\n",
       "  box-sizing: border-box;\n",
       "  text-align: center;\n",
       "  align-items: start;\n",
       "  justify-content: space-between;\n",
       "  gap: 0.5em;\n",
       "}\n",
       "\n",
       "#sk-container-id-4 label.sk-toggleable__label .caption {\n",
       "  font-size: 0.6rem;\n",
       "  font-weight: lighter;\n",
       "  color: var(--sklearn-color-text-muted);\n",
       "}\n",
       "\n",
       "#sk-container-id-4 label.sk-toggleable__label-arrow:before {\n",
       "  /* Arrow on the left of the label */\n",
       "  content: \"▸\";\n",
       "  float: left;\n",
       "  margin-right: 0.25em;\n",
       "  color: var(--sklearn-color-icon);\n",
       "}\n",
       "\n",
       "#sk-container-id-4 label.sk-toggleable__label-arrow:hover:before {\n",
       "  color: var(--sklearn-color-text);\n",
       "}\n",
       "\n",
       "/* Toggleable content - dropdown */\n",
       "\n",
       "#sk-container-id-4 div.sk-toggleable__content {\n",
       "  max-height: 0;\n",
       "  max-width: 0;\n",
       "  overflow: hidden;\n",
       "  text-align: left;\n",
       "  /* unfitted */\n",
       "  background-color: var(--sklearn-color-unfitted-level-0);\n",
       "}\n",
       "\n",
       "#sk-container-id-4 div.sk-toggleable__content.fitted {\n",
       "  /* fitted */\n",
       "  background-color: var(--sklearn-color-fitted-level-0);\n",
       "}\n",
       "\n",
       "#sk-container-id-4 div.sk-toggleable__content pre {\n",
       "  margin: 0.2em;\n",
       "  border-radius: 0.25em;\n",
       "  color: var(--sklearn-color-text);\n",
       "  /* unfitted */\n",
       "  background-color: var(--sklearn-color-unfitted-level-0);\n",
       "}\n",
       "\n",
       "#sk-container-id-4 div.sk-toggleable__content.fitted pre {\n",
       "  /* unfitted */\n",
       "  background-color: var(--sklearn-color-fitted-level-0);\n",
       "}\n",
       "\n",
       "#sk-container-id-4 input.sk-toggleable__control:checked~div.sk-toggleable__content {\n",
       "  /* Expand drop-down */\n",
       "  max-height: 200px;\n",
       "  max-width: 100%;\n",
       "  overflow: auto;\n",
       "}\n",
       "\n",
       "#sk-container-id-4 input.sk-toggleable__control:checked~label.sk-toggleable__label-arrow:before {\n",
       "  content: \"▾\";\n",
       "}\n",
       "\n",
       "/* Pipeline/ColumnTransformer-specific style */\n",
       "\n",
       "#sk-container-id-4 div.sk-label input.sk-toggleable__control:checked~label.sk-toggleable__label {\n",
       "  color: var(--sklearn-color-text);\n",
       "  background-color: var(--sklearn-color-unfitted-level-2);\n",
       "}\n",
       "\n",
       "#sk-container-id-4 div.sk-label.fitted input.sk-toggleable__control:checked~label.sk-toggleable__label {\n",
       "  background-color: var(--sklearn-color-fitted-level-2);\n",
       "}\n",
       "\n",
       "/* Estimator-specific style */\n",
       "\n",
       "/* Colorize estimator box */\n",
       "#sk-container-id-4 div.sk-estimator input.sk-toggleable__control:checked~label.sk-toggleable__label {\n",
       "  /* unfitted */\n",
       "  background-color: var(--sklearn-color-unfitted-level-2);\n",
       "}\n",
       "\n",
       "#sk-container-id-4 div.sk-estimator.fitted input.sk-toggleable__control:checked~label.sk-toggleable__label {\n",
       "  /* fitted */\n",
       "  background-color: var(--sklearn-color-fitted-level-2);\n",
       "}\n",
       "\n",
       "#sk-container-id-4 div.sk-label label.sk-toggleable__label,\n",
       "#sk-container-id-4 div.sk-label label {\n",
       "  /* The background is the default theme color */\n",
       "  color: var(--sklearn-color-text-on-default-background);\n",
       "}\n",
       "\n",
       "/* On hover, darken the color of the background */\n",
       "#sk-container-id-4 div.sk-label:hover label.sk-toggleable__label {\n",
       "  color: var(--sklearn-color-text);\n",
       "  background-color: var(--sklearn-color-unfitted-level-2);\n",
       "}\n",
       "\n",
       "/* Label box, darken color on hover, fitted */\n",
       "#sk-container-id-4 div.sk-label.fitted:hover label.sk-toggleable__label.fitted {\n",
       "  color: var(--sklearn-color-text);\n",
       "  background-color: var(--sklearn-color-fitted-level-2);\n",
       "}\n",
       "\n",
       "/* Estimator label */\n",
       "\n",
       "#sk-container-id-4 div.sk-label label {\n",
       "  font-family: monospace;\n",
       "  font-weight: bold;\n",
       "  display: inline-block;\n",
       "  line-height: 1.2em;\n",
       "}\n",
       "\n",
       "#sk-container-id-4 div.sk-label-container {\n",
       "  text-align: center;\n",
       "}\n",
       "\n",
       "/* Estimator-specific */\n",
       "#sk-container-id-4 div.sk-estimator {\n",
       "  font-family: monospace;\n",
       "  border: 1px dotted var(--sklearn-color-border-box);\n",
       "  border-radius: 0.25em;\n",
       "  box-sizing: border-box;\n",
       "  margin-bottom: 0.5em;\n",
       "  /* unfitted */\n",
       "  background-color: var(--sklearn-color-unfitted-level-0);\n",
       "}\n",
       "\n",
       "#sk-container-id-4 div.sk-estimator.fitted {\n",
       "  /* fitted */\n",
       "  background-color: var(--sklearn-color-fitted-level-0);\n",
       "}\n",
       "\n",
       "/* on hover */\n",
       "#sk-container-id-4 div.sk-estimator:hover {\n",
       "  /* unfitted */\n",
       "  background-color: var(--sklearn-color-unfitted-level-2);\n",
       "}\n",
       "\n",
       "#sk-container-id-4 div.sk-estimator.fitted:hover {\n",
       "  /* fitted */\n",
       "  background-color: var(--sklearn-color-fitted-level-2);\n",
       "}\n",
       "\n",
       "/* Specification for estimator info (e.g. \"i\" and \"?\") */\n",
       "\n",
       "/* Common style for \"i\" and \"?\" */\n",
       "\n",
       ".sk-estimator-doc-link,\n",
       "a:link.sk-estimator-doc-link,\n",
       "a:visited.sk-estimator-doc-link {\n",
       "  float: right;\n",
       "  font-size: smaller;\n",
       "  line-height: 1em;\n",
       "  font-family: monospace;\n",
       "  background-color: var(--sklearn-color-background);\n",
       "  border-radius: 1em;\n",
       "  height: 1em;\n",
       "  width: 1em;\n",
       "  text-decoration: none !important;\n",
       "  margin-left: 0.5em;\n",
       "  text-align: center;\n",
       "  /* unfitted */\n",
       "  border: var(--sklearn-color-unfitted-level-1) 1pt solid;\n",
       "  color: var(--sklearn-color-unfitted-level-1);\n",
       "}\n",
       "\n",
       ".sk-estimator-doc-link.fitted,\n",
       "a:link.sk-estimator-doc-link.fitted,\n",
       "a:visited.sk-estimator-doc-link.fitted {\n",
       "  /* fitted */\n",
       "  border: var(--sklearn-color-fitted-level-1) 1pt solid;\n",
       "  color: var(--sklearn-color-fitted-level-1);\n",
       "}\n",
       "\n",
       "/* On hover */\n",
       "div.sk-estimator:hover .sk-estimator-doc-link:hover,\n",
       ".sk-estimator-doc-link:hover,\n",
       "div.sk-label-container:hover .sk-estimator-doc-link:hover,\n",
       ".sk-estimator-doc-link:hover {\n",
       "  /* unfitted */\n",
       "  background-color: var(--sklearn-color-unfitted-level-3);\n",
       "  color: var(--sklearn-color-background);\n",
       "  text-decoration: none;\n",
       "}\n",
       "\n",
       "div.sk-estimator.fitted:hover .sk-estimator-doc-link.fitted:hover,\n",
       ".sk-estimator-doc-link.fitted:hover,\n",
       "div.sk-label-container:hover .sk-estimator-doc-link.fitted:hover,\n",
       ".sk-estimator-doc-link.fitted:hover {\n",
       "  /* fitted */\n",
       "  background-color: var(--sklearn-color-fitted-level-3);\n",
       "  color: var(--sklearn-color-background);\n",
       "  text-decoration: none;\n",
       "}\n",
       "\n",
       "/* Span, style for the box shown on hovering the info icon */\n",
       ".sk-estimator-doc-link span {\n",
       "  display: none;\n",
       "  z-index: 9999;\n",
       "  position: relative;\n",
       "  font-weight: normal;\n",
       "  right: .2ex;\n",
       "  padding: .5ex;\n",
       "  margin: .5ex;\n",
       "  width: min-content;\n",
       "  min-width: 20ex;\n",
       "  max-width: 50ex;\n",
       "  color: var(--sklearn-color-text);\n",
       "  box-shadow: 2pt 2pt 4pt #999;\n",
       "  /* unfitted */\n",
       "  background: var(--sklearn-color-unfitted-level-0);\n",
       "  border: .5pt solid var(--sklearn-color-unfitted-level-3);\n",
       "}\n",
       "\n",
       ".sk-estimator-doc-link.fitted span {\n",
       "  /* fitted */\n",
       "  background: var(--sklearn-color-fitted-level-0);\n",
       "  border: var(--sklearn-color-fitted-level-3);\n",
       "}\n",
       "\n",
       ".sk-estimator-doc-link:hover span {\n",
       "  display: block;\n",
       "}\n",
       "\n",
       "/* \"?\"-specific style due to the `<a>` HTML tag */\n",
       "\n",
       "#sk-container-id-4 a.estimator_doc_link {\n",
       "  float: right;\n",
       "  font-size: 1rem;\n",
       "  line-height: 1em;\n",
       "  font-family: monospace;\n",
       "  background-color: var(--sklearn-color-background);\n",
       "  border-radius: 1rem;\n",
       "  height: 1rem;\n",
       "  width: 1rem;\n",
       "  text-decoration: none;\n",
       "  /* unfitted */\n",
       "  color: var(--sklearn-color-unfitted-level-1);\n",
       "  border: var(--sklearn-color-unfitted-level-1) 1pt solid;\n",
       "}\n",
       "\n",
       "#sk-container-id-4 a.estimator_doc_link.fitted {\n",
       "  /* fitted */\n",
       "  border: var(--sklearn-color-fitted-level-1) 1pt solid;\n",
       "  color: var(--sklearn-color-fitted-level-1);\n",
       "}\n",
       "\n",
       "/* On hover */\n",
       "#sk-container-id-4 a.estimator_doc_link:hover {\n",
       "  /* unfitted */\n",
       "  background-color: var(--sklearn-color-unfitted-level-3);\n",
       "  color: var(--sklearn-color-background);\n",
       "  text-decoration: none;\n",
       "}\n",
       "\n",
       "#sk-container-id-4 a.estimator_doc_link.fitted:hover {\n",
       "  /* fitted */\n",
       "  background-color: var(--sklearn-color-fitted-level-3);\n",
       "}\n",
       "</style><div id=\"sk-container-id-4\" class=\"sk-top-container\"><div class=\"sk-text-repr-fallback\"><pre>ColumnTransformer(transformers=[(&#x27;Num Pipeline&#x27;,\n",
       "                                 Pipeline(steps=[(&#x27;Robust Scaler&#x27;,\n",
       "                                                  RobustScaler())]),\n",
       "                                 [&#x27;votes&#x27;, &#x27;approx_cost(for two people)&#x27;]),\n",
       "                                (&#x27;OHE Pipeline&#x27;,\n",
       "                                 Pipeline(steps=[(&#x27;OHE&#x27;,\n",
       "                                                  OneHotEncoder(drop=&#x27;first&#x27;,\n",
       "                                                                sparse_output=False))]),\n",
       "                                 Index([&#x27;online_order&#x27;, &#x27;book_table&#x27;], dtype=&#x27;object&#x27;)),\n",
       "                                (&#x27;Binary Pipeline&#x27;,\n",
       "                                 Pipeline(steps=[(&#x27;Binary Encoder&#x27;,\n",
       "                                                  BinaryEncoder())]),\n",
       "                                 Index([&#x27;location&#x27;, &#x27;rest_type&#x27;, &#x27;cuisines&#x27;, &#x27;listed_in(type)&#x27;,\n",
       "       &#x27;listed_in(city)&#x27;],\n",
       "      dtype=&#x27;object&#x27;))])</pre><b>In a Jupyter environment, please rerun this cell to show the HTML representation or trust the notebook. <br />On GitHub, the HTML representation is unable to render, please try loading this page with nbviewer.org.</b></div><div class=\"sk-container\" hidden><div class=\"sk-item sk-dashed-wrapped\"><div class=\"sk-label-container\"><div class=\"sk-label  sk-toggleable\"><input class=\"sk-toggleable__control sk-hidden--visually\" id=\"sk-estimator-id-7\" type=\"checkbox\" ><label for=\"sk-estimator-id-7\" class=\"sk-toggleable__label  sk-toggleable__label-arrow\"><div><div>ColumnTransformer</div></div><div><a class=\"sk-estimator-doc-link \" rel=\"noreferrer\" target=\"_blank\" href=\"https://scikit-learn.org/1.6/modules/generated/sklearn.compose.ColumnTransformer.html\">?<span>Documentation for ColumnTransformer</span></a><span class=\"sk-estimator-doc-link \">i<span>Not fitted</span></span></div></label><div class=\"sk-toggleable__content \"><pre>ColumnTransformer(transformers=[(&#x27;Num Pipeline&#x27;,\n",
       "                                 Pipeline(steps=[(&#x27;Robust Scaler&#x27;,\n",
       "                                                  RobustScaler())]),\n",
       "                                 [&#x27;votes&#x27;, &#x27;approx_cost(for two people)&#x27;]),\n",
       "                                (&#x27;OHE Pipeline&#x27;,\n",
       "                                 Pipeline(steps=[(&#x27;OHE&#x27;,\n",
       "                                                  OneHotEncoder(drop=&#x27;first&#x27;,\n",
       "                                                                sparse_output=False))]),\n",
       "                                 Index([&#x27;online_order&#x27;, &#x27;book_table&#x27;], dtype=&#x27;object&#x27;)),\n",
       "                                (&#x27;Binary Pipeline&#x27;,\n",
       "                                 Pipeline(steps=[(&#x27;Binary Encoder&#x27;,\n",
       "                                                  BinaryEncoder())]),\n",
       "                                 Index([&#x27;location&#x27;, &#x27;rest_type&#x27;, &#x27;cuisines&#x27;, &#x27;listed_in(type)&#x27;,\n",
       "       &#x27;listed_in(city)&#x27;],\n",
       "      dtype=&#x27;object&#x27;))])</pre></div> </div></div><div class=\"sk-parallel\"><div class=\"sk-parallel-item\"><div class=\"sk-item\"><div class=\"sk-label-container\"><div class=\"sk-label  sk-toggleable\"><input class=\"sk-toggleable__control sk-hidden--visually\" id=\"sk-estimator-id-8\" type=\"checkbox\" ><label for=\"sk-estimator-id-8\" class=\"sk-toggleable__label  sk-toggleable__label-arrow\"><div><div>Num Pipeline</div></div></label><div class=\"sk-toggleable__content \"><pre>[&#x27;votes&#x27;, &#x27;approx_cost(for two people)&#x27;]</pre></div> </div></div><div class=\"sk-serial\"><div class=\"sk-item\"><div class=\"sk-serial\"><div class=\"sk-item\"><div class=\"sk-estimator  sk-toggleable\"><input class=\"sk-toggleable__control sk-hidden--visually\" id=\"sk-estimator-id-9\" type=\"checkbox\" ><label for=\"sk-estimator-id-9\" class=\"sk-toggleable__label  sk-toggleable__label-arrow\"><div><div>RobustScaler</div></div><div><a class=\"sk-estimator-doc-link \" rel=\"noreferrer\" target=\"_blank\" href=\"https://scikit-learn.org/1.6/modules/generated/sklearn.preprocessing.RobustScaler.html\">?<span>Documentation for RobustScaler</span></a></div></label><div class=\"sk-toggleable__content \"><pre>RobustScaler()</pre></div> </div></div></div></div></div></div></div><div class=\"sk-parallel-item\"><div class=\"sk-item\"><div class=\"sk-label-container\"><div class=\"sk-label  sk-toggleable\"><input class=\"sk-toggleable__control sk-hidden--visually\" id=\"sk-estimator-id-10\" type=\"checkbox\" ><label for=\"sk-estimator-id-10\" class=\"sk-toggleable__label  sk-toggleable__label-arrow\"><div><div>OHE Pipeline</div></div></label><div class=\"sk-toggleable__content \"><pre>Index([&#x27;online_order&#x27;, &#x27;book_table&#x27;], dtype=&#x27;object&#x27;)</pre></div> </div></div><div class=\"sk-serial\"><div class=\"sk-item\"><div class=\"sk-serial\"><div class=\"sk-item\"><div class=\"sk-estimator  sk-toggleable\"><input class=\"sk-toggleable__control sk-hidden--visually\" id=\"sk-estimator-id-11\" type=\"checkbox\" ><label for=\"sk-estimator-id-11\" class=\"sk-toggleable__label  sk-toggleable__label-arrow\"><div><div>OneHotEncoder</div></div><div><a class=\"sk-estimator-doc-link \" rel=\"noreferrer\" target=\"_blank\" href=\"https://scikit-learn.org/1.6/modules/generated/sklearn.preprocessing.OneHotEncoder.html\">?<span>Documentation for OneHotEncoder</span></a></div></label><div class=\"sk-toggleable__content \"><pre>OneHotEncoder(drop=&#x27;first&#x27;, sparse_output=False)</pre></div> </div></div></div></div></div></div></div><div class=\"sk-parallel-item\"><div class=\"sk-item\"><div class=\"sk-label-container\"><div class=\"sk-label  sk-toggleable\"><input class=\"sk-toggleable__control sk-hidden--visually\" id=\"sk-estimator-id-12\" type=\"checkbox\" ><label for=\"sk-estimator-id-12\" class=\"sk-toggleable__label  sk-toggleable__label-arrow\"><div><div>Binary Pipeline</div></div></label><div class=\"sk-toggleable__content \"><pre>Index([&#x27;location&#x27;, &#x27;rest_type&#x27;, &#x27;cuisines&#x27;, &#x27;listed_in(type)&#x27;,\n",
       "       &#x27;listed_in(city)&#x27;],\n",
       "      dtype=&#x27;object&#x27;)</pre></div> </div></div><div class=\"sk-serial\"><div class=\"sk-item\"><div class=\"sk-serial\"><div class=\"sk-item\"><div class=\"sk-estimator  sk-toggleable\"><input class=\"sk-toggleable__control sk-hidden--visually\" id=\"sk-estimator-id-13\" type=\"checkbox\" ><label for=\"sk-estimator-id-13\" class=\"sk-toggleable__label  sk-toggleable__label-arrow\"><div><div>BinaryEncoder</div></div></label><div class=\"sk-toggleable__content \"><pre>BinaryEncoder()</pre></div> </div></div></div></div></div></div></div></div></div></div></div>"
      ],
      "text/plain": [
       "ColumnTransformer(transformers=[('Num Pipeline',\n",
       "                                 Pipeline(steps=[('Robust Scaler',\n",
       "                                                  RobustScaler())]),\n",
       "                                 ['votes', 'approx_cost(for two people)']),\n",
       "                                ('OHE Pipeline',\n",
       "                                 Pipeline(steps=[('OHE',\n",
       "                                                  OneHotEncoder(drop='first',\n",
       "                                                                sparse_output=False))]),\n",
       "                                 Index(['online_order', 'book_table'], dtype='object')),\n",
       "                                ('Binary Pipeline',\n",
       "                                 Pipeline(steps=[('Binary Encoder',\n",
       "                                                  BinaryEncoder())]),\n",
       "                                 Index(['location', 'rest_type', 'cuisines', 'listed_in(type)',\n",
       "       'listed_in(city)'],\n",
       "      dtype='object'))])"
      ]
     },
     "execution_count": 41,
     "metadata": {},
     "output_type": "execute_result"
    }
   ],
   "source": [
    "from sklearn.compose import ColumnTransformer\n",
    "\n",
    "preprocessing = ColumnTransformer(transformers= [\n",
    "     ('Num Pipeline' , num_pipeline, ['votes', 'approx_cost(for two people)']),\n",
    "     ('OHE Pipeline' , ohe_pipeline, ohe_cols),\n",
    "     ('Binary Pipeline' , bE_pipeline, be_cols),\n",
    "])\n",
    "\n",
    "preprocessing"
   ]
  },
  {
   "cell_type": "markdown",
   "id": "9c36bfcb",
   "metadata": {},
   "source": [
    "### Select the Best model"
   ]
  },
  {
   "cell_type": "code",
   "execution_count": 42,
   "id": "24c9e18b",
   "metadata": {},
   "outputs": [
    {
     "name": "stdout",
     "output_type": "stream",
     "text": [
      "Linear Regression\n",
      "Train R2 Score : 32.0\n",
      "Test R2 Score : 31.0\n",
      "--------------------------------------------------\n",
      "Knn\n",
      "Train R2 Score : 82.0\n",
      "Test R2 Score : 70.0\n",
      "--------------------------------------------------\n",
      "Decision Tree\n",
      "Train R2 Score : 100.0\n",
      "Test R2 Score : 70.0\n",
      "--------------------------------------------------\n",
      "Random Forest\n",
      "Train R2 Score : 99.0\n",
      "Test R2 Score : 86.0\n",
      "--------------------------------------------------\n",
      "Xgboost\n",
      "Train R2 Score : 81.0\n",
      "Test R2 Score : 70.0\n",
      "--------------------------------------------------\n",
      "CatBoost\n",
      "Train R2 Score : 74.0\n",
      "Test R2 Score : 67.0\n",
      "--------------------------------------------------\n",
      "LightGBM\n",
      "Train R2 Score : 66.0\n",
      "Test R2 Score : 60.0\n",
      "--------------------------------------------------\n"
     ]
    }
   ],
   "source": [
    "# Import cross validation\n",
    "from sklearn.model_selection import cross_validate\n",
    "# Import Models\n",
    "from sklearn.linear_model import LinearRegression\n",
    "from sklearn.neighbors import KNeighborsRegressor\n",
    "from sklearn.tree import DecisionTreeRegressor\n",
    "from sklearn.ensemble import RandomForestRegressor\n",
    "from xgboost import XGBRegressor\n",
    "from catboost import CatBoostRegressor\n",
    "from lightgbm import LGBMRegressor\n",
    "\n",
    "models = [\n",
    "    ('Linear Regression', LinearRegression(n_jobs= -1)),\n",
    "    ('Knn', KNeighborsRegressor()),\n",
    "    ('Decision Tree', DecisionTreeRegressor(random_state= 42)),\n",
    "    ('Random Forest', RandomForestRegressor(random_state= 42, n_jobs= -1)),\n",
    "    ('Xgboost', XGBRegressor()),\n",
    "    ('CatBoost', CatBoostRegressor()),\n",
    "    ('LightGBM', LGBMRegressor())\n",
    "]\n",
    "\n",
    "for model in models:\n",
    "\n",
    "    model_pipeline = Pipeline(steps= [ ('Preprocessing', preprocessing), ('Model', model[1]) ])\n",
    "\n",
    "    result = cross_validate(model_pipeline, x, y, cv= 5, scoring= 'r2', return_train_score= True, n_jobs= -1)\n",
    "\n",
    "    print(model[0])\n",
    "    print('Train R2 Score :', result['train_score'].mean().round(2) * 100)\n",
    "    print('Test R2 Score :', result['test_score'].mean().round(2) * 100)\n",
    "    print('-' * 50)"
   ]
  },
  {
   "cell_type": "markdown",
   "id": "aeb7d7c8",
   "metadata": {},
   "source": [
    "### Select the Best model usnig TransformedTargetRegressor"
   ]
  },
  {
   "cell_type": "code",
   "execution_count": 43,
   "id": "554090cc",
   "metadata": {},
   "outputs": [
    {
     "name": "stdout",
     "output_type": "stream",
     "text": [
      "Linear Regression\n",
      "Train R2 Score : 31.0\n",
      "Test R2 Score : 30.0\n",
      "--------------------------------------------------\n",
      "Knn\n",
      "Train R2 Score : 82.0\n",
      "Test R2 Score : 70.0\n",
      "--------------------------------------------------\n",
      "Decision Tree\n",
      "Train R2 Score : 100.0\n",
      "Test R2 Score : 69.0\n",
      "--------------------------------------------------\n",
      "Random Forest\n",
      "Train R2 Score : 99.0\n",
      "Test R2 Score : 85.0\n",
      "--------------------------------------------------\n",
      "Xgboost\n",
      "Train R2 Score : 81.0\n",
      "Test R2 Score : 70.0\n",
      "--------------------------------------------------\n",
      "CatBoost\n",
      "Train R2 Score : 75.0\n",
      "Test R2 Score : 67.0\n",
      "--------------------------------------------------\n",
      "LightGBM\n",
      "Train R2 Score : 67.0\n",
      "Test R2 Score : 60.0\n",
      "--------------------------------------------------\n"
     ]
    }
   ],
   "source": [
    "from sklearn.compose import TransformedTargetRegressor\n",
    "# Import cross validation\n",
    "from sklearn.model_selection import cross_validate\n",
    "# Import Models\n",
    "from sklearn.linear_model import LinearRegression\n",
    "from sklearn.neighbors import KNeighborsRegressor\n",
    "from sklearn.tree import DecisionTreeRegressor\n",
    "from sklearn.ensemble import RandomForestRegressor\n",
    "from xgboost import XGBRegressor\n",
    "from catboost import CatBoostRegressor\n",
    "from lightgbm import LGBMRegressor\n",
    "\n",
    "models = [\n",
    "    ('Linear Regression', LinearRegression(n_jobs= -1)),\n",
    "    ('Knn', KNeighborsRegressor()),\n",
    "    ('Decision Tree', DecisionTreeRegressor(random_state= 42)),\n",
    "    ('Random Forest', RandomForestRegressor(random_state= 42, n_jobs= -1)),\n",
    "    ('Xgboost', XGBRegressor()),\n",
    "    ('CatBoost', CatBoostRegressor()),\n",
    "    ('LightGBM', LGBMRegressor())\n",
    "]\n",
    "\n",
    "for model in models:\n",
    "\n",
    "    model_pipeline = Pipeline(steps= [ ('Preprocessing', preprocessing), ('Model', model[1]) ])\n",
    "    model_pipeline_scaled_target = TransformedTargetRegressor(regressor= model_pipeline, func= np.log1p, inverse_func= np.expm1)\n",
    "    result = cross_validate(model_pipeline_scaled_target, x, y, cv= 5, scoring= 'r2', return_train_score= True, n_jobs= -1)\n",
    "\n",
    "    print(model[0])\n",
    "    print('Train R2 Score :', result['train_score'].mean().round(2) * 100)\n",
    "    print('Test R2 Score :', result['test_score'].mean().round(2) * 100)\n",
    "    # print('Total Training Time :', result['fit_time'].sum().round(2))\n",
    "    print('-' * 50)"
   ]
  },
  {
   "cell_type": "markdown",
   "id": "7227aafb",
   "metadata": {},
   "source": [
    "### RandomizedSearchCV"
   ]
  },
  {
   "cell_type": "code",
   "execution_count": null,
   "id": "97e0eec6",
   "metadata": {},
   "outputs": [
    {
     "name": "stderr",
     "output_type": "stream",
     "text": [
      "c:\\Users\\hp\\anaconda3\\envs\\AHMED\\Lib\\site-packages\\sklearn\\model_selection\\_search.py:317: UserWarning:\n",
      "\n",
      "The total space of parameters 27 is smaller than n_iter=30. Running 27 iterations. For exhaustive searches, use GridSearchCV.\n",
      "\n"
     ]
    }
   ],
   "source": [
    "from sklearn.model_selection import RandomizedSearchCV\n",
    "\n",
    "\n",
    "model_pipeline = Pipeline(steps=[\n",
    "    ('Preprocessing', preprocessing),\n",
    "    ('Model', RandomForestRegressor(random_state=42, n_jobs=-1))\n",
    "])\n",
    "\n",
    "\n",
    "params = {\n",
    "    'Model__n_estimators': np.arange(100, 501, 50),       \n",
    "    'Model__max_depth': [20, 30, 40],           \n",
    "}\n",
    "\n",
    "\n",
    "random_search = RandomizedSearchCV(\n",
    "    model_pipeline,\n",
    "    param_distributions=params,\n",
    "    n_iter=30,               \n",
    "    cv=5,\n",
    "    scoring='r2',\n",
    "    n_jobs=-1,\n",
    "    random_state=42,\n",
    "    return_train_score=True\n",
    ")\n",
    "\n",
    "random_search.fit(x, y)\n",
    "\n",
    "print(\"Best Parameters:\", random_search.best_params_)\n",
    "print(\"Best R2 Score (CV):\", random_search.best_score_)\n"
   ]
  },
  {
   "cell_type": "code",
   "execution_count": null,
   "id": "bcfe1400",
   "metadata": {},
   "outputs": [
    {
     "data": {
      "text/html": [
       "<style>#sk-container-id-5 {\n",
       "  /* Definition of color scheme common for light and dark mode */\n",
       "  --sklearn-color-text: #000;\n",
       "  --sklearn-color-text-muted: #666;\n",
       "  --sklearn-color-line: gray;\n",
       "  /* Definition of color scheme for unfitted estimators */\n",
       "  --sklearn-color-unfitted-level-0: #fff5e6;\n",
       "  --sklearn-color-unfitted-level-1: #f6e4d2;\n",
       "  --sklearn-color-unfitted-level-2: #ffe0b3;\n",
       "  --sklearn-color-unfitted-level-3: chocolate;\n",
       "  /* Definition of color scheme for fitted estimators */\n",
       "  --sklearn-color-fitted-level-0: #f0f8ff;\n",
       "  --sklearn-color-fitted-level-1: #d4ebff;\n",
       "  --sklearn-color-fitted-level-2: #b3dbfd;\n",
       "  --sklearn-color-fitted-level-3: cornflowerblue;\n",
       "\n",
       "  /* Specific color for light theme */\n",
       "  --sklearn-color-text-on-default-background: var(--sg-text-color, var(--theme-code-foreground, var(--jp-content-font-color1, black)));\n",
       "  --sklearn-color-background: var(--sg-background-color, var(--theme-background, var(--jp-layout-color0, white)));\n",
       "  --sklearn-color-border-box: var(--sg-text-color, var(--theme-code-foreground, var(--jp-content-font-color1, black)));\n",
       "  --sklearn-color-icon: #696969;\n",
       "\n",
       "  @media (prefers-color-scheme: dark) {\n",
       "    /* Redefinition of color scheme for dark theme */\n",
       "    --sklearn-color-text-on-default-background: var(--sg-text-color, var(--theme-code-foreground, var(--jp-content-font-color1, white)));\n",
       "    --sklearn-color-background: var(--sg-background-color, var(--theme-background, var(--jp-layout-color0, #111)));\n",
       "    --sklearn-color-border-box: var(--sg-text-color, var(--theme-code-foreground, var(--jp-content-font-color1, white)));\n",
       "    --sklearn-color-icon: #878787;\n",
       "  }\n",
       "}\n",
       "\n",
       "#sk-container-id-5 {\n",
       "  color: var(--sklearn-color-text);\n",
       "}\n",
       "\n",
       "#sk-container-id-5 pre {\n",
       "  padding: 0;\n",
       "}\n",
       "\n",
       "#sk-container-id-5 input.sk-hidden--visually {\n",
       "  border: 0;\n",
       "  clip: rect(1px 1px 1px 1px);\n",
       "  clip: rect(1px, 1px, 1px, 1px);\n",
       "  height: 1px;\n",
       "  margin: -1px;\n",
       "  overflow: hidden;\n",
       "  padding: 0;\n",
       "  position: absolute;\n",
       "  width: 1px;\n",
       "}\n",
       "\n",
       "#sk-container-id-5 div.sk-dashed-wrapped {\n",
       "  border: 1px dashed var(--sklearn-color-line);\n",
       "  margin: 0 0.4em 0.5em 0.4em;\n",
       "  box-sizing: border-box;\n",
       "  padding-bottom: 0.4em;\n",
       "  background-color: var(--sklearn-color-background);\n",
       "}\n",
       "\n",
       "#sk-container-id-5 div.sk-container {\n",
       "  /* jupyter's `normalize.less` sets `[hidden] { display: none; }`\n",
       "     but bootstrap.min.css set `[hidden] { display: none !important; }`\n",
       "     so we also need the `!important` here to be able to override the\n",
       "     default hidden behavior on the sphinx rendered scikit-learn.org.\n",
       "     See: https://github.com/scikit-learn/scikit-learn/issues/21755 */\n",
       "  display: inline-block !important;\n",
       "  position: relative;\n",
       "}\n",
       "\n",
       "#sk-container-id-5 div.sk-text-repr-fallback {\n",
       "  display: none;\n",
       "}\n",
       "\n",
       "div.sk-parallel-item,\n",
       "div.sk-serial,\n",
       "div.sk-item {\n",
       "  /* draw centered vertical line to link estimators */\n",
       "  background-image: linear-gradient(var(--sklearn-color-text-on-default-background), var(--sklearn-color-text-on-default-background));\n",
       "  background-size: 2px 100%;\n",
       "  background-repeat: no-repeat;\n",
       "  background-position: center center;\n",
       "}\n",
       "\n",
       "/* Parallel-specific style estimator block */\n",
       "\n",
       "#sk-container-id-5 div.sk-parallel-item::after {\n",
       "  content: \"\";\n",
       "  width: 100%;\n",
       "  border-bottom: 2px solid var(--sklearn-color-text-on-default-background);\n",
       "  flex-grow: 1;\n",
       "}\n",
       "\n",
       "#sk-container-id-5 div.sk-parallel {\n",
       "  display: flex;\n",
       "  align-items: stretch;\n",
       "  justify-content: center;\n",
       "  background-color: var(--sklearn-color-background);\n",
       "  position: relative;\n",
       "}\n",
       "\n",
       "#sk-container-id-5 div.sk-parallel-item {\n",
       "  display: flex;\n",
       "  flex-direction: column;\n",
       "}\n",
       "\n",
       "#sk-container-id-5 div.sk-parallel-item:first-child::after {\n",
       "  align-self: flex-end;\n",
       "  width: 50%;\n",
       "}\n",
       "\n",
       "#sk-container-id-5 div.sk-parallel-item:last-child::after {\n",
       "  align-self: flex-start;\n",
       "  width: 50%;\n",
       "}\n",
       "\n",
       "#sk-container-id-5 div.sk-parallel-item:only-child::after {\n",
       "  width: 0;\n",
       "}\n",
       "\n",
       "/* Serial-specific style estimator block */\n",
       "\n",
       "#sk-container-id-5 div.sk-serial {\n",
       "  display: flex;\n",
       "  flex-direction: column;\n",
       "  align-items: center;\n",
       "  background-color: var(--sklearn-color-background);\n",
       "  padding-right: 1em;\n",
       "  padding-left: 1em;\n",
       "}\n",
       "\n",
       "\n",
       "/* Toggleable style: style used for estimator/Pipeline/ColumnTransformer box that is\n",
       "clickable and can be expanded/collapsed.\n",
       "- Pipeline and ColumnTransformer use this feature and define the default style\n",
       "- Estimators will overwrite some part of the style using the `sk-estimator` class\n",
       "*/\n",
       "\n",
       "/* Pipeline and ColumnTransformer style (default) */\n",
       "\n",
       "#sk-container-id-5 div.sk-toggleable {\n",
       "  /* Default theme specific background. It is overwritten whether we have a\n",
       "  specific estimator or a Pipeline/ColumnTransformer */\n",
       "  background-color: var(--sklearn-color-background);\n",
       "}\n",
       "\n",
       "/* Toggleable label */\n",
       "#sk-container-id-5 label.sk-toggleable__label {\n",
       "  cursor: pointer;\n",
       "  display: flex;\n",
       "  width: 100%;\n",
       "  margin-bottom: 0;\n",
       "  padding: 0.5em;\n",
       "  box-sizing: border-box;\n",
       "  text-align: center;\n",
       "  align-items: start;\n",
       "  justify-content: space-between;\n",
       "  gap: 0.5em;\n",
       "}\n",
       "\n",
       "#sk-container-id-5 label.sk-toggleable__label .caption {\n",
       "  font-size: 0.6rem;\n",
       "  font-weight: lighter;\n",
       "  color: var(--sklearn-color-text-muted);\n",
       "}\n",
       "\n",
       "#sk-container-id-5 label.sk-toggleable__label-arrow:before {\n",
       "  /* Arrow on the left of the label */\n",
       "  content: \"▸\";\n",
       "  float: left;\n",
       "  margin-right: 0.25em;\n",
       "  color: var(--sklearn-color-icon);\n",
       "}\n",
       "\n",
       "#sk-container-id-5 label.sk-toggleable__label-arrow:hover:before {\n",
       "  color: var(--sklearn-color-text);\n",
       "}\n",
       "\n",
       "/* Toggleable content - dropdown */\n",
       "\n",
       "#sk-container-id-5 div.sk-toggleable__content {\n",
       "  max-height: 0;\n",
       "  max-width: 0;\n",
       "  overflow: hidden;\n",
       "  text-align: left;\n",
       "  /* unfitted */\n",
       "  background-color: var(--sklearn-color-unfitted-level-0);\n",
       "}\n",
       "\n",
       "#sk-container-id-5 div.sk-toggleable__content.fitted {\n",
       "  /* fitted */\n",
       "  background-color: var(--sklearn-color-fitted-level-0);\n",
       "}\n",
       "\n",
       "#sk-container-id-5 div.sk-toggleable__content pre {\n",
       "  margin: 0.2em;\n",
       "  border-radius: 0.25em;\n",
       "  color: var(--sklearn-color-text);\n",
       "  /* unfitted */\n",
       "  background-color: var(--sklearn-color-unfitted-level-0);\n",
       "}\n",
       "\n",
       "#sk-container-id-5 div.sk-toggleable__content.fitted pre {\n",
       "  /* unfitted */\n",
       "  background-color: var(--sklearn-color-fitted-level-0);\n",
       "}\n",
       "\n",
       "#sk-container-id-5 input.sk-toggleable__control:checked~div.sk-toggleable__content {\n",
       "  /* Expand drop-down */\n",
       "  max-height: 200px;\n",
       "  max-width: 100%;\n",
       "  overflow: auto;\n",
       "}\n",
       "\n",
       "#sk-container-id-5 input.sk-toggleable__control:checked~label.sk-toggleable__label-arrow:before {\n",
       "  content: \"▾\";\n",
       "}\n",
       "\n",
       "/* Pipeline/ColumnTransformer-specific style */\n",
       "\n",
       "#sk-container-id-5 div.sk-label input.sk-toggleable__control:checked~label.sk-toggleable__label {\n",
       "  color: var(--sklearn-color-text);\n",
       "  background-color: var(--sklearn-color-unfitted-level-2);\n",
       "}\n",
       "\n",
       "#sk-container-id-5 div.sk-label.fitted input.sk-toggleable__control:checked~label.sk-toggleable__label {\n",
       "  background-color: var(--sklearn-color-fitted-level-2);\n",
       "}\n",
       "\n",
       "/* Estimator-specific style */\n",
       "\n",
       "/* Colorize estimator box */\n",
       "#sk-container-id-5 div.sk-estimator input.sk-toggleable__control:checked~label.sk-toggleable__label {\n",
       "  /* unfitted */\n",
       "  background-color: var(--sklearn-color-unfitted-level-2);\n",
       "}\n",
       "\n",
       "#sk-container-id-5 div.sk-estimator.fitted input.sk-toggleable__control:checked~label.sk-toggleable__label {\n",
       "  /* fitted */\n",
       "  background-color: var(--sklearn-color-fitted-level-2);\n",
       "}\n",
       "\n",
       "#sk-container-id-5 div.sk-label label.sk-toggleable__label,\n",
       "#sk-container-id-5 div.sk-label label {\n",
       "  /* The background is the default theme color */\n",
       "  color: var(--sklearn-color-text-on-default-background);\n",
       "}\n",
       "\n",
       "/* On hover, darken the color of the background */\n",
       "#sk-container-id-5 div.sk-label:hover label.sk-toggleable__label {\n",
       "  color: var(--sklearn-color-text);\n",
       "  background-color: var(--sklearn-color-unfitted-level-2);\n",
       "}\n",
       "\n",
       "/* Label box, darken color on hover, fitted */\n",
       "#sk-container-id-5 div.sk-label.fitted:hover label.sk-toggleable__label.fitted {\n",
       "  color: var(--sklearn-color-text);\n",
       "  background-color: var(--sklearn-color-fitted-level-2);\n",
       "}\n",
       "\n",
       "/* Estimator label */\n",
       "\n",
       "#sk-container-id-5 div.sk-label label {\n",
       "  font-family: monospace;\n",
       "  font-weight: bold;\n",
       "  display: inline-block;\n",
       "  line-height: 1.2em;\n",
       "}\n",
       "\n",
       "#sk-container-id-5 div.sk-label-container {\n",
       "  text-align: center;\n",
       "}\n",
       "\n",
       "/* Estimator-specific */\n",
       "#sk-container-id-5 div.sk-estimator {\n",
       "  font-family: monospace;\n",
       "  border: 1px dotted var(--sklearn-color-border-box);\n",
       "  border-radius: 0.25em;\n",
       "  box-sizing: border-box;\n",
       "  margin-bottom: 0.5em;\n",
       "  /* unfitted */\n",
       "  background-color: var(--sklearn-color-unfitted-level-0);\n",
       "}\n",
       "\n",
       "#sk-container-id-5 div.sk-estimator.fitted {\n",
       "  /* fitted */\n",
       "  background-color: var(--sklearn-color-fitted-level-0);\n",
       "}\n",
       "\n",
       "/* on hover */\n",
       "#sk-container-id-5 div.sk-estimator:hover {\n",
       "  /* unfitted */\n",
       "  background-color: var(--sklearn-color-unfitted-level-2);\n",
       "}\n",
       "\n",
       "#sk-container-id-5 div.sk-estimator.fitted:hover {\n",
       "  /* fitted */\n",
       "  background-color: var(--sklearn-color-fitted-level-2);\n",
       "}\n",
       "\n",
       "/* Specification for estimator info (e.g. \"i\" and \"?\") */\n",
       "\n",
       "/* Common style for \"i\" and \"?\" */\n",
       "\n",
       ".sk-estimator-doc-link,\n",
       "a:link.sk-estimator-doc-link,\n",
       "a:visited.sk-estimator-doc-link {\n",
       "  float: right;\n",
       "  font-size: smaller;\n",
       "  line-height: 1em;\n",
       "  font-family: monospace;\n",
       "  background-color: var(--sklearn-color-background);\n",
       "  border-radius: 1em;\n",
       "  height: 1em;\n",
       "  width: 1em;\n",
       "  text-decoration: none !important;\n",
       "  margin-left: 0.5em;\n",
       "  text-align: center;\n",
       "  /* unfitted */\n",
       "  border: var(--sklearn-color-unfitted-level-1) 1pt solid;\n",
       "  color: var(--sklearn-color-unfitted-level-1);\n",
       "}\n",
       "\n",
       ".sk-estimator-doc-link.fitted,\n",
       "a:link.sk-estimator-doc-link.fitted,\n",
       "a:visited.sk-estimator-doc-link.fitted {\n",
       "  /* fitted */\n",
       "  border: var(--sklearn-color-fitted-level-1) 1pt solid;\n",
       "  color: var(--sklearn-color-fitted-level-1);\n",
       "}\n",
       "\n",
       "/* On hover */\n",
       "div.sk-estimator:hover .sk-estimator-doc-link:hover,\n",
       ".sk-estimator-doc-link:hover,\n",
       "div.sk-label-container:hover .sk-estimator-doc-link:hover,\n",
       ".sk-estimator-doc-link:hover {\n",
       "  /* unfitted */\n",
       "  background-color: var(--sklearn-color-unfitted-level-3);\n",
       "  color: var(--sklearn-color-background);\n",
       "  text-decoration: none;\n",
       "}\n",
       "\n",
       "div.sk-estimator.fitted:hover .sk-estimator-doc-link.fitted:hover,\n",
       ".sk-estimator-doc-link.fitted:hover,\n",
       "div.sk-label-container:hover .sk-estimator-doc-link.fitted:hover,\n",
       ".sk-estimator-doc-link.fitted:hover {\n",
       "  /* fitted */\n",
       "  background-color: var(--sklearn-color-fitted-level-3);\n",
       "  color: var(--sklearn-color-background);\n",
       "  text-decoration: none;\n",
       "}\n",
       "\n",
       "/* Span, style for the box shown on hovering the info icon */\n",
       ".sk-estimator-doc-link span {\n",
       "  display: none;\n",
       "  z-index: 9999;\n",
       "  position: relative;\n",
       "  font-weight: normal;\n",
       "  right: .2ex;\n",
       "  padding: .5ex;\n",
       "  margin: .5ex;\n",
       "  width: min-content;\n",
       "  min-width: 20ex;\n",
       "  max-width: 50ex;\n",
       "  color: var(--sklearn-color-text);\n",
       "  box-shadow: 2pt 2pt 4pt #999;\n",
       "  /* unfitted */\n",
       "  background: var(--sklearn-color-unfitted-level-0);\n",
       "  border: .5pt solid var(--sklearn-color-unfitted-level-3);\n",
       "}\n",
       "\n",
       ".sk-estimator-doc-link.fitted span {\n",
       "  /* fitted */\n",
       "  background: var(--sklearn-color-fitted-level-0);\n",
       "  border: var(--sklearn-color-fitted-level-3);\n",
       "}\n",
       "\n",
       ".sk-estimator-doc-link:hover span {\n",
       "  display: block;\n",
       "}\n",
       "\n",
       "/* \"?\"-specific style due to the `<a>` HTML tag */\n",
       "\n",
       "#sk-container-id-5 a.estimator_doc_link {\n",
       "  float: right;\n",
       "  font-size: 1rem;\n",
       "  line-height: 1em;\n",
       "  font-family: monospace;\n",
       "  background-color: var(--sklearn-color-background);\n",
       "  border-radius: 1rem;\n",
       "  height: 1rem;\n",
       "  width: 1rem;\n",
       "  text-decoration: none;\n",
       "  /* unfitted */\n",
       "  color: var(--sklearn-color-unfitted-level-1);\n",
       "  border: var(--sklearn-color-unfitted-level-1) 1pt solid;\n",
       "}\n",
       "\n",
       "#sk-container-id-5 a.estimator_doc_link.fitted {\n",
       "  /* fitted */\n",
       "  border: var(--sklearn-color-fitted-level-1) 1pt solid;\n",
       "  color: var(--sklearn-color-fitted-level-1);\n",
       "}\n",
       "\n",
       "/* On hover */\n",
       "#sk-container-id-5 a.estimator_doc_link:hover {\n",
       "  /* unfitted */\n",
       "  background-color: var(--sklearn-color-unfitted-level-3);\n",
       "  color: var(--sklearn-color-background);\n",
       "  text-decoration: none;\n",
       "}\n",
       "\n",
       "#sk-container-id-5 a.estimator_doc_link.fitted:hover {\n",
       "  /* fitted */\n",
       "  background-color: var(--sklearn-color-fitted-level-3);\n",
       "}\n",
       "</style><div id=\"sk-container-id-5\" class=\"sk-top-container\"><div class=\"sk-text-repr-fallback\"><pre>Pipeline(steps=[(&#x27;Preprocessing&#x27;,\n",
       "                 ColumnTransformer(transformers=[(&#x27;Num Pipeline&#x27;,\n",
       "                                                  Pipeline(steps=[(&#x27;Robust &#x27;\n",
       "                                                                   &#x27;Scaler&#x27;,\n",
       "                                                                   RobustScaler())]),\n",
       "                                                  [&#x27;votes&#x27;,\n",
       "                                                   &#x27;approx_cost(for two &#x27;\n",
       "                                                   &#x27;people)&#x27;]),\n",
       "                                                 (&#x27;OHE Pipeline&#x27;,\n",
       "                                                  Pipeline(steps=[(&#x27;OHE&#x27;,\n",
       "                                                                   OneHotEncoder(drop=&#x27;first&#x27;,\n",
       "                                                                                 sparse_output=False))]),\n",
       "                                                  Index([&#x27;online_order&#x27;, &#x27;book_table&#x27;], dtype=&#x27;object&#x27;)),\n",
       "                                                 (&#x27;Binary Pipeline&#x27;,\n",
       "                                                  Pipeline(steps=[(&#x27;Binary &#x27;\n",
       "                                                                   &#x27;Encoder&#x27;,\n",
       "                                                                   BinaryEncoder())]),\n",
       "                                                  Index([&#x27;location&#x27;, &#x27;rest_type&#x27;, &#x27;cuisines&#x27;, &#x27;listed_in(type)&#x27;,\n",
       "       &#x27;listed_in(city)&#x27;],\n",
       "      dtype=&#x27;object&#x27;))])),\n",
       "                (&#x27;Model&#x27;, RandomForestRegressor(n_jobs=-1, random_state=42))])</pre><b>In a Jupyter environment, please rerun this cell to show the HTML representation or trust the notebook. <br />On GitHub, the HTML representation is unable to render, please try loading this page with nbviewer.org.</b></div><div class=\"sk-container\" hidden><div class=\"sk-item sk-dashed-wrapped\"><div class=\"sk-label-container\"><div class=\"sk-label fitted sk-toggleable\"><input class=\"sk-toggleable__control sk-hidden--visually\" id=\"sk-estimator-id-14\" type=\"checkbox\" ><label for=\"sk-estimator-id-14\" class=\"sk-toggleable__label fitted sk-toggleable__label-arrow\"><div><div>Pipeline</div></div><div><span class=\"sk-estimator-doc-link fitted\">i<span>Fitted</span></span></div></label><div class=\"sk-toggleable__content fitted\"><pre>Pipeline(steps=[(&#x27;Preprocessing&#x27;,\n",
       "                 ColumnTransformer(transformers=[(&#x27;Num Pipeline&#x27;,\n",
       "                                                  Pipeline(steps=[(&#x27;Robust &#x27;\n",
       "                                                                   &#x27;Scaler&#x27;,\n",
       "                                                                   RobustScaler())]),\n",
       "                                                  [&#x27;votes&#x27;,\n",
       "                                                   &#x27;approx_cost(for two &#x27;\n",
       "                                                   &#x27;people)&#x27;]),\n",
       "                                                 (&#x27;OHE Pipeline&#x27;,\n",
       "                                                  Pipeline(steps=[(&#x27;OHE&#x27;,\n",
       "                                                                   OneHotEncoder(drop=&#x27;first&#x27;,\n",
       "                                                                                 sparse_output=False))]),\n",
       "                                                  Index([&#x27;online_order&#x27;, &#x27;book_table&#x27;], dtype=&#x27;object&#x27;)),\n",
       "                                                 (&#x27;Binary Pipeline&#x27;,\n",
       "                                                  Pipeline(steps=[(&#x27;Binary &#x27;\n",
       "                                                                   &#x27;Encoder&#x27;,\n",
       "                                                                   BinaryEncoder())]),\n",
       "                                                  Index([&#x27;location&#x27;, &#x27;rest_type&#x27;, &#x27;cuisines&#x27;, &#x27;listed_in(type)&#x27;,\n",
       "       &#x27;listed_in(city)&#x27;],\n",
       "      dtype=&#x27;object&#x27;))])),\n",
       "                (&#x27;Model&#x27;, RandomForestRegressor(n_jobs=-1, random_state=42))])</pre></div> </div></div><div class=\"sk-serial\"><div class=\"sk-item sk-dashed-wrapped\"><div class=\"sk-label-container\"><div class=\"sk-label fitted sk-toggleable\"><input class=\"sk-toggleable__control sk-hidden--visually\" id=\"sk-estimator-id-15\" type=\"checkbox\" ><label for=\"sk-estimator-id-15\" class=\"sk-toggleable__label fitted sk-toggleable__label-arrow\"><div><div>Preprocessing: ColumnTransformer</div></div><div><a class=\"sk-estimator-doc-link fitted\" rel=\"noreferrer\" target=\"_blank\" href=\"https://scikit-learn.org/1.6/modules/generated/sklearn.compose.ColumnTransformer.html\">?<span>Documentation for Preprocessing: ColumnTransformer</span></a></div></label><div class=\"sk-toggleable__content fitted\"><pre>ColumnTransformer(transformers=[(&#x27;Num Pipeline&#x27;,\n",
       "                                 Pipeline(steps=[(&#x27;Robust Scaler&#x27;,\n",
       "                                                  RobustScaler())]),\n",
       "                                 [&#x27;votes&#x27;, &#x27;approx_cost(for two people)&#x27;]),\n",
       "                                (&#x27;OHE Pipeline&#x27;,\n",
       "                                 Pipeline(steps=[(&#x27;OHE&#x27;,\n",
       "                                                  OneHotEncoder(drop=&#x27;first&#x27;,\n",
       "                                                                sparse_output=False))]),\n",
       "                                 Index([&#x27;online_order&#x27;, &#x27;book_table&#x27;], dtype=&#x27;object&#x27;)),\n",
       "                                (&#x27;Binary Pipeline&#x27;,\n",
       "                                 Pipeline(steps=[(&#x27;Binary Encoder&#x27;,\n",
       "                                                  BinaryEncoder())]),\n",
       "                                 Index([&#x27;location&#x27;, &#x27;rest_type&#x27;, &#x27;cuisines&#x27;, &#x27;listed_in(type)&#x27;,\n",
       "       &#x27;listed_in(city)&#x27;],\n",
       "      dtype=&#x27;object&#x27;))])</pre></div> </div></div><div class=\"sk-parallel\"><div class=\"sk-parallel-item\"><div class=\"sk-item\"><div class=\"sk-label-container\"><div class=\"sk-label fitted sk-toggleable\"><input class=\"sk-toggleable__control sk-hidden--visually\" id=\"sk-estimator-id-16\" type=\"checkbox\" ><label for=\"sk-estimator-id-16\" class=\"sk-toggleable__label fitted sk-toggleable__label-arrow\"><div><div>Num Pipeline</div></div></label><div class=\"sk-toggleable__content fitted\"><pre>[&#x27;votes&#x27;, &#x27;approx_cost(for two people)&#x27;]</pre></div> </div></div><div class=\"sk-serial\"><div class=\"sk-item\"><div class=\"sk-serial\"><div class=\"sk-item\"><div class=\"sk-estimator fitted sk-toggleable\"><input class=\"sk-toggleable__control sk-hidden--visually\" id=\"sk-estimator-id-17\" type=\"checkbox\" ><label for=\"sk-estimator-id-17\" class=\"sk-toggleable__label fitted sk-toggleable__label-arrow\"><div><div>RobustScaler</div></div><div><a class=\"sk-estimator-doc-link fitted\" rel=\"noreferrer\" target=\"_blank\" href=\"https://scikit-learn.org/1.6/modules/generated/sklearn.preprocessing.RobustScaler.html\">?<span>Documentation for RobustScaler</span></a></div></label><div class=\"sk-toggleable__content fitted\"><pre>RobustScaler()</pre></div> </div></div></div></div></div></div></div><div class=\"sk-parallel-item\"><div class=\"sk-item\"><div class=\"sk-label-container\"><div class=\"sk-label fitted sk-toggleable\"><input class=\"sk-toggleable__control sk-hidden--visually\" id=\"sk-estimator-id-18\" type=\"checkbox\" ><label for=\"sk-estimator-id-18\" class=\"sk-toggleable__label fitted sk-toggleable__label-arrow\"><div><div>OHE Pipeline</div></div></label><div class=\"sk-toggleable__content fitted\"><pre>Index([&#x27;online_order&#x27;, &#x27;book_table&#x27;], dtype=&#x27;object&#x27;)</pre></div> </div></div><div class=\"sk-serial\"><div class=\"sk-item\"><div class=\"sk-serial\"><div class=\"sk-item\"><div class=\"sk-estimator fitted sk-toggleable\"><input class=\"sk-toggleable__control sk-hidden--visually\" id=\"sk-estimator-id-19\" type=\"checkbox\" ><label for=\"sk-estimator-id-19\" class=\"sk-toggleable__label fitted sk-toggleable__label-arrow\"><div><div>OneHotEncoder</div></div><div><a class=\"sk-estimator-doc-link fitted\" rel=\"noreferrer\" target=\"_blank\" href=\"https://scikit-learn.org/1.6/modules/generated/sklearn.preprocessing.OneHotEncoder.html\">?<span>Documentation for OneHotEncoder</span></a></div></label><div class=\"sk-toggleable__content fitted\"><pre>OneHotEncoder(drop=&#x27;first&#x27;, sparse_output=False)</pre></div> </div></div></div></div></div></div></div><div class=\"sk-parallel-item\"><div class=\"sk-item\"><div class=\"sk-label-container\"><div class=\"sk-label fitted sk-toggleable\"><input class=\"sk-toggleable__control sk-hidden--visually\" id=\"sk-estimator-id-20\" type=\"checkbox\" ><label for=\"sk-estimator-id-20\" class=\"sk-toggleable__label fitted sk-toggleable__label-arrow\"><div><div>Binary Pipeline</div></div></label><div class=\"sk-toggleable__content fitted\"><pre>Index([&#x27;location&#x27;, &#x27;rest_type&#x27;, &#x27;cuisines&#x27;, &#x27;listed_in(type)&#x27;,\n",
       "       &#x27;listed_in(city)&#x27;],\n",
       "      dtype=&#x27;object&#x27;)</pre></div> </div></div><div class=\"sk-serial\"><div class=\"sk-item\"><div class=\"sk-serial\"><div class=\"sk-item\"><div class=\"sk-estimator fitted sk-toggleable\"><input class=\"sk-toggleable__control sk-hidden--visually\" id=\"sk-estimator-id-21\" type=\"checkbox\" ><label for=\"sk-estimator-id-21\" class=\"sk-toggleable__label fitted sk-toggleable__label-arrow\"><div><div>BinaryEncoder</div></div></label><div class=\"sk-toggleable__content fitted\"><pre>BinaryEncoder()</pre></div> </div></div></div></div></div></div></div></div></div><div class=\"sk-item\"><div class=\"sk-estimator fitted sk-toggleable\"><input class=\"sk-toggleable__control sk-hidden--visually\" id=\"sk-estimator-id-22\" type=\"checkbox\" ><label for=\"sk-estimator-id-22\" class=\"sk-toggleable__label fitted sk-toggleable__label-arrow\"><div><div>RandomForestRegressor</div></div><div><a class=\"sk-estimator-doc-link fitted\" rel=\"noreferrer\" target=\"_blank\" href=\"https://scikit-learn.org/1.6/modules/generated/sklearn.ensemble.RandomForestRegressor.html\">?<span>Documentation for RandomForestRegressor</span></a></div></label><div class=\"sk-toggleable__content fitted\"><pre>RandomForestRegressor(n_jobs=-1, random_state=42)</pre></div> </div></div></div></div></div></div>"
      ],
      "text/plain": [
       "Pipeline(steps=[('Preprocessing',\n",
       "                 ColumnTransformer(transformers=[('Num Pipeline',\n",
       "                                                  Pipeline(steps=[('Robust '\n",
       "                                                                   'Scaler',\n",
       "                                                                   RobustScaler())]),\n",
       "                                                  ['votes',\n",
       "                                                   'approx_cost(for two '\n",
       "                                                   'people)']),\n",
       "                                                 ('OHE Pipeline',\n",
       "                                                  Pipeline(steps=[('OHE',\n",
       "                                                                   OneHotEncoder(drop='first',\n",
       "                                                                                 sparse_output=False))]),\n",
       "                                                  Index(['online_order', 'book_table'], dtype='object')),\n",
       "                                                 ('Binary Pipeline',\n",
       "                                                  Pipeline(steps=[('Binary '\n",
       "                                                                   'Encoder',\n",
       "                                                                   BinaryEncoder())]),\n",
       "                                                  Index(['location', 'rest_type', 'cuisines', 'listed_in(type)',\n",
       "       'listed_in(city)'],\n",
       "      dtype='object'))])),\n",
       "                ('Model', RandomForestRegressor(n_jobs=-1, random_state=42))])"
      ]
     },
     "execution_count": 47,
     "metadata": {},
     "output_type": "execute_result"
    }
   ],
   "source": [
    "rf_pipeline = Pipeline(steps= [('Preprocessing', preprocessing),\n",
    "                                  ('Model', RandomForestRegressor(random_state=42, n_jobs=-1))\n",
    "                                  ])\n",
    "\n",
    "rf_pipeline.fit(x, y)"
   ]
  },
  {
   "cell_type": "code",
   "execution_count": null,
   "id": "5b74f3d6",
   "metadata": {},
   "outputs": [
    {
     "data": {
      "text/plain": [
       "array([4.099, 4.096, 3.8  , 3.693, 3.788])"
      ]
     },
     "execution_count": 51,
     "metadata": {},
     "output_type": "execute_result"
    }
   ],
   "source": [
    "rf_pipeline.predict(x.head())"
   ]
  },
  {
   "cell_type": "code",
   "execution_count": null,
   "id": "bb780bf3",
   "metadata": {},
   "outputs": [
    {
     "data": {
      "text/plain": [
       "['Random Forest.pkl']"
      ]
     },
     "execution_count": 52,
     "metadata": {},
     "output_type": "execute_result"
    }
   ],
   "source": [
    "import joblib\n",
    "joblib.dump(rf_pipeline, 'Random Forest.pkl')"
   ]
  },
  {
   "cell_type": "code",
   "execution_count": null,
   "id": "0b6e2976",
   "metadata": {},
   "outputs": [],
   "source": []
  },
  {
   "cell_type": "markdown",
   "id": "9cb17a22",
   "metadata": {},
   "source": [
    "# Streamlit"
   ]
  },
  {
   "cell_type": "code",
   "execution_count": 9,
   "id": "bb11f3b8",
   "metadata": {},
   "outputs": [
    {
     "name": "stdout",
     "output_type": "stream",
     "text": [
      "Overwriting Zamato_rating.py\n"
     ]
    }
   ],
   "source": [
    "%%writefile Zamato_rating.py\n",
    "import streamlit as st\n",
    "import pandas as pd\n",
    "import numpy as np\n",
    "import plotly.express as px\n",
    "import joblib\n",
    "import gdown\n",
    "import os\n",
    "from sklearn.preprocessing import RobustScaler\n",
    "from sklearn.ensemble import RandomForestRegressor\n",
    "from sklearn.pipeline import Pipeline\n",
    "from sklearn.model_selection import cross_validate\n",
    "from category_encoders import BinaryEncoder\n",
    "from sklearn.preprocessing import OneHotEncoder\n",
    "from sklearn.compose import ColumnTransformer\n",
    "\n",
    "\n",
    "st.set_page_config(page_title=\"Zomato Analysis App\", layout=\"wide\")\n",
    "# Load cleaned data + model\n",
    "\n",
    "CSV_FILE_ID = \"1YyK3bTvvSxHKnt2LOlk_55ffE18CKQI0\"\n",
    "MODEL_FILE_ID = \"1iCNobeEmtGfZmNLaywkf_WikFrXvbgYL\"\n",
    "\n",
    "CSV_URL = f\"https://drive.google.com/uc?id={CSV_FILE_ID}\"\n",
    "MODEL_URL = f\"https://drive.google.com/uc?id={MODEL_FILE_ID}\"\n",
    "\n",
    "@st.cache_data\n",
    "def load_data():\n",
    "    csv_path = \"old_df.csv\"\n",
    "    if not os.path.exists(csv_path):\n",
    "        gdown.download(CSV_URL, csv_path, quiet=False)\n",
    "    return pd.read_csv(csv_path)\n",
    "\n",
    "@st.cache_resource\n",
    "def load_model():\n",
    "    model_path = \"RandomForest.pkl\"\n",
    "    if not os.path.exists(model_path):\n",
    "        gdown.download(MODEL_URL, model_path, quiet=False)\n",
    "    return joblib.load(model_path)\n",
    "\n",
    "# تحميل الملفات\n",
    "old_df = load_data()\n",
    "df = pd.read_csv(\"cleaned_df.csv\", index_col=0)\n",
    "rf_pipeline = load_model()\n",
    "\n",
    "\n",
    "\n",
    "# Sidebar navigation\n",
    "\n",
    "page = st.sidebar.radio(\"Choose Page\", [\"Data & Analysis\", \"Prediction\"])\n",
    "\n",
    "\n",
    "# Page 1: Data & Analysis\n",
    "\n",
    "if page == \"Data & Analysis\":\n",
    "    st.title(\"Cleaned Data & Exploratory Analysis\")\n",
    "\n",
    "    st.subheader(\"Old Data\")\n",
    "    st.dataframe(old_df.head(20))    \n",
    "    st.markdown(\"---\")\n",
    "\n",
    "    st.subheader(\"Cleaned Data Preview\")\n",
    "    st.dataframe(df.head(20))\n",
    "\n",
    "    st.markdown(\"---\")\n",
    "    st.subheader(\"Exploratory Data Analysis\")\n",
    "\n",
    "    # 1. Top Cities\n",
    "    city_counts = df['listed_in(city)'].value_counts().nlargest(10).reset_index()\n",
    "    city_counts.columns = ['city', 'count']\n",
    "    fig1 = px.bar(city_counts, x='city', y='count', title=\"Top 10 Cities by Number of Restaurants\")\n",
    "    st.plotly_chart(fig1, use_container_width=True)\n",
    "\n",
    "    # 2. Popular Cuisines\n",
    "    cuisine_counts = df['cuisines'].value_counts().nlargest(10).reset_index()\n",
    "    cuisine_counts.columns = ['cuisine', 'count']\n",
    "    fig2 = px.bar(cuisine_counts, x='cuisine', y='count', title=\"Top 10 Popular Cuisines\")\n",
    "    st.plotly_chart(fig2, use_container_width=True)\n",
    "\n",
    "    # 3. Online Orders\n",
    "    online_order_counts = df.groupby(\"online_order\").size().reset_index(name=\"count\")\n",
    "    fig3 = px.pie(online_order_counts, names=\"online_order\", values=\"count\", \n",
    "                 title=\"Online Order Availability\")\n",
    "    st.plotly_chart(fig3, use_container_width=True)\n",
    "\n",
    "    # 4. City Costs\n",
    "    avg_cost_city = df.groupby(\"listed_in(city)\")[\"approx_cost(for two people)\"].mean().nlargest(10).reset_index()\n",
    "    fig4 = px.bar(avg_cost_city, x=\"listed_in(city)\", y=\"approx_cost(for two people)\", \n",
    "                 title=\"Top 10 Cities by Average Cost for Two\")\n",
    "    st.plotly_chart(fig4, use_container_width=True)\n",
    "\n",
    "    # 5. Votes vs Rating\n",
    "    fig5 = px.scatter(df, x=\"votes\", y=\"rate(?/5)\", opacity=0.5,\n",
    "                     title=\"Votes vs Rating (Scatter Plot)\",\n",
    "                     labels={\"votes\": \"Number of Votes\", \"rate(?/5)\": \"Restaurant Rating\"})\n",
    "    st.plotly_chart(fig5, use_container_width=True)\n",
    "\n",
    "\n",
    "# Page 2: Prediction\n",
    "\n",
    "else:\n",
    "    st.title(\"Predict Restaurant Rating\")\n",
    "\n",
    "    col1, col2 = st.columns(2)\n",
    "    with col1:\n",
    "        online_order = st.selectbox(\"Online Order\", df[\"online_order\"].unique())\n",
    "        book_table = st.selectbox(\"Book Table\", df[\"book_table\"].unique())\n",
    "        location = st.selectbox(\"Location\", df[\"location\"].unique())\n",
    "        rest_type = st.selectbox(\"Restaurant Type\", df[\"rest_type\"].unique())\n",
    "    with col2:\n",
    "        cuisines = st.selectbox(\"Cuisines\", df[\"cuisines\"].unique())\n",
    "        listed_in_type = st.selectbox(\"Listed In (Type)\", df[\"listed_in(type)\"].unique())\n",
    "        listed_in_city = st.selectbox(\"Listed In (City)\", df[\"listed_in(city)\"].unique())\n",
    "        votes = st.number_input(\"Number of Votes\", min_value=0, value=50)\n",
    "        cost = st.number_input(\"Approx Cost for Two\", min_value=50, value=500)\n",
    "\n",
    "    # Prediction button\n",
    "    if st.button(\"Predict Rating\"):\n",
    "        input_data = pd.DataFrame([{\n",
    "            \"online_order\": online_order,\n",
    "            \"book_table\": book_table,\n",
    "            \"votes\": votes,\n",
    "            \"location\": location,\n",
    "            \"rest_type\": rest_type,\n",
    "            \"cuisines\": cuisines,\n",
    "            \"approx_cost(for two people)\": cost,\n",
    "            \"listed_in(type)\": listed_in_type,\n",
    "            \"listed_in(city)\": listed_in_city\n",
    "        }])\n",
    "        pred = rf_pipeline.predict(input_data)[0]\n",
    "        st.success(f\"Predicted Restaurant Rating: {round(pred,1)} / 5\")\n"
   ]
  },
  {
   "cell_type": "code",
   "execution_count": 3,
   "id": "775fc58b",
   "metadata": {},
   "outputs": [
    {
     "name": "stdout",
     "output_type": "stream",
     "text": [
      "^C\n"
     ]
    }
   ],
   "source": [
    "! streamlit run Zamato_rating.py"
   ]
  },
  {
   "cell_type": "code",
   "execution_count": 1,
   "id": "cb385873",
   "metadata": {},
   "outputs": [
    {
     "name": "stdout",
     "output_type": "stream",
     "text": [
      "Collecting gdown\n",
      "  Downloading gdown-5.2.0-py3-none-any.whl.metadata (5.8 kB)\n",
      "Requirement already satisfied: beautifulsoup4 in c:\\users\\hp\\anaconda3\\envs\\ahmed\\lib\\site-packages (from gdown) (4.13.3)\n",
      "Requirement already satisfied: filelock in c:\\users\\hp\\anaconda3\\envs\\ahmed\\lib\\site-packages (from gdown) (3.18.0)\n",
      "Requirement already satisfied: requests[socks] in c:\\users\\hp\\anaconda3\\envs\\ahmed\\lib\\site-packages (from gdown) (2.32.3)\n",
      "Requirement already satisfied: tqdm in c:\\users\\hp\\anaconda3\\envs\\ahmed\\lib\\site-packages (from gdown) (4.67.1)\n",
      "Requirement already satisfied: soupsieve>1.2 in c:\\users\\hp\\anaconda3\\envs\\ahmed\\lib\\site-packages (from beautifulsoup4->gdown) (2.6)\n",
      "Requirement already satisfied: typing-extensions>=4.0.0 in c:\\users\\hp\\appdata\\roaming\\python\\python311\\site-packages (from beautifulsoup4->gdown) (4.12.2)\n",
      "Requirement already satisfied: charset-normalizer<4,>=2 in c:\\users\\hp\\anaconda3\\envs\\ahmed\\lib\\site-packages (from requests[socks]->gdown) (3.4.1)\n",
      "Requirement already satisfied: idna<4,>=2.5 in c:\\users\\hp\\anaconda3\\envs\\ahmed\\lib\\site-packages (from requests[socks]->gdown) (3.10)\n",
      "Requirement already satisfied: urllib3<3,>=1.21.1 in c:\\users\\hp\\anaconda3\\envs\\ahmed\\lib\\site-packages (from requests[socks]->gdown) (2.3.0)\n",
      "Requirement already satisfied: certifi>=2017.4.17 in c:\\users\\hp\\anaconda3\\envs\\ahmed\\lib\\site-packages (from requests[socks]->gdown) (2024.12.14)\n",
      "Collecting PySocks!=1.5.7,>=1.5.6 (from requests[socks]->gdown)\n",
      "  Downloading PySocks-1.7.1-py3-none-any.whl.metadata (13 kB)\n",
      "Requirement already satisfied: colorama in c:\\users\\hp\\appdata\\roaming\\python\\python311\\site-packages (from tqdm->gdown) (0.4.6)\n",
      "Downloading gdown-5.2.0-py3-none-any.whl (18 kB)\n",
      "Downloading PySocks-1.7.1-py3-none-any.whl (16 kB)\n",
      "Installing collected packages: PySocks, gdown\n",
      "Successfully installed PySocks-1.7.1 gdown-5.2.0\n"
     ]
    }
   ],
   "source": [
    "!pip install gdown"
   ]
  },
  {
   "cell_type": "code",
   "execution_count": 55,
   "id": "7dff06ba",
   "metadata": {},
   "outputs": [
    {
     "name": "stderr",
     "output_type": "stream",
     "text": [
      "INFO: Not scanning for jupyter notebooks.\n",
      "WARNING: Import named \"category_encoders\" not found locally. Trying to resolve it at the PyPI server.\n",
      "WARNING: Import named \"category_encoders\" was resolved to \"category-encoders:2.8.1\" package (https://pypi.org/project/category-encoders/).\n",
      "Please, verify manually the final list of requirements.txt to avoid possible dependency confusions.\n",
      "WARNING: Import named \"numpy\" not found locally. Trying to resolve it at the PyPI server.\n",
      "WARNING: Import named \"numpy\" was resolved to \"numpy:2.3.3\" package (https://pypi.org/project/numpy/).\n",
      "Please, verify manually the final list of requirements.txt to avoid possible dependency confusions.\n",
      "WARNING: Import named \"pandas\" not found locally. Trying to resolve it at the PyPI server.\n",
      "WARNING: Import named \"pandas\" was resolved to \"pandas:2.3.3\" package (https://pypi.org/project/pandas/).\n",
      "Please, verify manually the final list of requirements.txt to avoid possible dependency confusions.\n",
      "WARNING: Import named \"scikit_learn\" not found locally. Trying to resolve it at the PyPI server.\n",
      "WARNING: Import named \"scikit_learn\" was resolved to \"scikit-learn:1.7.2\" package (https://pypi.org/project/scikit-learn/).\n",
      "Please, verify manually the final list of requirements.txt to avoid possible dependency confusions.\n",
      "INFO: Successfully saved requirements file in .\\requirements.txt\n"
     ]
    }
   ],
   "source": [
    "import pipreqs\n",
    "\n",
    "! pipreqs --force ."
   ]
  },
  {
   "cell_type": "code",
   "execution_count": null,
   "id": "a93c7ae5",
   "metadata": {},
   "outputs": [],
   "source": []
  }
 ],
 "metadata": {
  "kernelspec": {
   "display_name": "AHMED",
   "language": "python",
   "name": "python3"
  },
  "language_info": {
   "codemirror_mode": {
    "name": "ipython",
    "version": 3
   },
   "file_extension": ".py",
   "mimetype": "text/x-python",
   "name": "python",
   "nbconvert_exporter": "python",
   "pygments_lexer": "ipython3",
   "version": "3.11.11"
  }
 },
 "nbformat": 4,
 "nbformat_minor": 5
}
